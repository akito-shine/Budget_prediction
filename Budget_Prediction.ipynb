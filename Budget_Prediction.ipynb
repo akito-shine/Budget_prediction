{
  "cells": [
    {
      "cell_type": "markdown",
      "source": [
        "##Drive amount"
      ],
      "metadata": {
        "id": "2SNFAtEU8lRT"
      },
      "id": "2SNFAtEU8lRT"
    },
    {
      "cell_type": "code",
      "execution_count": null,
      "metadata": {
        "colab": {
          "base_uri": "https://localhost:8080/"
        },
        "id": "Ok4C_qGDhH-T",
        "outputId": "e78471f0-4d95-4e15-e0b4-28081053152d"
      },
      "outputs": [
        {
          "output_type": "stream",
          "name": "stdout",
          "text": [
            "Mounted at /content/drive\n"
          ]
        }
      ],
      "source": [
        "from google.colab import drive\n",
        "drive.mount('/content/drive')"
      ],
      "id": "Ok4C_qGDhH-T"
    },
    {
      "cell_type": "markdown",
      "metadata": {
        "id": "ecff8356"
      },
      "source": [
        "## Install libaries"
      ],
      "id": "ecff8356"
    },
    {
      "cell_type": "code",
      "execution_count": null,
      "metadata": {
        "colab": {
          "base_uri": "https://localhost:8080/"
        },
        "id": "q4w6KGEoodHP",
        "outputId": "e0ac9cd5-9aee-43a7-8226-9bb1c7be08e0"
      },
      "outputs": [
        {
          "output_type": "stream",
          "name": "stdout",
          "text": [
            "Looking in indexes: https://pypi.org/simple, https://us-python.pkg.dev/colab-wheels/public/simple/\n",
            "Collecting pyodbc\n",
            "  Downloading pyodbc-4.0.35-cp39-cp39-manylinux_2_17_x86_64.manylinux2014_x86_64.whl (329 kB)\n",
            "\u001b[2K     \u001b[90m━━━━━━━━━━━━━━━━━━━━━━━━━━━━━━━━━━━━━━━\u001b[0m \u001b[32m329.8/329.8 KB\u001b[0m \u001b[31m9.8 MB/s\u001b[0m eta \u001b[36m0:00:00\u001b[0m\n",
            "\u001b[?25hInstalling collected packages: pyodbc\n",
            "Successfully installed pyodbc-4.0.35\n"
          ]
        }
      ],
      "source": [
        "!pip install pyodbc"
      ],
      "id": "q4w6KGEoodHP"
    },
    {
      "cell_type": "code",
      "source": [
        "!pip install catboost\n"
      ],
      "metadata": {
        "colab": {
          "base_uri": "https://localhost:8080/"
        },
        "id": "JQX130gkLMuo",
        "outputId": "d71ea495-0e7e-4ae1-91d2-e5b073eab44b"
      },
      "id": "JQX130gkLMuo",
      "execution_count": null,
      "outputs": [
        {
          "output_type": "stream",
          "name": "stdout",
          "text": [
            "Looking in indexes: https://pypi.org/simple, https://us-python.pkg.dev/colab-wheels/public/simple/\n",
            "Collecting catboost\n",
            "  Downloading catboost-1.1.1-cp39-none-manylinux1_x86_64.whl (76.6 MB)\n",
            "\u001b[2K     \u001b[90m━━━━━━━━━━━━━━━━━━━━━━━━━━━━━━━━━━━━━━━━\u001b[0m \u001b[32m76.6/76.6 MB\u001b[0m \u001b[31m7.7 MB/s\u001b[0m eta \u001b[36m0:00:00\u001b[0m\n",
            "\u001b[?25hRequirement already satisfied: numpy>=1.16.0 in /usr/local/lib/python3.9/dist-packages (from catboost) (1.22.4)\n",
            "Requirement already satisfied: six in /usr/local/lib/python3.9/dist-packages (from catboost) (1.16.0)\n",
            "Requirement already satisfied: graphviz in /usr/local/lib/python3.9/dist-packages (from catboost) (0.20.1)\n",
            "Requirement already satisfied: pandas>=0.24.0 in /usr/local/lib/python3.9/dist-packages (from catboost) (1.4.4)\n",
            "Requirement already satisfied: plotly in /usr/local/lib/python3.9/dist-packages (from catboost) (5.13.1)\n",
            "Requirement already satisfied: scipy in /usr/local/lib/python3.9/dist-packages (from catboost) (1.10.1)\n",
            "Requirement already satisfied: matplotlib in /usr/local/lib/python3.9/dist-packages (from catboost) (3.7.1)\n",
            "Requirement already satisfied: pytz>=2020.1 in /usr/local/lib/python3.9/dist-packages (from pandas>=0.24.0->catboost) (2022.7.1)\n",
            "Requirement already satisfied: python-dateutil>=2.8.1 in /usr/local/lib/python3.9/dist-packages (from pandas>=0.24.0->catboost) (2.8.2)\n",
            "Requirement already satisfied: packaging>=20.0 in /usr/local/lib/python3.9/dist-packages (from matplotlib->catboost) (23.0)\n",
            "Requirement already satisfied: kiwisolver>=1.0.1 in /usr/local/lib/python3.9/dist-packages (from matplotlib->catboost) (1.4.4)\n",
            "Requirement already satisfied: pillow>=6.2.0 in /usr/local/lib/python3.9/dist-packages (from matplotlib->catboost) (8.4.0)\n",
            "Requirement already satisfied: cycler>=0.10 in /usr/local/lib/python3.9/dist-packages (from matplotlib->catboost) (0.11.0)\n",
            "Requirement already satisfied: fonttools>=4.22.0 in /usr/local/lib/python3.9/dist-packages (from matplotlib->catboost) (4.39.2)\n",
            "Requirement already satisfied: contourpy>=1.0.1 in /usr/local/lib/python3.9/dist-packages (from matplotlib->catboost) (1.0.7)\n",
            "Requirement already satisfied: importlib-resources>=3.2.0 in /usr/local/lib/python3.9/dist-packages (from matplotlib->catboost) (5.12.0)\n",
            "Requirement already satisfied: pyparsing>=2.3.1 in /usr/local/lib/python3.9/dist-packages (from matplotlib->catboost) (3.0.9)\n",
            "Requirement already satisfied: tenacity>=6.2.0 in /usr/local/lib/python3.9/dist-packages (from plotly->catboost) (8.2.2)\n",
            "Requirement already satisfied: zipp>=3.1.0 in /usr/local/lib/python3.9/dist-packages (from importlib-resources>=3.2.0->matplotlib->catboost) (3.15.0)\n",
            "Installing collected packages: catboost\n",
            "Successfully installed catboost-1.1.1\n"
          ]
        }
      ]
    },
    {
      "cell_type": "code",
      "execution_count": null,
      "metadata": {
        "id": "6fd048b4"
      },
      "outputs": [],
      "source": [
        "import pyodbc\n",
        "import pandas as pd\n",
        "import warnings\n",
        "warnings.filterwarnings('ignore')\n",
        "import seaborn as sns\n",
        "import matplotlib.pyplot as plt\n",
        "from sklearn.preprocessing import OneHotEncoder\n",
        "from sklearn.preprocessing import LabelEncoder\n",
        "from sklearn.model_selection import train_test_split\n",
        "from sklearn.svm import SVC # \"Support vector classifier\"  \n",
        "from sklearn.tree import DecisionTreeClassifier\n",
        "from sklearn.neighbors import KNeighborsClassifier\n",
        "from sklearn.naive_bayes import GaussianNB\n",
        "from sklearn.metrics import confusion_matrix\n",
        "from sklearn.metrics import accuracy_score\n",
        "from sklearn.metrics import classification_report\n",
        "from sklearn import preprocessing\n",
        "from sklearn.preprocessing import StandardScaler\n",
        "from sklearn.ensemble import RandomForestClassifier\n",
        "import pickle\n",
        "from datetime import date\n",
        "import csv\n",
        "from google.oauth2.credentials import Credentials\n",
        "from googleapiclient.discovery import build\n",
        "from googleapiclient.errors import HttpError\n",
        "import os\n",
        "pd.set_option('display.max_columns', None)\n",
        "from sklearn.ensemble import VotingClassifier\n"
      ],
      "id": "6fd048b4"
    },
    {
      "cell_type": "markdown",
      "metadata": {
        "id": "df12b543"
      },
      "source": [
        "## Connect with SQL server"
      ],
      "id": "df12b543"
    },
    {
      "cell_type": "code",
      "execution_count": null,
      "metadata": {
        "id": "5529fdcd"
      },
      "outputs": [],
      "source": [
        "report_driver = '{SQL Server}'\n",
        "report_server = '172.21.105.125'\n",
        "report_database = 'Pocket'\n",
        "report_uid = 'python_user'\n",
        "report_pwd = 'cnWVDSYVmci5nLyN'"
      ],
      "id": "5529fdcd"
    },
    {
      "cell_type": "code",
      "execution_count": null,
      "metadata": {
        "id": "e362635d"
      },
      "outputs": [],
      "source": [
        "all_users = pd.DataFrame()\n",
        "sales= pd.DataFrame()\n",
        "campaigns= pd.DataFrame()\n",
        "sales_campaigns= pd.DataFrame()"
      ],
      "id": "e362635d"
    },
    {
      "cell_type": "markdown",
      "metadata": {
        "id": "bdcd4ad6"
      },
      "source": [
        "Users' information"
      ],
      "id": "bdcd4ad6"
    },
    {
      "cell_type": "code",
      "execution_count": null,
      "metadata": {
        "id": "64ebe67a"
      },
      "outputs": [],
      "source": [
        "# all_users_query = \"\"\"select u.[user account], trim(replace(u.[customer name],'\"','')) as [customer name], u.[mobile phone],\n",
        "# u.birthday,u.gender,u.city,u.[perx registration date],u.state,u.[email id]\n",
        "# from [Newly Created User Report] as u\"\"\"\n",
        "\n",
        "all_users_query=\"\"\"select * from [dbo].[Newly Created User Report] where state='active'\"\"\""
      ],
      "id": "64ebe67a"
    },
    {
      "cell_type": "code",
      "execution_count": null,
      "metadata": {
        "id": "5b43e16b"
      },
      "outputs": [],
      "source": [
        "def db_connect_users():\n",
        "    global all_users\n",
        "    \n",
        "    conn = pyodbc.connect(driver=report_driver,\n",
        "                        server=report_server,\n",
        "                        database=report_database,\n",
        "                        uid=report_uid,\n",
        "                        pwd=report_pwd,\n",
        "                        autocomit=True)\n",
        "    \n",
        "    all_users = pd.read_sql(all_users_query,conn)    \n",
        "\n",
        "    conn.close()"
      ],
      "id": "5b43e16b"
    },
    {
      "cell_type": "code",
      "execution_count": null,
      "metadata": {
        "id": "499558ba"
      },
      "outputs": [],
      "source": [
        "db_connect_users()"
      ],
      "id": "499558ba"
    },
    {
      "cell_type": "markdown",
      "metadata": {
        "id": "328fc443"
      },
      "source": [
        "Sales activity by users' information"
      ],
      "id": "328fc443"
    },
    {
      "cell_type": "code",
      "execution_count": null,
      "metadata": {
        "id": "5c409ed5"
      },
      "outputs": [],
      "source": [
        "sales_query = \"\"\"select uu.[user account],uu.[customer name],\n",
        "cam.[merchant name],\n",
        "sum(case when cam.[T type] in ('Sales','Manual') then cam.[points earned] else 0 end) as sales_point_earned,\n",
        "sum(cam.[points burned]) as total_point_burned,\n",
        "sum(case when cam.[T type]='Vouchers' and cam.[reward category]='Purchase reward' and cam.[voucher id]<>0 then 1 else 0 end) \n",
        "as sales_vouchers,\n",
        "sum(case when cam.[T type]='Vouchers' and cam.[reward category]='Purchase reward' and cam.[last engagement status]='expired' and cam.[voucher id]<>0 then 1 else 0 end) \n",
        "as sales_expired_vouchers\n",
        "from (\n",
        "\tselect u.[user account], trim(replace(u.[customer name],'\"','')) as [customer name], u.[mobile phone],\n",
        "\tu.birthday,u.gender,u.city,u.[perx registration date],u.state,u.[email id]\n",
        "\tfrom [Newly Created User Report] as u\n",
        ") as uu\n",
        "left join (\n",
        "\tselect d.[user account id],d.[transaction date],d.[merchant name],d.[redeemed by merchant user name],\n",
        "\td.[T type],d.[reward category],\n",
        "\tcase when d.[campaign id]=0 and c.[campaign id] is not null then c.[campaign id] \n",
        "\twhen d.[campaign id]=0 then NULL else d.[campaign id] end as [campaign id],\n",
        "\tcase when d.[campaign name] ='' and c.[campaign name] is not null then replace(c.[campaign name],'\"','')\n",
        "\telse d.[campaign name] end as [campaign name],\n",
        "\td.[transaction id],d.[points earned],d.[points burned],d.[voucher id],d.[reward id],d.[reward name],d.[last engagement status]\n",
        "\tfrom Daily_Transaction as d\n",
        "\tleft join [Campaign Engagement - Breakdown] as c on c.[reward id]=d.[reward id]\n",
        ") as cam on cam.[user account id] = uu.[user account]\n",
        "group by uu.[user account],uu.[customer name],cam.[merchant name]\n",
        "\"\"\""
      ],
      "id": "5c409ed5"
    },
    {
      "cell_type": "code",
      "execution_count": null,
      "metadata": {
        "id": "f13844db"
      },
      "outputs": [],
      "source": [
        "def db_connect_sales():\n",
        "    global sales\n",
        "    \n",
        "    conn = pyodbc.connect(driver=report_driver,\n",
        "                        server=report_server,\n",
        "                        database=report_database,\n",
        "                        uid=report_uid,\n",
        "                        pwd=report_pwd,\n",
        "                        autocomit=True)  \n",
        "    sales=pd.read_sql(sales_query,conn)\n",
        "\n",
        "\n",
        "    conn.close()"
      ],
      "id": "f13844db"
    },
    {
      "cell_type": "code",
      "execution_count": null,
      "metadata": {
        "id": "29a880f7",
        "scrolled": true
      },
      "outputs": [],
      "source": [
        "db_connect_sales()"
      ],
      "id": "29a880f7"
    },
    {
      "cell_type": "code",
      "execution_count": null,
      "metadata": {
        "id": "2aa9370c",
        "outputId": "af2c0374-ff33-4440-ddfa-5f6fcbb015db"
      },
      "outputs": [
        {
          "data": {
            "text/html": [
              "<div>\n",
              "<style scoped>\n",
              "    .dataframe tbody tr th:only-of-type {\n",
              "        vertical-align: middle;\n",
              "    }\n",
              "\n",
              "    .dataframe tbody tr th {\n",
              "        vertical-align: top;\n",
              "    }\n",
              "\n",
              "    .dataframe thead th {\n",
              "        text-align: right;\n",
              "    }\n",
              "</style>\n",
              "<table border=\"1\" class=\"dataframe\">\n",
              "  <thead>\n",
              "    <tr style=\"text-align: right;\">\n",
              "      <th></th>\n",
              "      <th>user account</th>\n",
              "      <th>customer name</th>\n",
              "      <th>merchant name</th>\n",
              "      <th>sales_point_earned</th>\n",
              "      <th>total_point_burned</th>\n",
              "      <th>sales_vouchers</th>\n",
              "      <th>sales_expired_vouchers</th>\n",
              "    </tr>\n",
              "  </thead>\n",
              "  <tbody>\n",
              "    <tr>\n",
              "      <th>0</th>\n",
              "      <td>4011470395-1668751639</td>\n",
              "      <td>Ei MyatNoe Oo</td>\n",
              "      <td>KFC</td>\n",
              "      <td>182</td>\n",
              "      <td>0.0</td>\n",
              "      <td>0</td>\n",
              "      <td>0</td>\n",
              "    </tr>\n",
              "    <tr>\n",
              "      <th>1</th>\n",
              "      <td>36638763748-1674818457</td>\n",
              "      <td>HtooHtoo</td>\n",
              "      <td>Star City</td>\n",
              "      <td>0</td>\n",
              "      <td>0.0</td>\n",
              "      <td>0</td>\n",
              "      <td>0</td>\n",
              "    </tr>\n",
              "    <tr>\n",
              "      <th>2</th>\n",
              "      <td>25398997836-1671979058</td>\n",
              "      <td>ThiriYamin Su</td>\n",
              "      <td>Star City</td>\n",
              "      <td>0</td>\n",
              "      <td>0.0</td>\n",
              "      <td>0</td>\n",
              "      <td>0</td>\n",
              "    </tr>\n",
              "    <tr>\n",
              "      <th>3</th>\n",
              "      <td>31350661369-1672988426</td>\n",
              "      <td>AungThu</td>\n",
              "      <td>None</td>\n",
              "      <td>0</td>\n",
              "      <td>NaN</td>\n",
              "      <td>0</td>\n",
              "      <td>0</td>\n",
              "    </tr>\n",
              "    <tr>\n",
              "      <th>4</th>\n",
              "      <td>25445817058-1671981504</td>\n",
              "      <td>KyawTHU YA TUN</td>\n",
              "      <td>Star City</td>\n",
              "      <td>0</td>\n",
              "      <td>0.0</td>\n",
              "      <td>0</td>\n",
              "      <td>0</td>\n",
              "    </tr>\n",
              "  </tbody>\n",
              "</table>\n",
              "</div>"
            ],
            "text/plain": [
              "             user account   customer name merchant name  sales_point_earned  \\\n",
              "0   4011470395-1668751639   Ei MyatNoe Oo           KFC                 182   \n",
              "1  36638763748-1674818457        HtooHtoo     Star City                   0   \n",
              "2  25398997836-1671979058   ThiriYamin Su     Star City                   0   \n",
              "3  31350661369-1672988426         AungThu          None                   0   \n",
              "4  25445817058-1671981504  KyawTHU YA TUN     Star City                   0   \n",
              "\n",
              "   total_point_burned  sales_vouchers  sales_expired_vouchers  \n",
              "0                 0.0               0                       0  \n",
              "1                 0.0               0                       0  \n",
              "2                 0.0               0                       0  \n",
              "3                 NaN               0                       0  \n",
              "4                 0.0               0                       0  "
            ]
          },
          "execution_count": 10,
          "metadata": {},
          "output_type": "execute_result"
        }
      ],
      "source": [
        "sales.head()"
      ],
      "id": "2aa9370c"
    },
    {
      "cell_type": "markdown",
      "metadata": {
        "id": "7df31dc2"
      },
      "source": [
        "Campaigns' information"
      ],
      "id": "7df31dc2"
    },
    {
      "cell_type": "code",
      "execution_count": null,
      "metadata": {
        "id": "d75e7327"
      },
      "outputs": [],
      "source": [
        "campaign_query=\"\"\"select * \n",
        "from (\n",
        "    select trim(str(c.[campaign id])) as [campaign id],replace(c.[campaign name],'\"','') as [campaign name] \n",
        "    from [Campaign Engagement - Breakdown] as c \n",
        "    union all\n",
        "    select concat('R-',r.[rule id]) as [campaign id],r.[rule name]\n",
        "    from [Rule Builder Report - Summary] as r\n",
        "    where r.[rule id] in (200,305)\n",
        "    group by r.[rule id],r.[rule name]\n",
        ") as out \n",
        "group by out.[campaign id],out.[campaign name]\"\"\"\n",
        "# campaign_query=\"\"\"select top 10 * from [Campaign Engagement - Breakdown]\"\"\""
      ],
      "id": "d75e7327"
    },
    {
      "cell_type": "code",
      "execution_count": null,
      "metadata": {
        "id": "21cd39b7"
      },
      "outputs": [],
      "source": [
        "def db_connect_campaigns():\n",
        "    global campaigns\n",
        "    \n",
        "    conn = pyodbc.connect(driver=report_driver,\n",
        "                        server=report_server,\n",
        "                        database=report_database,\n",
        "                        uid=report_uid,\n",
        "                        pwd=report_pwd,\n",
        "                        autocomit=True)\n",
        "    \n",
        "    campaigns=pd.read_sql(campaign_query,conn)\n",
        "    \n",
        "\n",
        "    conn.close()"
      ],
      "id": "21cd39b7"
    },
    {
      "cell_type": "code",
      "execution_count": null,
      "metadata": {
        "id": "4dd22a77",
        "outputId": "8e324359-73fc-46a3-ec50-fe35fa7acd77"
      },
      "outputs": [
        {
          "data": {
            "text/plain": [
              "0"
            ]
          },
          "execution_count": 13,
          "metadata": {},
          "output_type": "execute_result"
        }
      ],
      "source": [
        "len(campaigns.drop_duplicates(subset='campaign id'))"
      ],
      "id": "4dd22a77"
    },
    {
      "cell_type": "code",
      "execution_count": null,
      "metadata": {
        "id": "a8144f34",
        "outputId": "ec5863a0-9b1f-44e1-ebe0-3e7094b3b57b"
      },
      "outputs": [
        {
          "data": {
            "text/html": [
              "<div>\n",
              "<style scoped>\n",
              "    .dataframe tbody tr th:only-of-type {\n",
              "        vertical-align: middle;\n",
              "    }\n",
              "\n",
              "    .dataframe tbody tr th {\n",
              "        vertical-align: top;\n",
              "    }\n",
              "\n",
              "    .dataframe thead th {\n",
              "        text-align: right;\n",
              "    }\n",
              "</style>\n",
              "<table border=\"1\" class=\"dataframe\">\n",
              "  <thead>\n",
              "    <tr style=\"text-align: right;\">\n",
              "      <th></th>\n",
              "      <th>campaign id</th>\n",
              "      <th>campaign name</th>\n",
              "    </tr>\n",
              "  </thead>\n",
              "  <tbody>\n",
              "    <tr>\n",
              "      <th>0</th>\n",
              "      <td>1</td>\n",
              "      <td>Collect Stamps to get FREEBIES!</td>\n",
              "    </tr>\n",
              "    <tr>\n",
              "      <th>1</th>\n",
              "      <td>1</td>\n",
              "      <td>Collect Stamps to get FREEBIES!</td>\n",
              "    </tr>\n",
              "    <tr>\n",
              "      <th>2</th>\n",
              "      <td>1</td>\n",
              "      <td>Collect Stamps to get FREEBIES!</td>\n",
              "    </tr>\n",
              "    <tr>\n",
              "      <th>3</th>\n",
              "      <td>2</td>\n",
              "      <td>Earn 1 Stamp for Every 10,000 Kyats you spent</td>\n",
              "    </tr>\n",
              "    <tr>\n",
              "      <th>4</th>\n",
              "      <td>2</td>\n",
              "      <td>Earn 1 Stamp for Every 10,000 Kyats you spent</td>\n",
              "    </tr>\n",
              "  </tbody>\n",
              "</table>\n",
              "</div>"
            ],
            "text/plain": [
              "   campaign id                                  campaign name\n",
              "0            1                Collect Stamps to get FREEBIES!\n",
              "1            1                Collect Stamps to get FREEBIES!\n",
              "2            1                Collect Stamps to get FREEBIES!\n",
              "3            2  Earn 1 Stamp for Every 10,000 Kyats you spent\n",
              "4            2  Earn 1 Stamp for Every 10,000 Kyats you spent"
            ]
          },
          "execution_count": 39,
          "metadata": {},
          "output_type": "execute_result"
        }
      ],
      "source": [
        "campaigns.head()"
      ],
      "id": "a8144f34"
    },
    {
      "cell_type": "code",
      "execution_count": null,
      "metadata": {
        "id": "5bd1250f"
      },
      "outputs": [],
      "source": [
        "db_connect_campaigns()"
      ],
      "id": "5bd1250f"
    },
    {
      "cell_type": "code",
      "execution_count": null,
      "metadata": {
        "id": "133bb297"
      },
      "outputs": [],
      "source": [
        "combined_query=\"\"\"select uu.[user account],uu.[customer name],uu.[mobile phone],cam.[merchant name],\n",
        "case When cam.[rule id] is not null and cam.[rule id] <>0 then trim(concat('R-',cam.[rule id])) \n",
        "else trim(str(cam.[campaign id])) end as [campaign id],\n",
        "case when cam.[rule id] is not null and cam.[rule id] <>0 then cam.[rule name]\n",
        "else cam.[campaign name] end as [campaign name], \n",
        "sum(case when (cam.[rule id] is not null and cam.[rule id] <>0) \n",
        "or (cam.[campaign id] <>0 and cam.[campaign id] is not null) then 1 else 0 end) as participated_campaign_frequency,\n",
        "sum(case when cam.[T type] = 'Campaigns' then cam.[points earned] else 0 end) as campaigns_point_earned,\n",
        "sum(case when cam.[T type]='Vouchers' and cam.[reward category]='Campaign reward' and cam.[campaign name] like '%stamp%' and cam.[voucher id]<>0 then 1 else 0 end)\n",
        "as stamp_vouchers,\n",
        "sum(case when cam.[T type]='Vouchers' and cam.[reward category]='Campaign reward' and cam.[campaign name] like '%stamp%' and cam.[last engagement status]='expired' and cam.[voucher id]<>0 then 1 else 0 end) \n",
        "as stamp_expired_vouchers,\n",
        "sum(case when cam.[T type]='Vouchers' and cam.[reward category]='Campaign reward' and cam.[campaign name] not like '%stamp%' and cam.[voucher id]<>0 then 1 else 0 end) \n",
        "as game_vouchers,\n",
        "sum(case when cam.[T type]='Vouchers' and cam.[reward category]='Campaign reward' and cam.[campaign name] not like '%stamp%' and cam.[last engagement status]='expired' and cam.[voucher id]<>0 then 1 else 0 end) \n",
        "as game_expired_vouchers\n",
        "from (\n",
        "    select u.[user account], trim(replace(u.[customer name],'\"','')) as [customer name], u.[mobile phone],\n",
        "    u.birthday,u.gender,u.city,u.[perx registration date],u.state,u.[email id]\n",
        "    from [Newly Created User Report] as u\n",
        ") as uu\n",
        "left join (\n",
        "    select d.[user account id],d.[transaction date],d.[merchant name],d.[redeemed by merchant user name],\n",
        "    d.[T type],d.[reward category],\n",
        "    case when d.[campaign id]=0 and c.[campaign id] is not null then c.[campaign id]\n",
        "       else d.[campaign id] end as [campaign id],\n",
        "    case when d.[campaign name]='' and c.[campaign name] is not null then replace(c.[campaign name],'\"','')\n",
        "    else d.[campaign name] end as [campaign name],\n",
        "    d.[transaction id],d.[points earned],d.[points burned],d.[voucher id],d.[reward id],d.[reward name],d.[last engagement status],\n",
        "    d.[rule id],d.[rule name]\n",
        "    from Daily_Transaction as d\n",
        "    left join [Campaign Engagement - Breakdown] as c on c.[reward id]=d.[reward id]\n",
        "    where (d.[rule id] in (200,305) or d.[T type] in ('Campaigns') or (d.[T type] in ('Vouchers') and d.[reward category]='Campaign reward'))\n",
        ") as cam on cam.[user account id] = uu.[user account]\n",
        "group by uu.[user account],uu.[customer name],cam.[campaign id],cam.[campaign name],cam.[merchant name],uu.[mobile phone],\n",
        "cam.[rule id],cam.[rule name]\"\"\""
      ],
      "id": "133bb297"
    },
    {
      "cell_type": "code",
      "execution_count": null,
      "metadata": {
        "id": "a489b2f6"
      },
      "outputs": [],
      "source": [
        "def db_connect_sales_campaigns(): #sales and users\n",
        "    global sales_campaigns\n",
        "    \n",
        "    conn = pyodbc.connect(driver=report_driver,\n",
        "                        server=report_server,\n",
        "                        database=report_database,\n",
        "                        uid=report_uid,\n",
        "                        pwd=report_pwd,\n",
        "                        autocomit=True)\n",
        "    sales_campaigns = pd.read_sql(combined_query,conn)\n",
        "\n",
        "\n",
        "    conn.close()"
      ],
      "id": "a489b2f6"
    },
    {
      "cell_type": "code",
      "execution_count": null,
      "metadata": {
        "id": "cb934b45"
      },
      "outputs": [],
      "source": [
        "db_connect_sales_campaigns()"
      ],
      "id": "cb934b45"
    },
    {
      "cell_type": "markdown",
      "metadata": {
        "id": "6c1df0e1"
      },
      "source": [
        "## Data understanding"
      ],
      "id": "6c1df0e1"
    },
    {
      "cell_type": "code",
      "execution_count": null,
      "metadata": {
        "id": "6e4af63e",
        "outputId": "844c41bc-0582-47b8-fbab-ae6a0d3a9847",
        "scrolled": true
      },
      "outputs": [
        {
          "data": {
            "text/html": [
              "<div>\n",
              "<style scoped>\n",
              "    .dataframe tbody tr th:only-of-type {\n",
              "        vertical-align: middle;\n",
              "    }\n",
              "\n",
              "    .dataframe tbody tr th {\n",
              "        vertical-align: top;\n",
              "    }\n",
              "\n",
              "    .dataframe thead th {\n",
              "        text-align: right;\n",
              "    }\n",
              "</style>\n",
              "<table border=\"1\" class=\"dataframe\">\n",
              "  <thead>\n",
              "    <tr style=\"text-align: right;\">\n",
              "      <th></th>\n",
              "      <th>user account</th>\n",
              "      <th>customer name</th>\n",
              "      <th>mobile phone</th>\n",
              "      <th>birthday</th>\n",
              "      <th>perx registration date</th>\n",
              "      <th>state</th>\n",
              "      <th>email id</th>\n",
              "      <th>registration_source</th>\n",
              "      <th>registerd_by_merchant</th>\n",
              "      <th>address1</th>\n",
              "      <th>city</th>\n",
              "      <th>home</th>\n",
              "      <th>gender</th>\n",
              "      <th>nationality</th>\n",
              "      <th>valid_phone</th>\n",
              "      <th>etl_date</th>\n",
              "    </tr>\n",
              "  </thead>\n",
              "  <tbody>\n",
              "    <tr>\n",
              "      <th>0</th>\n",
              "      <td>27747507563-1672078147</td>\n",
              "      <td>\" PhyuPhyu\"</td>\n",
              "      <td>959784714706</td>\n",
              "      <td>1989-09-30</td>\n",
              "      <td>2022-12-27 00:39:07</td>\n",
              "      <td>active</td>\n",
              "      <td>phyu8050@gmail.com</td>\n",
              "      <td>sign_up_api</td>\n",
              "      <td>None</td>\n",
              "      <td>None</td>\n",
              "      <td>None</td>\n",
              "      <td>None</td>\n",
              "      <td>f</td>\n",
              "      <td>None</td>\n",
              "      <td>True</td>\n",
              "      <td>2023-01-27 08:19:39.493</td>\n",
              "    </tr>\n",
              "    <tr>\n",
              "      <th>1</th>\n",
              "      <td>27745354662-1672075937</td>\n",
              "      <td>\" YarZar\"</td>\n",
              "      <td>959965020919</td>\n",
              "      <td>1999-12-31</td>\n",
              "      <td>2022-12-27 00:02:17</td>\n",
              "      <td>active</td>\n",
              "      <td>yarzarmm@yopmail.com</td>\n",
              "      <td>sign_up_api</td>\n",
              "      <td>None</td>\n",
              "      <td>None</td>\n",
              "      <td>None</td>\n",
              "      <td>None</td>\n",
              "      <td>m</td>\n",
              "      <td>None</td>\n",
              "      <td>True</td>\n",
              "      <td>2023-01-27 08:19:39.493</td>\n",
              "    </tr>\n",
              "    <tr>\n",
              "      <th>2</th>\n",
              "      <td>2775443644-1672091826</td>\n",
              "      <td>\" ZawHtike\"</td>\n",
              "      <td>959970654845</td>\n",
              "      <td>1999-04-20</td>\n",
              "      <td>2022-12-27 04:27:06</td>\n",
              "      <td>active</td>\n",
              "      <td>zawhtike.21499@gmail.com</td>\n",
              "      <td>sign_up_api</td>\n",
              "      <td>None</td>\n",
              "      <td>None</td>\n",
              "      <td>None</td>\n",
              "      <td>None</td>\n",
              "      <td>m</td>\n",
              "      <td>None</td>\n",
              "      <td>True</td>\n",
              "      <td>2023-01-27 08:19:39.493</td>\n",
              "    </tr>\n",
              "    <tr>\n",
              "      <th>3</th>\n",
              "      <td>27749681445-1672079752</td>\n",
              "      <td>\" ZinKo Oo\"</td>\n",
              "      <td>959423237433</td>\n",
              "      <td>2000-07-31</td>\n",
              "      <td>2022-12-27 01:05:52</td>\n",
              "      <td>active</td>\n",
              "      <td>zinkooo432@gmail.com</td>\n",
              "      <td>sign_up_api</td>\n",
              "      <td>None</td>\n",
              "      <td>None</td>\n",
              "      <td>None</td>\n",
              "      <td>None</td>\n",
              "      <td>m</td>\n",
              "      <td>None</td>\n",
              "      <td>True</td>\n",
              "      <td>2023-01-27 08:19:39.493</td>\n",
              "    </tr>\n",
              "    <tr>\n",
              "      <th>4</th>\n",
              "      <td>27758116194-1672097028</td>\n",
              "      <td>\" ÝãÝã\"</td>\n",
              "      <td>959686710054</td>\n",
              "      <td>1998-11-11</td>\n",
              "      <td>2022-12-27 05:53:48</td>\n",
              "      <td>active</td>\n",
              "      <td>yay040013@gmail.com</td>\n",
              "      <td>sign_up_api</td>\n",
              "      <td>None</td>\n",
              "      <td>None</td>\n",
              "      <td>None</td>\n",
              "      <td>None</td>\n",
              "      <td>f</td>\n",
              "      <td>None</td>\n",
              "      <td>True</td>\n",
              "      <td>2023-01-27 08:19:39.493</td>\n",
              "    </tr>\n",
              "  </tbody>\n",
              "</table>\n",
              "</div>"
            ],
            "text/plain": [
              "             user account customer name  mobile phone    birthday  \\\n",
              "0  27747507563-1672078147   \" PhyuPhyu\"  959784714706  1989-09-30   \n",
              "1  27745354662-1672075937     \" YarZar\"  959965020919  1999-12-31   \n",
              "2   2775443644-1672091826   \" ZawHtike\"  959970654845  1999-04-20   \n",
              "3  27749681445-1672079752   \" ZinKo Oo\"  959423237433  2000-07-31   \n",
              "4  27758116194-1672097028       \" ÝãÝã\"  959686710054  1998-11-11   \n",
              "\n",
              "  perx registration date   state                  email id  \\\n",
              "0    2022-12-27 00:39:07  active        phyu8050@gmail.com   \n",
              "1    2022-12-27 00:02:17  active      yarzarmm@yopmail.com   \n",
              "2    2022-12-27 04:27:06  active  zawhtike.21499@gmail.com   \n",
              "3    2022-12-27 01:05:52  active      zinkooo432@gmail.com   \n",
              "4    2022-12-27 05:53:48  active       yay040013@gmail.com   \n",
              "\n",
              "  registration_source registerd_by_merchant address1  city  home gender  \\\n",
              "0         sign_up_api                  None     None  None  None      f   \n",
              "1         sign_up_api                  None     None  None  None      m   \n",
              "2         sign_up_api                  None     None  None  None      m   \n",
              "3         sign_up_api                  None     None  None  None      m   \n",
              "4         sign_up_api                  None     None  None  None      f   \n",
              "\n",
              "  nationality valid_phone                etl_date  \n",
              "0        None        True 2023-01-27 08:19:39.493  \n",
              "1        None        True 2023-01-27 08:19:39.493  \n",
              "2        None        True 2023-01-27 08:19:39.493  \n",
              "3        None        True 2023-01-27 08:19:39.493  \n",
              "4        None        True 2023-01-27 08:19:39.493  "
            ]
          },
          "execution_count": 19,
          "metadata": {},
          "output_type": "execute_result"
        }
      ],
      "source": [
        "all_users.head()\n",
        "# len(all_users) #36274"
      ],
      "id": "6e4af63e"
    },
    {
      "cell_type": "code",
      "execution_count": null,
      "metadata": {
        "id": "0a8fec99",
        "outputId": "5c9f3faa-78fa-4cb2-8f6e-01aabb579941",
        "scrolled": true
      },
      "outputs": [
        {
          "data": {
            "text/html": [
              "<div>\n",
              "<style scoped>\n",
              "    .dataframe tbody tr th:only-of-type {\n",
              "        vertical-align: middle;\n",
              "    }\n",
              "\n",
              "    .dataframe tbody tr th {\n",
              "        vertical-align: top;\n",
              "    }\n",
              "\n",
              "    .dataframe thead th {\n",
              "        text-align: right;\n",
              "    }\n",
              "</style>\n",
              "<table border=\"1\" class=\"dataframe\">\n",
              "  <thead>\n",
              "    <tr style=\"text-align: right;\">\n",
              "      <th></th>\n",
              "      <th>campaign id</th>\n",
              "      <th>campaign name</th>\n",
              "    </tr>\n",
              "  </thead>\n",
              "  <tbody>\n",
              "    <tr>\n",
              "      <th>0</th>\n",
              "      <td>1</td>\n",
              "      <td>Collect Stamps to get FREEBIES!</td>\n",
              "    </tr>\n",
              "    <tr>\n",
              "      <th>1</th>\n",
              "      <td>1</td>\n",
              "      <td>Collect Stamps to get FREEBIES!</td>\n",
              "    </tr>\n",
              "    <tr>\n",
              "      <th>2</th>\n",
              "      <td>1</td>\n",
              "      <td>Collect Stamps to get FREEBIES!</td>\n",
              "    </tr>\n",
              "    <tr>\n",
              "      <th>3</th>\n",
              "      <td>2</td>\n",
              "      <td>Earn 1 Stamp for Every 10,000 Kyats you spent</td>\n",
              "    </tr>\n",
              "    <tr>\n",
              "      <th>4</th>\n",
              "      <td>2</td>\n",
              "      <td>Earn 1 Stamp for Every 10,000 Kyats you spent</td>\n",
              "    </tr>\n",
              "  </tbody>\n",
              "</table>\n",
              "</div>"
            ],
            "text/plain": [
              "   campaign id                                  campaign name\n",
              "0            1                Collect Stamps to get FREEBIES!\n",
              "1            1                Collect Stamps to get FREEBIES!\n",
              "2            1                Collect Stamps to get FREEBIES!\n",
              "3            2  Earn 1 Stamp for Every 10,000 Kyats you spent\n",
              "4            2  Earn 1 Stamp for Every 10,000 Kyats you spent"
            ]
          },
          "execution_count": 20,
          "metadata": {},
          "output_type": "execute_result"
        }
      ],
      "source": [
        "campaigns.head()"
      ],
      "id": "0a8fec99"
    },
    {
      "cell_type": "code",
      "execution_count": null,
      "metadata": {
        "id": "15de0878",
        "outputId": "dacd09e1-f117-4b3d-93af-6f952c2268a6",
        "scrolled": true
      },
      "outputs": [
        {
          "data": {
            "text/html": [
              "<div>\n",
              "<style scoped>\n",
              "    .dataframe tbody tr th:only-of-type {\n",
              "        vertical-align: middle;\n",
              "    }\n",
              "\n",
              "    .dataframe tbody tr th {\n",
              "        vertical-align: top;\n",
              "    }\n",
              "\n",
              "    .dataframe thead th {\n",
              "        text-align: right;\n",
              "    }\n",
              "</style>\n",
              "<table border=\"1\" class=\"dataframe\">\n",
              "  <thead>\n",
              "    <tr style=\"text-align: right;\">\n",
              "      <th></th>\n",
              "      <th>user account</th>\n",
              "      <th>customer name</th>\n",
              "      <th>merchant name</th>\n",
              "      <th>sales_point_earned</th>\n",
              "      <th>total_point_burned</th>\n",
              "      <th>sales_vouchers</th>\n",
              "      <th>sales_expired_vouchers</th>\n",
              "    </tr>\n",
              "  </thead>\n",
              "  <tbody>\n",
              "    <tr>\n",
              "      <th>0</th>\n",
              "      <td>4011470395-1668751639</td>\n",
              "      <td>Ei MyatNoe Oo</td>\n",
              "      <td>KFC</td>\n",
              "      <td>182</td>\n",
              "      <td>0.0</td>\n",
              "      <td>0</td>\n",
              "      <td>0</td>\n",
              "    </tr>\n",
              "    <tr>\n",
              "      <th>1</th>\n",
              "      <td>36638763748-1674818457</td>\n",
              "      <td>HtooHtoo</td>\n",
              "      <td>Star City</td>\n",
              "      <td>0</td>\n",
              "      <td>0.0</td>\n",
              "      <td>0</td>\n",
              "      <td>0</td>\n",
              "    </tr>\n",
              "    <tr>\n",
              "      <th>2</th>\n",
              "      <td>25398997836-1671979058</td>\n",
              "      <td>ThiriYamin Su</td>\n",
              "      <td>Star City</td>\n",
              "      <td>0</td>\n",
              "      <td>0.0</td>\n",
              "      <td>0</td>\n",
              "      <td>0</td>\n",
              "    </tr>\n",
              "    <tr>\n",
              "      <th>3</th>\n",
              "      <td>31350661369-1672988426</td>\n",
              "      <td>AungThu</td>\n",
              "      <td>None</td>\n",
              "      <td>0</td>\n",
              "      <td>NaN</td>\n",
              "      <td>0</td>\n",
              "      <td>0</td>\n",
              "    </tr>\n",
              "    <tr>\n",
              "      <th>4</th>\n",
              "      <td>25445817058-1671981504</td>\n",
              "      <td>KyawTHU YA TUN</td>\n",
              "      <td>Star City</td>\n",
              "      <td>0</td>\n",
              "      <td>0.0</td>\n",
              "      <td>0</td>\n",
              "      <td>0</td>\n",
              "    </tr>\n",
              "  </tbody>\n",
              "</table>\n",
              "</div>"
            ],
            "text/plain": [
              "             user account   customer name merchant name  sales_point_earned  \\\n",
              "0   4011470395-1668751639   Ei MyatNoe Oo           KFC                 182   \n",
              "1  36638763748-1674818457        HtooHtoo     Star City                   0   \n",
              "2  25398997836-1671979058   ThiriYamin Su     Star City                   0   \n",
              "3  31350661369-1672988426         AungThu          None                   0   \n",
              "4  25445817058-1671981504  KyawTHU YA TUN     Star City                   0   \n",
              "\n",
              "   total_point_burned  sales_vouchers  sales_expired_vouchers  \n",
              "0                 0.0               0                       0  \n",
              "1                 0.0               0                       0  \n",
              "2                 0.0               0                       0  \n",
              "3                 NaN               0                       0  \n",
              "4                 0.0               0                       0  "
            ]
          },
          "execution_count": 21,
          "metadata": {},
          "output_type": "execute_result"
        }
      ],
      "source": [
        "# len(sales)\n",
        "sales.head()\n"
      ],
      "id": "15de0878"
    },
    {
      "cell_type": "code",
      "execution_count": null,
      "metadata": {
        "id": "ac1ebb10",
        "outputId": "ef4a1ace-ea1d-44bd-9c4f-32606e690f5a",
        "scrolled": true
      },
      "outputs": [
        {
          "data": {
            "text/html": [
              "<div>\n",
              "<style scoped>\n",
              "    .dataframe tbody tr th:only-of-type {\n",
              "        vertical-align: middle;\n",
              "    }\n",
              "\n",
              "    .dataframe tbody tr th {\n",
              "        vertical-align: top;\n",
              "    }\n",
              "\n",
              "    .dataframe thead th {\n",
              "        text-align: right;\n",
              "    }\n",
              "</style>\n",
              "<table border=\"1\" class=\"dataframe\">\n",
              "  <thead>\n",
              "    <tr style=\"text-align: right;\">\n",
              "      <th></th>\n",
              "      <th>user account</th>\n",
              "      <th>customer name</th>\n",
              "      <th>mobile phone</th>\n",
              "      <th>merchant name</th>\n",
              "      <th>campaign id</th>\n",
              "      <th>campaign name</th>\n",
              "      <th>participated_campaign_frequency</th>\n",
              "      <th>campaigns_point_earned</th>\n",
              "      <th>stamp_vouchers</th>\n",
              "      <th>stamp_expired_vouchers</th>\n",
              "      <th>game_vouchers</th>\n",
              "      <th>game_expired_vouchers</th>\n",
              "    </tr>\n",
              "  </thead>\n",
              "  <tbody>\n",
              "    <tr>\n",
              "      <th>0</th>\n",
              "      <td>10000229343-1669566523</td>\n",
              "      <td>HlaingYamin Oo</td>\n",
              "      <td>959758771192</td>\n",
              "      <td>KFC</td>\n",
              "      <td>205.0</td>\n",
              "      <td>ရွှေကြက်ပေါင်ရှာမယ်</td>\n",
              "      <td>1</td>\n",
              "      <td>100</td>\n",
              "      <td>0</td>\n",
              "      <td>0</td>\n",
              "      <td>0</td>\n",
              "      <td>0</td>\n",
              "    </tr>\n",
              "    <tr>\n",
              "      <th>1</th>\n",
              "      <td>10000229343-1669566523</td>\n",
              "      <td>HlaingYamin Oo</td>\n",
              "      <td>959758771192</td>\n",
              "      <td>Pocket</td>\n",
              "      <td>24.0</td>\n",
              "      <td>Spin to Win</td>\n",
              "      <td>1</td>\n",
              "      <td>50</td>\n",
              "      <td>0</td>\n",
              "      <td>0</td>\n",
              "      <td>0</td>\n",
              "      <td>0</td>\n",
              "    </tr>\n",
              "    <tr>\n",
              "      <th>2</th>\n",
              "      <td>10000229343-1669566523</td>\n",
              "      <td>HlaingYamin Oo</td>\n",
              "      <td>959758771192</td>\n",
              "      <td>Star City</td>\n",
              "      <td>21.0</td>\n",
              "      <td>StarCity Spin The Wheel</td>\n",
              "      <td>7</td>\n",
              "      <td>510</td>\n",
              "      <td>0</td>\n",
              "      <td>0</td>\n",
              "      <td>0</td>\n",
              "      <td>0</td>\n",
              "    </tr>\n",
              "    <tr>\n",
              "      <th>3</th>\n",
              "      <td>10002620537-1669567460</td>\n",
              "      <td>PhoeAung</td>\n",
              "      <td>959987575510</td>\n",
              "      <td>KFC</td>\n",
              "      <td>99.0</td>\n",
              "      <td>Referral By partner</td>\n",
              "      <td>1</td>\n",
              "      <td>0</td>\n",
              "      <td>0</td>\n",
              "      <td>0</td>\n",
              "      <td>0</td>\n",
              "      <td>0</td>\n",
              "    </tr>\n",
              "    <tr>\n",
              "      <th>4</th>\n",
              "      <td>10000229343-1669566523</td>\n",
              "      <td>HlaingYamin Oo</td>\n",
              "      <td>959758771192</td>\n",
              "      <td>KFC</td>\n",
              "      <td>18.0</td>\n",
              "      <td>Bucket  ကြီးခွဲမယ်!</td>\n",
              "      <td>4</td>\n",
              "      <td>400</td>\n",
              "      <td>0</td>\n",
              "      <td>0</td>\n",
              "      <td>1</td>\n",
              "      <td>1</td>\n",
              "    </tr>\n",
              "  </tbody>\n",
              "</table>\n",
              "</div>"
            ],
            "text/plain": [
              "             user account   customer name  mobile phone merchant name  \\\n",
              "0  10000229343-1669566523  HlaingYamin Oo  959758771192           KFC   \n",
              "1  10000229343-1669566523  HlaingYamin Oo  959758771192        Pocket   \n",
              "2  10000229343-1669566523  HlaingYamin Oo  959758771192     Star City   \n",
              "3  10002620537-1669567460        PhoeAung  959987575510           KFC   \n",
              "4  10000229343-1669566523  HlaingYamin Oo  959758771192           KFC   \n",
              "\n",
              "   campaign id            campaign name  participated_campaign_frequency  \\\n",
              "0        205.0      ရွှေကြက်ပေါင်ရှာမယ်                                1   \n",
              "1         24.0              Spin to Win                                1   \n",
              "2         21.0  StarCity Spin The Wheel                                7   \n",
              "3         99.0      Referral By partner                                1   \n",
              "4         18.0      Bucket  ကြီးခွဲမယ်!                                4   \n",
              "\n",
              "   campaigns_point_earned  stamp_vouchers  stamp_expired_vouchers  \\\n",
              "0                     100               0                       0   \n",
              "1                      50               0                       0   \n",
              "2                     510               0                       0   \n",
              "3                       0               0                       0   \n",
              "4                     400               0                       0   \n",
              "\n",
              "   game_vouchers  game_expired_vouchers  \n",
              "0              0                      0  \n",
              "1              0                      0  \n",
              "2              0                      0  \n",
              "3              0                      0  \n",
              "4              1                      1  "
            ]
          },
          "execution_count": 22,
          "metadata": {},
          "output_type": "execute_result"
        }
      ],
      "source": [
        "sales_campaigns.head()"
      ],
      "id": "ac1ebb10"
    },
    {
      "cell_type": "code",
      "execution_count": null,
      "metadata": {
        "id": "2fc8e353",
        "outputId": "fafdc707-b7bf-4160-a4cd-86e7f811e498"
      },
      "outputs": [
        {
          "data": {
            "text/html": [
              "<div>\n",
              "<style scoped>\n",
              "    .dataframe tbody tr th:only-of-type {\n",
              "        vertical-align: middle;\n",
              "    }\n",
              "\n",
              "    .dataframe tbody tr th {\n",
              "        vertical-align: top;\n",
              "    }\n",
              "\n",
              "    .dataframe thead th {\n",
              "        text-align: right;\n",
              "    }\n",
              "</style>\n",
              "<table border=\"1\" class=\"dataframe\">\n",
              "  <thead>\n",
              "    <tr style=\"text-align: right;\">\n",
              "      <th></th>\n",
              "      <th>user account</th>\n",
              "      <th>campaign_count</th>\n",
              "    </tr>\n",
              "  </thead>\n",
              "  <tbody>\n",
              "    <tr>\n",
              "      <th>37345</th>\n",
              "      <td>9999800424-1669566268</td>\n",
              "      <td>0</td>\n",
              "    </tr>\n",
              "    <tr>\n",
              "      <th>37346</th>\n",
              "      <td>9999999</td>\n",
              "      <td>23</td>\n",
              "    </tr>\n",
              "    <tr>\n",
              "      <th>37347</th>\n",
              "      <td>test_perx</td>\n",
              "      <td>0</td>\n",
              "    </tr>\n",
              "    <tr>\n",
              "      <th>37348</th>\n",
              "      <td>test_perx_2</td>\n",
              "      <td>0</td>\n",
              "    </tr>\n",
              "    <tr>\n",
              "      <th>37349</th>\n",
              "      <td>test_perx_3</td>\n",
              "      <td>0</td>\n",
              "    </tr>\n",
              "  </tbody>\n",
              "</table>\n",
              "</div>"
            ],
            "text/plain": [
              "                user account  campaign_count\n",
              "37345  9999800424-1669566268               0\n",
              "37346                9999999              23\n",
              "37347              test_perx               0\n",
              "37348            test_perx_2               0\n",
              "37349            test_perx_3               0"
            ]
          },
          "execution_count": 23,
          "metadata": {},
          "output_type": "execute_result"
        }
      ],
      "source": [
        "campaigns_by_user=sales_campaigns.groupby([\"user account\"]).agg(campaign_count=('campaign id',pd.Series.nunique)).reset_index()\n",
        "campaigns_by_user.tail()\n"
      ],
      "id": "2fc8e353"
    },
    {
      "cell_type": "code",
      "execution_count": null,
      "metadata": {
        "id": "d199fb13",
        "outputId": "829ec8e2-57d3-41ca-c91f-39b7f24e0d38",
        "scrolled": false
      },
      "outputs": [
        {
          "name": "stdout",
          "output_type": "stream",
          "text": [
            "Total number of transaction activities in campaings 107314\n",
            "Total number of transaction activities in campaings paricipated by unique users 37350\n",
            "Total number of transaction activities 68586\n",
            "Total number of transaction activities made by unqiue users 37350\n",
            "Total number of all campaigns 82\n",
            "Total number of all unique campaigns 44\n",
            "Total number of unique users 33176\n"
          ]
        }
      ],
      "source": [
        "print(\"Total number of transaction activities in campaings\" ,len(sales_campaigns))\n",
        "print(\"Total number of transaction activities in campaings paricipated by unique users\" ,len(sales_campaigns[\"user account\"].unique()))\n",
        "print(\"Total number of transaction activities\" ,len(sales))\n",
        "print(\"Total number of transaction activities made by unqiue users\" ,len(sales[\"user account\"].unique()))\n",
        "print(\"Total number of all campaigns\" ,len(campaigns[\"campaign name\"]))\n",
        "print(\"Total number of all unique campaigns\" ,len(campaigns[\"campaign name\"].unique()))\n",
        "print(\"Total number of unique users\" ,len(all_users))\n"
      ],
      "id": "d199fb13"
    },
    {
      "cell_type": "code",
      "execution_count": null,
      "metadata": {
        "id": "acdd5c7b"
      },
      "outputs": [],
      "source": [
        "campaigns.to_csv(\"C:/Users/shineminnkha/Documents/AI intern/Pocket data/campaigns.csv\") # export to csv file on local machine(campaign data)\n",
        "sales_campaigns.to_csv(\"C:/Users/shineminnkha/Documents/AI intern/Pocket data/transactions_campaigns.csv\") # export to csv file on local machine(transactions_campaigns data)"
      ],
      "id": "acdd5c7b"
    },
    {
      "cell_type": "code",
      "execution_count": null,
      "metadata": {
        "id": "66ee7746"
      },
      "outputs": [],
      "source": [
        "#import csv files of transactions and campaigns\n",
        "campaigns = pd.read_csv(r'C:/Users/shineminnkha/Documents/AI intern/Pocket data/campaigns.csv',index_col=0)\n",
        "transactions=pd.read_csv(r'C:/Users/shineminnkha/Documents/AI intern/Pocket data/transactions_campaigns.csv',index_col=0) "
      ],
      "id": "66ee7746"
    },
    {
      "cell_type": "code",
      "execution_count": null,
      "metadata": {
        "id": "e6ceab2c",
        "outputId": "2314f332-59a2-4e97-db94-8ca11629514a",
        "scrolled": false
      },
      "outputs": [
        {
          "data": {
            "text/html": [
              "<div>\n",
              "<style scoped>\n",
              "    .dataframe tbody tr th:only-of-type {\n",
              "        vertical-align: middle;\n",
              "    }\n",
              "\n",
              "    .dataframe tbody tr th {\n",
              "        vertical-align: top;\n",
              "    }\n",
              "\n",
              "    .dataframe thead th {\n",
              "        text-align: right;\n",
              "    }\n",
              "</style>\n",
              "<table border=\"1\" class=\"dataframe\">\n",
              "  <thead>\n",
              "    <tr style=\"text-align: right;\">\n",
              "      <th></th>\n",
              "      <th>user account</th>\n",
              "      <th>customer name</th>\n",
              "      <th>mobile phone</th>\n",
              "      <th>merchant name</th>\n",
              "      <th>campaign id</th>\n",
              "      <th>campaign name</th>\n",
              "      <th>participated_campaign_frequency</th>\n",
              "      <th>campaigns_point_earned</th>\n",
              "      <th>stamp_vouchers</th>\n",
              "      <th>stamp_expired_vouchers</th>\n",
              "      <th>game_vouchers</th>\n",
              "      <th>game_expired_vouchers</th>\n",
              "    </tr>\n",
              "  </thead>\n",
              "  <tbody>\n",
              "    <tr>\n",
              "      <th>0</th>\n",
              "      <td>10000229343-1669566523</td>\n",
              "      <td>HlaingYamin Oo</td>\n",
              "      <td>959758771192</td>\n",
              "      <td>KFC</td>\n",
              "      <td>205.0</td>\n",
              "      <td>ရွှေကြက်ပေါင်ရှာမယ်</td>\n",
              "      <td>1</td>\n",
              "      <td>100</td>\n",
              "      <td>0</td>\n",
              "      <td>0</td>\n",
              "      <td>0</td>\n",
              "      <td>0</td>\n",
              "    </tr>\n",
              "    <tr>\n",
              "      <th>1</th>\n",
              "      <td>10000229343-1669566523</td>\n",
              "      <td>HlaingYamin Oo</td>\n",
              "      <td>959758771192</td>\n",
              "      <td>Pocket</td>\n",
              "      <td>24.0</td>\n",
              "      <td>Spin to Win</td>\n",
              "      <td>1</td>\n",
              "      <td>50</td>\n",
              "      <td>0</td>\n",
              "      <td>0</td>\n",
              "      <td>0</td>\n",
              "      <td>0</td>\n",
              "    </tr>\n",
              "    <tr>\n",
              "      <th>2</th>\n",
              "      <td>10000229343-1669566523</td>\n",
              "      <td>HlaingYamin Oo</td>\n",
              "      <td>959758771192</td>\n",
              "      <td>Star City</td>\n",
              "      <td>21.0</td>\n",
              "      <td>StarCity Spin The Wheel</td>\n",
              "      <td>7</td>\n",
              "      <td>510</td>\n",
              "      <td>0</td>\n",
              "      <td>0</td>\n",
              "      <td>0</td>\n",
              "      <td>0</td>\n",
              "    </tr>\n",
              "    <tr>\n",
              "      <th>3</th>\n",
              "      <td>10002620537-1669567460</td>\n",
              "      <td>PhoeAung</td>\n",
              "      <td>959987575510</td>\n",
              "      <td>KFC</td>\n",
              "      <td>99.0</td>\n",
              "      <td>Referral By partner</td>\n",
              "      <td>1</td>\n",
              "      <td>0</td>\n",
              "      <td>0</td>\n",
              "      <td>0</td>\n",
              "      <td>0</td>\n",
              "      <td>0</td>\n",
              "    </tr>\n",
              "    <tr>\n",
              "      <th>4</th>\n",
              "      <td>10000229343-1669566523</td>\n",
              "      <td>HlaingYamin Oo</td>\n",
              "      <td>959758771192</td>\n",
              "      <td>KFC</td>\n",
              "      <td>18.0</td>\n",
              "      <td>Bucket  ကြီးခွဲမယ်!</td>\n",
              "      <td>4</td>\n",
              "      <td>400</td>\n",
              "      <td>0</td>\n",
              "      <td>0</td>\n",
              "      <td>1</td>\n",
              "      <td>1</td>\n",
              "    </tr>\n",
              "  </tbody>\n",
              "</table>\n",
              "</div>"
            ],
            "text/plain": [
              "             user account   customer name  mobile phone merchant name  \\\n",
              "0  10000229343-1669566523  HlaingYamin Oo  959758771192           KFC   \n",
              "1  10000229343-1669566523  HlaingYamin Oo  959758771192        Pocket   \n",
              "2  10000229343-1669566523  HlaingYamin Oo  959758771192     Star City   \n",
              "3  10002620537-1669567460        PhoeAung  959987575510           KFC   \n",
              "4  10000229343-1669566523  HlaingYamin Oo  959758771192           KFC   \n",
              "\n",
              "   campaign id            campaign name  participated_campaign_frequency  \\\n",
              "0        205.0      ရွှေကြက်ပေါင်ရှာမယ်                                1   \n",
              "1         24.0              Spin to Win                                1   \n",
              "2         21.0  StarCity Spin The Wheel                                7   \n",
              "3         99.0      Referral By partner                                1   \n",
              "4         18.0      Bucket  ကြီးခွဲမယ်!                                4   \n",
              "\n",
              "   campaigns_point_earned  stamp_vouchers  stamp_expired_vouchers  \\\n",
              "0                     100               0                       0   \n",
              "1                      50               0                       0   \n",
              "2                     510               0                       0   \n",
              "3                       0               0                       0   \n",
              "4                     400               0                       0   \n",
              "\n",
              "   game_vouchers  game_expired_vouchers  \n",
              "0              0                      0  \n",
              "1              0                      0  \n",
              "2              0                      0  \n",
              "3              0                      0  \n",
              "4              1                      1  "
            ]
          },
          "execution_count": 4,
          "metadata": {},
          "output_type": "execute_result"
        }
      ],
      "source": [
        "transactions.head()"
      ],
      "id": "e6ceab2c"
    },
    {
      "cell_type": "code",
      "execution_count": null,
      "metadata": {
        "id": "055e4267",
        "outputId": "2dc2f47a-f0dc-44b1-871c-781b345d97a5"
      },
      "outputs": [
        {
          "name": "stdout",
          "output_type": "stream",
          "text": [
            "             user account   customer name  mobile phone merchant name  \\\n",
            "0  10000229343-1669566523  HlaingYamin Oo  959758771192           KFC   \n",
            "1  10000229343-1669566523  HlaingYamin Oo  959758771192        Pocket   \n",
            "2  10000229343-1669566523  HlaingYamin Oo  959758771192     Star City   \n",
            "3  10002620537-1669567460        PhoeAung  959987575510           KFC   \n",
            "4  10000229343-1669566523  HlaingYamin Oo  959758771192           KFC   \n",
            "\n",
            "   campaign id            campaign name  participated_campaign_frequency  \\\n",
            "0          205      ရွှေကြက်ပေါင်ရှာမယ်                                1   \n",
            "1           24              Spin to Win                                1   \n",
            "2           21  StarCity Spin The Wheel                                7   \n",
            "3           99      Referral By partner                                1   \n",
            "4           18      Bucket  ကြီးခွဲမယ်!                                4   \n",
            "\n",
            "   campaigns_point_earned  stamp_vouchers  stamp_expired_vouchers  \\\n",
            "0                     100               0                       0   \n",
            "1                      50               0                       0   \n",
            "2                     510               0                       0   \n",
            "3                       0               0                       0   \n",
            "4                     400               0                       0   \n",
            "\n",
            "   game_vouchers  game_expired_vouchers  \n",
            "0              0                      0  \n",
            "1              0                      0  \n",
            "2              0                      0  \n",
            "3              0                      0  \n",
            "4              1                      1  \n"
          ]
        }
      ],
      "source": [
        "print(sales_campaigns.head())"
      ],
      "id": "055e4267"
    },
    {
      "cell_type": "code",
      "execution_count": null,
      "metadata": {
        "colab": {
          "base_uri": "https://localhost:8080/",
          "height": 524
        },
        "id": "CbMvil--g9zC",
        "outputId": "237b5479-54bf-4805-a5e2-0538c26f14e6"
      },
      "outputs": [
        {
          "data": {
            "text/html": [
              "\n",
              "  <div id=\"df-86457139-1e01-4972-8b8a-878acfbb2e5e\">\n",
              "    <div class=\"colab-df-container\">\n",
              "      <div>\n",
              "<style scoped>\n",
              "    .dataframe tbody tr th:only-of-type {\n",
              "        vertical-align: middle;\n",
              "    }\n",
              "\n",
              "    .dataframe tbody tr th {\n",
              "        vertical-align: top;\n",
              "    }\n",
              "\n",
              "    .dataframe thead th {\n",
              "        text-align: right;\n",
              "    }\n",
              "</style>\n",
              "<table border=\"1\" class=\"dataframe\">\n",
              "  <thead>\n",
              "    <tr style=\"text-align: right;\">\n",
              "      <th></th>\n",
              "      <th>campaign id</th>\n",
              "      <th>is participated?</th>\n",
              "      <th>mobile phone</th>\n",
              "      <th>participated_campaign_frequency</th>\n",
              "      <th>campaigns_point_earned</th>\n",
              "      <th>stamp_vouchers</th>\n",
              "      <th>stamp_expired_vouchers</th>\n",
              "      <th>game_vouchers</th>\n",
              "      <th>game_expired_vouchers</th>\n",
              "      <th>participation status</th>\n",
              "      <th>sales_points_earned</th>\n",
              "      <th>Total campaign participated</th>\n",
              "    </tr>\n",
              "  </thead>\n",
              "  <tbody>\n",
              "    <tr>\n",
              "      <th>campaign id</th>\n",
              "      <td>1.000000</td>\n",
              "      <td>-0.051356</td>\n",
              "      <td>-0.015900</td>\n",
              "      <td>-0.051318</td>\n",
              "      <td>-0.064180</td>\n",
              "      <td>-0.004460</td>\n",
              "      <td>-0.002825</td>\n",
              "      <td>0.052940</td>\n",
              "      <td>-0.018448</td>\n",
              "      <td>-0.002033</td>\n",
              "      <td>-0.001648</td>\n",
              "      <td>-0.020072</td>\n",
              "    </tr>\n",
              "    <tr>\n",
              "      <th>is participated?</th>\n",
              "      <td>-0.051356</td>\n",
              "      <td>1.000000</td>\n",
              "      <td>0.288284</td>\n",
              "      <td>0.573271</td>\n",
              "      <td>0.561324</td>\n",
              "      <td>0.022977</td>\n",
              "      <td>0.014564</td>\n",
              "      <td>0.248192</td>\n",
              "      <td>0.194809</td>\n",
              "      <td>0.030114</td>\n",
              "      <td>0.023196</td>\n",
              "      <td>0.331591</td>\n",
              "    </tr>\n",
              "    <tr>\n",
              "      <th>mobile phone</th>\n",
              "      <td>-0.015900</td>\n",
              "      <td>0.288284</td>\n",
              "      <td>1.000000</td>\n",
              "      <td>0.162367</td>\n",
              "      <td>0.159190</td>\n",
              "      <td>0.005812</td>\n",
              "      <td>0.003630</td>\n",
              "      <td>0.071516</td>\n",
              "      <td>0.062263</td>\n",
              "      <td>0.007693</td>\n",
              "      <td>0.005925</td>\n",
              "      <td>0.092433</td>\n",
              "    </tr>\n",
              "    <tr>\n",
              "      <th>participated_campaign_frequency</th>\n",
              "      <td>-0.051318</td>\n",
              "      <td>0.573271</td>\n",
              "      <td>0.162367</td>\n",
              "      <td>1.000000</td>\n",
              "      <td>0.942119</td>\n",
              "      <td>0.012223</td>\n",
              "      <td>0.004449</td>\n",
              "      <td>0.176491</td>\n",
              "      <td>0.107799</td>\n",
              "      <td>0.020045</td>\n",
              "      <td>0.013898</td>\n",
              "      <td>0.233695</td>\n",
              "    </tr>\n",
              "    <tr>\n",
              "      <th>campaigns_point_earned</th>\n",
              "      <td>-0.064180</td>\n",
              "      <td>0.561324</td>\n",
              "      <td>0.159190</td>\n",
              "      <td>0.942119</td>\n",
              "      <td>1.000000</td>\n",
              "      <td>-0.000622</td>\n",
              "      <td>-0.000395</td>\n",
              "      <td>0.012884</td>\n",
              "      <td>0.094901</td>\n",
              "      <td>0.019308</td>\n",
              "      <td>0.013548</td>\n",
              "      <td>0.232292</td>\n",
              "    </tr>\n",
              "    <tr>\n",
              "      <th>stamp_vouchers</th>\n",
              "      <td>-0.004460</td>\n",
              "      <td>0.022977</td>\n",
              "      <td>0.005812</td>\n",
              "      <td>0.012223</td>\n",
              "      <td>-0.000622</td>\n",
              "      <td>1.000000</td>\n",
              "      <td>0.373591</td>\n",
              "      <td>-0.000275</td>\n",
              "      <td>-0.000216</td>\n",
              "      <td>0.002428</td>\n",
              "      <td>0.000157</td>\n",
              "      <td>0.013084</td>\n",
              "    </tr>\n",
              "    <tr>\n",
              "      <th>stamp_expired_vouchers</th>\n",
              "      <td>-0.002825</td>\n",
              "      <td>0.014564</td>\n",
              "      <td>0.003630</td>\n",
              "      <td>0.004449</td>\n",
              "      <td>-0.000395</td>\n",
              "      <td>0.373591</td>\n",
              "      <td>1.000000</td>\n",
              "      <td>-0.000174</td>\n",
              "      <td>-0.000137</td>\n",
              "      <td>-0.000021</td>\n",
              "      <td>-0.000005</td>\n",
              "      <td>0.006592</td>\n",
              "    </tr>\n",
              "    <tr>\n",
              "      <th>game_vouchers</th>\n",
              "      <td>0.052940</td>\n",
              "      <td>0.248192</td>\n",
              "      <td>0.071516</td>\n",
              "      <td>0.176491</td>\n",
              "      <td>0.012884</td>\n",
              "      <td>-0.000275</td>\n",
              "      <td>-0.000174</td>\n",
              "      <td>1.000000</td>\n",
              "      <td>0.126829</td>\n",
              "      <td>0.019364</td>\n",
              "      <td>0.007661</td>\n",
              "      <td>0.091422</td>\n",
              "    </tr>\n",
              "    <tr>\n",
              "      <th>game_expired_vouchers</th>\n",
              "      <td>-0.018448</td>\n",
              "      <td>0.194809</td>\n",
              "      <td>0.062263</td>\n",
              "      <td>0.107799</td>\n",
              "      <td>0.094901</td>\n",
              "      <td>-0.000216</td>\n",
              "      <td>-0.000137</td>\n",
              "      <td>0.126829</td>\n",
              "      <td>1.000000</td>\n",
              "      <td>0.007236</td>\n",
              "      <td>0.003556</td>\n",
              "      <td>0.078327</td>\n",
              "    </tr>\n",
              "    <tr>\n",
              "      <th>participation status</th>\n",
              "      <td>-0.002033</td>\n",
              "      <td>0.030114</td>\n",
              "      <td>0.007693</td>\n",
              "      <td>0.020045</td>\n",
              "      <td>0.019308</td>\n",
              "      <td>0.002428</td>\n",
              "      <td>-0.000021</td>\n",
              "      <td>0.019364</td>\n",
              "      <td>0.007236</td>\n",
              "      <td>1.000000</td>\n",
              "      <td>0.000107</td>\n",
              "      <td>0.029286</td>\n",
              "    </tr>\n",
              "    <tr>\n",
              "      <th>sales_points_earned</th>\n",
              "      <td>-0.001648</td>\n",
              "      <td>0.023196</td>\n",
              "      <td>0.005925</td>\n",
              "      <td>0.013898</td>\n",
              "      <td>0.013548</td>\n",
              "      <td>0.000157</td>\n",
              "      <td>-0.000005</td>\n",
              "      <td>0.007661</td>\n",
              "      <td>0.003556</td>\n",
              "      <td>0.000107</td>\n",
              "      <td>1.000000</td>\n",
              "      <td>0.010960</td>\n",
              "    </tr>\n",
              "    <tr>\n",
              "      <th>Total campaign participated</th>\n",
              "      <td>-0.020072</td>\n",
              "      <td>0.331591</td>\n",
              "      <td>0.092433</td>\n",
              "      <td>0.233695</td>\n",
              "      <td>0.232292</td>\n",
              "      <td>0.013084</td>\n",
              "      <td>0.006592</td>\n",
              "      <td>0.091422</td>\n",
              "      <td>0.078327</td>\n",
              "      <td>0.029286</td>\n",
              "      <td>0.010960</td>\n",
              "      <td>1.000000</td>\n",
              "    </tr>\n",
              "  </tbody>\n",
              "</table>\n",
              "</div>\n",
              "      <button class=\"colab-df-convert\" onclick=\"convertToInteractive('df-86457139-1e01-4972-8b8a-878acfbb2e5e')\"\n",
              "              title=\"Convert this dataframe to an interactive table.\"\n",
              "              style=\"display:none;\">\n",
              "        \n",
              "  <svg xmlns=\"http://www.w3.org/2000/svg\" height=\"24px\"viewBox=\"0 0 24 24\"\n",
              "       width=\"24px\">\n",
              "    <path d=\"M0 0h24v24H0V0z\" fill=\"none\"/>\n",
              "    <path d=\"M18.56 5.44l.94 2.06.94-2.06 2.06-.94-2.06-.94-.94-2.06-.94 2.06-2.06.94zm-11 1L8.5 8.5l.94-2.06 2.06-.94-2.06-.94L8.5 2.5l-.94 2.06-2.06.94zm10 10l.94 2.06.94-2.06 2.06-.94-2.06-.94-.94-2.06-.94 2.06-2.06.94z\"/><path d=\"M17.41 7.96l-1.37-1.37c-.4-.4-.92-.59-1.43-.59-.52 0-1.04.2-1.43.59L10.3 9.45l-7.72 7.72c-.78.78-.78 2.05 0 2.83L4 21.41c.39.39.9.59 1.41.59.51 0 1.02-.2 1.41-.59l7.78-7.78 2.81-2.81c.8-.78.8-2.07 0-2.86zM5.41 20L4 18.59l7.72-7.72 1.47 1.35L5.41 20z\"/>\n",
              "  </svg>\n",
              "      </button>\n",
              "      \n",
              "  <style>\n",
              "    .colab-df-container {\n",
              "      display:flex;\n",
              "      flex-wrap:wrap;\n",
              "      gap: 12px;\n",
              "    }\n",
              "\n",
              "    .colab-df-convert {\n",
              "      background-color: #E8F0FE;\n",
              "      border: none;\n",
              "      border-radius: 50%;\n",
              "      cursor: pointer;\n",
              "      display: none;\n",
              "      fill: #1967D2;\n",
              "      height: 32px;\n",
              "      padding: 0 0 0 0;\n",
              "      width: 32px;\n",
              "    }\n",
              "\n",
              "    .colab-df-convert:hover {\n",
              "      background-color: #E2EBFA;\n",
              "      box-shadow: 0px 1px 2px rgba(60, 64, 67, 0.3), 0px 1px 3px 1px rgba(60, 64, 67, 0.15);\n",
              "      fill: #174EA6;\n",
              "    }\n",
              "\n",
              "    [theme=dark] .colab-df-convert {\n",
              "      background-color: #3B4455;\n",
              "      fill: #D2E3FC;\n",
              "    }\n",
              "\n",
              "    [theme=dark] .colab-df-convert:hover {\n",
              "      background-color: #434B5C;\n",
              "      box-shadow: 0px 1px 3px 1px rgba(0, 0, 0, 0.15);\n",
              "      filter: drop-shadow(0px 1px 2px rgba(0, 0, 0, 0.3));\n",
              "      fill: #FFFFFF;\n",
              "    }\n",
              "  </style>\n",
              "\n",
              "      <script>\n",
              "        const buttonEl =\n",
              "          document.querySelector('#df-86457139-1e01-4972-8b8a-878acfbb2e5e button.colab-df-convert');\n",
              "        buttonEl.style.display =\n",
              "          google.colab.kernel.accessAllowed ? 'block' : 'none';\n",
              "\n",
              "        async function convertToInteractive(key) {\n",
              "          const element = document.querySelector('#df-86457139-1e01-4972-8b8a-878acfbb2e5e');\n",
              "          const dataTable =\n",
              "            await google.colab.kernel.invokeFunction('convertToInteractive',\n",
              "                                                     [key], {});\n",
              "          if (!dataTable) return;\n",
              "\n",
              "          const docLinkHtml = 'Like what you see? Visit the ' +\n",
              "            '<a target=\"_blank\" href=https://colab.research.google.com/notebooks/data_table.ipynb>data table notebook</a>'\n",
              "            + ' to learn more about interactive tables.';\n",
              "          element.innerHTML = '';\n",
              "          dataTable['output_type'] = 'display_data';\n",
              "          await google.colab.output.renderOutput(dataTable, element);\n",
              "          const docLink = document.createElement('div');\n",
              "          docLink.innerHTML = docLinkHtml;\n",
              "          element.appendChild(docLink);\n",
              "        }\n",
              "      </script>\n",
              "    </div>\n",
              "  </div>\n",
              "  "
            ],
            "text/plain": [
              "                                 campaign id  is participated?  mobile phone  \\\n",
              "campaign id                         1.000000         -0.051356     -0.015900   \n",
              "is participated?                   -0.051356          1.000000      0.288284   \n",
              "mobile phone                       -0.015900          0.288284      1.000000   \n",
              "participated_campaign_frequency    -0.051318          0.573271      0.162367   \n",
              "campaigns_point_earned             -0.064180          0.561324      0.159190   \n",
              "stamp_vouchers                     -0.004460          0.022977      0.005812   \n",
              "stamp_expired_vouchers             -0.002825          0.014564      0.003630   \n",
              "game_vouchers                       0.052940          0.248192      0.071516   \n",
              "game_expired_vouchers              -0.018448          0.194809      0.062263   \n",
              "participation status               -0.002033          0.030114      0.007693   \n",
              "sales_points_earned                -0.001648          0.023196      0.005925   \n",
              "Total campaign participated        -0.020072          0.331591      0.092433   \n",
              "\n",
              "                                 participated_campaign_frequency  \\\n",
              "campaign id                                            -0.051318   \n",
              "is participated?                                        0.573271   \n",
              "mobile phone                                            0.162367   \n",
              "participated_campaign_frequency                         1.000000   \n",
              "campaigns_point_earned                                  0.942119   \n",
              "stamp_vouchers                                          0.012223   \n",
              "stamp_expired_vouchers                                  0.004449   \n",
              "game_vouchers                                           0.176491   \n",
              "game_expired_vouchers                                   0.107799   \n",
              "participation status                                    0.020045   \n",
              "sales_points_earned                                     0.013898   \n",
              "Total campaign participated                             0.233695   \n",
              "\n",
              "                                 campaigns_point_earned  stamp_vouchers  \\\n",
              "campaign id                                   -0.064180       -0.004460   \n",
              "is participated?                               0.561324        0.022977   \n",
              "mobile phone                                   0.159190        0.005812   \n",
              "participated_campaign_frequency                0.942119        0.012223   \n",
              "campaigns_point_earned                         1.000000       -0.000622   \n",
              "stamp_vouchers                                -0.000622        1.000000   \n",
              "stamp_expired_vouchers                        -0.000395        0.373591   \n",
              "game_vouchers                                  0.012884       -0.000275   \n",
              "game_expired_vouchers                          0.094901       -0.000216   \n",
              "participation status                           0.019308        0.002428   \n",
              "sales_points_earned                            0.013548        0.000157   \n",
              "Total campaign participated                    0.232292        0.013084   \n",
              "\n",
              "                                 stamp_expired_vouchers  game_vouchers  \\\n",
              "campaign id                                   -0.002825       0.052940   \n",
              "is participated?                               0.014564       0.248192   \n",
              "mobile phone                                   0.003630       0.071516   \n",
              "participated_campaign_frequency                0.004449       0.176491   \n",
              "campaigns_point_earned                        -0.000395       0.012884   \n",
              "stamp_vouchers                                 0.373591      -0.000275   \n",
              "stamp_expired_vouchers                         1.000000      -0.000174   \n",
              "game_vouchers                                 -0.000174       1.000000   \n",
              "game_expired_vouchers                         -0.000137       0.126829   \n",
              "participation status                          -0.000021       0.019364   \n",
              "sales_points_earned                           -0.000005       0.007661   \n",
              "Total campaign participated                    0.006592       0.091422   \n",
              "\n",
              "                                 game_expired_vouchers  participation status  \\\n",
              "campaign id                                  -0.018448             -0.002033   \n",
              "is participated?                              0.194809              0.030114   \n",
              "mobile phone                                  0.062263              0.007693   \n",
              "participated_campaign_frequency               0.107799              0.020045   \n",
              "campaigns_point_earned                        0.094901              0.019308   \n",
              "stamp_vouchers                               -0.000216              0.002428   \n",
              "stamp_expired_vouchers                       -0.000137             -0.000021   \n",
              "game_vouchers                                 0.126829              0.019364   \n",
              "game_expired_vouchers                         1.000000              0.007236   \n",
              "participation status                          0.007236              1.000000   \n",
              "sales_points_earned                           0.003556              0.000107   \n",
              "Total campaign participated                   0.078327              0.029286   \n",
              "\n",
              "                                 sales_points_earned  \\\n",
              "campaign id                                -0.001648   \n",
              "is participated?                            0.023196   \n",
              "mobile phone                                0.005925   \n",
              "participated_campaign_frequency             0.013898   \n",
              "campaigns_point_earned                      0.013548   \n",
              "stamp_vouchers                              0.000157   \n",
              "stamp_expired_vouchers                     -0.000005   \n",
              "game_vouchers                               0.007661   \n",
              "game_expired_vouchers                       0.003556   \n",
              "participation status                        0.000107   \n",
              "sales_points_earned                         1.000000   \n",
              "Total campaign participated                 0.010960   \n",
              "\n",
              "                                 Total campaign participated  \n",
              "campaign id                                        -0.020072  \n",
              "is participated?                                    0.331591  \n",
              "mobile phone                                        0.092433  \n",
              "participated_campaign_frequency                     0.233695  \n",
              "campaigns_point_earned                              0.232292  \n",
              "stamp_vouchers                                      0.013084  \n",
              "stamp_expired_vouchers                              0.006592  \n",
              "game_vouchers                                       0.091422  \n",
              "game_expired_vouchers                               0.078327  \n",
              "participation status                                0.029286  \n",
              "sales_points_earned                                 0.010960  \n",
              "Total campaign participated                         1.000000  "
            ]
          },
          "execution_count": 71,
          "metadata": {},
          "output_type": "execute_result"
        }
      ],
      "source": [
        "pocket_df.corr()"
      ],
      "id": "CbMvil--g9zC"
    },
    {
      "cell_type": "markdown",
      "metadata": {
        "id": "d45d0409"
      },
      "source": [
        "## Extracting participating status column"
      ],
      "id": "d45d0409"
    },
    {
      "cell_type": "code",
      "execution_count": null,
      "metadata": {
        "id": "e74b3464"
      },
      "outputs": [],
      "source": [
        "# uniq_user_camp\n",
        "# campaigns_df\n",
        "import numpy as np\n",
        "\n",
        "sales_campaigns['campaign id'] = sales_campaigns['campaign id'].astype('str')\n",
        "sales_campaigns['campaign id'] = sales_campaigns['campaign id'].fillna(0)\n",
        "camp_list= campaigns[['campaign id']]['campaign id'].unique().tolist()\n",
        "users_df=sales_campaigns[[\"user account\"]].drop_duplicates(subset='user account')#user and campaign\n",
        "\n",
        "users_df = pd.merge(users_df,all_users[['user account','customer name', 'mobile phone', 'birthday',\n",
        "       'perx registration date', 'state', 'email id', 'registration_source',\n",
        "       'registerd_by_merchant', 'address1', 'city', 'home', 'gender',\n",
        "       'nationality', 'valid_phone']],on=['user account'],how='left')\n",
        "\n",
        "user_camp = pd.concat([users_df.assign(campaignID=i) for i in camp_list], ignore_index=True)\n",
        "user_camp['campaignID'] = user_camp['campaignID'].astype('str')\n",
        "user_camp_is = pd.merge(user_camp,sales_campaigns[['user account', 'customer name', 'mobile phone', 'merchant name',\n",
        "       'campaign id', 'campaign name', 'participated_campaign_frequency',\n",
        "       'campaigns_point_earned', 'stamp_vouchers', 'stamp_expired_vouchers',\n",
        "       'game_vouchers', 'game_expired_vouchers']],how='left',\n",
        "                        left_on=['user account','campaignID'],right_on=['user account','campaign id'])\n",
        "\n",
        "user_camp_is['is participated?'] = np.where(user_camp_is['campaign id'].isnull(),0,1)\n",
        "del user_camp_is['campaign id']\n",
        "user_camp_is.rename(columns={'campaignID':'campaign id'}, inplace=True)\n",
        "\n",
        "\n",
        "unique_camp_name = campaigns[['campaign id','campaign name']].drop_duplicates(subset='campaign id')\n",
        "final_df = pd.merge(user_camp_is,unique_camp_name,how='left',on='campaign id')\n",
        "\n",
        "final_df = pd.merge(final_df,campaigns_by_user[['user account','total_campaign_participated']],on='user account',how='left')\n",
        "\n",
        "sales_by_user=sales.groupby([\"user account\"]).agg(total_sales_point=('sales_point_earned','sum')).reset_index()\n",
        "\n",
        "final_df = pd.merge(final_df,sales_by_user,on='user account',how='left')\n",
        "# final_df.to_csv(\"final_df.csv\",index=False)\n",
        "# print(final_df.head(100))\n",
        "\n"
      ],
      "id": "e74b3464"
    },
    {
      "cell_type": "code",
      "execution_count": null,
      "metadata": {
        "id": "28d58bdd",
        "outputId": "a2cdb9e1-7690-4ebc-eba4-06af6eac886d",
        "scrolled": false
      },
      "outputs": [
        {
          "data": {
            "text/plain": [
              "89422"
            ]
          },
          "execution_count": 75,
          "metadata": {},
          "output_type": "execute_result"
        }
      ],
      "source": [
        "len(final_df[final_df[\"is participated?\"]==1])\n",
        "#89422 =1\n",
        "#1852778 =0"
      ],
      "id": "28d58bdd"
    },
    {
      "cell_type": "code",
      "execution_count": null,
      "metadata": {
        "id": "f7326216",
        "outputId": "a0825283-7720-4b4b-f27c-48f15ea64a07",
        "scrolled": true
      },
      "outputs": [
        {
          "data": {
            "text/html": [
              "<div>\n",
              "<style scoped>\n",
              "    .dataframe tbody tr th:only-of-type {\n",
              "        vertical-align: middle;\n",
              "    }\n",
              "\n",
              "    .dataframe tbody tr th {\n",
              "        vertical-align: top;\n",
              "    }\n",
              "\n",
              "    .dataframe thead th {\n",
              "        text-align: right;\n",
              "    }\n",
              "</style>\n",
              "<table border=\"1\" class=\"dataframe\">\n",
              "  <thead>\n",
              "    <tr style=\"text-align: right;\">\n",
              "      <th></th>\n",
              "      <th>user account</th>\n",
              "      <th>campaign id</th>\n",
              "      <th>is participated?</th>\n",
              "      <th>campaign name</th>\n",
              "    </tr>\n",
              "  </thead>\n",
              "  <tbody>\n",
              "    <tr>\n",
              "      <th>0</th>\n",
              "      <td>10000229343-1669566523</td>\n",
              "      <td>1</td>\n",
              "      <td>0</td>\n",
              "      <td>Collect Stamps to get FREEBIES!</td>\n",
              "    </tr>\n",
              "    <tr>\n",
              "      <th>1</th>\n",
              "      <td>10002620537-1669567460</td>\n",
              "      <td>1</td>\n",
              "      <td>0</td>\n",
              "      <td>Collect Stamps to get FREEBIES!</td>\n",
              "    </tr>\n",
              "    <tr>\n",
              "      <th>2</th>\n",
              "      <td>10004198539-1669567706</td>\n",
              "      <td>1</td>\n",
              "      <td>0</td>\n",
              "      <td>Collect Stamps to get FREEBIES!</td>\n",
              "    </tr>\n",
              "    <tr>\n",
              "      <th>3</th>\n",
              "      <td>10005356280-1669568292</td>\n",
              "      <td>1</td>\n",
              "      <td>0</td>\n",
              "      <td>Collect Stamps to get FREEBIES!</td>\n",
              "    </tr>\n",
              "    <tr>\n",
              "      <th>4</th>\n",
              "      <td>1000654828-1669568476</td>\n",
              "      <td>1</td>\n",
              "      <td>0</td>\n",
              "      <td>Collect Stamps to get FREEBIES!</td>\n",
              "    </tr>\n",
              "  </tbody>\n",
              "</table>\n",
              "</div>"
            ],
            "text/plain": [
              "             user account  campaign id  is participated?  \\\n",
              "0  10000229343-1669566523            1                 0   \n",
              "1  10002620537-1669567460            1                 0   \n",
              "2  10004198539-1669567706            1                 0   \n",
              "3  10005356280-1669568292            1                 0   \n",
              "4   1000654828-1669568476            1                 0   \n",
              "\n",
              "                     campaign name  \n",
              "0  Collect Stamps to get FREEBIES!  \n",
              "1  Collect Stamps to get FREEBIES!  \n",
              "2  Collect Stamps to get FREEBIES!  \n",
              "3  Collect Stamps to get FREEBIES!  \n",
              "4  Collect Stamps to get FREEBIES!  "
            ]
          },
          "execution_count": 82,
          "metadata": {},
          "output_type": "execute_result"
        }
      ],
      "source": [
        "final_df.head()"
      ],
      "id": "f7326216"
    },
    {
      "cell_type": "code",
      "execution_count": null,
      "metadata": {
        "id": "c6be6a8a",
        "outputId": "be2bea57-976e-4624-a8e8-ee21cf43dec7",
        "scrolled": true
      },
      "outputs": [
        {
          "data": {
            "text/html": [
              "<div>\n",
              "<style scoped>\n",
              "    .dataframe tbody tr th:only-of-type {\n",
              "        vertical-align: middle;\n",
              "    }\n",
              "\n",
              "    .dataframe tbody tr th {\n",
              "        vertical-align: top;\n",
              "    }\n",
              "\n",
              "    .dataframe thead th {\n",
              "        text-align: right;\n",
              "    }\n",
              "</style>\n",
              "<table border=\"1\" class=\"dataframe\">\n",
              "  <thead>\n",
              "    <tr style=\"text-align: right;\">\n",
              "      <th></th>\n",
              "      <th>user account</th>\n",
              "      <th>customer name</th>\n",
              "      <th>mobile phone</th>\n",
              "      <th>merchant name</th>\n",
              "      <th>campaign id</th>\n",
              "      <th>campaign name</th>\n",
              "      <th>participated_campaign_frequency</th>\n",
              "      <th>campaigns_point_earned</th>\n",
              "      <th>stamp_vouchers</th>\n",
              "      <th>stamp_expired_vouchers</th>\n",
              "      <th>game_vouchers</th>\n",
              "      <th>game_expired_vouchers</th>\n",
              "      <th>participation status</th>\n",
              "      <th>sales_points_earned</th>\n",
              "      <th>Total campaign participated</th>\n",
              "    </tr>\n",
              "  </thead>\n",
              "  <tbody>\n",
              "    <tr>\n",
              "      <th>0</th>\n",
              "      <td>10000229343-1669566523</td>\n",
              "      <td>HlaingYamin Oo</td>\n",
              "      <td>959758771192</td>\n",
              "      <td>KFC</td>\n",
              "      <td>205</td>\n",
              "      <td>ရွှေကြက်ပေါင်ရှာမယ်</td>\n",
              "      <td>1</td>\n",
              "      <td>100</td>\n",
              "      <td>0</td>\n",
              "      <td>0</td>\n",
              "      <td>0</td>\n",
              "      <td>0</td>\n",
              "      <td>0</td>\n",
              "      <td>182.0</td>\n",
              "      <td>8.0</td>\n",
              "    </tr>\n",
              "    <tr>\n",
              "      <th>1</th>\n",
              "      <td>10000229343-1669566523</td>\n",
              "      <td>HlaingYamin Oo</td>\n",
              "      <td>959758771192</td>\n",
              "      <td>Pocket</td>\n",
              "      <td>24</td>\n",
              "      <td>Spin to Win</td>\n",
              "      <td>1</td>\n",
              "      <td>50</td>\n",
              "      <td>0</td>\n",
              "      <td>0</td>\n",
              "      <td>0</td>\n",
              "      <td>0</td>\n",
              "      <td>0</td>\n",
              "      <td>0.0</td>\n",
              "      <td>0.0</td>\n",
              "    </tr>\n",
              "    <tr>\n",
              "      <th>2</th>\n",
              "      <td>10000229343-1669566523</td>\n",
              "      <td>HlaingYamin Oo</td>\n",
              "      <td>959758771192</td>\n",
              "      <td>Star City</td>\n",
              "      <td>21</td>\n",
              "      <td>StarCity Spin The Wheel</td>\n",
              "      <td>7</td>\n",
              "      <td>510</td>\n",
              "      <td>0</td>\n",
              "      <td>0</td>\n",
              "      <td>0</td>\n",
              "      <td>0</td>\n",
              "      <td>0</td>\n",
              "      <td>0.0</td>\n",
              "      <td>8.0</td>\n",
              "    </tr>\n",
              "    <tr>\n",
              "      <th>3</th>\n",
              "      <td>10002620537-1669567460</td>\n",
              "      <td>PhoeAung</td>\n",
              "      <td>959987575510</td>\n",
              "      <td>KFC</td>\n",
              "      <td>99</td>\n",
              "      <td>Referral By partner</td>\n",
              "      <td>1</td>\n",
              "      <td>0</td>\n",
              "      <td>0</td>\n",
              "      <td>0</td>\n",
              "      <td>0</td>\n",
              "      <td>0</td>\n",
              "      <td>0</td>\n",
              "      <td>0.0</td>\n",
              "      <td>0.0</td>\n",
              "    </tr>\n",
              "    <tr>\n",
              "      <th>4</th>\n",
              "      <td>10000229343-1669566523</td>\n",
              "      <td>HlaingYamin Oo</td>\n",
              "      <td>959758771192</td>\n",
              "      <td>KFC</td>\n",
              "      <td>18</td>\n",
              "      <td>Bucket  ကြီးခွဲမယ်!</td>\n",
              "      <td>4</td>\n",
              "      <td>400</td>\n",
              "      <td>0</td>\n",
              "      <td>0</td>\n",
              "      <td>1</td>\n",
              "      <td>1</td>\n",
              "      <td>0</td>\n",
              "      <td>0.0</td>\n",
              "      <td>0.0</td>\n",
              "    </tr>\n",
              "  </tbody>\n",
              "</table>\n",
              "</div>"
            ],
            "text/plain": [
              "             user account   customer name  mobile phone merchant name  \\\n",
              "0  10000229343-1669566523  HlaingYamin Oo  959758771192           KFC   \n",
              "1  10000229343-1669566523  HlaingYamin Oo  959758771192        Pocket   \n",
              "2  10000229343-1669566523  HlaingYamin Oo  959758771192     Star City   \n",
              "3  10002620537-1669567460        PhoeAung  959987575510           KFC   \n",
              "4  10000229343-1669566523  HlaingYamin Oo  959758771192           KFC   \n",
              "\n",
              "   campaign id            campaign name  participated_campaign_frequency  \\\n",
              "0          205      ရွှေကြက်ပေါင်ရှာမယ်                                1   \n",
              "1           24              Spin to Win                                1   \n",
              "2           21  StarCity Spin The Wheel                                7   \n",
              "3           99      Referral By partner                                1   \n",
              "4           18      Bucket  ကြီးခွဲမယ်!                                4   \n",
              "\n",
              "   campaigns_point_earned  stamp_vouchers  stamp_expired_vouchers  \\\n",
              "0                     100               0                       0   \n",
              "1                      50               0                       0   \n",
              "2                     510               0                       0   \n",
              "3                       0               0                       0   \n",
              "4                     400               0                       0   \n",
              "\n",
              "   game_vouchers  game_expired_vouchers  participation status  \\\n",
              "0              0                      0                     0   \n",
              "1              0                      0                     0   \n",
              "2              0                      0                     0   \n",
              "3              0                      0                     0   \n",
              "4              1                      1                     0   \n",
              "\n",
              "   sales_points_earned  Total campaign participated  \n",
              "0                182.0                          8.0  \n",
              "1                  0.0                          0.0  \n",
              "2                  0.0                          8.0  \n",
              "3                  0.0                          0.0  \n",
              "4                  0.0                          0.0  "
            ]
          },
          "execution_count": 89,
          "metadata": {},
          "output_type": "execute_result"
        }
      ],
      "source": [
        "transactions.head()"
      ],
      "id": "c6be6a8a"
    },
    {
      "cell_type": "code",
      "execution_count": null,
      "metadata": {
        "id": "a3da99aa"
      },
      "outputs": [],
      "source": [
        "transactions['campaign id'] = pd.to_numeric(transactions['campaign id'],errors='coerce').astype('Int64')\n",
        "transactions['campaign id'] = transactions['campaign id'].fillna(0)\n",
        "final_data = pd.merge(final_df, transactions,\n",
        "                        how='left',left_on=['user account','campaign id'],right_on=['user account','campaign id'])"
      ],
      "id": "a3da99aa"
    },
    {
      "cell_type": "code",
      "execution_count": null,
      "metadata": {
        "id": "0dee2471",
        "outputId": "b931ddf4-28c7-409a-b30a-a8b208ec38bc"
      },
      "outputs": [
        {
          "data": {
            "text/plain": [
              "1942200"
            ]
          },
          "execution_count": 90,
          "metadata": {},
          "output_type": "execute_result"
        }
      ],
      "source": [
        "len(final_data.index)"
      ],
      "id": "0dee2471"
    },
    {
      "cell_type": "code",
      "execution_count": null,
      "metadata": {
        "id": "f99b34c9",
        "outputId": "dcb99e45-7c02-4f25-d9c5-d019fb362cb0"
      },
      "outputs": [
        {
          "data": {
            "text/html": [
              "<div>\n",
              "<style scoped>\n",
              "    .dataframe tbody tr th:only-of-type {\n",
              "        vertical-align: middle;\n",
              "    }\n",
              "\n",
              "    .dataframe tbody tr th {\n",
              "        vertical-align: top;\n",
              "    }\n",
              "\n",
              "    .dataframe thead th {\n",
              "        text-align: right;\n",
              "    }\n",
              "</style>\n",
              "<table border=\"1\" class=\"dataframe\">\n",
              "  <thead>\n",
              "    <tr style=\"text-align: right;\">\n",
              "      <th></th>\n",
              "      <th>user account</th>\n",
              "      <th>campaign id</th>\n",
              "      <th>is participated?</th>\n",
              "      <th>campaign name_x</th>\n",
              "      <th>customer name</th>\n",
              "      <th>mobile phone</th>\n",
              "      <th>merchant name</th>\n",
              "      <th>campaign name_y</th>\n",
              "      <th>participated_campaign_frequency</th>\n",
              "      <th>campaigns_point_earned</th>\n",
              "      <th>stamp_vouchers</th>\n",
              "      <th>stamp_expired_vouchers</th>\n",
              "      <th>game_vouchers</th>\n",
              "      <th>game_expired_vouchers</th>\n",
              "      <th>participation status</th>\n",
              "      <th>sales_points_earned</th>\n",
              "      <th>Total campaign participated</th>\n",
              "    </tr>\n",
              "  </thead>\n",
              "  <tbody>\n",
              "    <tr>\n",
              "      <th>0</th>\n",
              "      <td>10000229343-1669566523</td>\n",
              "      <td>1</td>\n",
              "      <td>0</td>\n",
              "      <td>Collect Stamps to get FREEBIES!</td>\n",
              "      <td>NaN</td>\n",
              "      <td>NaN</td>\n",
              "      <td>NaN</td>\n",
              "      <td>NaN</td>\n",
              "      <td>NaN</td>\n",
              "      <td>NaN</td>\n",
              "      <td>NaN</td>\n",
              "      <td>NaN</td>\n",
              "      <td>NaN</td>\n",
              "      <td>NaN</td>\n",
              "      <td>NaN</td>\n",
              "      <td>NaN</td>\n",
              "      <td>NaN</td>\n",
              "    </tr>\n",
              "    <tr>\n",
              "      <th>1</th>\n",
              "      <td>10002620537-1669567460</td>\n",
              "      <td>1</td>\n",
              "      <td>0</td>\n",
              "      <td>Collect Stamps to get FREEBIES!</td>\n",
              "      <td>NaN</td>\n",
              "      <td>NaN</td>\n",
              "      <td>NaN</td>\n",
              "      <td>NaN</td>\n",
              "      <td>NaN</td>\n",
              "      <td>NaN</td>\n",
              "      <td>NaN</td>\n",
              "      <td>NaN</td>\n",
              "      <td>NaN</td>\n",
              "      <td>NaN</td>\n",
              "      <td>NaN</td>\n",
              "      <td>NaN</td>\n",
              "      <td>NaN</td>\n",
              "    </tr>\n",
              "    <tr>\n",
              "      <th>2</th>\n",
              "      <td>10004198539-1669567706</td>\n",
              "      <td>1</td>\n",
              "      <td>0</td>\n",
              "      <td>Collect Stamps to get FREEBIES!</td>\n",
              "      <td>NaN</td>\n",
              "      <td>NaN</td>\n",
              "      <td>NaN</td>\n",
              "      <td>NaN</td>\n",
              "      <td>NaN</td>\n",
              "      <td>NaN</td>\n",
              "      <td>NaN</td>\n",
              "      <td>NaN</td>\n",
              "      <td>NaN</td>\n",
              "      <td>NaN</td>\n",
              "      <td>NaN</td>\n",
              "      <td>NaN</td>\n",
              "      <td>NaN</td>\n",
              "    </tr>\n",
              "    <tr>\n",
              "      <th>3</th>\n",
              "      <td>10005356280-1669568292</td>\n",
              "      <td>1</td>\n",
              "      <td>0</td>\n",
              "      <td>Collect Stamps to get FREEBIES!</td>\n",
              "      <td>NaN</td>\n",
              "      <td>NaN</td>\n",
              "      <td>NaN</td>\n",
              "      <td>NaN</td>\n",
              "      <td>NaN</td>\n",
              "      <td>NaN</td>\n",
              "      <td>NaN</td>\n",
              "      <td>NaN</td>\n",
              "      <td>NaN</td>\n",
              "      <td>NaN</td>\n",
              "      <td>NaN</td>\n",
              "      <td>NaN</td>\n",
              "      <td>NaN</td>\n",
              "    </tr>\n",
              "    <tr>\n",
              "      <th>4</th>\n",
              "      <td>1000654828-1669568476</td>\n",
              "      <td>1</td>\n",
              "      <td>0</td>\n",
              "      <td>Collect Stamps to get FREEBIES!</td>\n",
              "      <td>NaN</td>\n",
              "      <td>NaN</td>\n",
              "      <td>NaN</td>\n",
              "      <td>NaN</td>\n",
              "      <td>NaN</td>\n",
              "      <td>NaN</td>\n",
              "      <td>NaN</td>\n",
              "      <td>NaN</td>\n",
              "      <td>NaN</td>\n",
              "      <td>NaN</td>\n",
              "      <td>NaN</td>\n",
              "      <td>NaN</td>\n",
              "      <td>NaN</td>\n",
              "    </tr>\n",
              "  </tbody>\n",
              "</table>\n",
              "</div>"
            ],
            "text/plain": [
              "             user account  campaign id  is participated?  \\\n",
              "0  10000229343-1669566523            1                 0   \n",
              "1  10002620537-1669567460            1                 0   \n",
              "2  10004198539-1669567706            1                 0   \n",
              "3  10005356280-1669568292            1                 0   \n",
              "4   1000654828-1669568476            1                 0   \n",
              "\n",
              "                   campaign name_x customer name mobile phone merchant name  \\\n",
              "0  Collect Stamps to get FREEBIES!           NaN          NaN           NaN   \n",
              "1  Collect Stamps to get FREEBIES!           NaN          NaN           NaN   \n",
              "2  Collect Stamps to get FREEBIES!           NaN          NaN           NaN   \n",
              "3  Collect Stamps to get FREEBIES!           NaN          NaN           NaN   \n",
              "4  Collect Stamps to get FREEBIES!           NaN          NaN           NaN   \n",
              "\n",
              "  campaign name_y  participated_campaign_frequency  campaigns_point_earned  \\\n",
              "0             NaN                              NaN                     NaN   \n",
              "1             NaN                              NaN                     NaN   \n",
              "2             NaN                              NaN                     NaN   \n",
              "3             NaN                              NaN                     NaN   \n",
              "4             NaN                              NaN                     NaN   \n",
              "\n",
              "   stamp_vouchers  stamp_expired_vouchers  game_vouchers  \\\n",
              "0             NaN                     NaN            NaN   \n",
              "1             NaN                     NaN            NaN   \n",
              "2             NaN                     NaN            NaN   \n",
              "3             NaN                     NaN            NaN   \n",
              "4             NaN                     NaN            NaN   \n",
              "\n",
              "   game_expired_vouchers  participation status  sales_points_earned  \\\n",
              "0                    NaN                   NaN                  NaN   \n",
              "1                    NaN                   NaN                  NaN   \n",
              "2                    NaN                   NaN                  NaN   \n",
              "3                    NaN                   NaN                  NaN   \n",
              "4                    NaN                   NaN                  NaN   \n",
              "\n",
              "   Total campaign participated  \n",
              "0                          NaN  \n",
              "1                          NaN  \n",
              "2                          NaN  \n",
              "3                          NaN  \n",
              "4                          NaN  "
            ]
          },
          "execution_count": 93,
          "metadata": {},
          "output_type": "execute_result"
        }
      ],
      "source": [
        "final_data.head()"
      ],
      "id": "f99b34c9"
    },
    {
      "cell_type": "code",
      "execution_count": null,
      "metadata": {
        "id": "2b10e9a2"
      },
      "outputs": [],
      "source": [
        "# print(len(final_data[final_data[\"is participated?\"]==1]))\n",
        "# print(len(final_data[final_data[\"is participated?\"]==0]))"
      ],
      "id": "2b10e9a2"
    },
    {
      "cell_type": "markdown",
      "metadata": {
        "id": "pcuM3LAewFbE"
      },
      "source": [
        "## Campaign feaure data"
      ],
      "id": "pcuM3LAewFbE"
    },
    {
      "cell_type": "code",
      "execution_count": null,
      "metadata": {
        "id": "k61kagqSwQQQ"
      },
      "outputs": [],
      "source": [
        "campaign_feature=pd.read_csv('/content/drive/MyDrive/AI/Yoma/Yoma budget prediction/campaign_feature.csv',index_col=0)"
      ],
      "id": "k61kagqSwQQQ"
    },
    {
      "cell_type": "code",
      "execution_count": null,
      "metadata": {
        "colab": {
          "base_uri": "https://localhost:8080/"
        },
        "id": "54WLUMQRVRPD",
        "outputId": "bde4925b-eac9-4bd0-a558-4391515bb741"
      },
      "outputs": [
        {
          "output_type": "execute_result",
          "data": {
            "text/plain": [
              "Campaign ID                           0\n",
              "Campaign Name                         0\n",
              "Start Date                            0\n",
              "End Date                              1\n",
              "Campaign Type                         0\n",
              "Audience Type (Private or Public)     0\n",
              "Points/Rewards                        0\n",
              "Max Winning Probability               0\n",
              "Min Winning Probability              13\n",
              "Max Winning Rewards                   3\n",
              "Min Winning Rewards                  15\n",
              "Total Spending                       37\n",
              "Unnamed: 13                          43\n",
              "Unnamed: 14                          43\n",
              "Unnamed: 15                          43\n",
              "Unnamed: 16                          42\n",
              "dtype: int64"
            ]
          },
          "metadata": {},
          "execution_count": 5
        }
      ],
      "source": [
        "campaign_feature.isnull().sum()"
      ],
      "id": "54WLUMQRVRPD"
    },
    {
      "cell_type": "code",
      "execution_count": null,
      "metadata": {
        "id": "5rJL1oGk0H7g"
      },
      "outputs": [],
      "source": [
        "campaign_feature=campaign_feature.drop(['Unnamed: 13','Unnamed: 14','Unnamed: 15','Unnamed: 16','Total Spending'],axis=1)"
      ],
      "id": "5rJL1oGk0H7g"
    },
    {
      "cell_type": "code",
      "execution_count": null,
      "metadata": {
        "id": "sVRU8mxjVTeQ"
      },
      "outputs": [],
      "source": [
        "# campaign_feature.isnull().sum() #Missing and null values\n",
        "# len(final_3drop) #104754\n",
        "# final_3drop[\"campaign id\"]\n",
        "campaign_feature['End Date'].fillna(0,inplace=True)\n",
        "campaign_feature['Min Winning Probability'].fillna(0,inplace=True)\n",
        "campaign_feature['Max Winning Rewards'].fillna(0,inplace=True)\n",
        "campaign_feature['Min Winning Rewards'].fillna(0,inplace=True)\n",
        "# campaign_feature.fillna(0,inplace=True)"
      ],
      "id": "sVRU8mxjVTeQ"
    },
    {
      "cell_type": "markdown",
      "metadata": {
        "id": "BzlBZfTa6A_G"
      },
      "source": [
        "###Campaing duration extraction"
      ],
      "id": "BzlBZfTa6A_G"
    },
    {
      "cell_type": "code",
      "execution_count": null,
      "metadata": {
        "id": "cHj5ZoIj3C1q"
      },
      "outputs": [],
      "source": [
        "#On-going till 17 Feb only\n",
        "campaign_feature['End Date'] = campaign_feature['End Date'].replace('Ongoing', '17-Feb-23')"
      ],
      "id": "cHj5ZoIj3C1q"
    },
    {
      "cell_type": "code",
      "execution_count": null,
      "metadata": {
        "id": "0H3YclUFz7vg"
      },
      "outputs": [],
      "source": [
        "# convert date columns to datetime objects\n",
        "campaign_feature['Start Date'] = pd.to_datetime(campaign_feature['Start Date'])\n",
        "campaign_feature['End Date'] = pd.to_datetime(campaign_feature['End Date'])\n",
        "\n",
        "# calculate the duration between the two dates\n",
        "campaign_feature['duration'] = (campaign_feature['End Date'] - campaign_feature['Start Date']).dt.days\n",
        "\n",
        "# extract the number of days from the duration\n",
        "# campaign_feature['duration_days'] = campaign_feature['duration'].dt.days\n",
        "\n",
        "# print the dataframe\n",
        "# print(campaign_feature)"
      ],
      "id": "0H3YclUFz7vg"
    },
    {
      "cell_type": "code",
      "execution_count": null,
      "metadata": {
        "colab": {
          "base_uri": "https://localhost:8080/"
        },
        "id": "LUrnJYul6Iya",
        "outputId": "3449a900-12e4-4c25-9800-77908dab07f5"
      },
      "outputs": [
        {
          "output_type": "stream",
          "name": "stdout",
          "text": [
            "<class 'pandas.core.frame.DataFrame'>\n",
            "Int64Index: 43 entries, 55 to 42\n",
            "Data columns (total 12 columns):\n",
            " #   Column                             Non-Null Count  Dtype         \n",
            "---  ------                             --------------  -----         \n",
            " 0   Campaign ID                        43 non-null     object        \n",
            " 1   Campaign Name                      43 non-null     object        \n",
            " 2   Start Date                         43 non-null     datetime64[ns]\n",
            " 3   End Date                           43 non-null     datetime64[ns]\n",
            " 4   Campaign Type                      43 non-null     object        \n",
            " 5   Audience Type (Private or Public)  43 non-null     object        \n",
            " 6   Points/Rewards                     43 non-null     object        \n",
            " 7   Max Winning Probability            43 non-null     object        \n",
            " 8   Min Winning Probability            43 non-null     object        \n",
            " 9   Max Winning Rewards                43 non-null     object        \n",
            " 10  Min Winning Rewards                43 non-null     object        \n",
            " 11  duration                           43 non-null     int64         \n",
            "dtypes: datetime64[ns](2), int64(1), object(9)\n",
            "memory usage: 4.4+ KB\n"
          ]
        }
      ],
      "source": [
        "campaign_feature.info()"
      ],
      "id": "LUrnJYul6Iya"
    },
    {
      "cell_type": "markdown",
      "metadata": {
        "id": "ZSwzmhiUSRtJ"
      },
      "source": [
        "### Campaign type\n"
      ],
      "id": "ZSwzmhiUSRtJ"
    },
    {
      "cell_type": "code",
      "execution_count": null,
      "metadata": {
        "colab": {
          "base_uri": "https://localhost:8080/"
        },
        "id": "HapzIsgmQgZi",
        "outputId": "3890075e-d940-4439-ec4a-4d6945b760fe"
      },
      "outputs": [
        {
          "output_type": "execute_result",
          "data": {
            "text/plain": [
              "array(['Transaction', 'FREE', 'Seasonal Game', 'Transactions'],\n",
              "      dtype=object)"
            ]
          },
          "metadata": {},
          "execution_count": 11
        }
      ],
      "source": [
        "campaign_feature[\"Campaign Type\"].unique()\n"
      ],
      "id": "HapzIsgmQgZi"
    },
    {
      "cell_type": "code",
      "execution_count": null,
      "metadata": {
        "id": "n49CnX3wS-yy"
      },
      "outputs": [],
      "source": [
        "campaign_feature[\"Campaign Type\"] = campaign_feature[\"Campaign Type\"].replace('FREE', 'Free')\n",
        "campaign_feature[\"Campaign Type\"] = campaign_feature[\"Campaign Type\"].replace('Transaction', 'Transactions')"
      ],
      "id": "n49CnX3wS-yy"
    },
    {
      "cell_type": "code",
      "execution_count": null,
      "metadata": {
        "colab": {
          "base_uri": "https://localhost:8080/",
          "height": 282
        },
        "id": "oXLFjLafTiE5",
        "outputId": "174f2495-ef24-4ab5-a500-9a3cf414f9a0"
      },
      "outputs": [
        {
          "output_type": "execute_result",
          "data": {
            "text/plain": [
              "<AxesSubplot:>"
            ]
          },
          "metadata": {},
          "execution_count": 13
        },
        {
          "output_type": "display_data",
          "data": {
            "text/plain": [
              "<Figure size 432x288 with 1 Axes>"
            ],
            "image/png": "[encoded data removed]"
          },
          "metadata": {
            "needs_background": "light"
          }
        }
      ],
      "source": [
        "campaign_feature[\"Campaign Type\"].hist(bins=20)"
      ],
      "id": "oXLFjLafTiE5"
    },
    {
      "cell_type": "code",
      "execution_count": null,
      "metadata": {
        "id": "C0YZhZZA7xdX"
      },
      "outputs": [],
      "source": [
        "#One hot encoding as it's norminal \n",
        "\n",
        "# perform one-hot encoding\n",
        "one_hot = pd.get_dummies(campaign_feature[\"Campaign Type\"])\n",
        "\n",
        "# concatenate the one-hot encoded dataframe with the original dataframe\n",
        "campaign_feature = pd.concat([campaign_feature, one_hot], axis=1)\n",
        "\n"
      ],
      "id": "C0YZhZZA7xdX"
    },
    {
      "cell_type": "markdown",
      "metadata": {
        "id": "UF2elJpLUJLr"
      },
      "source": [
        "###Audience type\n"
      ],
      "id": "UF2elJpLUJLr"
    },
    {
      "cell_type": "code",
      "execution_count": null,
      "metadata": {
        "colab": {
          "base_uri": "https://localhost:8080/"
        },
        "id": "IvYhVj2QR2C-",
        "outputId": "ab38ee38-87df-4b4a-f28b-d6a209b70ebc"
      },
      "outputs": [
        {
          "output_type": "execute_result",
          "data": {
            "text/plain": [
              "array(['Public', 'Private'], dtype=object)"
            ]
          },
          "metadata": {},
          "execution_count": 15
        }
      ],
      "source": [
        "campaign_feature[\"Audience Type (Private or Public)\"].unique()"
      ],
      "id": "IvYhVj2QR2C-"
    },
    {
      "cell_type": "code",
      "execution_count": null,
      "metadata": {
        "colab": {
          "base_uri": "https://localhost:8080/",
          "height": 282
        },
        "id": "16B6ovDqUpTD",
        "outputId": "f643de97-4270-4a54-96bf-938175216d49"
      },
      "outputs": [
        {
          "output_type": "execute_result",
          "data": {
            "text/plain": [
              "<AxesSubplot:>"
            ]
          },
          "metadata": {},
          "execution_count": 16
        },
        {
          "output_type": "display_data",
          "data": {
            "text/plain": [
              "<Figure size 432x288 with 1 Axes>"
            ],
            "image/png": "[encoded data removed]"
          },
          "metadata": {
            "needs_background": "light"
          }
        }
      ],
      "source": [
        "campaign_feature[\"Audience Type (Private or Public)\"].hist(bins=20)"
      ],
      "id": "16B6ovDqUpTD"
    },
    {
      "cell_type": "code",
      "execution_count": null,
      "metadata": {
        "id": "mHOvc007T50w"
      },
      "outputs": [],
      "source": [
        "#One hot encoding as it's norminal \n",
        "\n",
        "# perform one-hot encoding\n",
        "one_hot = pd.get_dummies(campaign_feature[\"Audience Type (Private or Public)\"])\n",
        "\n",
        "# concatenate the one-hot encoded dataframe with the original dataframe\n",
        "campaign_feature = pd.concat([campaign_feature, one_hot], axis=1)\n",
        "\n"
      ],
      "id": "mHOvc007T50w"
    },
    {
      "cell_type": "markdown",
      "metadata": {
        "id": "npxdwnf03cCw"
      },
      "source": [
        "###Points/Rewards"
      ],
      "id": "npxdwnf03cCw"
    },
    {
      "cell_type": "code",
      "execution_count": null,
      "metadata": {
        "colab": {
          "base_uri": "https://localhost:8080/"
        },
        "id": "575vOugQ1aJS",
        "outputId": "8cab5b84-70db-492a-a444-20c60dbc2994"
      },
      "outputs": [
        {
          "output_type": "execute_result",
          "data": {
            "text/plain": [
              "array(['Rewards', 'Coins', 'Points', 'Coins/Rewards'], dtype=object)"
            ]
          },
          "metadata": {},
          "execution_count": 18
        }
      ],
      "source": [
        "campaign_feature[\"Points/Rewards\"].unique()"
      ],
      "id": "575vOugQ1aJS"
    },
    {
      "cell_type": "code",
      "execution_count": null,
      "metadata": {
        "colab": {
          "base_uri": "https://localhost:8080/",
          "height": 282
        },
        "id": "7g7p9EeJ3qwI",
        "outputId": "60704c43-b2a8-4c51-b61e-22d73f01dc7c"
      },
      "outputs": [
        {
          "output_type": "execute_result",
          "data": {
            "text/plain": [
              "<AxesSubplot:>"
            ]
          },
          "metadata": {},
          "execution_count": 19
        },
        {
          "output_type": "display_data",
          "data": {
            "text/plain": [
              "<Figure size 432x288 with 1 Axes>"
            ],
            "image/png": "[encoded data removed]"
          },
          "metadata": {
            "needs_background": "light"
          }
        }
      ],
      "source": [
        "campaign_feature[\"Points/Rewards\"].hist(bins=20)"
      ],
      "id": "7g7p9EeJ3qwI"
    },
    {
      "cell_type": "code",
      "execution_count": null,
      "metadata": {
        "id": "ml2Hvy3N3f4J"
      },
      "outputs": [],
      "source": [
        "campaign_feature[\"Points/Rewards\"] = campaign_feature[\"Points/Rewards\"].replace('Points', 'Coins')\n"
      ],
      "id": "ml2Hvy3N3f4J"
    },
    {
      "cell_type": "code",
      "execution_count": null,
      "metadata": {
        "id": "zEqq_ZuX6URB"
      },
      "outputs": [],
      "source": [
        "#One hot encoding as it's norminal \n",
        "\n",
        "# perform one-hot encoding\n",
        "one_hot = pd.get_dummies(campaign_feature[\"Points/Rewards\"])\n",
        "\n",
        "# concatenate the one-hot encoded dataframe with the original dataframe\n",
        "campaign_feature = pd.concat([campaign_feature, one_hot], axis=1)\n",
        "\n"
      ],
      "id": "zEqq_ZuX6URB"
    },
    {
      "cell_type": "markdown",
      "metadata": {
        "id": "tNm4F7Syt5io"
      },
      "source": [
        "###Max-Min Probability/rewards"
      ],
      "id": "tNm4F7Syt5io"
    },
    {
      "cell_type": "code",
      "execution_count": null,
      "metadata": {
        "id": "Vx4Wl6jvtj-1"
      },
      "outputs": [],
      "source": [
        "campaign_feature['Max Winning Rewards'] = pd.to_numeric(campaign_feature['Max Winning Rewards'].str.replace(',', '')) \n",
        "campaign_feature['Min Winning Rewards'] = pd.to_numeric(campaign_feature['Min Winning Rewards'].str.replace(',', '')) \n"
      ],
      "id": "Vx4Wl6jvtj-1"
    },
    {
      "cell_type": "code",
      "execution_count": null,
      "metadata": {
        "id": "k5N4GhEVio5m"
      },
      "outputs": [],
      "source": [
        "campaign_feature['Max Winning Probability'] = pd.to_numeric(campaign_feature['Max Winning Probability'].str.replace('%', '')) / 100\n",
        "campaign_feature['Min Winning Probability'] = pd.to_numeric(campaign_feature['Min Winning Probability'].str.replace('%', '')) / 100\n"
      ],
      "id": "k5N4GhEVio5m"
    },
    {
      "cell_type": "markdown",
      "metadata": {
        "id": "hyRs7syn1xvb"
      },
      "source": [
        "###Final campaign dataframe"
      ],
      "id": "hyRs7syn1xvb"
    },
    {
      "cell_type": "code",
      "execution_count": null,
      "metadata": {
        "id": "1ThHaoMp2EG3"
      },
      "outputs": [],
      "source": [
        "campaign=campaign_feature.drop(['Campaign Name','Start Date','End Date','Campaign Type','Audience Type (Private or Public)','Points/Rewards'],axis=1)"
      ],
      "id": "1ThHaoMp2EG3"
    },
    {
      "cell_type": "code",
      "execution_count": null,
      "metadata": {
        "id": "TEEWLEeQ4MJj"
      },
      "outputs": [],
      "source": [
        "campaign.fillna(0,inplace=True)"
      ],
      "id": "TEEWLEeQ4MJj"
    },
    {
      "cell_type": "code",
      "source": [
        "campaign.columns"
      ],
      "metadata": {
        "colab": {
          "base_uri": "https://localhost:8080/"
        },
        "id": "-1TzcamYkAFb",
        "outputId": "0ac0c7ec-0acd-4cb6-dcc7-d978bbbc84ec"
      },
      "id": "-1TzcamYkAFb",
      "execution_count": null,
      "outputs": [
        {
          "output_type": "execute_result",
          "data": {
            "text/plain": [
              "Index(['Campaign ID', 'Max Winning Probability', 'Min Winning Probability',\n",
              "       'Max Winning Rewards', 'Min Winning Rewards', 'duration', 'Free',\n",
              "       'Seasonal Game', 'Transactions', 'Private', 'Public', 'Coins',\n",
              "       'Coins/Rewards', 'Rewards'],\n",
              "      dtype='object')"
            ]
          },
          "metadata": {},
          "execution_count": 26
        }
      ]
    },
    {
      "cell_type": "code",
      "source": [
        "campaign_reset= campaign.reset_index(drop=True)\n"
      ],
      "metadata": {
        "id": "Am-4wZPblwR-"
      },
      "id": "Am-4wZPblwR-",
      "execution_count": null,
      "outputs": []
    },
    {
      "cell_type": "code",
      "execution_count": null,
      "metadata": {
        "id": "bEBBNSH3CxmF"
      },
      "outputs": [],
      "source": [
        "# Assume your data is in a dataframe called \"campaign\" with a column \"column_to_ignore\"\n",
        "column_to_ignore = ['Campaign ID','Free', 'Seasonal Game', 'Transactions', 'Private','Public', 'Coins', 'Coins/Rewards', 'Rewards']\n",
        "\n",
        "# Get the column names of the columns to be standardized\n",
        "cols_to_standardize = [col for col in campaign_reset.columns if col not in column_to_ignore]\n",
        "\n",
        "# Create a scaler object\n",
        "scaler = StandardScaler()\n",
        "\n",
        "# Standardize the columns to be standardized\n",
        "campaign_standardized = pd.DataFrame(scaler.fit_transform(campaign[cols_to_standardize]), columns=cols_to_standardize)\n",
        "\n",
        "# Add the column_to_ignore column back to the standardized data\n",
        "# campaign_standardized[column_to_ignore] = campaign[column_to_ignore]\n",
        "\n",
        "# Concatenate the original data and the standardized data along the column axis\n",
        "campaign_final = pd.concat([campaign_standardized, campaign_reset[column_to_ignore]], axis=1)\n"
      ],
      "id": "bEBBNSH3CxmF"
    },
    {
      "cell_type": "code",
      "execution_count": null,
      "metadata": {
        "id": "OJnnLgRoGszW"
      },
      "outputs": [],
      "source": [
        "# campaign_final_without_my_column = campaign_final.drop(columns=['Campaign ID'])\n",
        "\n",
        "# # Fill null values in the new DataFrame with 0\n",
        "# campaign_final_without_my_column = campaign_final_without_my_column.fillna(value=0)\n",
        "\n",
        "# # Add the 'my_column' column back to the DataFrame\n",
        "# # campaign_final['Campaign ID'] = campaign_final['Campaign ID']\n",
        "\n",
        "# # Alternatively, you can use pd.concat() to combine the two dataframes together\n",
        "# campaign_final_data= pd.concat([campaign_final_without_my_column, campaign_final['Campaign ID']], axis=1)"
      ],
      "id": "OJnnLgRoGszW"
    },
    {
      "cell_type": "code",
      "source": [
        "#add any rows that are to be removed\n",
        "campaign_final_drop = campaign_final[~campaign_final['Campaign ID'].isin(['170','R-305', '239','CT','CP','NT'])]\n"
      ],
      "metadata": {
        "id": "MOYvqkkcn1is"
      },
      "id": "MOYvqkkcn1is",
      "execution_count": null,
      "outputs": []
    },
    {
      "cell_type": "code",
      "source": [
        "#training data\n",
        "campaign_final_drop.to_csv('/content/drive/MyDrive/AI/Yoma/Yoma budget prediction/campaign_feature_standardized.csv', index=0)"
      ],
      "metadata": {
        "id": "f1cYXKM3oEb7"
      },
      "id": "f1cYXKM3oEb7",
      "execution_count": null,
      "outputs": []
    },
    {
      "cell_type": "code",
      "source": [
        "#Test data\n",
        "campaign_final[campaign_final[\"Campaign ID\"]==\"170\"].to_csv(\"/content/drive/MyDrive/AI/Yoma/Yoma budget prediction/Test data/170.csv\",index=False)\n",
        "campaign_final[campaign_final[\"Campaign ID\"]==\"R-305\"].to_csv(\"/content/drive/MyDrive/AI/Yoma/Yoma budget prediction/Test data/R-305.csv\",index=False)\n",
        "campaign_final[campaign_final[\"Campaign ID\"]==\"239\"].to_csv(\"/content/drive/MyDrive/AI/Yoma/Yoma budget prediction/Test data/239.csv\",index=False)\n",
        "campaign_final[campaign_final[\"Campaign ID\"]==\"CT\"].to_csv(\"/content/drive/MyDrive/AI/Yoma/Yoma budget prediction/Test data/CT.csv\",index=False)\n",
        "campaign_final[campaign_final[\"Campaign ID\"]==\"CP\"].to_csv(\"/content/drive/MyDrive/AI/Yoma/Yoma budget prediction/Test data/CP.csv\",index=False)\n",
        "campaign_final[campaign_final[\"Campaign ID\"]==\"NT\"].to_csv(\"/content/drive/MyDrive/AI/Yoma/Yoma budget prediction/Test data/NT.csv\",index=False)\n"
      ],
      "metadata": {
        "id": "1yJdBiiSG2U7"
      },
      "id": "1yJdBiiSG2U7",
      "execution_count": null,
      "outputs": []
    },
    {
      "cell_type": "markdown",
      "metadata": {
        "id": "xw0o53G6uOKd"
      },
      "source": [
        "##Final pocket user data"
      ],
      "id": "xw0o53G6uOKd"
    },
    {
      "cell_type": "code",
      "execution_count": null,
      "metadata": {
        "id": "d4fe1d7f"
      },
      "outputs": [],
      "source": [
        "# final_data.to_csv(\"C:/Users/shineminnkha/Documents/AI intern/Pocket data/final_data.csv\") # export to csv file on local machine(campaign data)final_data\n",
        "pocket_raw_raw=pd.read_csv('/content/drive/MyDrive/AI/Yoma/Yoma budget prediction/final_df.csv',index_col=0)"
      ],
      "id": "d4fe1d7f"
    },
    {
      "cell_type": "code",
      "execution_count": null,
      "metadata": {
        "colab": {
          "base_uri": "https://localhost:8080/"
        },
        "id": "P_zyIQJci3JE",
        "outputId": "f7a68c0d-d9fb-4bf7-dacf-260dfb640340"
      },
      "outputs": [
        {
          "output_type": "stream",
          "name": "stdout",
          "text": [
            "Int64Index([     36,    1065,    1078,    1264,    1586,    1692,    1786,\n",
            "               1922,    2086,    2150,\n",
            "            ...\n",
            "            2645821, 2645827, 2645846, 2656400, 2657746, 2658234, 2659121,\n",
            "            2659191, 2660178, 2661582],\n",
            "           dtype='int64', length=89901)\n"
          ]
        }
      ],
      "source": [
        "print(pocket_raw_raw[pocket_raw_raw[\"is participated?\"]==1].index)"
      ],
      "id": "P_zyIQJci3JE"
    },
    {
      "cell_type": "code",
      "source": [
        "print(len(pocket_raw_raw[pocket_raw_raw[\"is participated?\"]==1]))\n",
        "print(len(pocket_raw_raw[pocket_raw_raw[\"is participated?\"]==0]))\n",
        "\n",
        "#89422 =1\n",
        "#1852778 =0"
      ],
      "metadata": {
        "colab": {
          "base_uri": "https://localhost:8080/"
        },
        "id": "_VtvPQqkPA_R",
        "outputId": "bcce7f15-7c39-4040-e04b-d5690aba15e2"
      },
      "id": "_VtvPQqkPA_R",
      "execution_count": null,
      "outputs": [
        {
          "output_type": "stream",
          "name": "stdout",
          "text": [
            "89901\n",
            "2572119\n"
          ]
        }
      ]
    },
    {
      "cell_type": "code",
      "source": [
        "all_campaigns_by_user = pocket_raw_raw.groupby('user account').agg({'participated_campaign_frequency':'sum',\n",
        "  'campaigns_point_earned':'sum', 'stamp_vouchers':'sum', 'stamp_expired_vouchers':'sum', 'game_vouchers':'sum',\n",
        "  'game_expired_vouchers':'sum'}).reset_index()\n",
        "\n",
        "print(all_campaigns_by_user)\n",
        "\n",
        "pocket_raw = pd.merge(pocket_raw_raw[['user account', 'customer name_x', 'mobile phone_x', 'birthday',\n",
        "       'perx registration date', 'state', 'email id', 'registration_source',\n",
        "       'registerd_by_merchant', 'address1', 'city', 'home', 'gender',\n",
        "       'nationality', 'valid_phone', 'campaign id', 'customer name_y',\n",
        "       'mobile phone_y', 'merchant name', 'campaign name_x',\n",
        "       'is participated?', 'campaign name_y','total_campaign_participated',\n",
        "       'total_sales_point']],all_campaigns_by_user,on='user account',how='left')"
      ],
      "metadata": {
        "colab": {
          "base_uri": "https://localhost:8080/"
        },
        "id": "Ve82jpAOM314",
        "outputId": "e7b17c3b-9464-4f1e-c078-9fc25ddc1a34"
      },
      "id": "Ve82jpAOM314",
      "execution_count": null,
      "outputs": [
        {
          "output_type": "stream",
          "name": "stdout",
          "text": [
            "                 user account  participated_campaign_frequency  \\\n",
            "0      10000229343-1669566523                             28.0   \n",
            "1       1000195022-1669567054                              0.0   \n",
            "2      10002620537-1669567460                             67.0   \n",
            "3      10003593967-1669567470                              0.0   \n",
            "4      10004198539-1669567706                              0.0   \n",
            "...                       ...                              ...   \n",
            "44362   9999800424-1669566268                              0.0   \n",
            "44363                 9999999                             35.0   \n",
            "44364               test_perx                              0.0   \n",
            "44365             test_perx_2                              0.0   \n",
            "44366             test_perx_3                              0.0   \n",
            "\n",
            "       campaigns_point_earned  stamp_vouchers  stamp_expired_vouchers  \\\n",
            "0                      2200.0             0.0                     0.0   \n",
            "1                         0.0             0.0                     0.0   \n",
            "2                      5170.0             0.0                     0.0   \n",
            "3                         0.0             0.0                     0.0   \n",
            "4                         0.0             0.0                     0.0   \n",
            "...                       ...             ...                     ...   \n",
            "44362                     0.0             0.0                     0.0   \n",
            "44363                  7110.0             8.0                     2.0   \n",
            "44364                     0.0             0.0                     0.0   \n",
            "44365                     0.0             0.0                     0.0   \n",
            "44366                     0.0             0.0                     0.0   \n",
            "\n",
            "       game_vouchers  game_expired_vouchers  \n",
            "0                2.0                    1.0  \n",
            "1                0.0                    0.0  \n",
            "2                3.0                    0.0  \n",
            "3                0.0                    0.0  \n",
            "4                0.0                    0.0  \n",
            "...              ...                    ...  \n",
            "44362            0.0                    0.0  \n",
            "44363            6.0                    2.0  \n",
            "44364            0.0                    0.0  \n",
            "44365            0.0                    0.0  \n",
            "44366            0.0                    0.0  \n",
            "\n",
            "[44367 rows x 7 columns]\n"
          ]
        }
      ]
    },
    {
      "cell_type": "code",
      "source": [
        "len(pocket_raw.index)"
      ],
      "metadata": {
        "colab": {
          "base_uri": "https://localhost:8080/"
        },
        "id": "89rMI-KsXQ-J",
        "outputId": "43848484-ea4a-41b8-c459-5d7ad9ab7c48"
      },
      "id": "89rMI-KsXQ-J",
      "execution_count": null,
      "outputs": [
        {
          "output_type": "execute_result",
          "data": {
            "text/plain": [
              "2662020"
            ]
          },
          "metadata": {},
          "execution_count": 38
        }
      ]
    },
    {
      "cell_type": "code",
      "source": [
        "pocket_raw.columns"
      ],
      "metadata": {
        "colab": {
          "base_uri": "https://localhost:8080/"
        },
        "id": "x5AfomKgcR8_",
        "outputId": "7b8da9a3-b2de-4ab1-89c5-a22a993c3fba"
      },
      "id": "x5AfomKgcR8_",
      "execution_count": null,
      "outputs": [
        {
          "output_type": "execute_result",
          "data": {
            "text/plain": [
              "Index(['user account', 'customer name_x', 'mobile phone_x', 'birthday',\n",
              "       'perx registration date', 'state', 'email id', 'registration_source',\n",
              "       'registerd_by_merchant', 'address1', 'city', 'home', 'gender',\n",
              "       'nationality', 'valid_phone', 'campaign id', 'customer name_y',\n",
              "       'mobile phone_y', 'merchant name', 'campaign name_x',\n",
              "       'is participated?', 'campaign name_y', 'total_campaign_participated',\n",
              "       'total_sales_point', 'participated_campaign_frequency',\n",
              "       'campaigns_point_earned', 'stamp_vouchers', 'stamp_expired_vouchers',\n",
              "       'game_vouchers', 'game_expired_vouchers'],\n",
              "      dtype='object')"
            ]
          },
          "metadata": {},
          "execution_count": 39
        }
      ]
    },
    {
      "cell_type": "code",
      "source": [
        "pocket_raw['user account']=='10000229343-1669566523'\n",
        "unique_values = pocket_raw[pocket_raw['user account'] == '10000229343-1669566523']['campaign id'].unique()"
      ],
      "metadata": {
        "id": "pokHPZMNdHza"
      },
      "id": "pokHPZMNdHza",
      "execution_count": null,
      "outputs": []
    },
    {
      "cell_type": "code",
      "source": [
        "len(unique_values)"
      ],
      "metadata": {
        "colab": {
          "base_uri": "https://localhost:8080/"
        },
        "id": "uHnB7evYs12u",
        "outputId": "37c72673-cd59-41a2-a694-2786e0124d62"
      },
      "id": "uHnB7evYs12u",
      "execution_count": null,
      "outputs": [
        {
          "output_type": "execute_result",
          "data": {
            "text/plain": [
              "60"
            ]
          },
          "metadata": {},
          "execution_count": 41
        }
      ]
    },
    {
      "cell_type": "code",
      "source": [
        "2582590+76130"
      ],
      "metadata": {
        "colab": {
          "base_uri": "https://localhost:8080/"
        },
        "id": "DIr5EP84rImz",
        "outputId": "6f844091-1888-40ff-8ab1-1608ba685d6d"
      },
      "id": "DIr5EP84rImz",
      "execution_count": null,
      "outputs": [
        {
          "output_type": "execute_result",
          "data": {
            "text/plain": [
              "2658720"
            ]
          },
          "metadata": {},
          "execution_count": 42
        }
      ]
    },
    {
      "cell_type": "code",
      "source": [
        "# 2658720-2122200\n",
        "# 536520 extra data\n"
      ],
      "metadata": {
        "id": "zErzNhtwt19H"
      },
      "id": "zErzNhtwt19H",
      "execution_count": null,
      "outputs": []
    },
    {
      "cell_type": "code",
      "source": [
        "pocket_raw.isnull().sum()"
      ],
      "metadata": {
        "colab": {
          "base_uri": "https://localhost:8080/"
        },
        "id": "fCGHVXFlPcTX",
        "outputId": "ce74a599-70f4-4682-aaac-751cc6f82bab"
      },
      "id": "fCGHVXFlPcTX",
      "execution_count": null,
      "outputs": [
        {
          "output_type": "execute_result",
          "data": {
            "text/plain": [
              "user account                             0\n",
              "customer name_x                     539820\n",
              "mobile phone_x                      539880\n",
              "birthday                            540060\n",
              "perx registration date              539820\n",
              "state                               539820\n",
              "email id                            540060\n",
              "registration_source                 539820\n",
              "registerd_by_merchant              2662020\n",
              "address1                           2662020\n",
              "city                               2662020\n",
              "home                               2662020\n",
              "gender                              539880\n",
              "nationality                        2662020\n",
              "valid_phone                         539820\n",
              "campaign id                              0\n",
              "customer name_y                    2572119\n",
              "mobile phone_y                     2572119\n",
              "merchant name                      2572119\n",
              "campaign name_x                    2572119\n",
              "is participated?                         0\n",
              "campaign name_y                          0\n",
              "total_campaign_participated              0\n",
              "total_sales_point                        0\n",
              "participated_campaign_frequency          0\n",
              "campaigns_point_earned                   0\n",
              "stamp_vouchers                           0\n",
              "stamp_expired_vouchers                   0\n",
              "game_vouchers                            0\n",
              "game_expired_vouchers                    0\n",
              "dtype: int64"
            ]
          },
          "metadata": {},
          "execution_count": 44
        }
      ]
    },
    {
      "cell_type": "markdown",
      "metadata": {
        "id": "LGM4KFC-dtYC"
      },
      "source": [
        "###data preprocessing for pocket data"
      ],
      "id": "LGM4KFC-dtYC"
    },
    {
      "cell_type": "code",
      "source": [
        "pocket_raw_without_my_column = pocket_raw.drop(columns=['gender'])\n",
        "\n",
        "# Fill null values in the new rawFrame with 0\n",
        "pocket_raw_without_my_column = pocket_raw_without_my_column.fillna(value=0)\n",
        "\n",
        "# Add the 'my_column' column back to the rawFrame\n",
        "# pocket_raw['Campaign ID'] = pocket_raw['Campaign ID']\n",
        "\n",
        "# Alternatively, you can use pd.concat() to combine the two rawframes together\n",
        "pocket_data_data= pd.concat([pocket_raw_without_my_column, pocket_raw['gender']], axis=1)"
      ],
      "metadata": {
        "id": "BqnxGN1mdHpV"
      },
      "id": "BqnxGN1mdHpV",
      "execution_count": null,
      "outputs": []
    },
    {
      "cell_type": "code",
      "source": [
        "#One hot encoding as it's norminal\n",
        "# perform one-hot encoding\n",
        "one_hot = pd.get_dummies(pocket_data_data[\"gender\"])\n",
        "\n",
        "# concatenate the one-hot encoded dataframe with the original dataframe\n",
        "pocket_without_gender = pd.concat([pocket_data_data, one_hot], axis=1)\n"
      ],
      "metadata": {
        "id": "2xVc9XKwlwsp"
      },
      "id": "2xVc9XKwlwsp",
      "execution_count": null,
      "outputs": []
    },
    {
      "cell_type": "code",
      "source": [
        "pocket_without_gender.head()"
      ],
      "metadata": {
        "colab": {
          "base_uri": "https://localhost:8080/",
          "height": 438
        },
        "id": "WHg7fMxVx8XS",
        "outputId": "29c4f6d6-be17-4b54-979d-d1fe7ba0f53d"
      },
      "id": "WHg7fMxVx8XS",
      "execution_count": null,
      "outputs": [
        {
          "output_type": "execute_result",
          "data": {
            "text/plain": [
              "             user account     customer name_x  mobile phone_x    birthday  \\\n",
              "0  10000229343-1669566523   \" HlaingYamin Oo\"    9.597588e+11  2001-05-25   \n",
              "1  10002620537-1669567460         \" PhoeAung\"    9.599876e+11  1993-03-27   \n",
              "2   1000195022-1669567054         \" MinKhant\"    9.597525e+11  2005-04-05   \n",
              "3  10003593967-1669567470                   0    0.000000e+00           0   \n",
              "4  10005356280-1669568292  \" kaung htetnaing\"    9.599581e+11  2002-07-07   \n",
              "\n",
              "  perx registration date   state               email id registration_source  \\\n",
              "0    2022-11-27 22:58:43  active    xenom4249@gmail.com         sign_up_api   \n",
              "1    2022-11-27 23:14:20  active    min977776@gmail.com         sign_up_api   \n",
              "2    2022-11-27 23:07:35  active  minkhant421@gmail.com         sign_up_api   \n",
              "3                      0       0                      0                   0   \n",
              "4    2022-11-27 23:28:12  active      htetk73@gmail.com         sign_up_api   \n",
              "\n",
              "   registerd_by_merchant  address1  ...  total_sales_point  \\\n",
              "0                    0.0       0.0  ...                  0   \n",
              "1                    0.0       0.0  ...                  0   \n",
              "2                    0.0       0.0  ...                  0   \n",
              "3                    0.0       0.0  ...                  0   \n",
              "4                    0.0       0.0  ...                 42   \n",
              "\n",
              "   participated_campaign_frequency  campaigns_point_earned stamp_vouchers  \\\n",
              "0                             28.0                  2200.0            0.0   \n",
              "1                             67.0                  5170.0            0.0   \n",
              "2                              0.0                     0.0            0.0   \n",
              "3                              0.0                     0.0            0.0   \n",
              "4                             66.0                  6850.0            0.0   \n",
              "\n",
              "  stamp_expired_vouchers game_vouchers game_expired_vouchers gender  f  m  \n",
              "0                    0.0           2.0                   1.0      f  1  0  \n",
              "1                    0.0           3.0                   0.0      m  0  1  \n",
              "2                    0.0           0.0                   0.0      f  1  0  \n",
              "3                    0.0           0.0                   0.0    NaN  0  0  \n",
              "4                    0.0           3.0                   0.0      m  0  1  \n",
              "\n",
              "[5 rows x 32 columns]"
            ],
            "text/html": [
              "\n",
              "  <div id=\"df-07ade867-4a4d-46aa-b47f-0613c23b790a\">\n",
              "    <div class=\"colab-df-container\">\n",
              "      <div>\n",
              "<style scoped>\n",
              "    .dataframe tbody tr th:only-of-type {\n",
              "        vertical-align: middle;\n",
              "    }\n",
              "\n",
              "    .dataframe tbody tr th {\n",
              "        vertical-align: top;\n",
              "    }\n",
              "\n",
              "    .dataframe thead th {\n",
              "        text-align: right;\n",
              "    }\n",
              "</style>\n",
              "<table border=\"1\" class=\"dataframe\">\n",
              "  <thead>\n",
              "    <tr style=\"text-align: right;\">\n",
              "      <th></th>\n",
              "      <th>user account</th>\n",
              "      <th>customer name_x</th>\n",
              "      <th>mobile phone_x</th>\n",
              "      <th>birthday</th>\n",
              "      <th>perx registration date</th>\n",
              "      <th>state</th>\n",
              "      <th>email id</th>\n",
              "      <th>registration_source</th>\n",
              "      <th>registerd_by_merchant</th>\n",
              "      <th>address1</th>\n",
              "      <th>...</th>\n",
              "      <th>total_sales_point</th>\n",
              "      <th>participated_campaign_frequency</th>\n",
              "      <th>campaigns_point_earned</th>\n",
              "      <th>stamp_vouchers</th>\n",
              "      <th>stamp_expired_vouchers</th>\n",
              "      <th>game_vouchers</th>\n",
              "      <th>game_expired_vouchers</th>\n",
              "      <th>gender</th>\n",
              "      <th>f</th>\n",
              "      <th>m</th>\n",
              "    </tr>\n",
              "  </thead>\n",
              "  <tbody>\n",
              "    <tr>\n",
              "      <th>0</th>\n",
              "      <td>10000229343-1669566523</td>\n",
              "      <td>\" HlaingYamin Oo\"</td>\n",
              "      <td>9.597588e+11</td>\n",
              "      <td>2001-05-25</td>\n",
              "      <td>2022-11-27 22:58:43</td>\n",
              "      <td>active</td>\n",
              "      <td>xenom4249@gmail.com</td>\n",
              "      <td>sign_up_api</td>\n",
              "      <td>0.0</td>\n",
              "      <td>0.0</td>\n",
              "      <td>...</td>\n",
              "      <td>0</td>\n",
              "      <td>28.0</td>\n",
              "      <td>2200.0</td>\n",
              "      <td>0.0</td>\n",
              "      <td>0.0</td>\n",
              "      <td>2.0</td>\n",
              "      <td>1.0</td>\n",
              "      <td>f</td>\n",
              "      <td>1</td>\n",
              "      <td>0</td>\n",
              "    </tr>\n",
              "    <tr>\n",
              "      <th>1</th>\n",
              "      <td>10002620537-1669567460</td>\n",
              "      <td>\" PhoeAung\"</td>\n",
              "      <td>9.599876e+11</td>\n",
              "      <td>1993-03-27</td>\n",
              "      <td>2022-11-27 23:14:20</td>\n",
              "      <td>active</td>\n",
              "      <td>min977776@gmail.com</td>\n",
              "      <td>sign_up_api</td>\n",
              "      <td>0.0</td>\n",
              "      <td>0.0</td>\n",
              "      <td>...</td>\n",
              "      <td>0</td>\n",
              "      <td>67.0</td>\n",
              "      <td>5170.0</td>\n",
              "      <td>0.0</td>\n",
              "      <td>0.0</td>\n",
              "      <td>3.0</td>\n",
              "      <td>0.0</td>\n",
              "      <td>m</td>\n",
              "      <td>0</td>\n",
              "      <td>1</td>\n",
              "    </tr>\n",
              "    <tr>\n",
              "      <th>2</th>\n",
              "      <td>1000195022-1669567054</td>\n",
              "      <td>\" MinKhant\"</td>\n",
              "      <td>9.597525e+11</td>\n",
              "      <td>2005-04-05</td>\n",
              "      <td>2022-11-27 23:07:35</td>\n",
              "      <td>active</td>\n",
              "      <td>minkhant421@gmail.com</td>\n",
              "      <td>sign_up_api</td>\n",
              "      <td>0.0</td>\n",
              "      <td>0.0</td>\n",
              "      <td>...</td>\n",
              "      <td>0</td>\n",
              "      <td>0.0</td>\n",
              "      <td>0.0</td>\n",
              "      <td>0.0</td>\n",
              "      <td>0.0</td>\n",
              "      <td>0.0</td>\n",
              "      <td>0.0</td>\n",
              "      <td>f</td>\n",
              "      <td>1</td>\n",
              "      <td>0</td>\n",
              "    </tr>\n",
              "    <tr>\n",
              "      <th>3</th>\n",
              "      <td>10003593967-1669567470</td>\n",
              "      <td>0</td>\n",
              "      <td>0.000000e+00</td>\n",
              "      <td>0</td>\n",
              "      <td>0</td>\n",
              "      <td>0</td>\n",
              "      <td>0</td>\n",
              "      <td>0</td>\n",
              "      <td>0.0</td>\n",
              "      <td>0.0</td>\n",
              "      <td>...</td>\n",
              "      <td>0</td>\n",
              "      <td>0.0</td>\n",
              "      <td>0.0</td>\n",
              "      <td>0.0</td>\n",
              "      <td>0.0</td>\n",
              "      <td>0.0</td>\n",
              "      <td>0.0</td>\n",
              "      <td>NaN</td>\n",
              "      <td>0</td>\n",
              "      <td>0</td>\n",
              "    </tr>\n",
              "    <tr>\n",
              "      <th>4</th>\n",
              "      <td>10005356280-1669568292</td>\n",
              "      <td>\" kaung htetnaing\"</td>\n",
              "      <td>9.599581e+11</td>\n",
              "      <td>2002-07-07</td>\n",
              "      <td>2022-11-27 23:28:12</td>\n",
              "      <td>active</td>\n",
              "      <td>htetk73@gmail.com</td>\n",
              "      <td>sign_up_api</td>\n",
              "      <td>0.0</td>\n",
              "      <td>0.0</td>\n",
              "      <td>...</td>\n",
              "      <td>42</td>\n",
              "      <td>66.0</td>\n",
              "      <td>6850.0</td>\n",
              "      <td>0.0</td>\n",
              "      <td>0.0</td>\n",
              "      <td>3.0</td>\n",
              "      <td>0.0</td>\n",
              "      <td>m</td>\n",
              "      <td>0</td>\n",
              "      <td>1</td>\n",
              "    </tr>\n",
              "  </tbody>\n",
              "</table>\n",
              "<p>5 rows × 32 columns</p>\n",
              "</div>\n",
              "      <button class=\"colab-df-convert\" onclick=\"convertToInteractive('df-07ade867-4a4d-46aa-b47f-0613c23b790a')\"\n",
              "              title=\"Convert this dataframe to an interactive table.\"\n",
              "              style=\"display:none;\">\n",
              "        \n",
              "  <svg xmlns=\"http://www.w3.org/2000/svg\" height=\"24px\"viewBox=\"0 0 24 24\"\n",
              "       width=\"24px\">\n",
              "    <path d=\"M0 0h24v24H0V0z\" fill=\"none\"/>\n",
              "    <path d=\"M18.56 5.44l.94 2.06.94-2.06 2.06-.94-2.06-.94-.94-2.06-.94 2.06-2.06.94zm-11 1L8.5 8.5l.94-2.06 2.06-.94-2.06-.94L8.5 2.5l-.94 2.06-2.06.94zm10 10l.94 2.06.94-2.06 2.06-.94-2.06-.94-.94-2.06-.94 2.06-2.06.94z\"/><path d=\"M17.41 7.96l-1.37-1.37c-.4-.4-.92-.59-1.43-.59-.52 0-1.04.2-1.43.59L10.3 9.45l-7.72 7.72c-.78.78-.78 2.05 0 2.83L4 21.41c.39.39.9.59 1.41.59.51 0 1.02-.2 1.41-.59l7.78-7.78 2.81-2.81c.8-.78.8-2.07 0-2.86zM5.41 20L4 18.59l7.72-7.72 1.47 1.35L5.41 20z\"/>\n",
              "  </svg>\n",
              "      </button>\n",
              "      \n",
              "  <style>\n",
              "    .colab-df-container {\n",
              "      display:flex;\n",
              "      flex-wrap:wrap;\n",
              "      gap: 12px;\n",
              "    }\n",
              "\n",
              "    .colab-df-convert {\n",
              "      background-color: #E8F0FE;\n",
              "      border: none;\n",
              "      border-radius: 50%;\n",
              "      cursor: pointer;\n",
              "      display: none;\n",
              "      fill: #1967D2;\n",
              "      height: 32px;\n",
              "      padding: 0 0 0 0;\n",
              "      width: 32px;\n",
              "    }\n",
              "\n",
              "    .colab-df-convert:hover {\n",
              "      background-color: #E2EBFA;\n",
              "      box-shadow: 0px 1px 2px rgba(60, 64, 67, 0.3), 0px 1px 3px 1px rgba(60, 64, 67, 0.15);\n",
              "      fill: #174EA6;\n",
              "    }\n",
              "\n",
              "    [theme=dark] .colab-df-convert {\n",
              "      background-color: #3B4455;\n",
              "      fill: #D2E3FC;\n",
              "    }\n",
              "\n",
              "    [theme=dark] .colab-df-convert:hover {\n",
              "      background-color: #434B5C;\n",
              "      box-shadow: 0px 1px 3px 1px rgba(0, 0, 0, 0.15);\n",
              "      filter: drop-shadow(0px 1px 2px rgba(0, 0, 0, 0.3));\n",
              "      fill: #FFFFFF;\n",
              "    }\n",
              "  </style>\n",
              "\n",
              "      <script>\n",
              "        const buttonEl =\n",
              "          document.querySelector('#df-07ade867-4a4d-46aa-b47f-0613c23b790a button.colab-df-convert');\n",
              "        buttonEl.style.display =\n",
              "          google.colab.kernel.accessAllowed ? 'block' : 'none';\n",
              "\n",
              "        async function convertToInteractive(key) {\n",
              "          const element = document.querySelector('#df-07ade867-4a4d-46aa-b47f-0613c23b790a');\n",
              "          const dataTable =\n",
              "            await google.colab.kernel.invokeFunction('convertToInteractive',\n",
              "                                                     [key], {});\n",
              "          if (!dataTable) return;\n",
              "\n",
              "          const docLinkHtml = 'Like what you see? Visit the ' +\n",
              "            '<a target=\"_blank\" href=https://colab.research.google.com/notebooks/data_table.ipynb>data table notebook</a>'\n",
              "            + ' to learn more about interactive tables.';\n",
              "          element.innerHTML = '';\n",
              "          dataTable['output_type'] = 'display_data';\n",
              "          await google.colab.output.renderOutput(dataTable, element);\n",
              "          const docLink = document.createElement('div');\n",
              "          docLink.innerHTML = docLinkHtml;\n",
              "          element.appendChild(docLink);\n",
              "        }\n",
              "      </script>\n",
              "    </div>\n",
              "  </div>\n",
              "  "
            ]
          },
          "metadata": {},
          "execution_count": 47
        }
      ]
    },
    {
      "cell_type": "code",
      "source": [
        "pocket_df=pocket_without_gender.drop(['customer name_x', 'mobile phone_x', 'birthday',\n",
        "       'perx registration date', 'state', 'email id', 'registration_source','gender',\n",
        "       'registerd_by_merchant', 'address1', 'city', 'home',\n",
        "       'nationality', 'valid_phone', 'customer name_y',\n",
        "       'mobile phone_y', 'merchant name', 'campaign name_x',\n",
        "       'campaign name_y'],axis=1)"
      ],
      "metadata": {
        "id": "gme0qHLPSE9Q"
      },
      "id": "gme0qHLPSE9Q",
      "execution_count": null,
      "outputs": []
    },
    {
      "cell_type": "code",
      "source": [
        "pocket_df.info()"
      ],
      "metadata": {
        "colab": {
          "base_uri": "https://localhost:8080/"
        },
        "id": "6wZJiPy9Sytc",
        "outputId": "67c0943f-e52e-45bb-80f6-e4b3ef9ddfca"
      },
      "id": "6wZJiPy9Sytc",
      "execution_count": null,
      "outputs": [
        {
          "output_type": "stream",
          "name": "stdout",
          "text": [
            "<class 'pandas.core.frame.DataFrame'>\n",
            "Int64Index: 2662020 entries, 0 to 2662019\n",
            "Data columns (total 13 columns):\n",
            " #   Column                           Dtype  \n",
            "---  ------                           -----  \n",
            " 0   user account                     object \n",
            " 1   campaign id                      object \n",
            " 2   is participated?                 int64  \n",
            " 3   total_campaign_participated      int64  \n",
            " 4   total_sales_point                int64  \n",
            " 5   participated_campaign_frequency  float64\n",
            " 6   campaigns_point_earned           float64\n",
            " 7   stamp_vouchers                   float64\n",
            " 8   stamp_expired_vouchers           float64\n",
            " 9   game_vouchers                    float64\n",
            " 10  game_expired_vouchers            float64\n",
            " 11  f                                uint8  \n",
            " 12  m                                uint8  \n",
            "dtypes: float64(6), int64(3), object(2), uint8(2)\n",
            "memory usage: 248.8+ MB\n"
          ]
        }
      ]
    },
    {
      "cell_type": "code",
      "execution_count": null,
      "metadata": {
        "id": "e3b7bb7d"
      },
      "outputs": [],
      "source": [
        "# # final_data[\"user account\"] = pd.to_numeric(final_data[\"user account\"])\n",
        "# # final_data= final_data.astype({\"merchant name\":'category', \"campaign name\":'category'})\n",
        "# # final_data[\"user account\"].astype(str).astype(int)\n",
        "# # OneHotEncoder().fit_transform(final_data[\"merchant name\"])\n",
        "\n",
        "# categ = ['merchant name']\n",
        "\n",
        "# # Encode Categorical Columns\n",
        "# le = LabelEncoder()\n",
        "# pocket_df[categ] = pocket_df[categ].apply(le.fit_transform)\n",
        "\n",
        "# #view final df\n",
        "# # convert to category or numerical value for merchant name, campaign name"
      ],
      "id": "e3b7bb7d"
    },
    {
      "cell_type": "markdown",
      "source": [
        "###Standardization for pocket"
      ],
      "metadata": {
        "id": "XmaK-P0kJi96"
      },
      "id": "XmaK-P0kJi96"
    },
    {
      "cell_type": "code",
      "source": [
        "# Assume your data is in a dataframe called \"pocket\" with a column \"column_to_ignore\"\n",
        "column_to_ignore = ['user account','campaign id','f','m','is participated?']\n",
        "# Get the column names of the columns to be standardized\n",
        "cols_to_standardize = [col for col in pocket_df.columns if col not in column_to_ignore]\n",
        "\n",
        "# Create a scaler object\n",
        "scaler = StandardScaler()\n",
        "\n",
        "# Standardize the columns to be standardized\n",
        "standardized_pocket = pd.DataFrame(scaler.fit_transform(pocket_df[cols_to_standardize]), columns=cols_to_standardize)\n",
        "\n",
        "# Add the column_to_ignore column back to the standardized data\n",
        "# pocket_standardized[column_to_ignore] = pocket[column_to_ignore]\n",
        "\n",
        "# Concatenate the original data and the standardized data along the column axis\n",
        "pocket_standardized = pd.concat([standardized_pocket, pocket_df[column_to_ignore]], axis=1)\n"
      ],
      "metadata": {
        "id": "tJpIPfgNJum7"
      },
      "id": "tJpIPfgNJum7",
      "execution_count": null,
      "outputs": []
    },
    {
      "cell_type": "code",
      "source": [
        "pocket_standardized.isnull().sum()"
      ],
      "metadata": {
        "colab": {
          "base_uri": "https://localhost:8080/"
        },
        "id": "NJJ7S2ZvOZH6",
        "outputId": "61b06009-d07f-438c-d04a-96e1af31aee0"
      },
      "id": "NJJ7S2ZvOZH6",
      "execution_count": null,
      "outputs": [
        {
          "output_type": "execute_result",
          "data": {
            "text/plain": [
              "total_campaign_participated        0\n",
              "total_sales_point                  0\n",
              "participated_campaign_frequency    0\n",
              "campaigns_point_earned             0\n",
              "stamp_vouchers                     0\n",
              "stamp_expired_vouchers             0\n",
              "game_vouchers                      0\n",
              "game_expired_vouchers              0\n",
              "user account                       0\n",
              "campaign id                        0\n",
              "f                                  0\n",
              "m                                  0\n",
              "is participated?                   0\n",
              "dtype: int64"
            ]
          },
          "metadata": {},
          "execution_count": 52
        }
      ]
    },
    {
      "cell_type": "code",
      "source": [
        "# for i in pocket.columns:\n",
        "#   print(i+str(pocket[i].unique())+'/n')\n",
        "# # [\"Campaign Type\"].unique()"
      ],
      "metadata": {
        "id": "f1dj71l5MqLO"
      },
      "id": "f1dj71l5MqLO",
      "execution_count": null,
      "outputs": []
    },
    {
      "cell_type": "code",
      "source": [
        "pocket_standardized.to_csv('/content/drive/MyDrive/AI/Yoma/Yoma budget prediction/pocket_standardized.csv', index=False)"
      ],
      "metadata": {
        "id": "CXNL9MFPVMDi"
      },
      "id": "CXNL9MFPVMDi",
      "execution_count": null,
      "outputs": []
    },
    {
      "cell_type": "code",
      "source": [
        "ps=pd.read_csv('/content/drive/MyDrive/AI/Yoma/Yoma budget prediction/pocket_standardized.csv')"
      ],
      "metadata": {
        "id": "dN1HYez1WUVw"
      },
      "id": "dN1HYez1WUVw",
      "execution_count": null,
      "outputs": []
    },
    {
      "cell_type": "markdown",
      "metadata": {
        "id": "W7crGCV-ECFY"
      },
      "source": [
        "##Combined campaign feature and user info"
      ],
      "id": "W7crGCV-ECFY"
    },
    {
      "cell_type": "code",
      "source": [
        "#import standardized pocket data\n",
        "pocket_campaign=pd.read_csv(\"/content/drive/MyDrive/AI/Yoma/Yoma budget prediction/campaign_feature_standardized.csv\")\n",
        "pocket_user=pd.read_csv(\"/content/drive/MyDrive/AI/Yoma/Yoma budget prediction/pocket_standardized.csv\")\n",
        "\n"
      ],
      "metadata": {
        "id": "Un8rAqD5oyHa"
      },
      "id": "Un8rAqD5oyHa",
      "execution_count": null,
      "outputs": []
    },
    {
      "cell_type": "code",
      "source": [
        "print(len(pocket_campaign.index))\n",
        "print(len(pocket_user.index))"
      ],
      "metadata": {
        "colab": {
          "base_uri": "https://localhost:8080/"
        },
        "id": "aGeH7LVbqziq",
        "outputId": "9a918c06-e435-4120-c42e-f2fe443a1f77"
      },
      "id": "aGeH7LVbqziq",
      "execution_count": null,
      "outputs": [
        {
          "output_type": "stream",
          "name": "stdout",
          "text": [
            "37\n",
            "2662020\n"
          ]
        }
      ]
    },
    {
      "cell_type": "code",
      "source": [
        "pocket_user.columns"
      ],
      "metadata": {
        "colab": {
          "base_uri": "https://localhost:8080/"
        },
        "id": "KNnSXiXaP9LI",
        "outputId": "5ce3e3be-fdf3-4d45-df9c-35174c52a16b"
      },
      "id": "KNnSXiXaP9LI",
      "execution_count": null,
      "outputs": [
        {
          "output_type": "execute_result",
          "data": {
            "text/plain": [
              "Index(['total_campaign_participated', 'total_sales_point',\n",
              "       'participated_campaign_frequency', 'campaigns_point_earned',\n",
              "       'stamp_vouchers', 'stamp_expired_vouchers', 'game_vouchers',\n",
              "       'game_expired_vouchers', 'user account', 'campaign id', 'f', 'm',\n",
              "       'is participated?'],\n",
              "      dtype='object')"
            ]
          },
          "metadata": {},
          "execution_count": 7
        }
      ]
    },
    {
      "cell_type": "code",
      "execution_count": null,
      "metadata": {
        "id": "aaD0bdDNFtPo"
      },
      "outputs": [],
      "source": [
        "pocket_campaign['Campaign ID'] = pocket_campaign['Campaign ID'].astype(str)\n",
        "pocket_user['campaign id'] = pocket_user['campaign id'].astype(str)\n",
        "train_pocket = pd.merge(pocket_user,pocket_campaign,how='left',\n",
        "                        left_on=['campaign id'],right_on=['Campaign ID'])"
      ],
      "id": "aaD0bdDNFtPo"
    },
    {
      "cell_type": "code",
      "source": [
        "# pocket_camp_user[pocket_camp_user['user account']==\"10005356280-1669568292\"]"
      ],
      "metadata": {
        "id": "wfmWAq_jepgT"
      },
      "id": "wfmWAq_jepgT",
      "execution_count": null,
      "outputs": []
    },
    {
      "cell_type": "code",
      "source": [
        "# pocket_final_data = pocket_camp_user.drop_duplicates(subset=['user account'], keep=\"first\")"
      ],
      "metadata": {
        "id": "oMV2uaoxbFdr"
      },
      "id": "oMV2uaoxbFdr",
      "execution_count": null,
      "outputs": []
    },
    {
      "cell_type": "code",
      "source": [
        "print(len(train_pocket[train_pocket[\"is participated?\"]==1]))\n",
        "print(len(train_pocket[train_pocket[\"is participated?\"]==0]))\n",
        "# 89901\n",
        "# 2572119"
      ],
      "metadata": {
        "colab": {
          "base_uri": "https://localhost:8080/"
        },
        "id": "zoEvd1ybsLUZ",
        "outputId": "9b41168a-920b-4e0d-cda5-f2b72da419a4"
      },
      "id": "zoEvd1ybsLUZ",
      "execution_count": null,
      "outputs": [
        {
          "output_type": "stream",
          "name": "stdout",
          "text": [
            "89901\n",
            "2572119\n"
          ]
        }
      ]
    },
    {
      "cell_type": "markdown",
      "source": [
        "##Pocket training data"
      ],
      "metadata": {
        "id": "NSIWZPWBGkxc"
      },
      "id": "NSIWZPWBGkxc"
    },
    {
      "cell_type": "code",
      "source": [
        "# pocket_final_data[pocket_final_data[\"Campaign ID\"]==\"R-305\"]\n",
        "# pocket_final_data[pocket_final_data[\"Campaign ID\"]==\"239\"]\n",
        "\n",
        "\n",
        "#2662020 total\n",
        "#221835 3 values - 88734+44367+88734\n",
        "\n",
        "# print the resulting dataframe\n",
        "\n",
        "# len(pocket_final_data.index)"
      ],
      "metadata": {
        "id": "-8L9riJxGp0v"
      },
      "id": "-8L9riJxGp0v",
      "execution_count": null,
      "outputs": []
    },
    {
      "cell_type": "code",
      "source": [
        "len(train_pocket.index)"
      ],
      "metadata": {
        "colab": {
          "base_uri": "https://localhost:8080/"
        },
        "id": "p5sH2eVm-C9a",
        "outputId": "000b1977-7dfe-49bc-8cd2-78ad06d1bd90"
      },
      "id": "p5sH2eVm-C9a",
      "execution_count": null,
      "outputs": [
        {
          "output_type": "execute_result",
          "data": {
            "text/plain": [
              "2662020"
            ]
          },
          "metadata": {},
          "execution_count": 13
        }
      ]
    },
    {
      "cell_type": "code",
      "source": [
        "train_pocket.dropna(inplace=True)"
      ],
      "metadata": {
        "id": "Tsh0BwmNGsLs"
      },
      "id": "Tsh0BwmNGsLs",
      "execution_count": null,
      "outputs": []
    },
    {
      "cell_type": "code",
      "source": [
        "len(train_pocket.index)"
      ],
      "metadata": {
        "colab": {
          "base_uri": "https://localhost:8080/"
        },
        "id": "51t2YT1q5Hur",
        "outputId": "5ae11df6-e7dc-4695-8d6e-c00ffe00c790"
      },
      "id": "51t2YT1q5Hur",
      "execution_count": null,
      "outputs": [
        {
          "output_type": "execute_result",
          "data": {
            "text/plain": [
              "1641579"
            ]
          },
          "metadata": {},
          "execution_count": 15
        }
      ]
    },
    {
      "cell_type": "code",
      "source": [
        "train_pocket.isnull().sum()"
      ],
      "metadata": {
        "colab": {
          "base_uri": "https://localhost:8080/"
        },
        "id": "AZsXlOyND2fO",
        "outputId": "2afebc70-469a-45a2-9ff7-0ca8a74d6b79"
      },
      "id": "AZsXlOyND2fO",
      "execution_count": null,
      "outputs": [
        {
          "output_type": "execute_result",
          "data": {
            "text/plain": [
              "total_campaign_participated        0\n",
              "total_sales_point                  0\n",
              "participated_campaign_frequency    0\n",
              "campaigns_point_earned             0\n",
              "stamp_vouchers                     0\n",
              "stamp_expired_vouchers             0\n",
              "game_vouchers                      0\n",
              "game_expired_vouchers              0\n",
              "user account                       0\n",
              "campaign id                        0\n",
              "f                                  0\n",
              "m                                  0\n",
              "is participated?                   0\n",
              "Max Winning Probability            0\n",
              "Min Winning Probability            0\n",
              "Max Winning Rewards                0\n",
              "Min Winning Rewards                0\n",
              "duration                           0\n",
              "Campaign ID                        0\n",
              "Free                               0\n",
              "Seasonal Game                      0\n",
              "Transactions                       0\n",
              "Private                            0\n",
              "Public                             0\n",
              "Coins                              0\n",
              "Coins/Rewards                      0\n",
              "Rewards                            0\n",
              "dtype: int64"
            ]
          },
          "metadata": {},
          "execution_count": 16
        }
      ]
    },
    {
      "cell_type": "markdown",
      "source": [
        "##Pocket test data"
      ],
      "metadata": {
        "id": "GcqGz7ZR55Uq"
      },
      "id": "GcqGz7ZR55Uq"
    },
    {
      "cell_type": "code",
      "source": [
        "pocket_camp_user[pocket_camp_user[\"Campaign ID\"]==\"239\"]"
      ],
      "metadata": {
        "colab": {
          "base_uri": "https://localhost:8080/",
          "height": 643
        },
        "id": "jxBrvbOR5_XV",
        "outputId": "230c4ebb-bf62-4fff-ffaa-a6efe42c5b4e"
      },
      "id": "jxBrvbOR5_XV",
      "execution_count": null,
      "outputs": [
        {
          "output_type": "execute_result",
          "data": {
            "text/plain": [
              "         total_campaign_participated  total_sales_point  \\\n",
              "1197909                     2.068597          -0.048525   \n",
              "1197910                     1.444800          -0.048525   \n",
              "1197911                    -0.426593          -0.048525   \n",
              "1197912                    -0.738491          -0.048525   \n",
              "1197913                     2.692394          -0.038007   \n",
              "...                              ...                ...   \n",
              "1242271                    -0.738491          -0.048525   \n",
              "1242272                    -0.738491          -0.048525   \n",
              "1242273                    -0.426593          -0.048525   \n",
              "1242274                    -0.426593          -0.048525   \n",
              "1242275                    -0.738491          -0.048525   \n",
              "\n",
              "         participated_campaign_frequency  campaigns_point_earned  \\\n",
              "1197909                         0.458859                0.458113   \n",
              "1197910                         1.714642                1.680954   \n",
              "1197911                        -0.442729               -0.447695   \n",
              "1197912                        -0.442729               -0.447695   \n",
              "1197913                         1.682442                2.372662   \n",
              "...                                  ...                     ...   \n",
              "1242271                        -0.442729               -0.447695   \n",
              "1242272                        -0.442729               -0.447695   \n",
              "1242273                        -0.442729               -0.447695   \n",
              "1242274                        -0.442729               -0.447695   \n",
              "1242275                        -0.442729               -0.447695   \n",
              "\n",
              "         stamp_vouchers  stamp_expired_vouchers  game_vouchers  \\\n",
              "1197909       -0.035444               -0.023031       0.353618   \n",
              "1197910       -0.035444               -0.023031       0.700626   \n",
              "1197911       -0.035444               -0.023031      -0.340400   \n",
              "1197912       -0.035444               -0.023031      -0.340400   \n",
              "1197913       -0.035444               -0.023031       0.700626   \n",
              "...                 ...                     ...            ...   \n",
              "1242271       -0.035444               -0.023031      -0.340400   \n",
              "1242272       -0.035444               -0.023031      -0.340400   \n",
              "1242273       -0.035444               -0.023031      -0.340400   \n",
              "1242274       -0.035444               -0.023031      -0.340400   \n",
              "1242275       -0.035444               -0.023031      -0.340400   \n",
              "\n",
              "         game_expired_vouchers            user account campaign id  f  m  \\\n",
              "1197909               1.965254  10000229343-1669566523         239  1  0   \n",
              "1197910              -0.237409  10002620537-1669567460         239  0  1   \n",
              "1197911              -0.237409   1000195022-1669567054         239  1  0   \n",
              "1197912              -0.237409  10003593967-1669567470         239  0  0   \n",
              "1197913              -0.237409  10005356280-1669568292         239  0  1   \n",
              "...                        ...                     ...         ... .. ..   \n",
              "1242271              -0.237409             test_perx_2         239  0  0   \n",
              "1242272              -0.237409             test_perx_3         239  0  0   \n",
              "1242273              -0.237409    999830925-1669566010         239  1  0   \n",
              "1242274              -0.237409   9999800424-1669566268         239  1  0   \n",
              "1242275              -0.237409               test_perx         239  0  0   \n",
              "\n",
              "         is participated?  Max Winning Probability  Min Winning Probability  \\\n",
              "1197909                 0                 0.149385                -0.289674   \n",
              "1197910                 0                 0.149385                -0.289674   \n",
              "1197911                 0                 0.149385                -0.289674   \n",
              "1197912                 0                 0.149385                -0.289674   \n",
              "1197913                 0                 0.149385                -0.289674   \n",
              "...                   ...                      ...                      ...   \n",
              "1242271                 0                 0.149385                -0.289674   \n",
              "1242272                 0                 0.149385                -0.289674   \n",
              "1242273                 0                 0.149385                -0.289674   \n",
              "1242274                 0                 0.149385                -0.289674   \n",
              "1242275                 0                 0.149385                -0.289674   \n",
              "\n",
              "         Max Winning Rewards  Min Winning Rewards  duration Campaign ID  Free  \\\n",
              "1197909            -0.255838            -0.263211  0.162768         239   0.0   \n",
              "1197910            -0.255838            -0.263211  0.162768         239   0.0   \n",
              "1197911            -0.255838            -0.263211  0.162768         239   0.0   \n",
              "1197912            -0.255838            -0.263211  0.162768         239   0.0   \n",
              "1197913            -0.255838            -0.263211  0.162768         239   0.0   \n",
              "...                      ...                  ...       ...         ...   ...   \n",
              "1242271            -0.255838            -0.263211  0.162768         239   0.0   \n",
              "1242272            -0.255838            -0.263211  0.162768         239   0.0   \n",
              "1242273            -0.255838            -0.263211  0.162768         239   0.0   \n",
              "1242274            -0.255838            -0.263211  0.162768         239   0.0   \n",
              "1242275            -0.255838            -0.263211  0.162768         239   0.0   \n",
              "\n",
              "         Seasonal Game  Transactions  Private  Public  Coins  Coins/Rewards  \\\n",
              "1197909            0.0           1.0      0.0     1.0    1.0            0.0   \n",
              "1197910            0.0           1.0      0.0     1.0    1.0            0.0   \n",
              "1197911            0.0           1.0      0.0     1.0    1.0            0.0   \n",
              "1197912            0.0           1.0      0.0     1.0    1.0            0.0   \n",
              "1197913            0.0           1.0      0.0     1.0    1.0            0.0   \n",
              "...                ...           ...      ...     ...    ...            ...   \n",
              "1242271            0.0           1.0      0.0     1.0    1.0            0.0   \n",
              "1242272            0.0           1.0      0.0     1.0    1.0            0.0   \n",
              "1242273            0.0           1.0      0.0     1.0    1.0            0.0   \n",
              "1242274            0.0           1.0      0.0     1.0    1.0            0.0   \n",
              "1242275            0.0           1.0      0.0     1.0    1.0            0.0   \n",
              "\n",
              "         Rewards  \n",
              "1197909      0.0  \n",
              "1197910      0.0  \n",
              "1197911      0.0  \n",
              "1197912      0.0  \n",
              "1197913      0.0  \n",
              "...          ...  \n",
              "1242271      0.0  \n",
              "1242272      0.0  \n",
              "1242273      0.0  \n",
              "1242274      0.0  \n",
              "1242275      0.0  \n",
              "\n",
              "[44367 rows x 27 columns]"
            ],
            "text/html": [
              "\n",
              "  <div id=\"df-d49f3eed-2b23-4545-ac9e-6bfc7a45b479\">\n",
              "    <div class=\"colab-df-container\">\n",
              "      <div>\n",
              "<style scoped>\n",
              "    .dataframe tbody tr th:only-of-type {\n",
              "        vertical-align: middle;\n",
              "    }\n",
              "\n",
              "    .dataframe tbody tr th {\n",
              "        vertical-align: top;\n",
              "    }\n",
              "\n",
              "    .dataframe thead th {\n",
              "        text-align: right;\n",
              "    }\n",
              "</style>\n",
              "<table border=\"1\" class=\"dataframe\">\n",
              "  <thead>\n",
              "    <tr style=\"text-align: right;\">\n",
              "      <th></th>\n",
              "      <th>total_campaign_participated</th>\n",
              "      <th>total_sales_point</th>\n",
              "      <th>participated_campaign_frequency</th>\n",
              "      <th>campaigns_point_earned</th>\n",
              "      <th>stamp_vouchers</th>\n",
              "      <th>stamp_expired_vouchers</th>\n",
              "      <th>game_vouchers</th>\n",
              "      <th>game_expired_vouchers</th>\n",
              "      <th>user account</th>\n",
              "      <th>campaign id</th>\n",
              "      <th>f</th>\n",
              "      <th>m</th>\n",
              "      <th>is participated?</th>\n",
              "      <th>Max Winning Probability</th>\n",
              "      <th>Min Winning Probability</th>\n",
              "      <th>Max Winning Rewards</th>\n",
              "      <th>Min Winning Rewards</th>\n",
              "      <th>duration</th>\n",
              "      <th>Campaign ID</th>\n",
              "      <th>Free</th>\n",
              "      <th>Seasonal Game</th>\n",
              "      <th>Transactions</th>\n",
              "      <th>Private</th>\n",
              "      <th>Public</th>\n",
              "      <th>Coins</th>\n",
              "      <th>Coins/Rewards</th>\n",
              "      <th>Rewards</th>\n",
              "    </tr>\n",
              "  </thead>\n",
              "  <tbody>\n",
              "    <tr>\n",
              "      <th>1197909</th>\n",
              "      <td>2.068597</td>\n",
              "      <td>-0.048525</td>\n",
              "      <td>0.458859</td>\n",
              "      <td>0.458113</td>\n",
              "      <td>-0.035444</td>\n",
              "      <td>-0.023031</td>\n",
              "      <td>0.353618</td>\n",
              "      <td>1.965254</td>\n",
              "      <td>10000229343-1669566523</td>\n",
              "      <td>239</td>\n",
              "      <td>1</td>\n",
              "      <td>0</td>\n",
              "      <td>0</td>\n",
              "      <td>0.149385</td>\n",
              "      <td>-0.289674</td>\n",
              "      <td>-0.255838</td>\n",
              "      <td>-0.263211</td>\n",
              "      <td>0.162768</td>\n",
              "      <td>239</td>\n",
              "      <td>0.0</td>\n",
              "      <td>0.0</td>\n",
              "      <td>1.0</td>\n",
              "      <td>0.0</td>\n",
              "      <td>1.0</td>\n",
              "      <td>1.0</td>\n",
              "      <td>0.0</td>\n",
              "      <td>0.0</td>\n",
              "    </tr>\n",
              "    <tr>\n",
              "      <th>1197910</th>\n",
              "      <td>1.444800</td>\n",
              "      <td>-0.048525</td>\n",
              "      <td>1.714642</td>\n",
              "      <td>1.680954</td>\n",
              "      <td>-0.035444</td>\n",
              "      <td>-0.023031</td>\n",
              "      <td>0.700626</td>\n",
              "      <td>-0.237409</td>\n",
              "      <td>10002620537-1669567460</td>\n",
              "      <td>239</td>\n",
              "      <td>0</td>\n",
              "      <td>1</td>\n",
              "      <td>0</td>\n",
              "      <td>0.149385</td>\n",
              "      <td>-0.289674</td>\n",
              "      <td>-0.255838</td>\n",
              "      <td>-0.263211</td>\n",
              "      <td>0.162768</td>\n",
              "      <td>239</td>\n",
              "      <td>0.0</td>\n",
              "      <td>0.0</td>\n",
              "      <td>1.0</td>\n",
              "      <td>0.0</td>\n",
              "      <td>1.0</td>\n",
              "      <td>1.0</td>\n",
              "      <td>0.0</td>\n",
              "      <td>0.0</td>\n",
              "    </tr>\n",
              "    <tr>\n",
              "      <th>1197911</th>\n",
              "      <td>-0.426593</td>\n",
              "      <td>-0.048525</td>\n",
              "      <td>-0.442729</td>\n",
              "      <td>-0.447695</td>\n",
              "      <td>-0.035444</td>\n",
              "      <td>-0.023031</td>\n",
              "      <td>-0.340400</td>\n",
              "      <td>-0.237409</td>\n",
              "      <td>1000195022-1669567054</td>\n",
              "      <td>239</td>\n",
              "      <td>1</td>\n",
              "      <td>0</td>\n",
              "      <td>0</td>\n",
              "      <td>0.149385</td>\n",
              "      <td>-0.289674</td>\n",
              "      <td>-0.255838</td>\n",
              "      <td>-0.263211</td>\n",
              "      <td>0.162768</td>\n",
              "      <td>239</td>\n",
              "      <td>0.0</td>\n",
              "      <td>0.0</td>\n",
              "      <td>1.0</td>\n",
              "      <td>0.0</td>\n",
              "      <td>1.0</td>\n",
              "      <td>1.0</td>\n",
              "      <td>0.0</td>\n",
              "      <td>0.0</td>\n",
              "    </tr>\n",
              "    <tr>\n",
              "      <th>1197912</th>\n",
              "      <td>-0.738491</td>\n",
              "      <td>-0.048525</td>\n",
              "      <td>-0.442729</td>\n",
              "      <td>-0.447695</td>\n",
              "      <td>-0.035444</td>\n",
              "      <td>-0.023031</td>\n",
              "      <td>-0.340400</td>\n",
              "      <td>-0.237409</td>\n",
              "      <td>10003593967-1669567470</td>\n",
              "      <td>239</td>\n",
              "      <td>0</td>\n",
              "      <td>0</td>\n",
              "      <td>0</td>\n",
              "      <td>0.149385</td>\n",
              "      <td>-0.289674</td>\n",
              "      <td>-0.255838</td>\n",
              "      <td>-0.263211</td>\n",
              "      <td>0.162768</td>\n",
              "      <td>239</td>\n",
              "      <td>0.0</td>\n",
              "      <td>0.0</td>\n",
              "      <td>1.0</td>\n",
              "      <td>0.0</td>\n",
              "      <td>1.0</td>\n",
              "      <td>1.0</td>\n",
              "      <td>0.0</td>\n",
              "      <td>0.0</td>\n",
              "    </tr>\n",
              "    <tr>\n",
              "      <th>1197913</th>\n",
              "      <td>2.692394</td>\n",
              "      <td>-0.038007</td>\n",
              "      <td>1.682442</td>\n",
              "      <td>2.372662</td>\n",
              "      <td>-0.035444</td>\n",
              "      <td>-0.023031</td>\n",
              "      <td>0.700626</td>\n",
              "      <td>-0.237409</td>\n",
              "      <td>10005356280-1669568292</td>\n",
              "      <td>239</td>\n",
              "      <td>0</td>\n",
              "      <td>1</td>\n",
              "      <td>0</td>\n",
              "      <td>0.149385</td>\n",
              "      <td>-0.289674</td>\n",
              "      <td>-0.255838</td>\n",
              "      <td>-0.263211</td>\n",
              "      <td>0.162768</td>\n",
              "      <td>239</td>\n",
              "      <td>0.0</td>\n",
              "      <td>0.0</td>\n",
              "      <td>1.0</td>\n",
              "      <td>0.0</td>\n",
              "      <td>1.0</td>\n",
              "      <td>1.0</td>\n",
              "      <td>0.0</td>\n",
              "      <td>0.0</td>\n",
              "    </tr>\n",
              "    <tr>\n",
              "      <th>...</th>\n",
              "      <td>...</td>\n",
              "      <td>...</td>\n",
              "      <td>...</td>\n",
              "      <td>...</td>\n",
              "      <td>...</td>\n",
              "      <td>...</td>\n",
              "      <td>...</td>\n",
              "      <td>...</td>\n",
              "      <td>...</td>\n",
              "      <td>...</td>\n",
              "      <td>...</td>\n",
              "      <td>...</td>\n",
              "      <td>...</td>\n",
              "      <td>...</td>\n",
              "      <td>...</td>\n",
              "      <td>...</td>\n",
              "      <td>...</td>\n",
              "      <td>...</td>\n",
              "      <td>...</td>\n",
              "      <td>...</td>\n",
              "      <td>...</td>\n",
              "      <td>...</td>\n",
              "      <td>...</td>\n",
              "      <td>...</td>\n",
              "      <td>...</td>\n",
              "      <td>...</td>\n",
              "      <td>...</td>\n",
              "    </tr>\n",
              "    <tr>\n",
              "      <th>1242271</th>\n",
              "      <td>-0.738491</td>\n",
              "      <td>-0.048525</td>\n",
              "      <td>-0.442729</td>\n",
              "      <td>-0.447695</td>\n",
              "      <td>-0.035444</td>\n",
              "      <td>-0.023031</td>\n",
              "      <td>-0.340400</td>\n",
              "      <td>-0.237409</td>\n",
              "      <td>test_perx_2</td>\n",
              "      <td>239</td>\n",
              "      <td>0</td>\n",
              "      <td>0</td>\n",
              "      <td>0</td>\n",
              "      <td>0.149385</td>\n",
              "      <td>-0.289674</td>\n",
              "      <td>-0.255838</td>\n",
              "      <td>-0.263211</td>\n",
              "      <td>0.162768</td>\n",
              "      <td>239</td>\n",
              "      <td>0.0</td>\n",
              "      <td>0.0</td>\n",
              "      <td>1.0</td>\n",
              "      <td>0.0</td>\n",
              "      <td>1.0</td>\n",
              "      <td>1.0</td>\n",
              "      <td>0.0</td>\n",
              "      <td>0.0</td>\n",
              "    </tr>\n",
              "    <tr>\n",
              "      <th>1242272</th>\n",
              "      <td>-0.738491</td>\n",
              "      <td>-0.048525</td>\n",
              "      <td>-0.442729</td>\n",
              "      <td>-0.447695</td>\n",
              "      <td>-0.035444</td>\n",
              "      <td>-0.023031</td>\n",
              "      <td>-0.340400</td>\n",
              "      <td>-0.237409</td>\n",
              "      <td>test_perx_3</td>\n",
              "      <td>239</td>\n",
              "      <td>0</td>\n",
              "      <td>0</td>\n",
              "      <td>0</td>\n",
              "      <td>0.149385</td>\n",
              "      <td>-0.289674</td>\n",
              "      <td>-0.255838</td>\n",
              "      <td>-0.263211</td>\n",
              "      <td>0.162768</td>\n",
              "      <td>239</td>\n",
              "      <td>0.0</td>\n",
              "      <td>0.0</td>\n",
              "      <td>1.0</td>\n",
              "      <td>0.0</td>\n",
              "      <td>1.0</td>\n",
              "      <td>1.0</td>\n",
              "      <td>0.0</td>\n",
              "      <td>0.0</td>\n",
              "    </tr>\n",
              "    <tr>\n",
              "      <th>1242273</th>\n",
              "      <td>-0.426593</td>\n",
              "      <td>-0.048525</td>\n",
              "      <td>-0.442729</td>\n",
              "      <td>-0.447695</td>\n",
              "      <td>-0.035444</td>\n",
              "      <td>-0.023031</td>\n",
              "      <td>-0.340400</td>\n",
              "      <td>-0.237409</td>\n",
              "      <td>999830925-1669566010</td>\n",
              "      <td>239</td>\n",
              "      <td>1</td>\n",
              "      <td>0</td>\n",
              "      <td>0</td>\n",
              "      <td>0.149385</td>\n",
              "      <td>-0.289674</td>\n",
              "      <td>-0.255838</td>\n",
              "      <td>-0.263211</td>\n",
              "      <td>0.162768</td>\n",
              "      <td>239</td>\n",
              "      <td>0.0</td>\n",
              "      <td>0.0</td>\n",
              "      <td>1.0</td>\n",
              "      <td>0.0</td>\n",
              "      <td>1.0</td>\n",
              "      <td>1.0</td>\n",
              "      <td>0.0</td>\n",
              "      <td>0.0</td>\n",
              "    </tr>\n",
              "    <tr>\n",
              "      <th>1242274</th>\n",
              "      <td>-0.426593</td>\n",
              "      <td>-0.048525</td>\n",
              "      <td>-0.442729</td>\n",
              "      <td>-0.447695</td>\n",
              "      <td>-0.035444</td>\n",
              "      <td>-0.023031</td>\n",
              "      <td>-0.340400</td>\n",
              "      <td>-0.237409</td>\n",
              "      <td>9999800424-1669566268</td>\n",
              "      <td>239</td>\n",
              "      <td>1</td>\n",
              "      <td>0</td>\n",
              "      <td>0</td>\n",
              "      <td>0.149385</td>\n",
              "      <td>-0.289674</td>\n",
              "      <td>-0.255838</td>\n",
              "      <td>-0.263211</td>\n",
              "      <td>0.162768</td>\n",
              "      <td>239</td>\n",
              "      <td>0.0</td>\n",
              "      <td>0.0</td>\n",
              "      <td>1.0</td>\n",
              "      <td>0.0</td>\n",
              "      <td>1.0</td>\n",
              "      <td>1.0</td>\n",
              "      <td>0.0</td>\n",
              "      <td>0.0</td>\n",
              "    </tr>\n",
              "    <tr>\n",
              "      <th>1242275</th>\n",
              "      <td>-0.738491</td>\n",
              "      <td>-0.048525</td>\n",
              "      <td>-0.442729</td>\n",
              "      <td>-0.447695</td>\n",
              "      <td>-0.035444</td>\n",
              "      <td>-0.023031</td>\n",
              "      <td>-0.340400</td>\n",
              "      <td>-0.237409</td>\n",
              "      <td>test_perx</td>\n",
              "      <td>239</td>\n",
              "      <td>0</td>\n",
              "      <td>0</td>\n",
              "      <td>0</td>\n",
              "      <td>0.149385</td>\n",
              "      <td>-0.289674</td>\n",
              "      <td>-0.255838</td>\n",
              "      <td>-0.263211</td>\n",
              "      <td>0.162768</td>\n",
              "      <td>239</td>\n",
              "      <td>0.0</td>\n",
              "      <td>0.0</td>\n",
              "      <td>1.0</td>\n",
              "      <td>0.0</td>\n",
              "      <td>1.0</td>\n",
              "      <td>1.0</td>\n",
              "      <td>0.0</td>\n",
              "      <td>0.0</td>\n",
              "    </tr>\n",
              "  </tbody>\n",
              "</table>\n",
              "<p>44367 rows × 27 columns</p>\n",
              "</div>\n",
              "      <button class=\"colab-df-convert\" onclick=\"convertToInteractive('df-d49f3eed-2b23-4545-ac9e-6bfc7a45b479')\"\n",
              "              title=\"Convert this dataframe to an interactive table.\"\n",
              "              style=\"display:none;\">\n",
              "        \n",
              "  <svg xmlns=\"http://www.w3.org/2000/svg\" height=\"24px\"viewBox=\"0 0 24 24\"\n",
              "       width=\"24px\">\n",
              "    <path d=\"M0 0h24v24H0V0z\" fill=\"none\"/>\n",
              "    <path d=\"M18.56 5.44l.94 2.06.94-2.06 2.06-.94-2.06-.94-.94-2.06-.94 2.06-2.06.94zm-11 1L8.5 8.5l.94-2.06 2.06-.94-2.06-.94L8.5 2.5l-.94 2.06-2.06.94zm10 10l.94 2.06.94-2.06 2.06-.94-2.06-.94-.94-2.06-.94 2.06-2.06.94z\"/><path d=\"M17.41 7.96l-1.37-1.37c-.4-.4-.92-.59-1.43-.59-.52 0-1.04.2-1.43.59L10.3 9.45l-7.72 7.72c-.78.78-.78 2.05 0 2.83L4 21.41c.39.39.9.59 1.41.59.51 0 1.02-.2 1.41-.59l7.78-7.78 2.81-2.81c.8-.78.8-2.07 0-2.86zM5.41 20L4 18.59l7.72-7.72 1.47 1.35L5.41 20z\"/>\n",
              "  </svg>\n",
              "      </button>\n",
              "      \n",
              "  <style>\n",
              "    .colab-df-container {\n",
              "      display:flex;\n",
              "      flex-wrap:wrap;\n",
              "      gap: 12px;\n",
              "    }\n",
              "\n",
              "    .colab-df-convert {\n",
              "      background-color: #E8F0FE;\n",
              "      border: none;\n",
              "      border-radius: 50%;\n",
              "      cursor: pointer;\n",
              "      display: none;\n",
              "      fill: #1967D2;\n",
              "      height: 32px;\n",
              "      padding: 0 0 0 0;\n",
              "      width: 32px;\n",
              "    }\n",
              "\n",
              "    .colab-df-convert:hover {\n",
              "      background-color: #E2EBFA;\n",
              "      box-shadow: 0px 1px 2px rgba(60, 64, 67, 0.3), 0px 1px 3px 1px rgba(60, 64, 67, 0.15);\n",
              "      fill: #174EA6;\n",
              "    }\n",
              "\n",
              "    [theme=dark] .colab-df-convert {\n",
              "      background-color: #3B4455;\n",
              "      fill: #D2E3FC;\n",
              "    }\n",
              "\n",
              "    [theme=dark] .colab-df-convert:hover {\n",
              "      background-color: #434B5C;\n",
              "      box-shadow: 0px 1px 3px 1px rgba(0, 0, 0, 0.15);\n",
              "      filter: drop-shadow(0px 1px 2px rgba(0, 0, 0, 0.3));\n",
              "      fill: #FFFFFF;\n",
              "    }\n",
              "  </style>\n",
              "\n",
              "      <script>\n",
              "        const buttonEl =\n",
              "          document.querySelector('#df-d49f3eed-2b23-4545-ac9e-6bfc7a45b479 button.colab-df-convert');\n",
              "        buttonEl.style.display =\n",
              "          google.colab.kernel.accessAllowed ? 'block' : 'none';\n",
              "\n",
              "        async function convertToInteractive(key) {\n",
              "          const element = document.querySelector('#df-d49f3eed-2b23-4545-ac9e-6bfc7a45b479');\n",
              "          const dataTable =\n",
              "            await google.colab.kernel.invokeFunction('convertToInteractive',\n",
              "                                                     [key], {});\n",
              "          if (!dataTable) return;\n",
              "\n",
              "          const docLinkHtml = 'Like what you see? Visit the ' +\n",
              "            '<a target=\"_blank\" href=https://colab.research.google.com/notebooks/data_table.ipynb>data table notebook</a>'\n",
              "            + ' to learn more about interactive tables.';\n",
              "          element.innerHTML = '';\n",
              "          dataTable['output_type'] = 'display_data';\n",
              "          await google.colab.output.renderOutput(dataTable, element);\n",
              "          const docLink = document.createElement('div');\n",
              "          docLink.innerHTML = docLinkHtml;\n",
              "          element.appendChild(docLink);\n",
              "        }\n",
              "      </script>\n",
              "    </div>\n",
              "  </div>\n",
              "  "
            ]
          },
          "metadata": {},
          "execution_count": 57
        }
      ]
    },
    {
      "cell_type": "code",
      "source": [
        "pocket_camp_user[pocket_camp_user[\"Campaign ID\"]==\"170\"].to_csv(\"/content/drive/MyDrive/AI/Yoma budget prediction/Test data/170.csv\",index=False)\n",
        "pocket_camp_user[pocket_camp_user[\"Campaign ID\"]==\"R-305\"].to_csv(\"/content/drive/MyDrive/AI/Yoma budget prediction/Test data/R-305.csv\",index=False)\n",
        "pocket_camp_user[pocket_camp_user[\"Campaign ID\"]==\"239\"].to_csv(\"/content/drive/MyDrive/AI/Yoma budget prediction/Test data/239.csv\",index=False)\n"
      ],
      "metadata": {
        "id": "FhoEaHv66B_n",
        "colab": {
          "base_uri": "https://localhost:8080/",
          "height": 433
        },
        "outputId": "0300100e-db78-4beb-aaba-083f56f1d972"
      },
      "id": "FhoEaHv66B_n",
      "execution_count": null,
      "outputs": [
        {
          "output_type": "error",
          "ename": "FileNotFoundError",
          "evalue": "ignored",
          "traceback": [
            "\u001b[0;31m---------------------------------------------------------------------------\u001b[0m",
            "\u001b[0;31mFileNotFoundError\u001b[0m                         Traceback (most recent call last)",
            "\u001b[0;32m<ipython-input-58-12639c40f02a>\u001b[0m in \u001b[0;36m<module>\u001b[0;34m\u001b[0m\n\u001b[0;32m----> 1\u001b[0;31m \u001b[0mpocket_camp_user\u001b[0m\u001b[0;34m[\u001b[0m\u001b[0mpocket_camp_user\u001b[0m\u001b[0;34m[\u001b[0m\u001b[0;34m\"Campaign ID\"\u001b[0m\u001b[0;34m]\u001b[0m\u001b[0;34m==\u001b[0m\u001b[0;34m\"170\"\u001b[0m\u001b[0;34m]\u001b[0m\u001b[0;34m.\u001b[0m\u001b[0mto_csv\u001b[0m\u001b[0;34m(\u001b[0m\u001b[0;34m\"/content/drive/MyDrive/AI/Yoma budget prediction/Test data/170.csv\"\u001b[0m\u001b[0;34m,\u001b[0m\u001b[0mindex\u001b[0m\u001b[0;34m=\u001b[0m\u001b[0;32mFalse\u001b[0m\u001b[0;34m)\u001b[0m\u001b[0;34m\u001b[0m\u001b[0;34m\u001b[0m\u001b[0m\n\u001b[0m\u001b[1;32m      2\u001b[0m \u001b[0mpocket_camp_user\u001b[0m\u001b[0;34m[\u001b[0m\u001b[0mpocket_camp_user\u001b[0m\u001b[0;34m[\u001b[0m\u001b[0;34m\"Campaign ID\"\u001b[0m\u001b[0;34m]\u001b[0m\u001b[0;34m==\u001b[0m\u001b[0;34m\"R-305\"\u001b[0m\u001b[0;34m]\u001b[0m\u001b[0;34m.\u001b[0m\u001b[0mto_csv\u001b[0m\u001b[0;34m(\u001b[0m\u001b[0;34m\"/content/drive/MyDrive/AI/Yoma budget prediction/Test data/R-305.csv\"\u001b[0m\u001b[0;34m,\u001b[0m\u001b[0mindex\u001b[0m\u001b[0;34m=\u001b[0m\u001b[0;32mFalse\u001b[0m\u001b[0;34m)\u001b[0m\u001b[0;34m\u001b[0m\u001b[0;34m\u001b[0m\u001b[0m\n\u001b[1;32m      3\u001b[0m \u001b[0mpocket_camp_user\u001b[0m\u001b[0;34m[\u001b[0m\u001b[0mpocket_camp_user\u001b[0m\u001b[0;34m[\u001b[0m\u001b[0;34m\"Campaign ID\"\u001b[0m\u001b[0;34m]\u001b[0m\u001b[0;34m==\u001b[0m\u001b[0;34m\"239\"\u001b[0m\u001b[0;34m]\u001b[0m\u001b[0;34m.\u001b[0m\u001b[0mto_csv\u001b[0m\u001b[0;34m(\u001b[0m\u001b[0;34m\"/content/drive/MyDrive/AI/Yoma budget prediction/Test data/239.csv\"\u001b[0m\u001b[0;34m,\u001b[0m\u001b[0mindex\u001b[0m\u001b[0;34m=\u001b[0m\u001b[0;32mFalse\u001b[0m\u001b[0;34m)\u001b[0m\u001b[0;34m\u001b[0m\u001b[0;34m\u001b[0m\u001b[0m\n",
            "\u001b[0;32m/usr/local/lib/python3.8/dist-packages/pandas/core/generic.py\u001b[0m in \u001b[0;36mto_csv\u001b[0;34m(self, path_or_buf, sep, na_rep, float_format, columns, header, index, index_label, mode, encoding, compression, quoting, quotechar, line_terminator, chunksize, date_format, doublequote, escapechar, decimal, errors, storage_options)\u001b[0m\n\u001b[1;32m   3464\u001b[0m         )\n\u001b[1;32m   3465\u001b[0m \u001b[0;34m\u001b[0m\u001b[0m\n\u001b[0;32m-> 3466\u001b[0;31m         return DataFrameRenderer(formatter).to_csv(\n\u001b[0m\u001b[1;32m   3467\u001b[0m             \u001b[0mpath_or_buf\u001b[0m\u001b[0;34m,\u001b[0m\u001b[0;34m\u001b[0m\u001b[0;34m\u001b[0m\u001b[0m\n\u001b[1;32m   3468\u001b[0m             \u001b[0mline_terminator\u001b[0m\u001b[0;34m=\u001b[0m\u001b[0mline_terminator\u001b[0m\u001b[0;34m,\u001b[0m\u001b[0;34m\u001b[0m\u001b[0;34m\u001b[0m\u001b[0m\n",
            "\u001b[0;32m/usr/local/lib/python3.8/dist-packages/pandas/io/formats/format.py\u001b[0m in \u001b[0;36mto_csv\u001b[0;34m(self, path_or_buf, encoding, sep, columns, index_label, mode, compression, quoting, quotechar, line_terminator, chunksize, date_format, doublequote, escapechar, errors, storage_options)\u001b[0m\n\u001b[1;32m   1103\u001b[0m             \u001b[0mformatter\u001b[0m\u001b[0;34m=\u001b[0m\u001b[0mself\u001b[0m\u001b[0;34m.\u001b[0m\u001b[0mfmt\u001b[0m\u001b[0;34m,\u001b[0m\u001b[0;34m\u001b[0m\u001b[0;34m\u001b[0m\u001b[0m\n\u001b[1;32m   1104\u001b[0m         )\n\u001b[0;32m-> 1105\u001b[0;31m         \u001b[0mcsv_formatter\u001b[0m\u001b[0;34m.\u001b[0m\u001b[0msave\u001b[0m\u001b[0;34m(\u001b[0m\u001b[0;34m)\u001b[0m\u001b[0;34m\u001b[0m\u001b[0;34m\u001b[0m\u001b[0m\n\u001b[0m\u001b[1;32m   1106\u001b[0m \u001b[0;34m\u001b[0m\u001b[0m\n\u001b[1;32m   1107\u001b[0m         \u001b[0;32mif\u001b[0m \u001b[0mcreated_buffer\u001b[0m\u001b[0;34m:\u001b[0m\u001b[0;34m\u001b[0m\u001b[0;34m\u001b[0m\u001b[0m\n",
            "\u001b[0;32m/usr/local/lib/python3.8/dist-packages/pandas/io/formats/csvs.py\u001b[0m in \u001b[0;36msave\u001b[0;34m(self)\u001b[0m\n\u001b[1;32m    235\u001b[0m         \"\"\"\n\u001b[1;32m    236\u001b[0m         \u001b[0;31m# apply compression and byte/text conversion\u001b[0m\u001b[0;34m\u001b[0m\u001b[0;34m\u001b[0m\u001b[0;34m\u001b[0m\u001b[0m\n\u001b[0;32m--> 237\u001b[0;31m         with get_handle(\n\u001b[0m\u001b[1;32m    238\u001b[0m             \u001b[0mself\u001b[0m\u001b[0;34m.\u001b[0m\u001b[0mfilepath_or_buffer\u001b[0m\u001b[0;34m,\u001b[0m\u001b[0;34m\u001b[0m\u001b[0;34m\u001b[0m\u001b[0m\n\u001b[1;32m    239\u001b[0m             \u001b[0mself\u001b[0m\u001b[0;34m.\u001b[0m\u001b[0mmode\u001b[0m\u001b[0;34m,\u001b[0m\u001b[0;34m\u001b[0m\u001b[0;34m\u001b[0m\u001b[0m\n",
            "\u001b[0;32m/usr/local/lib/python3.8/dist-packages/pandas/io/common.py\u001b[0m in \u001b[0;36mget_handle\u001b[0;34m(path_or_buf, mode, encoding, compression, memory_map, is_text, errors, storage_options)\u001b[0m\n\u001b[1;32m    700\u001b[0m         \u001b[0;32mif\u001b[0m \u001b[0mioargs\u001b[0m\u001b[0;34m.\u001b[0m\u001b[0mencoding\u001b[0m \u001b[0;32mand\u001b[0m \u001b[0;34m\"b\"\u001b[0m \u001b[0;32mnot\u001b[0m \u001b[0;32min\u001b[0m \u001b[0mioargs\u001b[0m\u001b[0;34m.\u001b[0m\u001b[0mmode\u001b[0m\u001b[0;34m:\u001b[0m\u001b[0;34m\u001b[0m\u001b[0;34m\u001b[0m\u001b[0m\n\u001b[1;32m    701\u001b[0m             \u001b[0;31m# Encoding\u001b[0m\u001b[0;34m\u001b[0m\u001b[0;34m\u001b[0m\u001b[0;34m\u001b[0m\u001b[0m\n\u001b[0;32m--> 702\u001b[0;31m             handle = open(\n\u001b[0m\u001b[1;32m    703\u001b[0m                 \u001b[0mhandle\u001b[0m\u001b[0;34m,\u001b[0m\u001b[0;34m\u001b[0m\u001b[0;34m\u001b[0m\u001b[0m\n\u001b[1;32m    704\u001b[0m                 \u001b[0mioargs\u001b[0m\u001b[0;34m.\u001b[0m\u001b[0mmode\u001b[0m\u001b[0;34m,\u001b[0m\u001b[0;34m\u001b[0m\u001b[0;34m\u001b[0m\u001b[0m\n",
            "\u001b[0;31mFileNotFoundError\u001b[0m: [Errno 2] No such file or directory: '/content/drive/MyDrive/AI/Yoma budget prediction/Test data/170.csv'"
          ]
        }
      ]
    },
    {
      "cell_type": "markdown",
      "metadata": {
        "id": "GpIyuA_CrCLt"
      },
      "source": [
        "## Making balanced dataset"
      ],
      "id": "GpIyuA_CrCLt"
    },
    {
      "cell_type": "code",
      "source": [
        "len(train_pocket.index)"
      ],
      "metadata": {
        "colab": {
          "base_uri": "https://localhost:8080/"
        },
        "id": "ggoaKSzdsN37",
        "outputId": "77b71cc8-b0d6-4719-f970-81aca723c004"
      },
      "id": "ggoaKSzdsN37",
      "execution_count": null,
      "outputs": [
        {
          "output_type": "execute_result",
          "data": {
            "text/plain": [
              "1641579"
            ]
          },
          "metadata": {},
          "execution_count": 17
        }
      ]
    },
    {
      "cell_type": "code",
      "execution_count": null,
      "metadata": {
        "colab": {
          "base_uri": "https://localhost:8080/"
        },
        "id": "Njhz9FwMrUtf",
        "outputId": "352ce272-26a2-41d9-b977-0ac63c165ea5"
      },
      "outputs": [
        {
          "output_type": "stream",
          "name": "stdout",
          "text": [
            "88450\n",
            "1553129\n"
          ]
        }
      ],
      "source": [
        "print(len(train_pocket[train_pocket[\"is participated?\"]==1]))\n",
        "print(len(train_pocket[train_pocket[\"is participated?\"]==0]))"
      ],
      "id": "Njhz9FwMrUtf"
    },
    {
      "cell_type": "code",
      "execution_count": null,
      "metadata": {
        "colab": {
          "base_uri": "https://localhost:8080/"
        },
        "id": "DqdbWHxeMmAL",
        "outputId": "f5d458c0-32ad-45e2-c1f0-593f2994bf2c"
      },
      "outputs": [
        {
          "output_type": "execute_result",
          "data": {
            "text/plain": [
              "Int64Index([     36,    1065,    1078,    1264,    1586,    1692,    1786,\n",
              "               1922,    2086,    2150,\n",
              "            ...\n",
              "            2582902, 2582903, 2582905, 2582906, 2582907, 2582908, 2582909,\n",
              "            2582910, 2582917, 2582918],\n",
              "           dtype='int64', length=88450)"
            ]
          },
          "metadata": {},
          "execution_count": 19
        }
      ],
      "source": [
        "train_pocket[train_pocket[\"is participated?\"]==1].index\n"
      ],
      "id": "DqdbWHxeMmAL"
    },
    {
      "cell_type": "code",
      "source": [
        "2528919-887340"
      ],
      "metadata": {
        "colab": {
          "base_uri": "https://localhost:8080/"
        },
        "id": "bS47-yd9J_yD",
        "outputId": "566a6834-7db5-49eb-8db8-8dd4c9dab934"
      },
      "id": "bS47-yd9J_yD",
      "execution_count": null,
      "outputs": [
        {
          "output_type": "execute_result",
          "data": {
            "text/plain": [
              "1641579"
            ]
          },
          "metadata": {},
          "execution_count": 20
        }
      ]
    },
    {
      "cell_type": "code",
      "source": [
        "35370*40"
      ],
      "metadata": {
        "colab": {
          "base_uri": "https://localhost:8080/"
        },
        "id": "C8iyDBP6KSfJ",
        "outputId": "231103ce-db0a-44a8-d506-00f23372a9fa"
      },
      "id": "C8iyDBP6KSfJ",
      "execution_count": null,
      "outputs": [
        {
          "output_type": "execute_result",
          "data": {
            "text/plain": [
              "1414800"
            ]
          },
          "metadata": {},
          "execution_count": 21
        }
      ]
    },
    {
      "cell_type": "code",
      "execution_count": null,
      "metadata": {
        "colab": {
          "base_uri": "https://localhost:8080/"
        },
        "id": "KZS_x5e_NfAo",
        "outputId": "24e228ee-f9bc-4c2a-c3e9-cca4eea39970"
      },
      "outputs": [
        {
          "output_type": "execute_result",
          "data": {
            "text/plain": [
              "total_campaign_participated        0\n",
              "total_sales_point                  0\n",
              "participated_campaign_frequency    0\n",
              "campaigns_point_earned             0\n",
              "stamp_vouchers                     0\n",
              "stamp_expired_vouchers             0\n",
              "game_vouchers                      0\n",
              "game_expired_vouchers              0\n",
              "user account                       0\n",
              "campaign id                        0\n",
              "f                                  0\n",
              "m                                  0\n",
              "is participated?                   0\n",
              "Max Winning Probability            0\n",
              "Min Winning Probability            0\n",
              "Max Winning Rewards                0\n",
              "Min Winning Rewards                0\n",
              "duration                           0\n",
              "Campaign ID                        0\n",
              "Free                               0\n",
              "Seasonal Game                      0\n",
              "Transactions                       0\n",
              "Private                            0\n",
              "Public                             0\n",
              "Coins                              0\n",
              "Coins/Rewards                      0\n",
              "Rewards                            0\n",
              "dtype: int64"
            ]
          },
          "metadata": {},
          "execution_count": 22
        }
      ],
      "source": [
        "train_pocket.isnull().sum()"
      ],
      "id": "KZS_x5e_NfAo"
    },
    {
      "cell_type": "code",
      "execution_count": null,
      "metadata": {
        "id": "dWQW1AKsshww"
      },
      "outputs": [],
      "source": [
        "# ['user account', 'customer name_x', 'mobile phone_x', 'birthday',\n",
        "#        'perx registration date', 'state', 'email id', 'registration_source',\n",
        "#        'registerd_by_merchant', 'address1', 'city', 'home', 'gender',\n",
        "#        'nationality', 'valid_phone', 'campaign id', 'customer name_y',\n",
        "#        'mobile phone_y', 'merchant name', 'campaign name_x',\n",
        "#        'participated_campaign_frequency', 'campaigns_point_earned',\n",
        "#        'stamp_vouchers', 'stamp_expired_vouchers', 'game_vouchers',\n",
        "#        'game_expired_vouchers', 'is participated?', 'campaign name_y',\n",
        "#        'Campaign ID', 'Campaign Name', 'Start Date', 'End Date',\n",
        "#        'Campaign Type', 'Audience Type (Private or Public)', 'Points/Rewards',\n",
        "#        'Max Winning Probability', 'Min Winning Probability',\n",
        "#        'Max Winning Rewards', 'Min Winning Rewards', 'Total Spending']"
      ],
      "id": "dWQW1AKsshww"
    },
    {
      "cell_type": "code",
      "execution_count": null,
      "metadata": {
        "id": "XGX-pZGAIEJy"
      },
      "outputs": [],
      "source": [
        "# pocket_df = pocket_camp_user.drop(labels=[84950,424884,424885,425096,425097,0,1,2,3,4], axis=0) "
      ],
      "id": "XGX-pZGAIEJy"
    },
    {
      "cell_type": "code",
      "execution_count": null,
      "metadata": {
        "id": "LxfaqKYoOBXa"
      },
      "outputs": [],
      "source": [
        "# print(len(pocket_df[pocket_df[\"is participated?\"]==1]))\n",
        "# print(len(pocket_df[pocket_df[\"is participated?\"]==0]))"
      ],
      "id": "LxfaqKYoOBXa"
    },
    {
      "cell_type": "code",
      "execution_count": null,
      "metadata": {
        "colab": {
          "base_uri": "https://localhost:8080/"
        },
        "id": "eMnorkd2sC9U",
        "outputId": "7487e16a-7357-46f9-fb4b-a71cee425f90"
      },
      "outputs": [
        {
          "output_type": "stream",
          "name": "stdout",
          "text": [
            "No participation 88450\n",
            "Participation 88450\n"
          ]
        }
      ],
      "source": [
        "no_participation=train_pocket[train_pocket['is participated?']==0].sample(n=88450,random_state=22)\n",
        "participation=train_pocket[train_pocket['is participated?']==1].sample(n=88450,random_state=22) #\n",
        "train_pocket_con=pd.concat([no_participation,participation],axis=0)\n",
        "print(\"No participation\",len(no_participation))\n",
        "print(\"Participation\",len(participation))"
      ],
      "id": "eMnorkd2sC9U"
    },
    {
      "cell_type": "code",
      "source": [
        "print(\"train_pocket_con\",len(train_pocket_con))"
      ],
      "metadata": {
        "colab": {
          "base_uri": "https://localhost:8080/"
        },
        "id": "vP9WbEj8w4f5",
        "outputId": "c36a9d18-6b3e-45f2-b937-e0415eb466a8"
      },
      "id": "vP9WbEj8w4f5",
      "execution_count": null,
      "outputs": [
        {
          "output_type": "stream",
          "name": "stdout",
          "text": [
            "train_pocket_con 176900\n"
          ]
        }
      ]
    },
    {
      "cell_type": "code",
      "execution_count": null,
      "metadata": {
        "colab": {
          "base_uri": "https://localhost:8080/"
        },
        "id": "iWCtRpUGaYKS",
        "outputId": "ea19b3cb-41fc-41e5-ac12-a139e0e90bd5"
      },
      "outputs": [
        {
          "output_type": "stream",
          "name": "stdout",
          "text": [
            "<class 'pandas.core.frame.DataFrame'>\n",
            "Int64Index: 176900 entries, 183109 to 941174\n",
            "Data columns (total 27 columns):\n",
            " #   Column                           Non-Null Count   Dtype  \n",
            "---  ------                           --------------   -----  \n",
            " 0   total_campaign_participated      176900 non-null  float64\n",
            " 1   total_sales_point                176900 non-null  float64\n",
            " 2   participated_campaign_frequency  176900 non-null  float64\n",
            " 3   campaigns_point_earned           176900 non-null  float64\n",
            " 4   stamp_vouchers                   176900 non-null  float64\n",
            " 5   stamp_expired_vouchers           176900 non-null  float64\n",
            " 6   game_vouchers                    176900 non-null  float64\n",
            " 7   game_expired_vouchers            176900 non-null  float64\n",
            " 8   user account                     176900 non-null  object \n",
            " 9   campaign id                      176900 non-null  object \n",
            " 10  f                                176900 non-null  int64  \n",
            " 11  m                                176900 non-null  int64  \n",
            " 12  is participated?                 176900 non-null  int64  \n",
            " 13  Max Winning Probability          176900 non-null  float64\n",
            " 14  Min Winning Probability          176900 non-null  float64\n",
            " 15  Max Winning Rewards              176900 non-null  float64\n",
            " 16  Min Winning Rewards              176900 non-null  float64\n",
            " 17  duration                         176900 non-null  float64\n",
            " 18  Campaign ID                      176900 non-null  object \n",
            " 19  Free                             176900 non-null  float64\n",
            " 20  Seasonal Game                    176900 non-null  float64\n",
            " 21  Transactions                     176900 non-null  float64\n",
            " 22  Private                          176900 non-null  float64\n",
            " 23  Public                           176900 non-null  float64\n",
            " 24  Coins                            176900 non-null  float64\n",
            " 25  Coins/Rewards                    176900 non-null  float64\n",
            " 26  Rewards                          176900 non-null  float64\n",
            "dtypes: float64(21), int64(3), object(3)\n",
            "memory usage: 37.8+ MB\n"
          ]
        }
      ],
      "source": [
        "train_pocket_con.info()"
      ],
      "id": "iWCtRpUGaYKS"
    },
    {
      "cell_type": "code",
      "execution_count": null,
      "metadata": {
        "colab": {
          "base_uri": "https://localhost:8080/",
          "height": 900
        },
        "id": "70SkYvreOhg4",
        "outputId": "f6526f9f-1d66-49a4-a89e-6e69aa6fe736"
      },
      "outputs": [
        {
          "output_type": "execute_result",
          "data": {
            "text/plain": [
              "                                 total_campaign_participated  \\\n",
              "total_campaign_participated                         1.000000   \n",
              "total_sales_point                                   0.073831   \n",
              "participated_campaign_frequency                     0.761900   \n",
              "campaigns_point_earned                              0.795705   \n",
              "stamp_vouchers                                      0.143470   \n",
              "stamp_expired_vouchers                              0.096354   \n",
              "game_vouchers                                       0.590370   \n",
              "game_expired_vouchers                               0.358439   \n",
              "f                                                   0.143339   \n",
              "m                                                   0.091866   \n",
              "is participated?                                    0.606009   \n",
              "Max Winning Probability                            -0.227966   \n",
              "Min Winning Probability                             0.012380   \n",
              "Max Winning Rewards                                 0.096641   \n",
              "Min Winning Rewards                                -0.083704   \n",
              "duration                                            0.055853   \n",
              "Free                                                0.140837   \n",
              "Seasonal Game                                       0.000009   \n",
              "Transactions                                       -0.152453   \n",
              "Private                                            -0.029997   \n",
              "Public                                              0.029997   \n",
              "Coins                                              -0.003507   \n",
              "Coins/Rewards                                       0.156903   \n",
              "Rewards                                            -0.169771   \n",
              "\n",
              "                                 total_sales_point  \\\n",
              "total_campaign_participated               0.073831   \n",
              "total_sales_point                         1.000000   \n",
              "participated_campaign_frequency           0.013224   \n",
              "campaigns_point_earned                    0.027535   \n",
              "stamp_vouchers                            0.265212   \n",
              "stamp_expired_vouchers                    0.177591   \n",
              "game_vouchers                             0.022824   \n",
              "game_expired_vouchers                     0.026411   \n",
              "f                                         0.016079   \n",
              "m                                        -0.007204   \n",
              "is participated?                          0.016425   \n",
              "Max Winning Probability                  -0.001492   \n",
              "Min Winning Probability                   0.004417   \n",
              "Max Winning Rewards                      -0.000413   \n",
              "Min Winning Rewards                       0.002173   \n",
              "duration                                 -0.000801   \n",
              "Free                                     -0.001388   \n",
              "Seasonal Game                            -0.001598   \n",
              "Transactions                              0.002239   \n",
              "Private                                  -0.000020   \n",
              "Public                                    0.000020   \n",
              "Coins                                     0.001219   \n",
              "Coins/Rewards                            -0.001062   \n",
              "Rewards                                  -0.000245   \n",
              "\n",
              "                                 participated_campaign_frequency  \\\n",
              "total_campaign_participated                             0.761900   \n",
              "total_sales_point                                       0.013224   \n",
              "participated_campaign_frequency                         1.000000   \n",
              "campaigns_point_earned                                  0.968957   \n",
              "stamp_vouchers                                          0.115650   \n",
              "stamp_expired_vouchers                                  0.081079   \n",
              "game_vouchers                                           0.672477   \n",
              "game_expired_vouchers                                   0.250353   \n",
              "f                                                       0.100644   \n",
              "m                                                       0.059275   \n",
              "is participated?                                        0.469679   \n",
              "Max Winning Probability                                -0.195684   \n",
              "Min Winning Probability                                 0.023876   \n",
              "Max Winning Rewards                                     0.074021   \n",
              "Min Winning Rewards                                    -0.069674   \n",
              "duration                                                0.044122   \n",
              "Free                                                    0.112570   \n",
              "Seasonal Game                                          -0.017031   \n",
              "Transactions                                           -0.114009   \n",
              "Private                                                -0.044004   \n",
              "Public                                                  0.044004   \n",
              "Coins                                                  -0.012104   \n",
              "Coins/Rewards                                           0.124365   \n",
              "Rewards                                                -0.123696   \n",
              "\n",
              "                                 campaigns_point_earned  stamp_vouchers  \\\n",
              "total_campaign_participated                    0.795705        0.143470   \n",
              "total_sales_point                              0.027535        0.265212   \n",
              "participated_campaign_frequency                0.968957        0.115650   \n",
              "campaigns_point_earned                         1.000000        0.122222   \n",
              "stamp_vouchers                                 0.122222        1.000000   \n",
              "stamp_expired_vouchers                         0.084155        0.555069   \n",
              "game_vouchers                                  0.614753        0.086899   \n",
              "game_expired_vouchers                          0.249729        0.023079   \n",
              "f                                              0.096436        0.016565   \n",
              "m                                              0.062427       -0.003002   \n",
              "is participated?                               0.473424        0.049656   \n",
              "Max Winning Probability                       -0.186715       -0.015186   \n",
              "Min Winning Probability                        0.020615        0.000229   \n",
              "Max Winning Rewards                            0.065890       -0.004164   \n",
              "Min Winning Rewards                           -0.065943        0.002231   \n",
              "duration                                       0.044530        0.005791   \n",
              "Free                                           0.102809       -0.006687   \n",
              "Seasonal Game                                 -0.005716       -0.003331   \n",
              "Transactions                                  -0.108654        0.008772   \n",
              "Private                                       -0.034213       -0.005948   \n",
              "Public                                         0.034213        0.005948   \n",
              "Coins                                          0.004648        0.008988   \n",
              "Coins/Rewards                                  0.114154       -0.004722   \n",
              "Rewards                                       -0.131908       -0.005243   \n",
              "\n",
              "                                 stamp_expired_vouchers  game_vouchers  \\\n",
              "total_campaign_participated                    0.096354       0.590370   \n",
              "total_sales_point                              0.177591       0.022824   \n",
              "participated_campaign_frequency                0.081079       0.672477   \n",
              "campaigns_point_earned                         0.084155       0.614753   \n",
              "stamp_vouchers                                 0.555069       0.086899   \n",
              "stamp_expired_vouchers                         1.000000       0.090919   \n",
              "game_vouchers                                  0.090919       1.000000   \n",
              "game_expired_vouchers                          0.024250       0.376581   \n",
              "f                                              0.011305       0.098526   \n",
              "m                                             -0.002271       0.015098   \n",
              "is participated?                               0.032013       0.334396   \n",
              "Max Winning Probability                       -0.009387      -0.109653   \n",
              "Min Winning Probability                        0.001618       0.022331   \n",
              "Max Winning Rewards                           -0.003069       0.031335   \n",
              "Min Winning Rewards                            0.002911      -0.047345   \n",
              "duration                                       0.003437       0.033596   \n",
              "Free                                          -0.003359       0.081294   \n",
              "Seasonal Game                                  0.001145      -0.002387   \n",
              "Transactions                                   0.003109      -0.086898   \n",
              "Private                                       -0.000626      -0.016848   \n",
              "Public                                         0.000626       0.016848   \n",
              "Coins                                          0.005814      -0.011215   \n",
              "Coins/Rewards                                 -0.002921       0.055106   \n",
              "Rewards                                       -0.003541      -0.047989   \n",
              "\n",
              "                                 game_expired_vouchers         f         m  \\\n",
              "total_campaign_participated                   0.358439  0.143339  0.091866   \n",
              "total_sales_point                             0.026411  0.016079 -0.007204   \n",
              "participated_campaign_frequency               0.250353  0.100644  0.059275   \n",
              "campaigns_point_earned                        0.249729  0.096436  0.062427   \n",
              "stamp_vouchers                                0.023079  0.016565 -0.003002   \n",
              "stamp_expired_vouchers                        0.024250  0.011305 -0.002271   \n",
              "game_vouchers                                 0.376581  0.098526  0.015098   \n",
              "game_expired_vouchers                         1.000000  0.055977  0.014647   \n",
              "f                                             0.055977  1.000000 -0.804366   \n",
              "m                                             0.014647 -0.804366  1.000000   \n",
              "is participated?                              0.198051  0.129497  0.085613   \n",
              "Max Winning Probability                      -0.047963 -0.045831 -0.033204   \n",
              "Min Winning Probability                       0.003909 -0.001863  0.000404   \n",
              "Max Winning Rewards                           0.009091  0.033913  0.025479   \n",
              "Min Winning Rewards                          -0.024076 -0.025991 -0.009326   \n",
              "duration                                      0.020053  0.016769  0.003224   \n",
              "Free                                          0.046197  0.033759  0.022522   \n",
              "Seasonal Game                                 0.008149 -0.004935 -0.008368   \n",
              "Transactions                                 -0.053759 -0.034270 -0.020526   \n",
              "Private                                       0.001659 -0.006315 -0.013939   \n",
              "Public                                       -0.001659  0.006315  0.013939   \n",
              "Coins                                         0.008952 -0.032090 -0.016585   \n",
              "Coins/Rewards                                 0.029672  0.050092  0.040408   \n",
              "Rewards                                      -0.043313 -0.018103 -0.025444   \n",
              "\n",
              "                                 is participated?  Max Winning Probability  \\\n",
              "total_campaign_participated              0.606009                -0.227966   \n",
              "total_sales_point                        0.016425                -0.001492   \n",
              "participated_campaign_frequency          0.469679                -0.195684   \n",
              "campaigns_point_earned                   0.473424                -0.186715   \n",
              "stamp_vouchers                           0.049656                -0.015186   \n",
              "stamp_expired_vouchers                   0.032013                -0.009387   \n",
              "game_vouchers                            0.334396                -0.109653   \n",
              "game_expired_vouchers                    0.198051                -0.047963   \n",
              "f                                        0.129497                -0.045831   \n",
              "m                                        0.085613                -0.033204   \n",
              "is participated?                         1.000000                -0.400008   \n",
              "Max Winning Probability                 -0.400008                 1.000000   \n",
              "Min Winning Probability                 -0.006910                 0.106347   \n",
              "Max Winning Rewards                      0.303730                -0.356954   \n",
              "Min Winning Rewards                     -0.177987                -0.085001   \n",
              "duration                                 0.094063                 0.149997   \n",
              "Free                                     0.276678                 0.116344   \n",
              "Seasonal Game                           -0.069961                -0.110449   \n",
              "Transactions                            -0.267276                -0.075079   \n",
              "Private                                 -0.111854                -0.089726   \n",
              "Public                                   0.111854                 0.089726   \n",
              "Coins                                   -0.243965                 0.182892   \n",
              "Coins/Rewards                            0.464120                -0.466920   \n",
              "Rewards                                 -0.229921                 0.304207   \n",
              "\n",
              "                                 Min Winning Probability  Max Winning Rewards  \\\n",
              "total_campaign_participated                     0.012380             0.096641   \n",
              "total_sales_point                               0.004417            -0.000413   \n",
              "participated_campaign_frequency                 0.023876             0.074021   \n",
              "campaigns_point_earned                          0.020615             0.065890   \n",
              "stamp_vouchers                                  0.000229            -0.004164   \n",
              "stamp_expired_vouchers                          0.001618            -0.003069   \n",
              "game_vouchers                                   0.022331             0.031335   \n",
              "game_expired_vouchers                           0.003909             0.009091   \n",
              "f                                              -0.001863             0.033913   \n",
              "m                                               0.000404             0.025479   \n",
              "is participated?                               -0.006910             0.303730   \n",
              "Max Winning Probability                         0.106347            -0.356954   \n",
              "Min Winning Probability                         1.000000            -0.164642   \n",
              "Max Winning Rewards                            -0.164642             1.000000   \n",
              "Min Winning Rewards                             0.146179            -0.105985   \n",
              "duration                                       -0.032043             0.012041   \n",
              "Free                                            0.084323             0.162613   \n",
              "Seasonal Game                                  -0.026217            -0.061111   \n",
              "Transactions                                   -0.079203            -0.147881   \n",
              "Private                                        -0.057070            -0.086669   \n",
              "Public                                          0.057070             0.086669   \n",
              "Coins                                          -0.137659            -0.410164   \n",
              "Coins/Rewards                                   0.153922             0.605012   \n",
              "Rewards                                        -0.010106            -0.192323   \n",
              "\n",
              "                                 Min Winning Rewards  duration      Free  \\\n",
              "total_campaign_participated                -0.083704  0.055853  0.140837   \n",
              "total_sales_point                           0.002173 -0.000801 -0.001388   \n",
              "participated_campaign_frequency            -0.069674  0.044122  0.112570   \n",
              "campaigns_point_earned                     -0.065943  0.044530  0.102809   \n",
              "stamp_vouchers                              0.002231  0.005791 -0.006687   \n",
              "stamp_expired_vouchers                      0.002911  0.003437 -0.003359   \n",
              "game_vouchers                              -0.047345  0.033596  0.081294   \n",
              "game_expired_vouchers                      -0.024076  0.020053  0.046197   \n",
              "f                                          -0.025991  0.016769  0.033759   \n",
              "m                                          -0.009326  0.003224  0.022522   \n",
              "is participated?                           -0.177987  0.094063  0.276678   \n",
              "Max Winning Probability                    -0.085001  0.149997  0.116344   \n",
              "Min Winning Probability                     0.146179 -0.032043  0.084323   \n",
              "Max Winning Rewards                        -0.105985  0.012041  0.162613   \n",
              "Min Winning Rewards                         1.000000 -0.916878 -0.387772   \n",
              "duration                                   -0.916878  1.000000  0.324646   \n",
              "Free                                       -0.387772  0.324646  1.000000   \n",
              "Seasonal Game                              -0.028168  0.019666 -0.384934   \n",
              "Transactions                                0.432714 -0.360468 -0.905202   \n",
              "Private                                    -0.040780  0.027191 -0.251731   \n",
              "Public                                      0.040780 -0.027191  0.251731   \n",
              "Coins                                      -0.085900  0.130232 -0.034908   \n",
              "Coins/Rewards                              -0.104905  0.036151  0.249832   \n",
              "Rewards                                     0.216363 -0.191850 -0.236143   \n",
              "\n",
              "                                 Seasonal Game  Transactions   Private  \\\n",
              "total_campaign_participated           0.000009     -0.152453 -0.029997   \n",
              "total_sales_point                    -0.001598      0.002239 -0.000020   \n",
              "participated_campaign_frequency      -0.017031     -0.114009 -0.044004   \n",
              "campaigns_point_earned               -0.005716     -0.108654 -0.034213   \n",
              "stamp_vouchers                       -0.003331      0.008772 -0.005948   \n",
              "stamp_expired_vouchers                0.001145      0.003109 -0.000626   \n",
              "game_vouchers                        -0.002387     -0.086898 -0.016848   \n",
              "game_expired_vouchers                 0.008149     -0.053759  0.001659   \n",
              "f                                    -0.004935     -0.034270 -0.006315   \n",
              "m                                    -0.008368     -0.020526 -0.013939   \n",
              "is participated?                     -0.069961     -0.267276 -0.111854   \n",
              "Max Winning Probability              -0.110449     -0.075079 -0.089726   \n",
              "Min Winning Probability              -0.026217     -0.079203 -0.057070   \n",
              "Max Winning Rewards                  -0.061111     -0.147881 -0.086669   \n",
              "Min Winning Rewards                  -0.028168      0.432714 -0.040780   \n",
              "duration                              0.019666     -0.360468  0.027191   \n",
              "Free                                 -0.384934     -0.905202 -0.251731   \n",
              "Seasonal Game                         1.000000     -0.043791  0.723258   \n",
              "Transactions                         -0.043791      1.000000 -0.060547   \n",
              "Private                               0.723258     -0.060547  1.000000   \n",
              "Public                               -0.723258      0.060547 -1.000000   \n",
              "Coins                                 0.156592     -0.034319  0.038164   \n",
              "Coins/Rewards                        -0.096169     -0.226148 -0.132966   \n",
              "Rewards                              -0.075955      0.290588  0.102852   \n",
              "\n",
              "                                   Public     Coins  Coins/Rewards   Rewards  \n",
              "total_campaign_participated      0.029997 -0.003507       0.156903 -0.169771  \n",
              "total_sales_point                0.000020  0.001219      -0.001062 -0.000245  \n",
              "participated_campaign_frequency  0.044004 -0.012104       0.124365 -0.123696  \n",
              "campaigns_point_earned           0.034213  0.004648       0.114154 -0.131908  \n",
              "stamp_vouchers                   0.005948  0.008988      -0.004722 -0.005243  \n",
              "stamp_expired_vouchers           0.000626  0.005814      -0.002921 -0.003541  \n",
              "game_vouchers                    0.016848 -0.011215       0.055106 -0.047989  \n",
              "game_expired_vouchers           -0.001659  0.008952       0.029672 -0.043313  \n",
              "f                                0.006315 -0.032090       0.050092 -0.018103  \n",
              "m                                0.013939 -0.016585       0.040408 -0.025444  \n",
              "is participated?                 0.111854 -0.243965       0.464120 -0.229921  \n",
              "Max Winning Probability          0.089726  0.182892      -0.466920  0.304207  \n",
              "Min Winning Probability          0.057070 -0.137659       0.153922 -0.010106  \n",
              "Max Winning Rewards              0.086669 -0.410164       0.605012 -0.192323  \n",
              "Min Winning Rewards              0.040780 -0.085900      -0.104905  0.216363  \n",
              "duration                        -0.027191  0.130232       0.036151 -0.191850  \n",
              "Free                             0.251731 -0.034908       0.249832 -0.236143  \n",
              "Seasonal Game                   -0.723258  0.156592      -0.096169 -0.075955  \n",
              "Transactions                     0.060547 -0.034319      -0.226148  0.290588  \n",
              "Private                         -1.000000  0.038164      -0.132966  0.102852  \n",
              "Public                           1.000000 -0.038164       0.132966 -0.102852  \n",
              "Coins                           -0.038164  1.000000      -0.614136 -0.485053  \n",
              "Coins/Rewards                    0.132966 -0.614136       1.000000 -0.392254  \n",
              "Rewards                         -0.102852 -0.485053      -0.392254  1.000000  "
            ],
            "text/html": [
              "\n",
              "  <div id=\"df-027ba1e1-b378-473c-8c8b-ac40d00169fc\">\n",
              "    <div class=\"colab-df-container\">\n",
              "      <div>\n",
              "<style scoped>\n",
              "    .dataframe tbody tr th:only-of-type {\n",
              "        vertical-align: middle;\n",
              "    }\n",
              "\n",
              "    .dataframe tbody tr th {\n",
              "        vertical-align: top;\n",
              "    }\n",
              "\n",
              "    .dataframe thead th {\n",
              "        text-align: right;\n",
              "    }\n",
              "</style>\n",
              "<table border=\"1\" class=\"dataframe\">\n",
              "  <thead>\n",
              "    <tr style=\"text-align: right;\">\n",
              "      <th></th>\n",
              "      <th>total_campaign_participated</th>\n",
              "      <th>total_sales_point</th>\n",
              "      <th>participated_campaign_frequency</th>\n",
              "      <th>campaigns_point_earned</th>\n",
              "      <th>stamp_vouchers</th>\n",
              "      <th>stamp_expired_vouchers</th>\n",
              "      <th>game_vouchers</th>\n",
              "      <th>game_expired_vouchers</th>\n",
              "      <th>f</th>\n",
              "      <th>m</th>\n",
              "      <th>is participated?</th>\n",
              "      <th>Max Winning Probability</th>\n",
              "      <th>Min Winning Probability</th>\n",
              "      <th>Max Winning Rewards</th>\n",
              "      <th>Min Winning Rewards</th>\n",
              "      <th>duration</th>\n",
              "      <th>Free</th>\n",
              "      <th>Seasonal Game</th>\n",
              "      <th>Transactions</th>\n",
              "      <th>Private</th>\n",
              "      <th>Public</th>\n",
              "      <th>Coins</th>\n",
              "      <th>Coins/Rewards</th>\n",
              "      <th>Rewards</th>\n",
              "    </tr>\n",
              "  </thead>\n",
              "  <tbody>\n",
              "    <tr>\n",
              "      <th>total_campaign_participated</th>\n",
              "      <td>1.000000</td>\n",
              "      <td>0.073831</td>\n",
              "      <td>0.761900</td>\n",
              "      <td>0.795705</td>\n",
              "      <td>0.143470</td>\n",
              "      <td>0.096354</td>\n",
              "      <td>0.590370</td>\n",
              "      <td>0.358439</td>\n",
              "      <td>0.143339</td>\n",
              "      <td>0.091866</td>\n",
              "      <td>0.606009</td>\n",
              "      <td>-0.227966</td>\n",
              "      <td>0.012380</td>\n",
              "      <td>0.096641</td>\n",
              "      <td>-0.083704</td>\n",
              "      <td>0.055853</td>\n",
              "      <td>0.140837</td>\n",
              "      <td>0.000009</td>\n",
              "      <td>-0.152453</td>\n",
              "      <td>-0.029997</td>\n",
              "      <td>0.029997</td>\n",
              "      <td>-0.003507</td>\n",
              "      <td>0.156903</td>\n",
              "      <td>-0.169771</td>\n",
              "    </tr>\n",
              "    <tr>\n",
              "      <th>total_sales_point</th>\n",
              "      <td>0.073831</td>\n",
              "      <td>1.000000</td>\n",
              "      <td>0.013224</td>\n",
              "      <td>0.027535</td>\n",
              "      <td>0.265212</td>\n",
              "      <td>0.177591</td>\n",
              "      <td>0.022824</td>\n",
              "      <td>0.026411</td>\n",
              "      <td>0.016079</td>\n",
              "      <td>-0.007204</td>\n",
              "      <td>0.016425</td>\n",
              "      <td>-0.001492</td>\n",
              "      <td>0.004417</td>\n",
              "      <td>-0.000413</td>\n",
              "      <td>0.002173</td>\n",
              "      <td>-0.000801</td>\n",
              "      <td>-0.001388</td>\n",
              "      <td>-0.001598</td>\n",
              "      <td>0.002239</td>\n",
              "      <td>-0.000020</td>\n",
              "      <td>0.000020</td>\n",
              "      <td>0.001219</td>\n",
              "      <td>-0.001062</td>\n",
              "      <td>-0.000245</td>\n",
              "    </tr>\n",
              "    <tr>\n",
              "      <th>participated_campaign_frequency</th>\n",
              "      <td>0.761900</td>\n",
              "      <td>0.013224</td>\n",
              "      <td>1.000000</td>\n",
              "      <td>0.968957</td>\n",
              "      <td>0.115650</td>\n",
              "      <td>0.081079</td>\n",
              "      <td>0.672477</td>\n",
              "      <td>0.250353</td>\n",
              "      <td>0.100644</td>\n",
              "      <td>0.059275</td>\n",
              "      <td>0.469679</td>\n",
              "      <td>-0.195684</td>\n",
              "      <td>0.023876</td>\n",
              "      <td>0.074021</td>\n",
              "      <td>-0.069674</td>\n",
              "      <td>0.044122</td>\n",
              "      <td>0.112570</td>\n",
              "      <td>-0.017031</td>\n",
              "      <td>-0.114009</td>\n",
              "      <td>-0.044004</td>\n",
              "      <td>0.044004</td>\n",
              "      <td>-0.012104</td>\n",
              "      <td>0.124365</td>\n",
              "      <td>-0.123696</td>\n",
              "    </tr>\n",
              "    <tr>\n",
              "      <th>campaigns_point_earned</th>\n",
              "      <td>0.795705</td>\n",
              "      <td>0.027535</td>\n",
              "      <td>0.968957</td>\n",
              "      <td>1.000000</td>\n",
              "      <td>0.122222</td>\n",
              "      <td>0.084155</td>\n",
              "      <td>0.614753</td>\n",
              "      <td>0.249729</td>\n",
              "      <td>0.096436</td>\n",
              "      <td>0.062427</td>\n",
              "      <td>0.473424</td>\n",
              "      <td>-0.186715</td>\n",
              "      <td>0.020615</td>\n",
              "      <td>0.065890</td>\n",
              "      <td>-0.065943</td>\n",
              "      <td>0.044530</td>\n",
              "      <td>0.102809</td>\n",
              "      <td>-0.005716</td>\n",
              "      <td>-0.108654</td>\n",
              "      <td>-0.034213</td>\n",
              "      <td>0.034213</td>\n",
              "      <td>0.004648</td>\n",
              "      <td>0.114154</td>\n",
              "      <td>-0.131908</td>\n",
              "    </tr>\n",
              "    <tr>\n",
              "      <th>stamp_vouchers</th>\n",
              "      <td>0.143470</td>\n",
              "      <td>0.265212</td>\n",
              "      <td>0.115650</td>\n",
              "      <td>0.122222</td>\n",
              "      <td>1.000000</td>\n",
              "      <td>0.555069</td>\n",
              "      <td>0.086899</td>\n",
              "      <td>0.023079</td>\n",
              "      <td>0.016565</td>\n",
              "      <td>-0.003002</td>\n",
              "      <td>0.049656</td>\n",
              "      <td>-0.015186</td>\n",
              "      <td>0.000229</td>\n",
              "      <td>-0.004164</td>\n",
              "      <td>0.002231</td>\n",
              "      <td>0.005791</td>\n",
              "      <td>-0.006687</td>\n",
              "      <td>-0.003331</td>\n",
              "      <td>0.008772</td>\n",
              "      <td>-0.005948</td>\n",
              "      <td>0.005948</td>\n",
              "      <td>0.008988</td>\n",
              "      <td>-0.004722</td>\n",
              "      <td>-0.005243</td>\n",
              "    </tr>\n",
              "    <tr>\n",
              "      <th>stamp_expired_vouchers</th>\n",
              "      <td>0.096354</td>\n",
              "      <td>0.177591</td>\n",
              "      <td>0.081079</td>\n",
              "      <td>0.084155</td>\n",
              "      <td>0.555069</td>\n",
              "      <td>1.000000</td>\n",
              "      <td>0.090919</td>\n",
              "      <td>0.024250</td>\n",
              "      <td>0.011305</td>\n",
              "      <td>-0.002271</td>\n",
              "      <td>0.032013</td>\n",
              "      <td>-0.009387</td>\n",
              "      <td>0.001618</td>\n",
              "      <td>-0.003069</td>\n",
              "      <td>0.002911</td>\n",
              "      <td>0.003437</td>\n",
              "      <td>-0.003359</td>\n",
              "      <td>0.001145</td>\n",
              "      <td>0.003109</td>\n",
              "      <td>-0.000626</td>\n",
              "      <td>0.000626</td>\n",
              "      <td>0.005814</td>\n",
              "      <td>-0.002921</td>\n",
              "      <td>-0.003541</td>\n",
              "    </tr>\n",
              "    <tr>\n",
              "      <th>game_vouchers</th>\n",
              "      <td>0.590370</td>\n",
              "      <td>0.022824</td>\n",
              "      <td>0.672477</td>\n",
              "      <td>0.614753</td>\n",
              "      <td>0.086899</td>\n",
              "      <td>0.090919</td>\n",
              "      <td>1.000000</td>\n",
              "      <td>0.376581</td>\n",
              "      <td>0.098526</td>\n",
              "      <td>0.015098</td>\n",
              "      <td>0.334396</td>\n",
              "      <td>-0.109653</td>\n",
              "      <td>0.022331</td>\n",
              "      <td>0.031335</td>\n",
              "      <td>-0.047345</td>\n",
              "      <td>0.033596</td>\n",
              "      <td>0.081294</td>\n",
              "      <td>-0.002387</td>\n",
              "      <td>-0.086898</td>\n",
              "      <td>-0.016848</td>\n",
              "      <td>0.016848</td>\n",
              "      <td>-0.011215</td>\n",
              "      <td>0.055106</td>\n",
              "      <td>-0.047989</td>\n",
              "    </tr>\n",
              "    <tr>\n",
              "      <th>game_expired_vouchers</th>\n",
              "      <td>0.358439</td>\n",
              "      <td>0.026411</td>\n",
              "      <td>0.250353</td>\n",
              "      <td>0.249729</td>\n",
              "      <td>0.023079</td>\n",
              "      <td>0.024250</td>\n",
              "      <td>0.376581</td>\n",
              "      <td>1.000000</td>\n",
              "      <td>0.055977</td>\n",
              "      <td>0.014647</td>\n",
              "      <td>0.198051</td>\n",
              "      <td>-0.047963</td>\n",
              "      <td>0.003909</td>\n",
              "      <td>0.009091</td>\n",
              "      <td>-0.024076</td>\n",
              "      <td>0.020053</td>\n",
              "      <td>0.046197</td>\n",
              "      <td>0.008149</td>\n",
              "      <td>-0.053759</td>\n",
              "      <td>0.001659</td>\n",
              "      <td>-0.001659</td>\n",
              "      <td>0.008952</td>\n",
              "      <td>0.029672</td>\n",
              "      <td>-0.043313</td>\n",
              "    </tr>\n",
              "    <tr>\n",
              "      <th>f</th>\n",
              "      <td>0.143339</td>\n",
              "      <td>0.016079</td>\n",
              "      <td>0.100644</td>\n",
              "      <td>0.096436</td>\n",
              "      <td>0.016565</td>\n",
              "      <td>0.011305</td>\n",
              "      <td>0.098526</td>\n",
              "      <td>0.055977</td>\n",
              "      <td>1.000000</td>\n",
              "      <td>-0.804366</td>\n",
              "      <td>0.129497</td>\n",
              "      <td>-0.045831</td>\n",
              "      <td>-0.001863</td>\n",
              "      <td>0.033913</td>\n",
              "      <td>-0.025991</td>\n",
              "      <td>0.016769</td>\n",
              "      <td>0.033759</td>\n",
              "      <td>-0.004935</td>\n",
              "      <td>-0.034270</td>\n",
              "      <td>-0.006315</td>\n",
              "      <td>0.006315</td>\n",
              "      <td>-0.032090</td>\n",
              "      <td>0.050092</td>\n",
              "      <td>-0.018103</td>\n",
              "    </tr>\n",
              "    <tr>\n",
              "      <th>m</th>\n",
              "      <td>0.091866</td>\n",
              "      <td>-0.007204</td>\n",
              "      <td>0.059275</td>\n",
              "      <td>0.062427</td>\n",
              "      <td>-0.003002</td>\n",
              "      <td>-0.002271</td>\n",
              "      <td>0.015098</td>\n",
              "      <td>0.014647</td>\n",
              "      <td>-0.804366</td>\n",
              "      <td>1.000000</td>\n",
              "      <td>0.085613</td>\n",
              "      <td>-0.033204</td>\n",
              "      <td>0.000404</td>\n",
              "      <td>0.025479</td>\n",
              "      <td>-0.009326</td>\n",
              "      <td>0.003224</td>\n",
              "      <td>0.022522</td>\n",
              "      <td>-0.008368</td>\n",
              "      <td>-0.020526</td>\n",
              "      <td>-0.013939</td>\n",
              "      <td>0.013939</td>\n",
              "      <td>-0.016585</td>\n",
              "      <td>0.040408</td>\n",
              "      <td>-0.025444</td>\n",
              "    </tr>\n",
              "    <tr>\n",
              "      <th>is participated?</th>\n",
              "      <td>0.606009</td>\n",
              "      <td>0.016425</td>\n",
              "      <td>0.469679</td>\n",
              "      <td>0.473424</td>\n",
              "      <td>0.049656</td>\n",
              "      <td>0.032013</td>\n",
              "      <td>0.334396</td>\n",
              "      <td>0.198051</td>\n",
              "      <td>0.129497</td>\n",
              "      <td>0.085613</td>\n",
              "      <td>1.000000</td>\n",
              "      <td>-0.400008</td>\n",
              "      <td>-0.006910</td>\n",
              "      <td>0.303730</td>\n",
              "      <td>-0.177987</td>\n",
              "      <td>0.094063</td>\n",
              "      <td>0.276678</td>\n",
              "      <td>-0.069961</td>\n",
              "      <td>-0.267276</td>\n",
              "      <td>-0.111854</td>\n",
              "      <td>0.111854</td>\n",
              "      <td>-0.243965</td>\n",
              "      <td>0.464120</td>\n",
              "      <td>-0.229921</td>\n",
              "    </tr>\n",
              "    <tr>\n",
              "      <th>Max Winning Probability</th>\n",
              "      <td>-0.227966</td>\n",
              "      <td>-0.001492</td>\n",
              "      <td>-0.195684</td>\n",
              "      <td>-0.186715</td>\n",
              "      <td>-0.015186</td>\n",
              "      <td>-0.009387</td>\n",
              "      <td>-0.109653</td>\n",
              "      <td>-0.047963</td>\n",
              "      <td>-0.045831</td>\n",
              "      <td>-0.033204</td>\n",
              "      <td>-0.400008</td>\n",
              "      <td>1.000000</td>\n",
              "      <td>0.106347</td>\n",
              "      <td>-0.356954</td>\n",
              "      <td>-0.085001</td>\n",
              "      <td>0.149997</td>\n",
              "      <td>0.116344</td>\n",
              "      <td>-0.110449</td>\n",
              "      <td>-0.075079</td>\n",
              "      <td>-0.089726</td>\n",
              "      <td>0.089726</td>\n",
              "      <td>0.182892</td>\n",
              "      <td>-0.466920</td>\n",
              "      <td>0.304207</td>\n",
              "    </tr>\n",
              "    <tr>\n",
              "      <th>Min Winning Probability</th>\n",
              "      <td>0.012380</td>\n",
              "      <td>0.004417</td>\n",
              "      <td>0.023876</td>\n",
              "      <td>0.020615</td>\n",
              "      <td>0.000229</td>\n",
              "      <td>0.001618</td>\n",
              "      <td>0.022331</td>\n",
              "      <td>0.003909</td>\n",
              "      <td>-0.001863</td>\n",
              "      <td>0.000404</td>\n",
              "      <td>-0.006910</td>\n",
              "      <td>0.106347</td>\n",
              "      <td>1.000000</td>\n",
              "      <td>-0.164642</td>\n",
              "      <td>0.146179</td>\n",
              "      <td>-0.032043</td>\n",
              "      <td>0.084323</td>\n",
              "      <td>-0.026217</td>\n",
              "      <td>-0.079203</td>\n",
              "      <td>-0.057070</td>\n",
              "      <td>0.057070</td>\n",
              "      <td>-0.137659</td>\n",
              "      <td>0.153922</td>\n",
              "      <td>-0.010106</td>\n",
              "    </tr>\n",
              "    <tr>\n",
              "      <th>Max Winning Rewards</th>\n",
              "      <td>0.096641</td>\n",
              "      <td>-0.000413</td>\n",
              "      <td>0.074021</td>\n",
              "      <td>0.065890</td>\n",
              "      <td>-0.004164</td>\n",
              "      <td>-0.003069</td>\n",
              "      <td>0.031335</td>\n",
              "      <td>0.009091</td>\n",
              "      <td>0.033913</td>\n",
              "      <td>0.025479</td>\n",
              "      <td>0.303730</td>\n",
              "      <td>-0.356954</td>\n",
              "      <td>-0.164642</td>\n",
              "      <td>1.000000</td>\n",
              "      <td>-0.105985</td>\n",
              "      <td>0.012041</td>\n",
              "      <td>0.162613</td>\n",
              "      <td>-0.061111</td>\n",
              "      <td>-0.147881</td>\n",
              "      <td>-0.086669</td>\n",
              "      <td>0.086669</td>\n",
              "      <td>-0.410164</td>\n",
              "      <td>0.605012</td>\n",
              "      <td>-0.192323</td>\n",
              "    </tr>\n",
              "    <tr>\n",
              "      <th>Min Winning Rewards</th>\n",
              "      <td>-0.083704</td>\n",
              "      <td>0.002173</td>\n",
              "      <td>-0.069674</td>\n",
              "      <td>-0.065943</td>\n",
              "      <td>0.002231</td>\n",
              "      <td>0.002911</td>\n",
              "      <td>-0.047345</td>\n",
              "      <td>-0.024076</td>\n",
              "      <td>-0.025991</td>\n",
              "      <td>-0.009326</td>\n",
              "      <td>-0.177987</td>\n",
              "      <td>-0.085001</td>\n",
              "      <td>0.146179</td>\n",
              "      <td>-0.105985</td>\n",
              "      <td>1.000000</td>\n",
              "      <td>-0.916878</td>\n",
              "      <td>-0.387772</td>\n",
              "      <td>-0.028168</td>\n",
              "      <td>0.432714</td>\n",
              "      <td>-0.040780</td>\n",
              "      <td>0.040780</td>\n",
              "      <td>-0.085900</td>\n",
              "      <td>-0.104905</td>\n",
              "      <td>0.216363</td>\n",
              "    </tr>\n",
              "    <tr>\n",
              "      <th>duration</th>\n",
              "      <td>0.055853</td>\n",
              "      <td>-0.000801</td>\n",
              "      <td>0.044122</td>\n",
              "      <td>0.044530</td>\n",
              "      <td>0.005791</td>\n",
              "      <td>0.003437</td>\n",
              "      <td>0.033596</td>\n",
              "      <td>0.020053</td>\n",
              "      <td>0.016769</td>\n",
              "      <td>0.003224</td>\n",
              "      <td>0.094063</td>\n",
              "      <td>0.149997</td>\n",
              "      <td>-0.032043</td>\n",
              "      <td>0.012041</td>\n",
              "      <td>-0.916878</td>\n",
              "      <td>1.000000</td>\n",
              "      <td>0.324646</td>\n",
              "      <td>0.019666</td>\n",
              "      <td>-0.360468</td>\n",
              "      <td>0.027191</td>\n",
              "      <td>-0.027191</td>\n",
              "      <td>0.130232</td>\n",
              "      <td>0.036151</td>\n",
              "      <td>-0.191850</td>\n",
              "    </tr>\n",
              "    <tr>\n",
              "      <th>Free</th>\n",
              "      <td>0.140837</td>\n",
              "      <td>-0.001388</td>\n",
              "      <td>0.112570</td>\n",
              "      <td>0.102809</td>\n",
              "      <td>-0.006687</td>\n",
              "      <td>-0.003359</td>\n",
              "      <td>0.081294</td>\n",
              "      <td>0.046197</td>\n",
              "      <td>0.033759</td>\n",
              "      <td>0.022522</td>\n",
              "      <td>0.276678</td>\n",
              "      <td>0.116344</td>\n",
              "      <td>0.084323</td>\n",
              "      <td>0.162613</td>\n",
              "      <td>-0.387772</td>\n",
              "      <td>0.324646</td>\n",
              "      <td>1.000000</td>\n",
              "      <td>-0.384934</td>\n",
              "      <td>-0.905202</td>\n",
              "      <td>-0.251731</td>\n",
              "      <td>0.251731</td>\n",
              "      <td>-0.034908</td>\n",
              "      <td>0.249832</td>\n",
              "      <td>-0.236143</td>\n",
              "    </tr>\n",
              "    <tr>\n",
              "      <th>Seasonal Game</th>\n",
              "      <td>0.000009</td>\n",
              "      <td>-0.001598</td>\n",
              "      <td>-0.017031</td>\n",
              "      <td>-0.005716</td>\n",
              "      <td>-0.003331</td>\n",
              "      <td>0.001145</td>\n",
              "      <td>-0.002387</td>\n",
              "      <td>0.008149</td>\n",
              "      <td>-0.004935</td>\n",
              "      <td>-0.008368</td>\n",
              "      <td>-0.069961</td>\n",
              "      <td>-0.110449</td>\n",
              "      <td>-0.026217</td>\n",
              "      <td>-0.061111</td>\n",
              "      <td>-0.028168</td>\n",
              "      <td>0.019666</td>\n",
              "      <td>-0.384934</td>\n",
              "      <td>1.000000</td>\n",
              "      <td>-0.043791</td>\n",
              "      <td>0.723258</td>\n",
              "      <td>-0.723258</td>\n",
              "      <td>0.156592</td>\n",
              "      <td>-0.096169</td>\n",
              "      <td>-0.075955</td>\n",
              "    </tr>\n",
              "    <tr>\n",
              "      <th>Transactions</th>\n",
              "      <td>-0.152453</td>\n",
              "      <td>0.002239</td>\n",
              "      <td>-0.114009</td>\n",
              "      <td>-0.108654</td>\n",
              "      <td>0.008772</td>\n",
              "      <td>0.003109</td>\n",
              "      <td>-0.086898</td>\n",
              "      <td>-0.053759</td>\n",
              "      <td>-0.034270</td>\n",
              "      <td>-0.020526</td>\n",
              "      <td>-0.267276</td>\n",
              "      <td>-0.075079</td>\n",
              "      <td>-0.079203</td>\n",
              "      <td>-0.147881</td>\n",
              "      <td>0.432714</td>\n",
              "      <td>-0.360468</td>\n",
              "      <td>-0.905202</td>\n",
              "      <td>-0.043791</td>\n",
              "      <td>1.000000</td>\n",
              "      <td>-0.060547</td>\n",
              "      <td>0.060547</td>\n",
              "      <td>-0.034319</td>\n",
              "      <td>-0.226148</td>\n",
              "      <td>0.290588</td>\n",
              "    </tr>\n",
              "    <tr>\n",
              "      <th>Private</th>\n",
              "      <td>-0.029997</td>\n",
              "      <td>-0.000020</td>\n",
              "      <td>-0.044004</td>\n",
              "      <td>-0.034213</td>\n",
              "      <td>-0.005948</td>\n",
              "      <td>-0.000626</td>\n",
              "      <td>-0.016848</td>\n",
              "      <td>0.001659</td>\n",
              "      <td>-0.006315</td>\n",
              "      <td>-0.013939</td>\n",
              "      <td>-0.111854</td>\n",
              "      <td>-0.089726</td>\n",
              "      <td>-0.057070</td>\n",
              "      <td>-0.086669</td>\n",
              "      <td>-0.040780</td>\n",
              "      <td>0.027191</td>\n",
              "      <td>-0.251731</td>\n",
              "      <td>0.723258</td>\n",
              "      <td>-0.060547</td>\n",
              "      <td>1.000000</td>\n",
              "      <td>-1.000000</td>\n",
              "      <td>0.038164</td>\n",
              "      <td>-0.132966</td>\n",
              "      <td>0.102852</td>\n",
              "    </tr>\n",
              "    <tr>\n",
              "      <th>Public</th>\n",
              "      <td>0.029997</td>\n",
              "      <td>0.000020</td>\n",
              "      <td>0.044004</td>\n",
              "      <td>0.034213</td>\n",
              "      <td>0.005948</td>\n",
              "      <td>0.000626</td>\n",
              "      <td>0.016848</td>\n",
              "      <td>-0.001659</td>\n",
              "      <td>0.006315</td>\n",
              "      <td>0.013939</td>\n",
              "      <td>0.111854</td>\n",
              "      <td>0.089726</td>\n",
              "      <td>0.057070</td>\n",
              "      <td>0.086669</td>\n",
              "      <td>0.040780</td>\n",
              "      <td>-0.027191</td>\n",
              "      <td>0.251731</td>\n",
              "      <td>-0.723258</td>\n",
              "      <td>0.060547</td>\n",
              "      <td>-1.000000</td>\n",
              "      <td>1.000000</td>\n",
              "      <td>-0.038164</td>\n",
              "      <td>0.132966</td>\n",
              "      <td>-0.102852</td>\n",
              "    </tr>\n",
              "    <tr>\n",
              "      <th>Coins</th>\n",
              "      <td>-0.003507</td>\n",
              "      <td>0.001219</td>\n",
              "      <td>-0.012104</td>\n",
              "      <td>0.004648</td>\n",
              "      <td>0.008988</td>\n",
              "      <td>0.005814</td>\n",
              "      <td>-0.011215</td>\n",
              "      <td>0.008952</td>\n",
              "      <td>-0.032090</td>\n",
              "      <td>-0.016585</td>\n",
              "      <td>-0.243965</td>\n",
              "      <td>0.182892</td>\n",
              "      <td>-0.137659</td>\n",
              "      <td>-0.410164</td>\n",
              "      <td>-0.085900</td>\n",
              "      <td>0.130232</td>\n",
              "      <td>-0.034908</td>\n",
              "      <td>0.156592</td>\n",
              "      <td>-0.034319</td>\n",
              "      <td>0.038164</td>\n",
              "      <td>-0.038164</td>\n",
              "      <td>1.000000</td>\n",
              "      <td>-0.614136</td>\n",
              "      <td>-0.485053</td>\n",
              "    </tr>\n",
              "    <tr>\n",
              "      <th>Coins/Rewards</th>\n",
              "      <td>0.156903</td>\n",
              "      <td>-0.001062</td>\n",
              "      <td>0.124365</td>\n",
              "      <td>0.114154</td>\n",
              "      <td>-0.004722</td>\n",
              "      <td>-0.002921</td>\n",
              "      <td>0.055106</td>\n",
              "      <td>0.029672</td>\n",
              "      <td>0.050092</td>\n",
              "      <td>0.040408</td>\n",
              "      <td>0.464120</td>\n",
              "      <td>-0.466920</td>\n",
              "      <td>0.153922</td>\n",
              "      <td>0.605012</td>\n",
              "      <td>-0.104905</td>\n",
              "      <td>0.036151</td>\n",
              "      <td>0.249832</td>\n",
              "      <td>-0.096169</td>\n",
              "      <td>-0.226148</td>\n",
              "      <td>-0.132966</td>\n",
              "      <td>0.132966</td>\n",
              "      <td>-0.614136</td>\n",
              "      <td>1.000000</td>\n",
              "      <td>-0.392254</td>\n",
              "    </tr>\n",
              "    <tr>\n",
              "      <th>Rewards</th>\n",
              "      <td>-0.169771</td>\n",
              "      <td>-0.000245</td>\n",
              "      <td>-0.123696</td>\n",
              "      <td>-0.131908</td>\n",
              "      <td>-0.005243</td>\n",
              "      <td>-0.003541</td>\n",
              "      <td>-0.047989</td>\n",
              "      <td>-0.043313</td>\n",
              "      <td>-0.018103</td>\n",
              "      <td>-0.025444</td>\n",
              "      <td>-0.229921</td>\n",
              "      <td>0.304207</td>\n",
              "      <td>-0.010106</td>\n",
              "      <td>-0.192323</td>\n",
              "      <td>0.216363</td>\n",
              "      <td>-0.191850</td>\n",
              "      <td>-0.236143</td>\n",
              "      <td>-0.075955</td>\n",
              "      <td>0.290588</td>\n",
              "      <td>0.102852</td>\n",
              "      <td>-0.102852</td>\n",
              "      <td>-0.485053</td>\n",
              "      <td>-0.392254</td>\n",
              "      <td>1.000000</td>\n",
              "    </tr>\n",
              "  </tbody>\n",
              "</table>\n",
              "</div>\n",
              "      <button class=\"colab-df-convert\" onclick=\"convertToInteractive('df-027ba1e1-b378-473c-8c8b-ac40d00169fc')\"\n",
              "              title=\"Convert this dataframe to an interactive table.\"\n",
              "              style=\"display:none;\">\n",
              "        \n",
              "  <svg xmlns=\"http://www.w3.org/2000/svg\" height=\"24px\"viewBox=\"0 0 24 24\"\n",
              "       width=\"24px\">\n",
              "    <path d=\"M0 0h24v24H0V0z\" fill=\"none\"/>\n",
              "    <path d=\"M18.56 5.44l.94 2.06.94-2.06 2.06-.94-2.06-.94-.94-2.06-.94 2.06-2.06.94zm-11 1L8.5 8.5l.94-2.06 2.06-.94-2.06-.94L8.5 2.5l-.94 2.06-2.06.94zm10 10l.94 2.06.94-2.06 2.06-.94-2.06-.94-.94-2.06-.94 2.06-2.06.94z\"/><path d=\"M17.41 7.96l-1.37-1.37c-.4-.4-.92-.59-1.43-.59-.52 0-1.04.2-1.43.59L10.3 9.45l-7.72 7.72c-.78.78-.78 2.05 0 2.83L4 21.41c.39.39.9.59 1.41.59.51 0 1.02-.2 1.41-.59l7.78-7.78 2.81-2.81c.8-.78.8-2.07 0-2.86zM5.41 20L4 18.59l7.72-7.72 1.47 1.35L5.41 20z\"/>\n",
              "  </svg>\n",
              "      </button>\n",
              "      \n",
              "  <style>\n",
              "    .colab-df-container {\n",
              "      display:flex;\n",
              "      flex-wrap:wrap;\n",
              "      gap: 12px;\n",
              "    }\n",
              "\n",
              "    .colab-df-convert {\n",
              "      background-color: #E8F0FE;\n",
              "      border: none;\n",
              "      border-radius: 50%;\n",
              "      cursor: pointer;\n",
              "      display: none;\n",
              "      fill: #1967D2;\n",
              "      height: 32px;\n",
              "      padding: 0 0 0 0;\n",
              "      width: 32px;\n",
              "    }\n",
              "\n",
              "    .colab-df-convert:hover {\n",
              "      background-color: #E2EBFA;\n",
              "      box-shadow: 0px 1px 2px rgba(60, 64, 67, 0.3), 0px 1px 3px 1px rgba(60, 64, 67, 0.15);\n",
              "      fill: #174EA6;\n",
              "    }\n",
              "\n",
              "    [theme=dark] .colab-df-convert {\n",
              "      background-color: #3B4455;\n",
              "      fill: #D2E3FC;\n",
              "    }\n",
              "\n",
              "    [theme=dark] .colab-df-convert:hover {\n",
              "      background-color: #434B5C;\n",
              "      box-shadow: 0px 1px 3px 1px rgba(0, 0, 0, 0.15);\n",
              "      filter: drop-shadow(0px 1px 2px rgba(0, 0, 0, 0.3));\n",
              "      fill: #FFFFFF;\n",
              "    }\n",
              "  </style>\n",
              "\n",
              "      <script>\n",
              "        const buttonEl =\n",
              "          document.querySelector('#df-027ba1e1-b378-473c-8c8b-ac40d00169fc button.colab-df-convert');\n",
              "        buttonEl.style.display =\n",
              "          google.colab.kernel.accessAllowed ? 'block' : 'none';\n",
              "\n",
              "        async function convertToInteractive(key) {\n",
              "          const element = document.querySelector('#df-027ba1e1-b378-473c-8c8b-ac40d00169fc');\n",
              "          const dataTable =\n",
              "            await google.colab.kernel.invokeFunction('convertToInteractive',\n",
              "                                                     [key], {});\n",
              "          if (!dataTable) return;\n",
              "\n",
              "          const docLinkHtml = 'Like what you see? Visit the ' +\n",
              "            '<a target=\"_blank\" href=https://colab.research.google.com/notebooks/data_table.ipynb>data table notebook</a>'\n",
              "            + ' to learn more about interactive tables.';\n",
              "          element.innerHTML = '';\n",
              "          dataTable['output_type'] = 'display_data';\n",
              "          await google.colab.output.renderOutput(dataTable, element);\n",
              "          const docLink = document.createElement('div');\n",
              "          docLink.innerHTML = docLinkHtml;\n",
              "          element.appendChild(docLink);\n",
              "        }\n",
              "      </script>\n",
              "    </div>\n",
              "  </div>\n",
              "  "
            ]
          },
          "metadata": {},
          "execution_count": 29
        }
      ],
      "source": [
        "train_pocket_con.corr()"
      ],
      "id": "70SkYvreOhg4"
    },
    {
      "cell_type": "code",
      "source": [
        "print(len(participation))\n",
        "print(len(no_participation))"
      ],
      "metadata": {
        "colab": {
          "base_uri": "https://localhost:8080/"
        },
        "id": "Ucfdh9DYy53I",
        "outputId": "7cb8465a-6fcb-4406-e2ae-48c9fb4be010"
      },
      "id": "Ucfdh9DYy53I",
      "execution_count": null,
      "outputs": [
        {
          "output_type": "stream",
          "name": "stdout",
          "text": [
            "88450\n",
            "88450\n"
          ]
        }
      ]
    },
    {
      "cell_type": "code",
      "source": [
        "88450*0.8"
      ],
      "metadata": {
        "colab": {
          "base_uri": "https://localhost:8080/"
        },
        "id": "JUVnW8MuyGpf",
        "outputId": "4f827566-70a4-4ed8-99c8-94da5556c5e7"
      },
      "id": "JUVnW8MuyGpf",
      "execution_count": null,
      "outputs": [
        {
          "output_type": "execute_result",
          "data": {
            "text/plain": [
              "70760.0"
            ]
          },
          "metadata": {},
          "execution_count": 31
        }
      ]
    },
    {
      "cell_type": "code",
      "source": [
        "1641579*0.8"
      ],
      "metadata": {
        "colab": {
          "base_uri": "https://localhost:8080/"
        },
        "id": "ZntlGqbbxYGP",
        "outputId": "a133fb99-e35b-40b3-e20b-d74e75091df7"
      },
      "id": "ZntlGqbbxYGP",
      "execution_count": null,
      "outputs": [
        {
          "output_type": "execute_result",
          "data": {
            "text/plain": [
              "1313263.2000000002"
            ]
          },
          "metadata": {},
          "execution_count": 32
        }
      ]
    },
    {
      "cell_type": "code",
      "source": [
        "1641579*0.2"
      ],
      "metadata": {
        "colab": {
          "base_uri": "https://localhost:8080/"
        },
        "id": "tch_b8WG0D1m",
        "outputId": "8f546188-4a7f-4087-9c2e-6d979257cf11"
      },
      "id": "tch_b8WG0D1m",
      "execution_count": null,
      "outputs": [
        {
          "output_type": "execute_result",
          "data": {
            "text/plain": [
              "328315.80000000005"
            ]
          },
          "metadata": {},
          "execution_count": 33
        }
      ]
    },
    {
      "cell_type": "code",
      "source": [
        "#80% for training no-balance\n",
        "\n",
        "print(\"no participation\",len(no_participation[0:70760]))\n",
        "print(\"participation\",len(participation[0:70760]))\n",
        "tnp=no_participation[0:70760]\n",
        "tp=participation[0:70760]\n",
        "train=pd.concat([tnp,tp],axis=0)\n",
        "\n",
        "# train=train_pocket[0:1313263]\n",
        "# print(len(train))\n",
        "# print(type(train))"
      ],
      "metadata": {
        "colab": {
          "base_uri": "https://localhost:8080/"
        },
        "id": "G9rddnUwwX-Z",
        "outputId": "ce02fe77-3fe3-41e5-d001-e94dcd11a9c5"
      },
      "id": "G9rddnUwwX-Z",
      "execution_count": null,
      "outputs": [
        {
          "output_type": "stream",
          "name": "stdout",
          "text": [
            "no participation 70760\n",
            "participation 70760\n"
          ]
        }
      ]
    },
    {
      "cell_type": "code",
      "execution_count": null,
      "metadata": {
        "colab": {
          "base_uri": "https://localhost:8080/"
        },
        "id": "LdzF3iIOEaaT",
        "outputId": "70ff7a43-62fc-49c4-8ca6-f415061f58b0"
      },
      "outputs": [
        {
          "output_type": "stream",
          "name": "stdout",
          "text": [
            "no participation 17690\n",
            "participation 17690\n"
          ]
        }
      ],
      "source": [
        "# #20% for validation\n",
        "\n",
        "print(\"no participation\",len(no_participation[70760:]))\n",
        "print(\"participation\",len(participation[70760:]))\n",
        "vnp=no_participation[70760:]\n",
        "vp=participation[70760:]\n",
        "val=pd.concat([vnp,vp],axis=0)\n",
        "\n",
        "# print(len(val))\n",
        "# print(type(val))"
      ],
      "id": "LdzF3iIOEaaT"
    },
    {
      "cell_type": "code",
      "execution_count": null,
      "metadata": {
        "id": "R4xunl6BtgwF"
      },
      "outputs": [],
      "source": [
        "X_train=train.drop(['campaign id','is participated?','Campaign ID','user account'],axis=1)\n",
        "X_val=val.drop(['campaign id','is participated?','Campaign ID','user account'],axis=1)\n"
      ],
      "id": "R4xunl6BtgwF"
    },
    {
      "cell_type": "code",
      "execution_count": null,
      "metadata": {
        "id": "_ekEWwuyuHxj"
      },
      "outputs": [],
      "source": [
        "y_train=train[\"is participated?\"] \n",
        "y_val=val[\"is participated?\"]"
      ],
      "id": "_ekEWwuyuHxj"
    },
    {
      "cell_type": "markdown",
      "metadata": {
        "id": "4efab4db",
        "scrolled": true
      },
      "source": [
        "## Model training with orginal data(version 1-user feature only)"
      ],
      "id": "4efab4db"
    },
    {
      "cell_type": "code",
      "execution_count": null,
      "metadata": {
        "id": "95f7d7bc",
        "outputId": "48419059-93ba-4b1a-c84f-14344b7cf8bb",
        "scrolled": true
      },
      "outputs": [
        {
          "data": {
            "text/html": [
              "<div>\n",
              "<style scoped>\n",
              "    .dataframe tbody tr th:only-of-type {\n",
              "        vertical-align: middle;\n",
              "    }\n",
              "\n",
              "    .dataframe tbody tr th {\n",
              "        vertical-align: top;\n",
              "    }\n",
              "\n",
              "    .dataframe thead th {\n",
              "        text-align: right;\n",
              "    }\n",
              "</style>\n",
              "<table border=\"1\" class=\"dataframe\">\n",
              "  <thead>\n",
              "    <tr style=\"text-align: right;\">\n",
              "      <th></th>\n",
              "      <th>participated_campaign_frequency</th>\n",
              "      <th>campaigns_point_earned</th>\n",
              "      <th>stamp_vouchers</th>\n",
              "      <th>stamp_expired_vouchers</th>\n",
              "      <th>game_vouchers</th>\n",
              "      <th>game_expired_vouchers</th>\n",
              "      <th>sales_points_earned</th>\n",
              "      <th>Total campaign participated</th>\n",
              "    </tr>\n",
              "  </thead>\n",
              "  <tbody>\n",
              "    <tr>\n",
              "      <th>0</th>\n",
              "      <td>0.0</td>\n",
              "      <td>0.0</td>\n",
              "      <td>0.0</td>\n",
              "      <td>0.0</td>\n",
              "      <td>0.0</td>\n",
              "      <td>0.0</td>\n",
              "      <td>0.0</td>\n",
              "      <td>0.0</td>\n",
              "    </tr>\n",
              "    <tr>\n",
              "      <th>1</th>\n",
              "      <td>0.0</td>\n",
              "      <td>0.0</td>\n",
              "      <td>0.0</td>\n",
              "      <td>0.0</td>\n",
              "      <td>0.0</td>\n",
              "      <td>0.0</td>\n",
              "      <td>0.0</td>\n",
              "      <td>0.0</td>\n",
              "    </tr>\n",
              "    <tr>\n",
              "      <th>2</th>\n",
              "      <td>0.0</td>\n",
              "      <td>0.0</td>\n",
              "      <td>0.0</td>\n",
              "      <td>0.0</td>\n",
              "      <td>0.0</td>\n",
              "      <td>0.0</td>\n",
              "      <td>0.0</td>\n",
              "      <td>0.0</td>\n",
              "    </tr>\n",
              "    <tr>\n",
              "      <th>3</th>\n",
              "      <td>0.0</td>\n",
              "      <td>0.0</td>\n",
              "      <td>0.0</td>\n",
              "      <td>0.0</td>\n",
              "      <td>0.0</td>\n",
              "      <td>0.0</td>\n",
              "      <td>0.0</td>\n",
              "      <td>0.0</td>\n",
              "    </tr>\n",
              "    <tr>\n",
              "      <th>4</th>\n",
              "      <td>0.0</td>\n",
              "      <td>0.0</td>\n",
              "      <td>0.0</td>\n",
              "      <td>0.0</td>\n",
              "      <td>0.0</td>\n",
              "      <td>0.0</td>\n",
              "      <td>0.0</td>\n",
              "      <td>0.0</td>\n",
              "    </tr>\n",
              "  </tbody>\n",
              "</table>\n",
              "</div>"
            ],
            "text/plain": [
              "   participated_campaign_frequency  campaigns_point_earned  stamp_vouchers  \\\n",
              "0                              0.0                     0.0             0.0   \n",
              "1                              0.0                     0.0             0.0   \n",
              "2                              0.0                     0.0             0.0   \n",
              "3                              0.0                     0.0             0.0   \n",
              "4                              0.0                     0.0             0.0   \n",
              "\n",
              "   stamp_expired_vouchers  game_vouchers  game_expired_vouchers  \\\n",
              "0                     0.0            0.0                    0.0   \n",
              "1                     0.0            0.0                    0.0   \n",
              "2                     0.0            0.0                    0.0   \n",
              "3                     0.0            0.0                    0.0   \n",
              "4                     0.0            0.0                    0.0   \n",
              "\n",
              "   sales_points_earned  Total campaign participated  \n",
              "0                  0.0                          0.0  \n",
              "1                  0.0                          0.0  \n",
              "2                  0.0                          0.0  \n",
              "3                  0.0                          0.0  \n",
              "4                  0.0                          0.0  "
            ]
          },
          "execution_count": 33,
          "metadata": {},
          "output_type": "execute_result"
        }
      ],
      "source": [
        "scaled_data.head()"
      ],
      "id": "95f7d7bc"
    },
    {
      "cell_type": "code",
      "execution_count": null,
      "metadata": {
        "colab": {
          "base_uri": "https://localhost:8080/"
        },
        "id": "f3245201",
        "outputId": "5f184e12-c57e-4cb6-a560-a0ff9296cb84"
      },
      "outputs": [
        {
          "name": "stdout",
          "output_type": "stream",
          "text": [
            "(1553756, 8)\n",
            "(1553756,)\n",
            "(194220, 8)\n",
            "(194220,)\n",
            "(194220, 8)\n",
            "(194220,)\n"
          ]
        },
        {
          "data": {
            "text/plain": [
              "(None, None)"
            ]
          },
          "execution_count": 12,
          "metadata": {},
          "output_type": "execute_result"
        }
      ],
      "source": [
        "# X_train, X_test, y_train, y_test = train_test_split(scaled_data, target, test_size=0.1, random_state=42,shuffle=True)\n",
        "\n",
        "# In the first step we will split the data in training and remaining dataset\n",
        "X_train, X_rem, y_train, y_rem = train_test_split(scaled_data, target, train_size=0.8, random_state=42,shuffle=True)\n",
        "\n",
        "# Now since we want the valid and test size to be equal (10% each of overall data). \n",
        "# we have to define valid_size=0.5 (that is 50% of remaining data)\n",
        "\n",
        "X_valid, X_test, y_valid, y_test = train_test_split(X_rem,y_rem, test_size=0.5)\n",
        "\n",
        "print(X_train.shape), print(y_train.shape)\n",
        "print(X_valid.shape), print(y_valid.shape)\n",
        "print(X_test.shape), print(y_test.shape)"
      ],
      "id": "f3245201"
    },
    {
      "cell_type": "markdown",
      "metadata": {
        "id": "3c862709"
      },
      "source": [
        "### Random Forest Classifier"
      ],
      "id": "3c862709"
    },
    {
      "cell_type": "code",
      "execution_count": null,
      "metadata": {
        "colab": {
          "base_uri": "https://localhost:8080/"
        },
        "id": "bb7e99c5",
        "outputId": "92851542-68e6-41d7-ffd2-8c7d5e206c4a"
      },
      "outputs": [
        {
          "name": "stdout",
          "output_type": "stream",
          "text": [
            "1.0\n"
          ]
        }
      ],
      "source": [
        "classifier=RandomForestClassifier()\n",
        "classifier=classifier.fit(X_train,y_train)\n",
        "y_pred_rf=classifier.predict(X_test)\n",
        "print(accuracy_score(y_test,y_pred_rf))\n"
      ],
      "id": "bb7e99c5"
    },
    {
      "cell_type": "code",
      "execution_count": null,
      "metadata": {
        "colab": {
          "base_uri": "https://localhost:8080/",
          "height": 265
        },
        "id": "a6b04ef9",
        "outputId": "f7ad7447-c183-485d-dafa-30399108c999"
      },
      "outputs": [
        {
          "data": {
            "image/png": "[encoded data removed]",
            "text/plain": [
              "<Figure size 432x288 with 2 Axes>"
            ]
          },
          "metadata": {},
          "output_type": "display_data"
        }
      ],
      "source": [
        "import seaborn as sns\n",
        "sns.heatmap(confusion_matrix(y_test,y_pred_rf),cmap='viridis',annot=True);   "
      ],
      "id": "a6b04ef9"
    },
    {
      "cell_type": "code",
      "execution_count": null,
      "metadata": {
        "colab": {
          "base_uri": "https://localhost:8080/"
        },
        "id": "m5ONOciS3ZJa",
        "outputId": "3cfae376-3de0-4e7d-bfda-6ad72bbcb8bb"
      },
      "outputs": [
        {
          "name": "stdout",
          "output_type": "stream",
          "text": [
            "Report : \n",
            "              precision    recall  f1-score   support\n",
            "\n",
            "           0       1.00      1.00      1.00    185392\n",
            "           1       1.00      1.00      1.00      8828\n",
            "\n",
            "    accuracy                           1.00    194220\n",
            "   macro avg       1.00      1.00      1.00    194220\n",
            "weighted avg       1.00      1.00      1.00    194220\n",
            "\n"
          ]
        }
      ],
      "source": [
        "print ('Report : ')\n",
        "print (classification_report(y_test,y_pred_rf))"
      ],
      "id": "m5ONOciS3ZJa"
    },
    {
      "cell_type": "code",
      "execution_count": null,
      "metadata": {
        "id": "t6XlgpHV56OU"
      },
      "outputs": [],
      "source": [
        "# Save the trained model as a pickle string.\n",
        "saved_model = pickle.dumps(classifier)\n",
        "  \n",
        "# Load the pickled model\n",
        "rfc_from_pickle = pickle.loads(saved_model)\n",
        "  "
      ],
      "id": "t6XlgpHV56OU"
    },
    {
      "cell_type": "markdown",
      "metadata": {
        "id": "93971b3d"
      },
      "source": [
        "### Logistic Regression"
      ],
      "id": "93971b3d"
    },
    {
      "cell_type": "code",
      "execution_count": null,
      "metadata": {
        "colab": {
          "base_uri": "https://localhost:8080/"
        },
        "id": "9a31ecac",
        "outputId": "55d1bd87-9949-40df-ab8c-1fe93cde56e1"
      },
      "outputs": [
        {
          "name": "stdout",
          "output_type": "stream",
          "text": [
            "0.9543352898774585\n"
          ]
        }
      ],
      "source": [
        "from sklearn.linear_model import LogisticRegression\n",
        "lr=LogisticRegression()\n",
        "lr.fit(X_train,y_train)\n",
        "y_pred_lr=lr.predict(X_valid)\n",
        "print(\"Accuracy\",accuracy_score(y_test,y_pred_lr))\n"
      ],
      "id": "9a31ecac"
    },
    {
      "cell_type": "code",
      "execution_count": null,
      "metadata": {
        "colab": {
          "base_uri": "https://localhost:8080/",
          "height": 265
        },
        "id": "fEiapS360xoG",
        "outputId": "e8ee09ca-d849-4f22-be48-bba4be13617c"
      },
      "outputs": [
        {
          "data": {
            "image/png": "[encoded data removed]",
            "text/plain": [
              "<Figure size 432x288 with 2 Axes>"
            ]
          },
          "metadata": {},
          "output_type": "display_data"
        }
      ],
      "source": [
        "sns.heatmap(confusion_matrix(y_test,y_pred_lr),cmap='viridis',annot=True);   "
      ],
      "id": "fEiapS360xoG"
    },
    {
      "cell_type": "code",
      "execution_count": null,
      "metadata": {
        "colab": {
          "base_uri": "https://localhost:8080/"
        },
        "id": "1WJp0KUS3Bcb",
        "outputId": "66324d96-29ef-4370-ced2-06d8e7deb573"
      },
      "outputs": [
        {
          "name": "stdout",
          "output_type": "stream",
          "text": [
            "Report : \n",
            "              precision    recall  f1-score   support\n",
            "\n",
            "           0       0.95      1.00      0.98    185392\n",
            "           1       0.02      0.00      0.00      8828\n",
            "\n",
            "    accuracy                           0.95    194220\n",
            "   macro avg       0.49      0.50      0.49    194220\n",
            "weighted avg       0.91      0.95      0.93    194220\n",
            "\n"
          ]
        }
      ],
      "source": [
        "print ('Report : ')\n",
        "print (classification_report(y_test, y_pred_lr))"
      ],
      "id": "1WJp0KUS3Bcb"
    },
    {
      "cell_type": "code",
      "execution_count": null,
      "metadata": {
        "id": "GW1mABI-6AYJ"
      },
      "outputs": [],
      "source": [
        "# Save the trained model as a pickle string.\n",
        "saved_model = pickle.dumps(lr)\n",
        "  \n",
        "# Load the pickled model\n",
        "lr_from_pickle = pickle.loads(saved_model)\n",
        "  \n"
      ],
      "id": "GW1mABI-6AYJ"
    },
    {
      "cell_type": "markdown",
      "metadata": {
        "id": "2e27ef15"
      },
      "source": [
        "### Decision Trees"
      ],
      "id": "2e27ef15"
    },
    {
      "cell_type": "code",
      "execution_count": null,
      "metadata": {
        "colab": {
          "base_uri": "https://localhost:8080/"
        },
        "id": "16971325",
        "outputId": "f1fd7219-d790-4eff-d22a-26511e7a5a04"
      },
      "outputs": [
        {
          "name": "stdout",
          "output_type": "stream",
          "text": [
            "0.912408608794151\n"
          ]
        }
      ],
      "source": [
        "# Create Decision Tree classifier object\n",
        "clf = DecisionTreeClassifier(criterion=\"entropy\", max_depth=3)\n",
        "\n",
        "# Train Decision Tree Classifier\n",
        "clf = clf.fit(X_train,y_train)\n",
        "\n",
        "#Predict the response for test dataset\n",
        "y_pred_clf = clf.predict(X_valid)\n",
        "print(accuracy_score(y_test,y_pred_clf))"
      ],
      "id": "16971325"
    },
    {
      "cell_type": "code",
      "execution_count": null,
      "metadata": {
        "colab": {
          "base_uri": "https://localhost:8080/",
          "height": 265
        },
        "id": "5pFlLI3Y1zx4",
        "outputId": "d576386d-8b23-4e09-fb22-213ee7f3e1c4"
      },
      "outputs": [
        {
          "data": {
            "image/png": "[encoded data removed]",
            "text/plain": [
              "<Figure size 432x288 with 2 Axes>"
            ]
          },
          "metadata": {},
          "output_type": "display_data"
        }
      ],
      "source": [
        "sns.heatmap(confusion_matrix(y_test,y_pred_clf),cmap='viridis',annot=True);   "
      ],
      "id": "5pFlLI3Y1zx4"
    },
    {
      "cell_type": "code",
      "execution_count": null,
      "metadata": {
        "colab": {
          "base_uri": "https://localhost:8080/"
        },
        "id": "oAKes8xS4R0n",
        "outputId": "91d620fe-1048-4440-b1ab-b7320d3961d5"
      },
      "outputs": [
        {
          "name": "stdout",
          "output_type": "stream",
          "text": [
            "Report : \n",
            "              precision    recall  f1-score   support\n",
            "\n",
            "           0       0.95      0.95      0.95    185392\n",
            "           1       0.05      0.05      0.05      8828\n",
            "\n",
            "    accuracy                           0.91    194220\n",
            "   macro avg       0.50      0.50      0.50    194220\n",
            "weighted avg       0.91      0.91      0.91    194220\n",
            "\n"
          ]
        }
      ],
      "source": [
        "print ('Report : ')\n",
        "print (classification_report(y_test, y_pred_clf))"
      ],
      "id": "oAKes8xS4R0n"
    },
    {
      "cell_type": "code",
      "execution_count": null,
      "metadata": {
        "id": "Nzk-X0Bn7MUH"
      },
      "outputs": [],
      "source": [
        "# Save the trained model as a pickle string.\n",
        "saved_model = pickle.dumps(clf)\n",
        "\n",
        "# Load the pickled model\n",
        "clf_from_pickle = pickle.loads(saved_model)\n",
        "  "
      ],
      "id": "Nzk-X0Bn7MUH"
    },
    {
      "cell_type": "markdown",
      "metadata": {
        "id": "ac03554e"
      },
      "source": [
        "### K nearest neighbour"
      ],
      "id": "ac03554e"
    },
    {
      "cell_type": "code",
      "execution_count": null,
      "metadata": {
        "id": "Y6CwAPMn87z8"
      },
      "outputs": [],
      "source": [
        "# knn = KNeighborsClassifier(n_neighbors=7)\n",
        "# knn.fit(X_train, y_train)\n",
        "# y_pred_knn=knn.predict(X_test)\n",
        "# # Predict on dataset which model has not seen before\n",
        "# print(accuracy_score(y_test,y_pred_knn))"
      ],
      "id": "Y6CwAPMn87z8"
    },
    {
      "cell_type": "code",
      "execution_count": null,
      "metadata": {
        "id": "pX7K-mtt89tx"
      },
      "outputs": [],
      "source": [
        "import seaborn as sns\n",
        "sns.heatmap(confusion_matrix(y_test,y_pred_knn),cmap='viridis',annot=True);   "
      ],
      "id": "pX7K-mtt89tx"
    },
    {
      "cell_type": "code",
      "execution_count": null,
      "metadata": {
        "id": "ZXo1HaK_5AAq"
      },
      "outputs": [],
      "source": [
        "print ('Report : ')\n",
        "print (classification_report(y_test, y_pred_knn))"
      ],
      "id": "ZXo1HaK_5AAq"
    },
    {
      "cell_type": "code",
      "execution_count": null,
      "metadata": {
        "id": "3x4y1pPl7Q2G"
      },
      "outputs": [],
      "source": [
        "# Save the trained model as a pickle string.\n",
        "saved_model = pickle.dumps(knn)\n",
        "  \n",
        "# Load the pickled model\n",
        "knn_from_pickle = pickle.loads(saved_model)\n",
        "  "
      ],
      "id": "3x4y1pPl7Q2G"
    },
    {
      "cell_type": "markdown",
      "metadata": {
        "id": "c6122ba3"
      },
      "source": [
        "### Naive Bayes Algorithm"
      ],
      "id": "c6122ba3"
    },
    {
      "cell_type": "code",
      "execution_count": null,
      "metadata": {
        "colab": {
          "base_uri": "https://localhost:8080/"
        },
        "id": "4752305d",
        "outputId": "bcf95298-f929-4b3d-ece2-1e9fa0aea000",
        "scrolled": false
      },
      "outputs": [
        {
          "name": "stdout",
          "output_type": "stream",
          "text": [
            "1.0\n"
          ]
        }
      ],
      "source": [
        "# Training the Naive Bayes model on the Training set\n",
        "nb = GaussianNB()\n",
        "nb.fit(X_train, y_train)\n",
        "\n",
        "# Predicting the Test set results\n",
        "y_pred_nb = nb.predict(X_test)\n",
        "\n",
        "# Making the Confusion Matrix\n",
        "print(accuracy_score(y_test,y_pred_nb))"
      ],
      "id": "4752305d"
    },
    {
      "cell_type": "code",
      "execution_count": null,
      "metadata": {
        "id": "rR2T4kmS5mJ0"
      },
      "outputs": [],
      "source": [
        "print ('Report : ')\n",
        "print (classification_report(y_test,y_pred_nb))"
      ],
      "id": "rR2T4kmS5mJ0"
    },
    {
      "cell_type": "code",
      "execution_count": null,
      "metadata": {
        "colab": {
          "base_uri": "https://localhost:8080/"
        },
        "id": "6sJUZ9L8ureW",
        "outputId": "54c513b5-0e9e-4899-9cdc-9b24718bb6d5"
      },
      "outputs": [
        {
          "data": {
            "text/plain": [
              "array([0, 0, 0, ..., 0, 0, 0])"
            ]
          },
          "execution_count": 39,
          "metadata": {},
          "output_type": "execute_result"
        }
      ],
      "source": [
        "# Save the trained model as a pickle string.\n",
        "saved_model = pickle.dumps(nb)\n",
        "  \n",
        "# Load the pickled model\n",
        "nb_from_pickle = pickle.loads(saved_model)\n",
        "  \n"
      ],
      "id": "6sJUZ9L8ureW"
    },
    {
      "cell_type": "markdown",
      "metadata": {
        "id": "Si36u5-p6U0P"
      },
      "source": [
        "### Support Vector Machine"
      ],
      "id": "Si36u5-p6U0P"
    },
    {
      "cell_type": "code",
      "execution_count": null,
      "metadata": {
        "id": "U8XoWzpZ9AFS"
      },
      "outputs": [],
      "source": [
        "svm = SVC(kernel='linear', random_state=0)  \n",
        "svm.fit(X_train, y_train) \n",
        "y_pred_svm= svm.predict(X_test)  \n",
        "print(accuracy_score(y_test,y_pred_svm))"
      ],
      "id": "U8XoWzpZ9AFS"
    },
    {
      "cell_type": "code",
      "execution_count": null,
      "metadata": {
        "id": "Bs1tQcv26rLY"
      },
      "outputs": [],
      "source": [
        "print ('Report : ')\n",
        "print (classification_report(y_test,y_pred_svm))"
      ],
      "id": "Bs1tQcv26rLY"
    },
    {
      "cell_type": "code",
      "execution_count": null,
      "metadata": {
        "id": "qjDVgqd76zXY"
      },
      "outputs": [],
      "source": [
        "# Save the trained model as a pickle string.\n",
        "saved_model = pickle.dumps(svm)\n",
        "  \n",
        "# Load the pickled model\n",
        "svm_from_pickle = pickle.loads(saved_model)\n",
        "  \n",
        "# Use the loaded pickled model to make predictions\n"
      ],
      "id": "qjDVgqd76zXY"
    },
    {
      "cell_type": "markdown",
      "metadata": {
        "id": "LoA9_RNHuepe"
      },
      "source": [
        "## Testing data with the trained model(version 1-user feature only)"
      ],
      "id": "LoA9_RNHuepe"
    },
    {
      "cell_type": "code",
      "execution_count": null,
      "metadata": {
        "id": "GopSalhcvmfo"
      },
      "outputs": [],
      "source": [
        "pocket_test=pocket_df.drop(['campaign id','is participated?','participation status','customer name','mobile phone','user account','campaign name_x', 'campaign name_y','merchant name'],axis=1)"
      ],
      "id": "GopSalhcvmfo"
    },
    {
      "cell_type": "code",
      "execution_count": null,
      "metadata": {
        "colab": {
          "base_uri": "https://localhost:8080/"
        },
        "id": "HmuVJpcxwoaL",
        "outputId": "cf17675f-5516-48f9-c2c6-f802512d02be"
      },
      "outputs": [
        {
          "data": {
            "text/plain": [
              "participated_campaign_frequency    0\n",
              "campaigns_point_earned             0\n",
              "stamp_vouchers                     0\n",
              "stamp_expired_vouchers             0\n",
              "game_vouchers                      0\n",
              "game_expired_vouchers              0\n",
              "sales_points_earned                0\n",
              "Total campaign participated        0\n",
              "dtype: int64"
            ]
          },
          "execution_count": 32,
          "metadata": {},
          "output_type": "execute_result"
        }
      ],
      "source": [
        "pocket_test.isnull().sum()"
      ],
      "id": "HmuVJpcxwoaL"
    },
    {
      "cell_type": "code",
      "execution_count": null,
      "metadata": {
        "id": "yYLbjeC3xJVk"
      },
      "outputs": [],
      "source": [
        "index_list = [28,1026,0,1]\n",
        "test_pocket = pocket_test.loc[pocket_test.index[index_list]]\n",
        "# print(test_pocket)"
      ],
      "id": "yYLbjeC3xJVk"
    },
    {
      "cell_type": "code",
      "execution_count": null,
      "metadata": {
        "colab": {
          "base_uri": "https://localhost:8080/"
        },
        "id": "Pb1y8JF0zHY2",
        "outputId": "58eb6665-21b6-4632-ea04-092066aa0374"
      },
      "outputs": [
        {
          "name": "stdout",
          "output_type": "stream",
          "text": [
            "Random Forest Classifier result = [1 1 0 0]\n",
            "Logistic regression result = [1 1 0 0]\n",
            "Decision Tree result = [1 1 0 0]\n"
          ]
        }
      ],
      "source": [
        "# Use the loaded pickled model to make predictions\n",
        "print(\"Random Forest Classifier result =\",rfc_from_pickle.predict(test_pocket))\n",
        "print(\"Logistic regression result =\",lr_from_pickle.predict(test_pocket))\n",
        "print(\"Decision Tree result =\",clf_from_pickle.predict(test_pocket))\n"
      ],
      "id": "Pb1y8JF0zHY2"
    },
    {
      "cell_type": "markdown",
      "metadata": {
        "id": "WqZ_rYETGyd2"
      },
      "source": [
        "## Model training with balanced data(version 2-user feature only)"
      ],
      "id": "WqZ_rYETGyd2"
    },
    {
      "cell_type": "code",
      "execution_count": null,
      "metadata": {
        "colab": {
          "base_uri": "https://localhost:8080/"
        },
        "id": "9dMpMxXfqD0S",
        "outputId": "9d67d12c-63b8-4c97-edd6-a95fe7dcd179"
      },
      "outputs": [
        {
          "data": {
            "text/plain": [
              "(        participated_campaign_frequency  campaigns_point_earned  \\\n",
              " 0                              0.000000                0.000000   \n",
              " 1                              0.000000                0.000000   \n",
              " 2                              0.000000                0.000000   \n",
              " 3                              0.000000                0.000000   \n",
              " 4                              0.000000                0.000000   \n",
              " ...                                 ...                     ...   \n",
              " 143069                         0.000324                0.000833   \n",
              " 143070                         0.000324                0.000833   \n",
              " 143071                         0.000971                0.000417   \n",
              " 143072                         0.005505                0.004207   \n",
              " 143073                         0.000648                0.000250   \n",
              " \n",
              "         stamp_vouchers  stamp_expired_vouchers  game_vouchers  \\\n",
              " 0                  0.0                     0.0       0.000000   \n",
              " 1                  0.0                     0.0       0.000000   \n",
              " 2                  0.0                     0.0       0.000000   \n",
              " 3                  0.0                     0.0       0.000000   \n",
              " 4                  0.0                     0.0       0.000000   \n",
              " ...                ...                     ...            ...   \n",
              " 143069             0.0                     0.0       0.000000   \n",
              " 143070             0.0                     0.0       0.000000   \n",
              " 143071             0.0                     0.0       0.003861   \n",
              " 143072             0.0                     0.0       0.000000   \n",
              " 143073             0.0                     0.0       0.000000   \n",
              " \n",
              "         game_expired_vouchers  sales_points_earned  \\\n",
              " 0                         0.0                  0.0   \n",
              " 1                         0.0                  0.0   \n",
              " 2                         0.0                  0.0   \n",
              " 3                         0.0                  0.0   \n",
              " 4                         0.0                  0.0   \n",
              " ...                       ...                  ...   \n",
              " 143069                    0.0                  0.0   \n",
              " 143070                    0.0                  0.0   \n",
              " 143071                    0.0                  0.0   \n",
              " 143072                    0.0                  0.0   \n",
              " 143073                    0.0                  0.0   \n",
              " \n",
              "         Total campaign participated  \n",
              " 0                          0.000000  \n",
              " 1                          0.000000  \n",
              " 2                          0.000000  \n",
              " 3                          0.000000  \n",
              " 4                          0.000000  \n",
              " ...                             ...  \n",
              " 143069                     0.000000  \n",
              " 143070                     0.000000  \n",
              " 143071                     0.007658  \n",
              " 143072                     0.000000  \n",
              " 143073                     0.003063  \n",
              " \n",
              " [143074 rows x 8 columns],\n",
              "        participated_campaign_frequency  campaigns_point_earned  \\\n",
              " 0                             0.000000                0.000000   \n",
              " 1                             0.000000                0.000000   \n",
              " 2                             0.000000                0.000000   \n",
              " 3                             0.000000                0.000000   \n",
              " 4                             0.000000                0.000000   \n",
              " ...                                ...                     ...   \n",
              " 35765                         0.001933                0.001495   \n",
              " 35766                         0.001289                0.000664   \n",
              " 35767                         0.001289                0.000000   \n",
              " 35768                         0.000644                0.001661   \n",
              " 35769                         0.000644                0.000249   \n",
              " \n",
              "        stamp_vouchers  stamp_expired_vouchers  game_vouchers  \\\n",
              " 0                 0.0                     0.0       0.000000   \n",
              " 1                 0.0                     0.0       0.000000   \n",
              " 2                 0.0                     0.0       0.000000   \n",
              " 3                 0.0                     0.0       0.000000   \n",
              " 4                 0.0                     0.0       0.000000   \n",
              " ...               ...                     ...            ...   \n",
              " 35765             0.0                     0.0       0.000000   \n",
              " 35766             0.0                     0.0       0.000000   \n",
              " 35767             0.0                     0.0       0.008185   \n",
              " 35768             0.0                     0.0       0.000000   \n",
              " 35769             0.0                     0.0       0.000000   \n",
              " \n",
              "        game_expired_vouchers  sales_points_earned  Total campaign participated  \n",
              " 0                        0.0                  0.0                     0.000000  \n",
              " 1                        0.0                  0.0                     0.000000  \n",
              " 2                        0.0                  0.0                     0.000000  \n",
              " 3                        0.0                  0.0                     0.000000  \n",
              " 4                        0.0                  0.0                     0.000000  \n",
              " ...                      ...                  ...                          ...  \n",
              " 35765                    0.0                  0.0                     0.000000  \n",
              " 35766                    0.0                  0.0                     0.000000  \n",
              " 35767                    0.0                  0.0                     0.000000  \n",
              " 35768                    0.0                  0.0                     0.000000  \n",
              " 35769                    0.0                  0.0                     0.027434  \n",
              " \n",
              " [35770 rows x 8 columns],\n",
              " 1624170    0\n",
              " 1188404    0\n",
              " 1421682    0\n",
              " 792324     0\n",
              " 1374991    0\n",
              "           ..\n",
              " 146947     1\n",
              " 516355     1\n",
              " 936462     1\n",
              " 768293     1\n",
              " 749530     1\n",
              " Name: is participated?, Length: 143074, dtype: int64,\n",
              " 172201     0\n",
              " 450954     0\n",
              " 1645911    0\n",
              " 1239762    0\n",
              " 909326     0\n",
              "           ..\n",
              " 1673240    1\n",
              " 692740     1\n",
              " 1713432    1\n",
              " 700950     1\n",
              " 721042     1\n",
              " Name: is participated?, Length: 35770, dtype: int64)"
            ]
          },
          "execution_count": 20,
          "metadata": {},
          "output_type": "execute_result"
        }
      ],
      "source": [
        "X_train, X_val_test, y_train, y_val_test"
      ],
      "id": "9dMpMxXfqD0S"
    },
    {
      "cell_type": "code",
      "execution_count": null,
      "metadata": {
        "colab": {
          "base_uri": "https://localhost:8080/"
        },
        "id": "Xcz9QDvvGxsp",
        "outputId": "63f79371-e956-4182-e054-a0ab234eaae2"
      },
      "outputs": [
        {
          "name": "stdout",
          "output_type": "stream",
          "text": [
            "(143072, 8)\n",
            "(143072,)\n",
            "(35768, 8)\n",
            "(35768,)\n"
          ]
        },
        {
          "data": {
            "text/plain": [
              "(None, None)"
            ]
          },
          "execution_count": 69,
          "metadata": {},
          "output_type": "execute_result"
        }
      ],
      "source": [
        "# X_train, X_test, y_train, y_test = train_test_split(scaled_data, target, test_size=0.1, random_state=42,shuffle=True)\n",
        "\n",
        "# In the first step we will split the data in training and remaining dataset\n",
        "# X_train, X_rem, y_train, y_rem = train_test_split(scaled_data, target, train_size=0.8, random_state=42,shuffle=True)\n",
        "\n",
        "# Now since we want the valid and test size to be equal (10% each of overall data). \n",
        "# we have to define valid_size=0.5 (that is 50% of remaining data)\n",
        "\n",
        "# X_valid, X_test, y_valid, y_test = train_test_split(X_val_test,y_val_test, test_size=0.5)\n",
        "\n",
        "print(X_train.shape), print(y_train.shape)\n",
        "print(X_val_test.shape), print(y_val_test.shape)\n",
        "# print(X_test.shape), print(y_test.shape)"
      ],
      "id": "Xcz9QDvvGxsp"
    },
    {
      "cell_type": "markdown",
      "metadata": {
        "id": "6cfOb31kHT7m"
      },
      "source": [
        "###Radom forest classifer"
      ],
      "id": "6cfOb31kHT7m"
    },
    {
      "cell_type": "code",
      "execution_count": null,
      "metadata": {
        "colab": {
          "base_uri": "https://localhost:8080/",
          "height": 456
        },
        "id": "3Ubs_gp6HTMm",
        "outputId": "e41e43f7-ac63-472f-a7ae-a8719aecf0ee"
      },
      "outputs": [
        {
          "name": "stdout",
          "output_type": "stream",
          "text": [
            "Accuracy: 1.0\n",
            "Report : \n",
            "              precision    recall  f1-score   support\n",
            "\n",
            "           0       1.00      1.00      1.00     17884\n",
            "           1       1.00      1.00      1.00     17884\n",
            "\n",
            "    accuracy                           1.00     35768\n",
            "   macro avg       1.00      1.00      1.00     35768\n",
            "weighted avg       1.00      1.00      1.00     35768\n",
            "\n"
          ]
        },
        {
          "data": {
            "image/png": "[encoded data removed]",
            "text/plain": [
              "<Figure size 432x288 with 2 Axes>"
            ]
          },
          "metadata": {},
          "output_type": "display_data"
        }
      ],
      "source": [
        "classifier=RandomForestClassifier()\n",
        "classifier=classifier.fit(X_train,y_train)\n",
        "y_pred_rf=classifier.predict(X_val_test)\n",
        "print(\"Accuracy:\",accuracy_score(y_val_test,y_pred_rf))\n",
        "\n",
        "import seaborn as sns\n",
        "sns.heatmap(confusion_matrix(y_val_test,y_pred_rf),cmap='viridis',annot=True);   \n",
        "\n",
        "print ('Report : ')\n",
        "print (classification_report(y_val_test,y_pred_rf))"
      ],
      "id": "3Ubs_gp6HTMm"
    },
    {
      "cell_type": "code",
      "execution_count": null,
      "metadata": {
        "id": "sJMZ6xXte32g"
      },
      "outputs": [],
      "source": [
        "# Save the trained model as a pickle string.\n",
        "saved_model = pickle.dumps(classifier)\n",
        "  \n",
        "# Load the pickled model\n",
        "rfc_from_pickle = pickle.loads(saved_model)\n",
        "  "
      ],
      "id": "sJMZ6xXte32g"
    },
    {
      "cell_type": "markdown",
      "metadata": {
        "id": "YY6Mkh1THxXV"
      },
      "source": [
        "###Logistic Regression"
      ],
      "id": "YY6Mkh1THxXV"
    },
    {
      "cell_type": "code",
      "execution_count": null,
      "metadata": {
        "colab": {
          "base_uri": "https://localhost:8080/",
          "height": 456
        },
        "id": "9dPUYuvAHwj8",
        "outputId": "dea59a6d-4626-4064-a34e-fee8afb6b848"
      },
      "outputs": [
        {
          "name": "stdout",
          "output_type": "stream",
          "text": [
            "Accuracy 0.8231939163498099\n",
            "Report : \n",
            "              precision    recall  f1-score   support\n",
            "\n",
            "           0       0.74      1.00      0.85     17884\n",
            "           1       1.00      0.65      0.79     17884\n",
            "\n",
            "    accuracy                           0.82     35768\n",
            "   macro avg       0.87      0.82      0.82     35768\n",
            "weighted avg       0.87      0.82      0.82     35768\n",
            "\n"
          ]
        },
        {
          "data": {
            "image/png": "[encoded data removed]",
            "text/plain": [
              "<Figure size 432x288 with 2 Axes>"
            ]
          },
          "metadata": {},
          "output_type": "display_data"
        }
      ],
      "source": [
        "from sklearn.linear_model import LogisticRegression\n",
        "lr=LogisticRegression()\n",
        "lr.fit(X_train,y_train)\n",
        "y_pred_lr=lr.predict(X_val_test)\n",
        "print(\"Accuracy\",accuracy_score(y_val_test,y_pred_lr))\n",
        "\n",
        "sns.heatmap(confusion_matrix(y_val_test,y_pred_lr),cmap='viridis',annot=True);   \n",
        "\n",
        "print ('Report : ')\n",
        "print (classification_report(y_val_test, y_pred_lr))"
      ],
      "id": "9dPUYuvAHwj8"
    },
    {
      "cell_type": "code",
      "execution_count": null,
      "metadata": {
        "id": "DwsH7AHmeKY3"
      },
      "outputs": [],
      "source": [
        "# Save the trained model as a pickle string.\n",
        "saved_model = pickle.dumps(lr)\n",
        "\n",
        "# Load the pickled model\n",
        "lr_from_pickle = pickle.loads(saved_model)\n",
        "  \n"
      ],
      "id": "DwsH7AHmeKY3"
    },
    {
      "cell_type": "markdown",
      "metadata": {
        "id": "jwuIolsJcXy6"
      },
      "source": [
        "###Decision Tree"
      ],
      "id": "jwuIolsJcXy6"
    },
    {
      "cell_type": "code",
      "execution_count": null,
      "metadata": {
        "colab": {
          "base_uri": "https://localhost:8080/",
          "height": 456
        },
        "id": "rYg1rhficLjZ",
        "outputId": "50f5e779-99cb-4b62-d84f-7b0f9ffca0ee"
      },
      "outputs": [
        {
          "name": "stdout",
          "output_type": "stream",
          "text": [
            "1.0\n",
            "Report : \n",
            "              precision    recall  f1-score   support\n",
            "\n",
            "           0       1.00      1.00      1.00     17884\n",
            "           1       1.00      1.00      1.00     17884\n",
            "\n",
            "    accuracy                           1.00     35768\n",
            "   macro avg       1.00      1.00      1.00     35768\n",
            "weighted avg       1.00      1.00      1.00     35768\n",
            "\n"
          ]
        },
        {
          "data": {
            "image/png": "[encoded data removed]",
            "text/plain": [
              "<Figure size 432x288 with 2 Axes>"
            ]
          },
          "metadata": {},
          "output_type": "display_data"
        }
      ],
      "source": [
        "# Create Decision Tree classifier object\n",
        "clf = DecisionTreeClassifier(criterion=\"entropy\", max_depth=3)\n",
        "\n",
        "# Train Decision Tree Classifier\n",
        "clf = clf.fit(X_train,y_train)\n",
        "\n",
        "#Predict the response for test dataset\n",
        "y_pred_clf = clf.predict(X_val_test)\n",
        "print(accuracy_score(y_val_test,y_pred_clf))\n",
        "\n",
        "sns.heatmap(confusion_matrix(y_val_test,y_pred_clf),cmap='viridis',annot=True);\n",
        "print ('Report : ')\n",
        "print (classification_report(y_val_test, y_pred_clf))   "
      ],
      "id": "rYg1rhficLjZ"
    },
    {
      "cell_type": "code",
      "execution_count": null,
      "metadata": {
        "id": "ohuxtF-Kcvxg"
      },
      "outputs": [],
      "source": [
        "# Save the trained model as a pickle string.\n",
        "saved_model = pickle.dumps(clf)\n",
        "# Load the pickled model\n",
        "clf_from_pickle = pickle.loads(saved_model)\n",
        "\n"
      ],
      "id": "ohuxtF-Kcvxg"
    },
    {
      "cell_type": "markdown",
      "metadata": {
        "id": "uj0vhkajyJZc"
      },
      "source": [
        "###Naive Bayes"
      ],
      "id": "uj0vhkajyJZc"
    },
    {
      "cell_type": "code",
      "execution_count": null,
      "metadata": {
        "colab": {
          "base_uri": "https://localhost:8080/",
          "height": 456
        },
        "id": "-jas6m9vyG0Z",
        "outputId": "0581a769-2a6e-404b-f6a9-6b4a651d14dc"
      },
      "outputs": [
        {
          "name": "stdout",
          "output_type": "stream",
          "text": [
            "1.0\n",
            "Report : \n",
            "              precision    recall  f1-score   support\n",
            "\n",
            "           0       1.00      1.00      1.00     17884\n",
            "           1       1.00      1.00      1.00     17884\n",
            "\n",
            "    accuracy                           1.00     35768\n",
            "   macro avg       1.00      1.00      1.00     35768\n",
            "weighted avg       1.00      1.00      1.00     35768\n",
            "\n"
          ]
        },
        {
          "data": {
            "image/png": "[encoded data removed]",
            "text/plain": [
              "<Figure size 432x288 with 2 Axes>"
            ]
          },
          "metadata": {},
          "output_type": "display_data"
        }
      ],
      "source": [
        "# Training the Naive Bayes model on the Training set\n",
        "nb = GaussianNB()\n",
        "nb.fit(X_train, y_train)\n",
        "\n",
        "# Predicting the Test set results\n",
        "y_pred_nb = nb.predict(X_val_test)\n",
        "\n",
        "# Making the Confusion Matrix\n",
        "print(accuracy_score(y_val_test,y_pred_nb))\n",
        "\n",
        "sns.heatmap(confusion_matrix(y_val_test,y_pred_clf),cmap='viridis',annot=True);\n",
        "print ('Report : ')\n",
        "print (classification_report(y_val_test, y_pred_clf))   "
      ],
      "id": "-jas6m9vyG0Z"
    },
    {
      "cell_type": "code",
      "execution_count": null,
      "metadata": {
        "id": "YHiosfJCyr7p"
      },
      "outputs": [],
      "source": [
        "# Save the trained model as a pickle string.\n",
        "saved_model = pickle.dumps(nb)\n",
        "# Load the pickled model\n",
        "nb_from_pickle = pickle.loads(saved_model)"
      ],
      "id": "YHiosfJCyr7p"
    },
    {
      "cell_type": "markdown",
      "metadata": {
        "id": "Qhd7ETyoe_hE"
      },
      "source": [
        "## Testing data with the balanced trained model(version 2-user feature only)"
      ],
      "id": "Qhd7ETyoe_hE"
    },
    {
      "cell_type": "code",
      "execution_count": null,
      "metadata": {
        "colab": {
          "base_uri": "https://localhost:8080/"
        },
        "id": "Mo5E_USgfAAW",
        "outputId": "46b4ffdd-1d04-4604-ec07-56b01bd76abd"
      },
      "outputs": [
        {
          "name": "stdout",
          "output_type": "stream",
          "text": [
            "Random Forest Classifier result = [1 1 0 0]\n",
            "Logistic regression result = [1 1 0 0]\n",
            "Decision Tree result = [1 1 0 0]\n",
            "Naive Bayes result = [1 1 0 0]\n"
          ]
        }
      ],
      "source": [
        "# Use the loaded pickled model to make predictions\n",
        "print(\"Random Forest Classifier result =\",rfc_from_pickle.predict(test_pocket))\n",
        "print(\"Logistic regression result =\",lr_from_pickle.predict(test_pocket))\n",
        "print(\"Decision Tree result =\",clf_from_pickle.predict(test_pocket))\n",
        "print(\"Naive Bayes result =\",nb_from_pickle.predict(test_pocket))\n"
      ],
      "id": "Mo5E_USgfAAW"
    },
    {
      "cell_type": "markdown",
      "source": [
        "## Model training with balanced data(version 3 - user and campaign)"
      ],
      "metadata": {
        "id": "ADvfEXCB4YS-"
      },
      "id": "ADvfEXCB4YS-"
    },
    {
      "cell_type": "code",
      "source": [
        "print(X_train.shape), print(y_train.shape)\n",
        "print(X_val.shape), print(y_val.shape)"
      ],
      "metadata": {
        "colab": {
          "base_uri": "https://localhost:8080/"
        },
        "id": "I2nePE964ibR",
        "outputId": "3e2b297a-99b4-4a5b-919a-f3287906d6d1"
      },
      "id": "I2nePE964ibR",
      "execution_count": null,
      "outputs": [
        {
          "output_type": "stream",
          "name": "stdout",
          "text": [
            "(141520, 23)\n",
            "(141520,)\n",
            "(35380, 23)\n",
            "(35380,)\n"
          ]
        },
        {
          "output_type": "execute_result",
          "data": {
            "text/plain": [
              "(None, None)"
            ]
          },
          "metadata": {},
          "execution_count": 38
        }
      ]
    },
    {
      "cell_type": "markdown",
      "source": [
        "###Radom Forest Classifier"
      ],
      "metadata": {
        "id": "uFYR1cr_5iI2"
      },
      "id": "uFYR1cr_5iI2"
    },
    {
      "cell_type": "code",
      "source": [
        "classifier = RandomForestClassifier(n_estimators=40, max_depth=20, random_state=42)\n",
        "classifier=classifier.fit(X_train,y_train)\n",
        "y_pred_rf=classifier.predict(X_val)\n",
        "classifier_acc=accuracy_score(y_val,y_pred_rf) *100\n",
        "print(\"Accuracy: {:.2f}%\".format(classifier_acc))\n",
        "\n",
        "sns.heatmap(confusion_matrix(y_val,y_pred_rf),cmap='viridis',annot=True);   \n",
        "\n",
        "print ('Report : ')\n",
        "print (classification_report(y_val,y_pred_rf))\n"
      ],
      "metadata": {
        "colab": {
          "base_uri": "https://localhost:8080/"
        },
        "id": "POCjYDPY5k-L",
        "outputId": "d9ff8943-4428-4a70-d6f7-7cd422cd3e3a"
      },
      "id": "POCjYDPY5k-L",
      "execution_count": null,
      "outputs": [
        {
          "output_type": "stream",
          "name": "stdout",
          "text": [
            "Accuracy: 96.28%\n",
            "Report : \n",
            "              precision    recall  f1-score   support\n",
            "\n",
            "           0       0.97      0.95      0.96     17690\n",
            "           1       0.95      0.97      0.96     17690\n",
            "\n",
            "    accuracy                           0.96     35380\n",
            "   macro avg       0.96      0.96      0.96     35380\n",
            "weighted avg       0.96      0.96      0.96     35380\n",
            "\n"
          ]
        },
        {
          "output_type": "display_data",
          "data": {
            "text/plain": [
              "<Figure size 432x288 with 2 Axes>"
            ],
            "image/png": "[encoded data removed]"
          },
          "metadata": {
            "needs_background": "light"
          }
        }
      ]
    },
    {
      "cell_type": "code",
      "source": [
        "# save the trained model to a file\n",
        "with open('/content/drive/MyDrive/AI/Yoma/Yoma budget prediction/Models/random_forest_model.pkl', 'wb') as f:\n",
        "    pickle.dump(classifier, f)\n"
      ],
      "metadata": {
        "id": "bEOApt1YASbD"
      },
      "id": "bEOApt1YASbD",
      "execution_count": null,
      "outputs": []
    },
    {
      "cell_type": "code",
      "source": [
        "# # Authenticate and authorize Google Drive API access\n",
        "# creds = Credentials.from_authorized_user_file('/content/drive/MyDrive/AI/Yoma/Yoma budget prediction/Models/budget-prediction-379502-017db7c25887.json', ['https://www.googleapis.com/auth/drive'])\n",
        "\n",
        "# # Define path to save the model in Google Drive\n",
        "# drive_folder_id = '/content/drive/MyDrive/AI/Yoma/Yoma budget prediction/Models'  # Replace with the ID of the Google Drive folder where you want to save the model\n",
        "# model_name = 'my_rfc_model.pkl'  # Replace with the name you want to give the model file\n",
        "\n",
        "# # Serialize and save the trained model to a file\n",
        "# with open(model_name, 'wb') as file:\n",
        "#     pickle.dump(rfc_from_pickle, file)\n",
        "\n",
        "# # Upload the model file to Google Drive\n",
        "# try:\n",
        "#     # Create the Google Drive API client\n",
        "#     drive_service = build('drive', 'v3', credentials=creds)\n",
        "    \n",
        "#     # Create metadata for the file\n",
        "#     file_metadata = {'name': model_name, 'parents': [drive_folder_id]}\n",
        "    \n",
        "#     # Upload the file to Google Drive\n",
        "#     media = MediaFileUpload(model_name, resumable=True)\n",
        "#     file = drive_service.files().create(body=file_metadata, media_body=media, fields='id').execute()\n",
        "    \n",
        "#     # Print the ID of the uploaded file\n",
        "#     print('File ID: %s' % file.get('id'))\n",
        "    \n",
        "# except HttpError as error:\n",
        "#     print('An error occurred: %s' % error)\n",
        "#     file = None\n",
        "\n",
        "# # Remove the local file\n",
        "# os.remove(model_name)\n"
      ],
      "metadata": {
        "id": "1F5Xi072XOho"
      },
      "id": "1F5Xi072XOho",
      "execution_count": null,
      "outputs": []
    },
    {
      "cell_type": "markdown",
      "source": [
        "###Decision Tree"
      ],
      "metadata": {
        "id": "B8qWATrmAcfa"
      },
      "id": "B8qWATrmAcfa"
    },
    {
      "cell_type": "code",
      "source": [
        "# Create Decision Tree classifier object\n",
        "clf = DecisionTreeClassifier(criterion=\"entropy\", max_depth=3)\n",
        "\n",
        "# Train Decision Tree Classifier\n",
        "clf = clf.fit(X_train,y_train)\n",
        "\n",
        "#Predict the response for test dataset\n",
        "y_pred_clf = clf.predict(X_val)\n",
        "dt_acc=accuracy_score(y_val,y_pred_clf)\n",
        "print(dt_acc)\n",
        "\n",
        "sns.heatmap(confusion_matrix(y_val,y_pred_clf),cmap='viridis',annot=True);\n",
        "print ('Report : ')\n",
        "print (classification_report(y_val, y_pred_clf))   "
      ],
      "metadata": {
        "colab": {
          "base_uri": "https://localhost:8080/"
        },
        "id": "68cJR9rWAbpa",
        "outputId": "1a6960cc-ffe3-47a2-b933-f99494b0633d"
      },
      "id": "68cJR9rWAbpa",
      "execution_count": null,
      "outputs": [
        {
          "output_type": "stream",
          "name": "stdout",
          "text": [
            "0.8558507631430187\n",
            "Report : \n",
            "              precision    recall  f1-score   support\n",
            "\n",
            "           0       0.80      0.94      0.87     17690\n",
            "           1       0.93      0.77      0.84     17690\n",
            "\n",
            "    accuracy                           0.86     35380\n",
            "   macro avg       0.87      0.86      0.85     35380\n",
            "weighted avg       0.87      0.86      0.85     35380\n",
            "\n"
          ]
        },
        {
          "output_type": "display_data",
          "data": {
            "text/plain": [
              "<Figure size 432x288 with 2 Axes>"
            ],
            "image/png": "[encoded data removed]"
          },
          "metadata": {
            "needs_background": "light"
          }
        }
      ]
    },
    {
      "cell_type": "code",
      "source": [
        "# save the trained model to a file\n",
        "with open('/content/drive/MyDrive/AI/Yoma/Yoma budget prediction/Models/decision_tree_model.pkl', 'wb') as f:\n",
        "    pickle.dump(clf, f)"
      ],
      "metadata": {
        "id": "gfbJ94-QPmj3"
      },
      "id": "gfbJ94-QPmj3",
      "execution_count": null,
      "outputs": []
    },
    {
      "cell_type": "markdown",
      "source": [
        "###Logistic regression"
      ],
      "metadata": {
        "id": "oAXNbeV_BUAF"
      },
      "id": "oAXNbeV_BUAF"
    },
    {
      "cell_type": "code",
      "source": [
        "from sklearn.linear_model import LogisticRegression\n",
        "lr=LogisticRegression()\n",
        "lr.fit(X_train,y_train)\n",
        "y_pred_lr=lr.predict(X_val)\n",
        "lr_acc=accuracy_score(y_val,y_pred_lr)\n",
        "print(\"Accuracy\",lr_acc)\n",
        "\n",
        "sns.heatmap(confusion_matrix(y_val,y_pred_lr),cmap='viridis',annot=True);   \n",
        "\n",
        "print ('Report : ')\n",
        "print (classification_report(y_val, y_pred_lr))"
      ],
      "metadata": {
        "id": "zFqCff0eBQ9D",
        "colab": {
          "base_uri": "https://localhost:8080/"
        },
        "outputId": "349186b3-f3c7-489e-cc96-a836b42b0f6a"
      },
      "id": "zFqCff0eBQ9D",
      "execution_count": null,
      "outputs": [
        {
          "output_type": "stream",
          "name": "stdout",
          "text": [
            "Accuracy 0.8783776144714528\n",
            "Report : \n",
            "              precision    recall  f1-score   support\n",
            "\n",
            "           0       0.89      0.86      0.88     17690\n",
            "           1       0.86      0.90      0.88     17690\n",
            "\n",
            "    accuracy                           0.88     35380\n",
            "   macro avg       0.88      0.88      0.88     35380\n",
            "weighted avg       0.88      0.88      0.88     35380\n",
            "\n"
          ]
        },
        {
          "output_type": "display_data",
          "data": {
            "text/plain": [
              "<Figure size 432x288 with 2 Axes>"
            ],
            "image/png": "[encoded data removed]"
          },
          "metadata": {
            "needs_background": "light"
          }
        }
      ]
    },
    {
      "cell_type": "code",
      "source": [
        "# save the trained model to a file\n",
        "with open('/content/drive/MyDrive/AI/Yoma/Yoma budget prediction/Models/logistic_regression_model.pkl', 'wb') as f:\n",
        "    pickle.dump(lr, f)"
      ],
      "metadata": {
        "id": "6-8MiKZiQFJC"
      },
      "id": "6-8MiKZiQFJC",
      "execution_count": null,
      "outputs": []
    },
    {
      "cell_type": "markdown",
      "source": [
        "###Support Vector Machines"
      ],
      "metadata": {
        "id": "cUFqJu-cXNNH"
      },
      "id": "cUFqJu-cXNNH"
    },
    {
      "cell_type": "code",
      "source": [
        "from sklearn import svm\n",
        "# create the SVM classifier\n",
        "svm = svm.SVC(kernel='linear', C=1.0, random_state=42)\n",
        "\n",
        "# train the classifier\n",
        "svm.fit(X_train, y_train)\n",
        "\n",
        "# make predictions on the test set\n",
        "y_pred_svm = svm.predict(X_val)\n",
        "\n",
        "# evaluate the model\n",
        "svm_acc=accuracy_score(y_val, y_pred_svm)\n",
        "print('Accuracy:', svm_acc)\n",
        "sns.heatmap(confusion_matrix(y_val,y_pred_svm),cmap='viridis',annot=True);   \n",
        "print('Classification Report:\\n', classification_report(y_val, y_pred_svm))\n"
      ],
      "metadata": {
        "id": "ygnkDdZEXWR8"
      },
      "id": "ygnkDdZEXWR8",
      "execution_count": null,
      "outputs": []
    },
    {
      "cell_type": "code",
      "source": [
        "# save the trained model to a file\n",
        "with open('/content/drive/MyDrive/AI/Yoma/Yoma budget prediction/Models/support_vector_machine_model.pkl', 'wb') as f:\n",
        "    pickle.dump(svm, f)"
      ],
      "metadata": {
        "id": "p8kF7VIqQjpK"
      },
      "id": "p8kF7VIqQjpK",
      "execution_count": null,
      "outputs": []
    },
    {
      "cell_type": "markdown",
      "source": [
        "###Naive Bayes Classifier"
      ],
      "metadata": {
        "id": "SspSbBn3XbLY"
      },
      "id": "SspSbBn3XbLY"
    },
    {
      "cell_type": "code",
      "source": [
        "from sklearn.naive_bayes import GaussianNB\n",
        "# create the nb classifier\n",
        "nb = GaussianNB()\n",
        "\n",
        "# train the classifier\n",
        "nb.fit(X_train, y_train)\n",
        "\n",
        "# make predictions on the test set\n",
        "y_pred_nb = nb.predict(X_val)\n",
        "\n",
        "# evaluate the model\n",
        "print('Accuracy:', accuracy_score(y_val, y_pred_nb))\n",
        "sns.heatmap(confusion_matrix(y_val,y_pred_nb),cmap='viridis',annot=True);   \n",
        "print('Classification Report:\\n', classification_report(y_val, y_pred_nb))\n"
      ],
      "metadata": {
        "id": "uD7p6Ee2Xu7B"
      },
      "id": "uD7p6Ee2Xu7B",
      "execution_count": null,
      "outputs": []
    },
    {
      "cell_type": "markdown",
      "source": [
        "###K nearest neighbour"
      ],
      "metadata": {
        "id": "WQNHpbsaYoBL"
      },
      "id": "WQNHpbsaYoBL"
    },
    {
      "cell_type": "code",
      "source": [
        "from sklearn.neighbors import KNeighborsClassifier\n",
        "\n",
        "# Create KNN classifier\n",
        "knn = KNeighborsClassifier(n_neighbors = 3)\n",
        "\n",
        "# Fit the classifier to the data\n",
        "knn.fit(X_train, y_train)\n",
        "\n",
        "# make predictions on the test set\n",
        "y_pred_knn = knn.predict(X_val)\n",
        "\n",
        "# evaluate the model\n",
        "knn_acc=accuracy_score(y_val, y_pred_knn)\n",
        "print('Accuracy:', knn_acc)\n",
        "sns.heatmap(confusion_matrix(y_val,y_pred_knn),cmap='viridis',annot=True);   \n",
        "print('Classification Report:\\n', classification_report(y_val, y_pred_knn))\n"
      ],
      "metadata": {
        "id": "oF4psYYuY48D"
      },
      "id": "oF4psYYuY48D",
      "execution_count": null,
      "outputs": []
    },
    {
      "cell_type": "code",
      "source": [
        "# save the trained model to a file\n",
        "with open('/content/drive/MyDrive/AI/Yoma/Yoma budget prediction/Models/k_nearest_neighbour_model.pkl', 'wb') as f:\n",
        "    pickle.dump(knn, f)"
      ],
      "metadata": {
        "id": "hqu4hzfeZizj"
      },
      "id": "hqu4hzfeZizj",
      "execution_count": null,
      "outputs": []
    },
    {
      "cell_type": "markdown",
      "source": [
        "###Gradient Boosting Machines"
      ],
      "metadata": {
        "id": "HBUt3NaKeqwg"
      },
      "id": "HBUt3NaKeqwg"
    },
    {
      "cell_type": "code",
      "source": [
        "from sklearn.ensemble import GradientBoostingClassifier\n",
        "\n",
        "# Create GBM classifier\n",
        "gbm = GradientBoostingClassifier()\n",
        "\n",
        "# Fit the classifier to the data\n",
        "gbm.fit(X_train, y_train)\n",
        "\n",
        "# make predictions on the test set\n",
        "y_pred_gbm = gbm.predict(X_val)\n",
        "\n",
        "# evaluate the model\n",
        "gbm_acc=accuracy_score(y_val, y_pred_gbm)\n",
        "print('Accuracy:', gbm_acc)\n",
        "sns.heatmap(confusion_matrix(y_val,y_pred_gbm),cmap='viridis',annot=True);   \n",
        "print('Classification Report:\\n', classification_report(y_val, y_pred_gbm))\n"
      ],
      "metadata": {
        "colab": {
          "base_uri": "https://localhost:8080/",
          "height": 456
        },
        "id": "tbZQAX61ep2F",
        "outputId": "96b6ec49-2b63-48f0-b7e4-0b5772180986"
      },
      "id": "tbZQAX61ep2F",
      "execution_count": null,
      "outputs": [
        {
          "output_type": "stream",
          "name": "stdout",
          "text": [
            "Accuracy: 0.9485585076314302\n",
            "Classification Report:\n",
            "               precision    recall  f1-score   support\n",
            "\n",
            "           0       0.95      0.94      0.95     17690\n",
            "           1       0.94      0.95      0.95     17690\n",
            "\n",
            "    accuracy                           0.95     35380\n",
            "   macro avg       0.95      0.95      0.95     35380\n",
            "weighted avg       0.95      0.95      0.95     35380\n",
            "\n"
          ]
        },
        {
          "output_type": "display_data",
          "data": {
            "text/plain": [
              "<Figure size 432x288 with 2 Axes>"
            ],
            "image/png": "[encoded data removed]"
          },
          "metadata": {
            "needs_background": "light"
          }
        }
      ]
    },
    {
      "cell_type": "code",
      "source": [
        "# save the trained model to a file\n",
        "with open('/content/drive/MyDrive/AI/Yoma/Yoma budget prediction/Models/Gradient Boosting Machines.pkl', 'wb') as f:\n",
        "    pickle.dump(gbm, f)"
      ],
      "metadata": {
        "id": "pUBcXXftfvQz"
      },
      "id": "pUBcXXftfvQz",
      "execution_count": null,
      "outputs": []
    },
    {
      "cell_type": "markdown",
      "source": [
        "###XGBoost"
      ],
      "metadata": {
        "id": "Pk3SF63Thsy7"
      },
      "id": "Pk3SF63Thsy7"
    },
    {
      "cell_type": "code",
      "source": [
        "import xgboost as xgb\n",
        "\n",
        "# Convert the training and test data to DMatrix format\n",
        "dtrain = xgb.DMatrix(X_train, label=y_train)\n",
        "dtest = xgb.DMatrix(X_val, label=y_val)\n",
        "\n",
        "# Define the hyperparameters for the XGBoost model\n",
        "params = {\n",
        "    'max_depth': 3,\n",
        "    'eta': 0.1,\n",
        "    'objective': 'binary:logistic',\n",
        "    'eval_metric': 'logloss'\n",
        "}\n",
        "\n",
        "# Train the XGBoost model\n",
        "num_rounds = 100\n",
        "xgb_model = xgb.train(params, dtrain, num_rounds)\n",
        "\n",
        "# Make predictions on the test set\n",
        "y_pred = xgb_model.predict(dtest)\n",
        "\n",
        "# Convert probabilities into binary predictions\n",
        "y_pred_binary = [round(value) for value in y_pred]\n",
        "\n",
        "# Calculate the accuracy score\n",
        "xgb_accuracy = accuracy_score(y_val, y_pred_binary)\n",
        "\n",
        "# Print the accuracy score\n",
        "print(\"Accuracy:\", xgb_accuracy)\n",
        "sns.heatmap(confusion_matrix(y_val,y_pred_binary),cmap='viridis',annot=True);   \n",
        "print('Classification Report:\\n', classification_report(y_val, y_pred_binary))\n"
      ],
      "metadata": {
        "colab": {
          "base_uri": "https://localhost:8080/",
          "height": 456
        },
        "id": "ASKqTAqThr6c",
        "outputId": "d91174ec-ef90-4457-eddf-0d85f2c38c08"
      },
      "id": "ASKqTAqThr6c",
      "execution_count": null,
      "outputs": [
        {
          "output_type": "stream",
          "name": "stdout",
          "text": [
            "Accuracy: 0.9424816280384398\n",
            "Classification Report:\n",
            "               precision    recall  f1-score   support\n",
            "\n",
            "           0       0.95      0.93      0.94     17690\n",
            "           1       0.93      0.95      0.94     17690\n",
            "\n",
            "    accuracy                           0.94     35380\n",
            "   macro avg       0.94      0.94      0.94     35380\n",
            "weighted avg       0.94      0.94      0.94     35380\n",
            "\n"
          ]
        },
        {
          "output_type": "display_data",
          "data": {
            "text/plain": [
              "<Figure size 432x288 with 2 Axes>"
            ],
            "image/png": "[encoded data removed]"
          },
          "metadata": {
            "needs_background": "light"
          }
        }
      ]
    },
    {
      "cell_type": "code",
      "source": [
        "# save the trained model to a file\n",
        "with open('/content/drive/MyDrive/AI/Yoma/Yoma budget prediction/Models/XGBoost.pkl', 'wb') as f:\n",
        "    pickle.dump(xgb_model, f)"
      ],
      "metadata": {
        "id": "0tPDsQbBkpfg"
      },
      "id": "0tPDsQbBkpfg",
      "execution_count": null,
      "outputs": []
    },
    {
      "cell_type": "markdown",
      "source": [
        "###CatBoost"
      ],
      "metadata": {
        "id": "LTAONQ__KXVh"
      },
      "id": "LTAONQ__KXVh"
    },
    {
      "cell_type": "code",
      "source": [
        "from catboost import CatBoostClassifier\n",
        "cb = CatBoostClassifier()\n",
        "\n",
        "\n",
        "# Fit the classifier to the data\n",
        "cb.fit(X_train, y_train)\n",
        "\n",
        "# make predictions on the test set\n",
        "y_pred_cb = cb.predict(X_val)\n",
        "\n",
        "# evaluate the model\n",
        "cb_acc=accuracy_score(y_val, y_pred_cb)\n",
        "print('Accuracy:', cb_acc)\n",
        "sns.heatmap(confusion_matrix(y_val,y_pred_cb),cmap='viridis',annot=True);   \n",
        "print('Classification Report:\\n', classification_report(y_val, y_pred_cb))\n"
      ],
      "metadata": {
        "colab": {
          "base_uri": "https://localhost:8080/",
          "height": 1000
        },
        "id": "4XcMi5_TKczM",
        "outputId": "6f9395c4-57ee-4477-88d8-8ddc6087c394"
      },
      "id": "4XcMi5_TKczM",
      "execution_count": null,
      "outputs": [
        {
          "output_type": "stream",
          "name": "stdout",
          "text": [
            "Learning rate set to 0.085375\n",
            "0:\tlearn: 0.5664774\ttotal: 161ms\tremaining: 2m 40s\n",
            "1:\tlearn: 0.4719778\ttotal: 274ms\tremaining: 2m 16s\n",
            "2:\tlearn: 0.3958149\ttotal: 365ms\tremaining: 2m 1s\n",
            "3:\tlearn: 0.3333051\ttotal: 525ms\tremaining: 2m 10s\n",
            "4:\tlearn: 0.2879363\ttotal: 693ms\tremaining: 2m 17s\n",
            "5:\tlearn: 0.2630632\ttotal: 823ms\tremaining: 2m 16s\n",
            "6:\tlearn: 0.2389540\ttotal: 958ms\tremaining: 2m 15s\n",
            "7:\tlearn: 0.2283207\ttotal: 1.09s\tremaining: 2m 15s\n",
            "8:\tlearn: 0.2144623\ttotal: 1.24s\tremaining: 2m 16s\n",
            "9:\tlearn: 0.2033595\ttotal: 1.36s\tremaining: 2m 14s\n",
            "10:\tlearn: 0.1939207\ttotal: 1.46s\tremaining: 2m 11s\n",
            "11:\tlearn: 0.1871658\ttotal: 1.58s\tremaining: 2m 10s\n",
            "12:\tlearn: 0.1801550\ttotal: 1.72s\tremaining: 2m 10s\n",
            "13:\tlearn: 0.1744020\ttotal: 1.86s\tremaining: 2m 11s\n",
            "14:\tlearn: 0.1697021\ttotal: 2.01s\tremaining: 2m 12s\n",
            "15:\tlearn: 0.1651652\ttotal: 2.12s\tremaining: 2m 10s\n",
            "16:\tlearn: 0.1622498\ttotal: 2.27s\tremaining: 2m 11s\n",
            "17:\tlearn: 0.1568793\ttotal: 2.4s\tremaining: 2m 10s\n",
            "18:\tlearn: 0.1545839\ttotal: 2.56s\tremaining: 2m 12s\n",
            "19:\tlearn: 0.1519726\ttotal: 2.67s\tremaining: 2m 10s\n",
            "20:\tlearn: 0.1502292\ttotal: 2.75s\tremaining: 2m 8s\n",
            "21:\tlearn: 0.1476850\ttotal: 2.86s\tremaining: 2m 7s\n",
            "22:\tlearn: 0.1456305\ttotal: 2.96s\tremaining: 2m 5s\n",
            "23:\tlearn: 0.1443545\ttotal: 3.06s\tremaining: 2m 4s\n",
            "24:\tlearn: 0.1428531\ttotal: 3.15s\tremaining: 2m 2s\n",
            "25:\tlearn: 0.1411333\ttotal: 3.25s\tremaining: 2m 1s\n",
            "26:\tlearn: 0.1394399\ttotal: 3.37s\tremaining: 2m 1s\n",
            "27:\tlearn: 0.1387871\ttotal: 3.58s\tremaining: 2m 4s\n",
            "28:\tlearn: 0.1373394\ttotal: 3.77s\tremaining: 2m 6s\n",
            "29:\tlearn: 0.1360561\ttotal: 3.94s\tremaining: 2m 7s\n",
            "30:\tlearn: 0.1349729\ttotal: 4.09s\tremaining: 2m 7s\n",
            "31:\tlearn: 0.1339853\ttotal: 4.24s\tremaining: 2m 8s\n",
            "32:\tlearn: 0.1329861\ttotal: 4.38s\tremaining: 2m 8s\n",
            "33:\tlearn: 0.1323722\ttotal: 4.46s\tremaining: 2m 6s\n",
            "34:\tlearn: 0.1312303\ttotal: 4.57s\tremaining: 2m 5s\n",
            "35:\tlearn: 0.1305018\ttotal: 4.7s\tremaining: 2m 5s\n",
            "36:\tlearn: 0.1298064\ttotal: 4.85s\tremaining: 2m 6s\n",
            "37:\tlearn: 0.1286018\ttotal: 5s\tremaining: 2m 6s\n",
            "38:\tlearn: 0.1281401\ttotal: 5.21s\tremaining: 2m 8s\n",
            "39:\tlearn: 0.1273800\ttotal: 5.44s\tremaining: 2m 10s\n",
            "40:\tlearn: 0.1266311\ttotal: 5.75s\tremaining: 2m 14s\n",
            "41:\tlearn: 0.1259040\ttotal: 6s\tremaining: 2m 16s\n",
            "42:\tlearn: 0.1252530\ttotal: 6.15s\tremaining: 2m 16s\n",
            "43:\tlearn: 0.1245894\ttotal: 6.37s\tremaining: 2m 18s\n",
            "44:\tlearn: 0.1242019\ttotal: 6.55s\tremaining: 2m 19s\n",
            "45:\tlearn: 0.1235498\ttotal: 6.79s\tremaining: 2m 20s\n",
            "46:\tlearn: 0.1229476\ttotal: 6.96s\tremaining: 2m 21s\n",
            "47:\tlearn: 0.1224696\ttotal: 7.17s\tremaining: 2m 22s\n",
            "48:\tlearn: 0.1218613\ttotal: 7.34s\tremaining: 2m 22s\n",
            "49:\tlearn: 0.1215042\ttotal: 7.52s\tremaining: 2m 22s\n",
            "50:\tlearn: 0.1209369\ttotal: 7.78s\tremaining: 2m 24s\n",
            "51:\tlearn: 0.1205930\ttotal: 8.01s\tremaining: 2m 26s\n",
            "52:\tlearn: 0.1197254\ttotal: 8.28s\tremaining: 2m 27s\n",
            "53:\tlearn: 0.1194042\ttotal: 8.51s\tremaining: 2m 29s\n",
            "54:\tlearn: 0.1187927\ttotal: 8.82s\tremaining: 2m 31s\n",
            "55:\tlearn: 0.1183247\ttotal: 9.04s\tremaining: 2m 32s\n",
            "56:\tlearn: 0.1178385\ttotal: 9.3s\tremaining: 2m 33s\n",
            "57:\tlearn: 0.1176046\ttotal: 9.51s\tremaining: 2m 34s\n",
            "58:\tlearn: 0.1172280\ttotal: 9.73s\tremaining: 2m 35s\n",
            "59:\tlearn: 0.1168072\ttotal: 9.87s\tremaining: 2m 34s\n",
            "60:\tlearn: 0.1164838\ttotal: 10s\tremaining: 2m 34s\n",
            "61:\tlearn: 0.1157494\ttotal: 10.2s\tremaining: 2m 33s\n",
            "62:\tlearn: 0.1152547\ttotal: 10.3s\tremaining: 2m 33s\n",
            "63:\tlearn: 0.1148192\ttotal: 10.4s\tremaining: 2m 32s\n",
            "64:\tlearn: 0.1145786\ttotal: 10.5s\tremaining: 2m 31s\n",
            "65:\tlearn: 0.1139258\ttotal: 10.6s\tremaining: 2m 29s\n",
            "66:\tlearn: 0.1134589\ttotal: 10.7s\tremaining: 2m 28s\n",
            "67:\tlearn: 0.1130231\ttotal: 10.8s\tremaining: 2m 27s\n",
            "68:\tlearn: 0.1127801\ttotal: 10.8s\tremaining: 2m 26s\n",
            "69:\tlearn: 0.1125696\ttotal: 10.9s\tremaining: 2m 25s\n",
            "70:\tlearn: 0.1122568\ttotal: 11.1s\tremaining: 2m 24s\n",
            "71:\tlearn: 0.1120349\ttotal: 11.2s\tremaining: 2m 24s\n",
            "72:\tlearn: 0.1118117\ttotal: 11.2s\tremaining: 2m 22s\n",
            "73:\tlearn: 0.1115657\ttotal: 11.3s\tremaining: 2m 21s\n",
            "74:\tlearn: 0.1113818\ttotal: 11.4s\tremaining: 2m 20s\n",
            "75:\tlearn: 0.1111452\ttotal: 11.5s\tremaining: 2m 19s\n",
            "76:\tlearn: 0.1108001\ttotal: 11.5s\tremaining: 2m 17s\n",
            "77:\tlearn: 0.1104912\ttotal: 11.6s\tremaining: 2m 17s\n",
            "78:\tlearn: 0.1101250\ttotal: 11.7s\tremaining: 2m 15s\n",
            "79:\tlearn: 0.1100629\ttotal: 11.7s\tremaining: 2m 15s\n",
            "80:\tlearn: 0.1098507\ttotal: 11.8s\tremaining: 2m 14s\n",
            "81:\tlearn: 0.1094195\ttotal: 11.9s\tremaining: 2m 13s\n",
            "82:\tlearn: 0.1091658\ttotal: 12.1s\tremaining: 2m 13s\n",
            "83:\tlearn: 0.1088845\ttotal: 12.2s\tremaining: 2m 12s\n",
            "84:\tlearn: 0.1087743\ttotal: 12.3s\tremaining: 2m 11s\n",
            "85:\tlearn: 0.1085974\ttotal: 12.3s\tremaining: 2m 10s\n",
            "86:\tlearn: 0.1084493\ttotal: 12.4s\tremaining: 2m 9s\n",
            "87:\tlearn: 0.1084041\ttotal: 12.4s\tremaining: 2m 8s\n",
            "88:\tlearn: 0.1082951\ttotal: 12.5s\tremaining: 2m 7s\n",
            "89:\tlearn: 0.1081707\ttotal: 12.5s\tremaining: 2m 6s\n",
            "90:\tlearn: 0.1079233\ttotal: 12.6s\tremaining: 2m 6s\n",
            "91:\tlearn: 0.1076715\ttotal: 12.7s\tremaining: 2m 5s\n",
            "92:\tlearn: 0.1074468\ttotal: 12.8s\tremaining: 2m 4s\n",
            "93:\tlearn: 0.1073715\ttotal: 12.8s\tremaining: 2m 3s\n",
            "94:\tlearn: 0.1069569\ttotal: 13s\tremaining: 2m 3s\n",
            "95:\tlearn: 0.1068930\ttotal: 13.1s\tremaining: 2m 3s\n",
            "96:\tlearn: 0.1067727\ttotal: 13.2s\tremaining: 2m 2s\n",
            "97:\tlearn: 0.1066557\ttotal: 13.3s\tremaining: 2m 2s\n",
            "98:\tlearn: 0.1065442\ttotal: 13.4s\tremaining: 2m 1s\n",
            "99:\tlearn: 0.1063416\ttotal: 13.4s\tremaining: 2m\n",
            "100:\tlearn: 0.1063074\ttotal: 13.5s\tremaining: 2m\n",
            "101:\tlearn: 0.1060603\ttotal: 13.6s\tremaining: 1m 59s\n",
            "102:\tlearn: 0.1059217\ttotal: 13.7s\tremaining: 1m 59s\n",
            "103:\tlearn: 0.1057311\ttotal: 13.8s\tremaining: 1m 58s\n",
            "104:\tlearn: 0.1054681\ttotal: 13.9s\tremaining: 1m 58s\n",
            "105:\tlearn: 0.1052288\ttotal: 14.1s\tremaining: 1m 58s\n",
            "106:\tlearn: 0.1050896\ttotal: 14.2s\tremaining: 1m 58s\n",
            "107:\tlearn: 0.1050276\ttotal: 14.3s\tremaining: 1m 58s\n",
            "108:\tlearn: 0.1047574\ttotal: 14.4s\tremaining: 1m 57s\n",
            "109:\tlearn: 0.1046807\ttotal: 14.6s\tremaining: 1m 57s\n",
            "110:\tlearn: 0.1044770\ttotal: 14.7s\tremaining: 1m 57s\n",
            "111:\tlearn: 0.1044432\ttotal: 14.8s\tremaining: 1m 57s\n",
            "112:\tlearn: 0.1042561\ttotal: 14.9s\tremaining: 1m 56s\n",
            "113:\tlearn: 0.1042036\ttotal: 15s\tremaining: 1m 56s\n",
            "114:\tlearn: 0.1040362\ttotal: 15.1s\tremaining: 1m 55s\n",
            "115:\tlearn: 0.1038998\ttotal: 15.2s\tremaining: 1m 55s\n",
            "116:\tlearn: 0.1037124\ttotal: 15.4s\tremaining: 1m 56s\n",
            "117:\tlearn: 0.1036917\ttotal: 15.5s\tremaining: 1m 55s\n",
            "118:\tlearn: 0.1035719\ttotal: 15.6s\tremaining: 1m 55s\n",
            "119:\tlearn: 0.1034277\ttotal: 15.7s\tremaining: 1m 55s\n",
            "120:\tlearn: 0.1032818\ttotal: 15.8s\tremaining: 1m 55s\n",
            "121:\tlearn: 0.1031517\ttotal: 15.9s\tremaining: 1m 54s\n",
            "122:\tlearn: 0.1030479\ttotal: 16s\tremaining: 1m 54s\n",
            "123:\tlearn: 0.1029935\ttotal: 16.1s\tremaining: 1m 54s\n",
            "124:\tlearn: 0.1029340\ttotal: 16.2s\tremaining: 1m 53s\n",
            "125:\tlearn: 0.1028108\ttotal: 16.3s\tremaining: 1m 53s\n",
            "126:\tlearn: 0.1025937\ttotal: 16.4s\tremaining: 1m 52s\n",
            "127:\tlearn: 0.1025017\ttotal: 16.5s\tremaining: 1m 52s\n",
            "128:\tlearn: 0.1024242\ttotal: 16.6s\tremaining: 1m 52s\n",
            "129:\tlearn: 0.1023175\ttotal: 16.7s\tremaining: 1m 51s\n",
            "130:\tlearn: 0.1022449\ttotal: 16.8s\tremaining: 1m 51s\n",
            "131:\tlearn: 0.1021111\ttotal: 16.9s\tremaining: 1m 50s\n",
            "132:\tlearn: 0.1020633\ttotal: 16.9s\tremaining: 1m 50s\n",
            "133:\tlearn: 0.1019841\ttotal: 17.1s\tremaining: 1m 50s\n",
            "134:\tlearn: 0.1018810\ttotal: 17.1s\tremaining: 1m 49s\n",
            "135:\tlearn: 0.1016840\ttotal: 17.3s\tremaining: 1m 49s\n",
            "136:\tlearn: 0.1015796\ttotal: 17.3s\tremaining: 1m 49s\n",
            "137:\tlearn: 0.1014870\ttotal: 17.5s\tremaining: 1m 49s\n",
            "138:\tlearn: 0.1013144\ttotal: 17.6s\tremaining: 1m 48s\n",
            "139:\tlearn: 0.1011367\ttotal: 17.7s\tremaining: 1m 48s\n",
            "140:\tlearn: 0.1009624\ttotal: 17.8s\tremaining: 1m 48s\n",
            "141:\tlearn: 0.1007943\ttotal: 17.9s\tremaining: 1m 48s\n",
            "142:\tlearn: 0.1006968\ttotal: 18s\tremaining: 1m 47s\n",
            "143:\tlearn: 0.1006796\ttotal: 18.1s\tremaining: 1m 47s\n",
            "144:\tlearn: 0.1006307\ttotal: 18.2s\tremaining: 1m 47s\n",
            "145:\tlearn: 0.1005440\ttotal: 18.3s\tremaining: 1m 47s\n",
            "146:\tlearn: 0.1004696\ttotal: 18.4s\tremaining: 1m 46s\n",
            "147:\tlearn: 0.1003577\ttotal: 18.6s\tremaining: 1m 46s\n",
            "148:\tlearn: 0.1001658\ttotal: 18.7s\tremaining: 1m 46s\n",
            "149:\tlearn: 0.1001451\ttotal: 18.8s\tremaining: 1m 46s\n",
            "150:\tlearn: 0.0998716\ttotal: 18.9s\tremaining: 1m 46s\n",
            "151:\tlearn: 0.0998246\ttotal: 19s\tremaining: 1m 45s\n",
            "152:\tlearn: 0.0996687\ttotal: 19.1s\tremaining: 1m 45s\n",
            "153:\tlearn: 0.0994774\ttotal: 19.2s\tremaining: 1m 45s\n",
            "154:\tlearn: 0.0993854\ttotal: 19.3s\tremaining: 1m 45s\n",
            "155:\tlearn: 0.0992952\ttotal: 19.3s\tremaining: 1m 44s\n",
            "156:\tlearn: 0.0991383\ttotal: 19.5s\tremaining: 1m 44s\n",
            "157:\tlearn: 0.0990469\ttotal: 19.6s\tremaining: 1m 44s\n",
            "158:\tlearn: 0.0988122\ttotal: 19.7s\tremaining: 1m 44s\n",
            "159:\tlearn: 0.0987263\ttotal: 19.8s\tremaining: 1m 44s\n",
            "160:\tlearn: 0.0987055\ttotal: 20s\tremaining: 1m 43s\n",
            "161:\tlearn: 0.0986140\ttotal: 20.1s\tremaining: 1m 43s\n",
            "162:\tlearn: 0.0985978\ttotal: 20.3s\tremaining: 1m 44s\n",
            "163:\tlearn: 0.0984499\ttotal: 20.4s\tremaining: 1m 44s\n",
            "164:\tlearn: 0.0983808\ttotal: 20.6s\tremaining: 1m 44s\n",
            "165:\tlearn: 0.0983145\ttotal: 20.7s\tremaining: 1m 44s\n",
            "166:\tlearn: 0.0982453\ttotal: 20.8s\tremaining: 1m 43s\n",
            "167:\tlearn: 0.0981850\ttotal: 21s\tremaining: 1m 43s\n",
            "168:\tlearn: 0.0981771\ttotal: 21.1s\tremaining: 1m 43s\n",
            "169:\tlearn: 0.0980589\ttotal: 21.3s\tremaining: 1m 43s\n",
            "170:\tlearn: 0.0979572\ttotal: 21.4s\tremaining: 1m 43s\n",
            "171:\tlearn: 0.0978373\ttotal: 21.6s\tremaining: 1m 43s\n",
            "172:\tlearn: 0.0977571\ttotal: 21.7s\tremaining: 1m 43s\n",
            "173:\tlearn: 0.0976976\ttotal: 21.9s\tremaining: 1m 43s\n",
            "174:\tlearn: 0.0975907\ttotal: 22.1s\tremaining: 1m 43s\n",
            "175:\tlearn: 0.0975268\ttotal: 22.2s\tremaining: 1m 43s\n",
            "176:\tlearn: 0.0974384\ttotal: 22.4s\tremaining: 1m 43s\n",
            "177:\tlearn: 0.0973600\ttotal: 22.5s\tremaining: 1m 43s\n",
            "178:\tlearn: 0.0972305\ttotal: 22.6s\tremaining: 1m 43s\n",
            "179:\tlearn: 0.0971409\ttotal: 22.7s\tremaining: 1m 43s\n",
            "180:\tlearn: 0.0970759\ttotal: 22.9s\tremaining: 1m 43s\n",
            "181:\tlearn: 0.0970623\ttotal: 23s\tremaining: 1m 43s\n",
            "182:\tlearn: 0.0969848\ttotal: 23.2s\tremaining: 1m 43s\n",
            "183:\tlearn: 0.0969333\ttotal: 23.3s\tremaining: 1m 43s\n",
            "184:\tlearn: 0.0967837\ttotal: 23.5s\tremaining: 1m 43s\n",
            "185:\tlearn: 0.0966293\ttotal: 23.7s\tremaining: 1m 43s\n",
            "186:\tlearn: 0.0965078\ttotal: 24s\tremaining: 1m 44s\n",
            "187:\tlearn: 0.0964471\ttotal: 24.2s\tremaining: 1m 44s\n",
            "188:\tlearn: 0.0963828\ttotal: 24.5s\tremaining: 1m 45s\n",
            "189:\tlearn: 0.0963375\ttotal: 24.6s\tremaining: 1m 45s\n",
            "190:\tlearn: 0.0963273\ttotal: 24.8s\tremaining: 1m 45s\n",
            "191:\tlearn: 0.0961735\ttotal: 24.9s\tremaining: 1m 44s\n",
            "192:\tlearn: 0.0960684\ttotal: 25s\tremaining: 1m 44s\n",
            "193:\tlearn: 0.0959920\ttotal: 25.2s\tremaining: 1m 44s\n",
            "194:\tlearn: 0.0959545\ttotal: 25.3s\tremaining: 1m 44s\n",
            "195:\tlearn: 0.0958667\ttotal: 25.5s\tremaining: 1m 44s\n",
            "196:\tlearn: 0.0958141\ttotal: 25.6s\tremaining: 1m 44s\n",
            "197:\tlearn: 0.0957313\ttotal: 25.7s\tremaining: 1m 44s\n",
            "198:\tlearn: 0.0956340\ttotal: 25.8s\tremaining: 1m 43s\n",
            "199:\tlearn: 0.0955896\ttotal: 25.9s\tremaining: 1m 43s\n",
            "200:\tlearn: 0.0955150\ttotal: 25.9s\tremaining: 1m 43s\n",
            "201:\tlearn: 0.0954942\ttotal: 26s\tremaining: 1m 42s\n",
            "202:\tlearn: 0.0954884\ttotal: 26.1s\tremaining: 1m 42s\n",
            "203:\tlearn: 0.0954577\ttotal: 26.2s\tremaining: 1m 42s\n",
            "204:\tlearn: 0.0954342\ttotal: 26.3s\tremaining: 1m 41s\n",
            "205:\tlearn: 0.0953413\ttotal: 26.4s\tremaining: 1m 41s\n",
            "206:\tlearn: 0.0952164\ttotal: 26.5s\tremaining: 1m 41s\n",
            "207:\tlearn: 0.0951435\ttotal: 26.6s\tremaining: 1m 41s\n",
            "208:\tlearn: 0.0950732\ttotal: 26.7s\tremaining: 1m 41s\n",
            "209:\tlearn: 0.0950401\ttotal: 26.8s\tremaining: 1m 40s\n",
            "210:\tlearn: 0.0949505\ttotal: 26.9s\tremaining: 1m 40s\n",
            "211:\tlearn: 0.0948792\ttotal: 27s\tremaining: 1m 40s\n",
            "212:\tlearn: 0.0948115\ttotal: 27.1s\tremaining: 1m 40s\n",
            "213:\tlearn: 0.0947739\ttotal: 27.3s\tremaining: 1m 40s\n",
            "214:\tlearn: 0.0947297\ttotal: 27.4s\tremaining: 1m 39s\n",
            "215:\tlearn: 0.0946466\ttotal: 27.5s\tremaining: 1m 39s\n",
            "216:\tlearn: 0.0945227\ttotal: 27.6s\tremaining: 1m 39s\n",
            "217:\tlearn: 0.0944607\ttotal: 27.6s\tremaining: 1m 39s\n",
            "218:\tlearn: 0.0943990\ttotal: 27.7s\tremaining: 1m 38s\n",
            "219:\tlearn: 0.0943095\ttotal: 27.7s\tremaining: 1m 38s\n",
            "220:\tlearn: 0.0942091\ttotal: 27.8s\tremaining: 1m 38s\n",
            "221:\tlearn: 0.0941809\ttotal: 27.9s\tremaining: 1m 37s\n",
            "222:\tlearn: 0.0940985\ttotal: 28s\tremaining: 1m 37s\n",
            "223:\tlearn: 0.0940903\ttotal: 28.1s\tremaining: 1m 37s\n",
            "224:\tlearn: 0.0940423\ttotal: 28.2s\tremaining: 1m 36s\n",
            "225:\tlearn: 0.0939616\ttotal: 28.3s\tremaining: 1m 36s\n",
            "226:\tlearn: 0.0939117\ttotal: 28.3s\tremaining: 1m 36s\n",
            "227:\tlearn: 0.0938586\ttotal: 28.4s\tremaining: 1m 36s\n",
            "228:\tlearn: 0.0938001\ttotal: 28.6s\tremaining: 1m 36s\n",
            "229:\tlearn: 0.0937706\ttotal: 28.7s\tremaining: 1m 35s\n",
            "230:\tlearn: 0.0937085\ttotal: 28.8s\tremaining: 1m 35s\n",
            "231:\tlearn: 0.0936827\ttotal: 28.9s\tremaining: 1m 35s\n",
            "232:\tlearn: 0.0936481\ttotal: 29s\tremaining: 1m 35s\n",
            "233:\tlearn: 0.0935806\ttotal: 29.1s\tremaining: 1m 35s\n",
            "234:\tlearn: 0.0935423\ttotal: 29.2s\tremaining: 1m 35s\n",
            "235:\tlearn: 0.0935114\ttotal: 29.3s\tremaining: 1m 35s\n",
            "236:\tlearn: 0.0934605\ttotal: 29.5s\tremaining: 1m 34s\n",
            "237:\tlearn: 0.0934191\ttotal: 29.6s\tremaining: 1m 34s\n",
            "238:\tlearn: 0.0933860\ttotal: 29.7s\tremaining: 1m 34s\n",
            "239:\tlearn: 0.0933672\ttotal: 29.8s\tremaining: 1m 34s\n",
            "240:\tlearn: 0.0932880\ttotal: 29.9s\tremaining: 1m 34s\n",
            "241:\tlearn: 0.0931830\ttotal: 30s\tremaining: 1m 34s\n",
            "242:\tlearn: 0.0931594\ttotal: 30.2s\tremaining: 1m 34s\n",
            "243:\tlearn: 0.0931460\ttotal: 30.2s\tremaining: 1m 33s\n",
            "244:\tlearn: 0.0930902\ttotal: 30.3s\tremaining: 1m 33s\n",
            "245:\tlearn: 0.0930475\ttotal: 30.4s\tremaining: 1m 33s\n",
            "246:\tlearn: 0.0930375\ttotal: 30.4s\tremaining: 1m 32s\n",
            "247:\tlearn: 0.0929795\ttotal: 30.5s\tremaining: 1m 32s\n",
            "248:\tlearn: 0.0928735\ttotal: 30.6s\tremaining: 1m 32s\n",
            "249:\tlearn: 0.0928342\ttotal: 30.6s\tremaining: 1m 31s\n",
            "250:\tlearn: 0.0927963\ttotal: 30.7s\tremaining: 1m 31s\n",
            "251:\tlearn: 0.0927727\ttotal: 30.8s\tremaining: 1m 31s\n",
            "252:\tlearn: 0.0927543\ttotal: 30.9s\tremaining: 1m 31s\n",
            "253:\tlearn: 0.0926796\ttotal: 31s\tremaining: 1m 30s\n",
            "254:\tlearn: 0.0926589\ttotal: 31.1s\tremaining: 1m 30s\n",
            "255:\tlearn: 0.0926336\ttotal: 31.2s\tremaining: 1m 30s\n",
            "256:\tlearn: 0.0926083\ttotal: 31.3s\tremaining: 1m 30s\n",
            "257:\tlearn: 0.0925857\ttotal: 31.4s\tremaining: 1m 30s\n",
            "258:\tlearn: 0.0925106\ttotal: 31.5s\tremaining: 1m 30s\n",
            "259:\tlearn: 0.0924959\ttotal: 31.6s\tremaining: 1m 30s\n",
            "260:\tlearn: 0.0924350\ttotal: 31.8s\tremaining: 1m 29s\n",
            "261:\tlearn: 0.0923990\ttotal: 31.9s\tremaining: 1m 29s\n",
            "262:\tlearn: 0.0923333\ttotal: 32s\tremaining: 1m 29s\n",
            "263:\tlearn: 0.0922702\ttotal: 32.1s\tremaining: 1m 29s\n",
            "264:\tlearn: 0.0922340\ttotal: 32.3s\tremaining: 1m 29s\n",
            "265:\tlearn: 0.0921809\ttotal: 32.4s\tremaining: 1m 29s\n",
            "266:\tlearn: 0.0921005\ttotal: 32.5s\tremaining: 1m 29s\n",
            "267:\tlearn: 0.0920514\ttotal: 32.6s\tremaining: 1m 28s\n",
            "268:\tlearn: 0.0920330\ttotal: 32.7s\tremaining: 1m 28s\n",
            "269:\tlearn: 0.0920159\ttotal: 32.7s\tremaining: 1m 28s\n",
            "270:\tlearn: 0.0919566\ttotal: 32.8s\tremaining: 1m 28s\n",
            "271:\tlearn: 0.0919106\ttotal: 32.9s\tremaining: 1m 28s\n",
            "272:\tlearn: 0.0918783\ttotal: 33s\tremaining: 1m 27s\n",
            "273:\tlearn: 0.0918642\ttotal: 33.1s\tremaining: 1m 27s\n",
            "274:\tlearn: 0.0918336\ttotal: 33.1s\tremaining: 1m 27s\n",
            "275:\tlearn: 0.0917529\ttotal: 33.3s\tremaining: 1m 27s\n",
            "276:\tlearn: 0.0916583\ttotal: 33.3s\tremaining: 1m 27s\n",
            "277:\tlearn: 0.0916345\ttotal: 33.4s\tremaining: 1m 26s\n",
            "278:\tlearn: 0.0916102\ttotal: 33.5s\tremaining: 1m 26s\n",
            "279:\tlearn: 0.0915967\ttotal: 33.6s\tremaining: 1m 26s\n",
            "280:\tlearn: 0.0915883\ttotal: 33.7s\tremaining: 1m 26s\n",
            "281:\tlearn: 0.0915557\ttotal: 33.8s\tremaining: 1m 26s\n",
            "282:\tlearn: 0.0915091\ttotal: 33.9s\tremaining: 1m 25s\n",
            "283:\tlearn: 0.0914405\ttotal: 34s\tremaining: 1m 25s\n",
            "284:\tlearn: 0.0914028\ttotal: 34.1s\tremaining: 1m 25s\n",
            "285:\tlearn: 0.0913384\ttotal: 34.3s\tremaining: 1m 25s\n",
            "286:\tlearn: 0.0912940\ttotal: 34.4s\tremaining: 1m 25s\n",
            "287:\tlearn: 0.0912205\ttotal: 34.5s\tremaining: 1m 25s\n",
            "288:\tlearn: 0.0912099\ttotal: 34.5s\tremaining: 1m 24s\n",
            "289:\tlearn: 0.0911856\ttotal: 34.6s\tremaining: 1m 24s\n",
            "290:\tlearn: 0.0911567\ttotal: 34.7s\tremaining: 1m 24s\n",
            "291:\tlearn: 0.0910959\ttotal: 34.9s\tremaining: 1m 24s\n",
            "292:\tlearn: 0.0910723\ttotal: 35.1s\tremaining: 1m 24s\n",
            "293:\tlearn: 0.0909816\ttotal: 35.3s\tremaining: 1m 24s\n",
            "294:\tlearn: 0.0909400\ttotal: 35.4s\tremaining: 1m 24s\n",
            "295:\tlearn: 0.0909072\ttotal: 35.5s\tremaining: 1m 24s\n",
            "296:\tlearn: 0.0908681\ttotal: 35.6s\tremaining: 1m 24s\n",
            "297:\tlearn: 0.0908469\ttotal: 35.8s\tremaining: 1m 24s\n",
            "298:\tlearn: 0.0908056\ttotal: 36s\tremaining: 1m 24s\n",
            "299:\tlearn: 0.0907762\ttotal: 36.2s\tremaining: 1m 24s\n",
            "300:\tlearn: 0.0907287\ttotal: 36.4s\tremaining: 1m 24s\n",
            "301:\tlearn: 0.0906937\ttotal: 36.6s\tremaining: 1m 24s\n",
            "302:\tlearn: 0.0906812\ttotal: 36.7s\tremaining: 1m 24s\n",
            "303:\tlearn: 0.0906747\ttotal: 36.7s\tremaining: 1m 24s\n",
            "304:\tlearn: 0.0906605\ttotal: 36.8s\tremaining: 1m 23s\n",
            "305:\tlearn: 0.0906429\ttotal: 36.9s\tremaining: 1m 23s\n",
            "306:\tlearn: 0.0906015\ttotal: 37s\tremaining: 1m 23s\n",
            "307:\tlearn: 0.0905445\ttotal: 37.1s\tremaining: 1m 23s\n",
            "308:\tlearn: 0.0904927\ttotal: 37.2s\tremaining: 1m 23s\n",
            "309:\tlearn: 0.0904613\ttotal: 37.3s\tremaining: 1m 23s\n",
            "310:\tlearn: 0.0904272\ttotal: 37.4s\tremaining: 1m 22s\n",
            "311:\tlearn: 0.0903506\ttotal: 37.5s\tremaining: 1m 22s\n",
            "312:\tlearn: 0.0902772\ttotal: 37.6s\tremaining: 1m 22s\n",
            "313:\tlearn: 0.0902384\ttotal: 37.7s\tremaining: 1m 22s\n",
            "314:\tlearn: 0.0902007\ttotal: 37.8s\tremaining: 1m 22s\n",
            "315:\tlearn: 0.0901613\ttotal: 37.9s\tremaining: 1m 22s\n",
            "316:\tlearn: 0.0901200\ttotal: 38s\tremaining: 1m 21s\n",
            "317:\tlearn: 0.0901002\ttotal: 38.1s\tremaining: 1m 21s\n",
            "318:\tlearn: 0.0900730\ttotal: 38.2s\tremaining: 1m 21s\n",
            "319:\tlearn: 0.0900523\ttotal: 38.3s\tremaining: 1m 21s\n",
            "320:\tlearn: 0.0900256\ttotal: 38.4s\tremaining: 1m 21s\n",
            "321:\tlearn: 0.0899743\ttotal: 38.5s\tremaining: 1m 21s\n",
            "322:\tlearn: 0.0899352\ttotal: 38.6s\tremaining: 1m 20s\n",
            "323:\tlearn: 0.0898988\ttotal: 38.7s\tremaining: 1m 20s\n",
            "324:\tlearn: 0.0898645\ttotal: 38.8s\tremaining: 1m 20s\n",
            "325:\tlearn: 0.0898422\ttotal: 38.9s\tremaining: 1m 20s\n",
            "326:\tlearn: 0.0898058\ttotal: 39s\tremaining: 1m 20s\n",
            "327:\tlearn: 0.0897732\ttotal: 39.1s\tremaining: 1m 20s\n",
            "328:\tlearn: 0.0897596\ttotal: 39.1s\tremaining: 1m 19s\n",
            "329:\tlearn: 0.0897384\ttotal: 39.2s\tremaining: 1m 19s\n",
            "330:\tlearn: 0.0896495\ttotal: 39.2s\tremaining: 1m 19s\n",
            "331:\tlearn: 0.0896068\ttotal: 39.3s\tremaining: 1m 19s\n",
            "332:\tlearn: 0.0895573\ttotal: 39.3s\tremaining: 1m 18s\n",
            "333:\tlearn: 0.0895271\ttotal: 39.3s\tremaining: 1m 18s\n",
            "334:\tlearn: 0.0894794\ttotal: 39.4s\tremaining: 1m 18s\n",
            "335:\tlearn: 0.0894266\ttotal: 39.4s\tremaining: 1m 17s\n",
            "336:\tlearn: 0.0894062\ttotal: 39.5s\tremaining: 1m 17s\n",
            "337:\tlearn: 0.0893837\ttotal: 39.5s\tremaining: 1m 17s\n",
            "338:\tlearn: 0.0893320\ttotal: 39.5s\tremaining: 1m 17s\n",
            "339:\tlearn: 0.0893055\ttotal: 39.6s\tremaining: 1m 16s\n",
            "340:\tlearn: 0.0892453\ttotal: 39.6s\tremaining: 1m 16s\n",
            "341:\tlearn: 0.0892285\ttotal: 39.6s\tremaining: 1m 16s\n",
            "342:\tlearn: 0.0892109\ttotal: 39.7s\tremaining: 1m 16s\n",
            "343:\tlearn: 0.0891924\ttotal: 39.7s\tremaining: 1m 15s\n",
            "344:\tlearn: 0.0891545\ttotal: 39.8s\tremaining: 1m 15s\n",
            "345:\tlearn: 0.0891468\ttotal: 39.8s\tremaining: 1m 15s\n",
            "346:\tlearn: 0.0891029\ttotal: 39.8s\tremaining: 1m 14s\n",
            "347:\tlearn: 0.0890198\ttotal: 39.9s\tremaining: 1m 14s\n",
            "348:\tlearn: 0.0889851\ttotal: 39.9s\tremaining: 1m 14s\n",
            "349:\tlearn: 0.0889506\ttotal: 39.9s\tremaining: 1m 14s\n",
            "350:\tlearn: 0.0889278\ttotal: 40s\tremaining: 1m 13s\n",
            "351:\tlearn: 0.0888955\ttotal: 40s\tremaining: 1m 13s\n",
            "352:\tlearn: 0.0888594\ttotal: 40s\tremaining: 1m 13s\n",
            "353:\tlearn: 0.0888506\ttotal: 40.1s\tremaining: 1m 13s\n",
            "354:\tlearn: 0.0887970\ttotal: 40.1s\tremaining: 1m 12s\n",
            "355:\tlearn: 0.0887798\ttotal: 40.1s\tremaining: 1m 12s\n",
            "356:\tlearn: 0.0887403\ttotal: 40.2s\tremaining: 1m 12s\n",
            "357:\tlearn: 0.0887113\ttotal: 40.2s\tremaining: 1m 12s\n",
            "358:\tlearn: 0.0886755\ttotal: 40.2s\tremaining: 1m 11s\n",
            "359:\tlearn: 0.0886693\ttotal: 40.3s\tremaining: 1m 11s\n",
            "360:\tlearn: 0.0886285\ttotal: 40.3s\tremaining: 1m 11s\n",
            "361:\tlearn: 0.0886031\ttotal: 40.4s\tremaining: 1m 11s\n",
            "362:\tlearn: 0.0885874\ttotal: 40.4s\tremaining: 1m 10s\n",
            "363:\tlearn: 0.0885431\ttotal: 40.4s\tremaining: 1m 10s\n",
            "364:\tlearn: 0.0885180\ttotal: 40.5s\tremaining: 1m 10s\n",
            "365:\tlearn: 0.0884618\ttotal: 40.5s\tremaining: 1m 10s\n",
            "366:\tlearn: 0.0884293\ttotal: 40.5s\tremaining: 1m 9s\n",
            "367:\tlearn: 0.0884010\ttotal: 40.6s\tremaining: 1m 9s\n",
            "368:\tlearn: 0.0883769\ttotal: 40.6s\tremaining: 1m 9s\n",
            "369:\tlearn: 0.0883491\ttotal: 40.6s\tremaining: 1m 9s\n",
            "370:\tlearn: 0.0883293\ttotal: 40.7s\tremaining: 1m 8s\n",
            "371:\tlearn: 0.0883048\ttotal: 40.7s\tremaining: 1m 8s\n",
            "372:\tlearn: 0.0882806\ttotal: 40.7s\tremaining: 1m 8s\n",
            "373:\tlearn: 0.0882325\ttotal: 40.8s\tremaining: 1m 8s\n",
            "374:\tlearn: 0.0882225\ttotal: 40.8s\tremaining: 1m 8s\n",
            "375:\tlearn: 0.0882030\ttotal: 40.9s\tremaining: 1m 7s\n",
            "376:\tlearn: 0.0881668\ttotal: 40.9s\tremaining: 1m 7s\n",
            "377:\tlearn: 0.0881641\ttotal: 40.9s\tremaining: 1m 7s\n",
            "378:\tlearn: 0.0880981\ttotal: 41s\tremaining: 1m 7s\n",
            "379:\tlearn: 0.0880724\ttotal: 41s\tremaining: 1m 6s\n",
            "380:\tlearn: 0.0880616\ttotal: 41s\tremaining: 1m 6s\n",
            "381:\tlearn: 0.0880466\ttotal: 41.1s\tremaining: 1m 6s\n",
            "382:\tlearn: 0.0880441\ttotal: 41.1s\tremaining: 1m 6s\n",
            "383:\tlearn: 0.0880289\ttotal: 41.1s\tremaining: 1m 5s\n",
            "384:\tlearn: 0.0880011\ttotal: 41.2s\tremaining: 1m 5s\n",
            "385:\tlearn: 0.0879395\ttotal: 41.2s\tremaining: 1m 5s\n",
            "386:\tlearn: 0.0879048\ttotal: 41.2s\tremaining: 1m 5s\n",
            "387:\tlearn: 0.0878594\ttotal: 41.3s\tremaining: 1m 5s\n",
            "388:\tlearn: 0.0878245\ttotal: 41.3s\tremaining: 1m 4s\n",
            "389:\tlearn: 0.0877738\ttotal: 41.3s\tremaining: 1m 4s\n",
            "390:\tlearn: 0.0877500\ttotal: 41.4s\tremaining: 1m 4s\n",
            "391:\tlearn: 0.0877061\ttotal: 41.4s\tremaining: 1m 4s\n",
            "392:\tlearn: 0.0876572\ttotal: 41.5s\tremaining: 1m 4s\n",
            "393:\tlearn: 0.0876451\ttotal: 41.5s\tremaining: 1m 3s\n",
            "394:\tlearn: 0.0876197\ttotal: 41.5s\tremaining: 1m 3s\n",
            "395:\tlearn: 0.0875625\ttotal: 41.6s\tremaining: 1m 3s\n",
            "396:\tlearn: 0.0875286\ttotal: 41.6s\tremaining: 1m 3s\n",
            "397:\tlearn: 0.0875171\ttotal: 41.6s\tremaining: 1m 2s\n",
            "398:\tlearn: 0.0874736\ttotal: 41.7s\tremaining: 1m 2s\n",
            "399:\tlearn: 0.0874534\ttotal: 41.7s\tremaining: 1m 2s\n",
            "400:\tlearn: 0.0874431\ttotal: 41.7s\tremaining: 1m 2s\n",
            "401:\tlearn: 0.0874265\ttotal: 41.8s\tremaining: 1m 2s\n",
            "402:\tlearn: 0.0873869\ttotal: 41.8s\tremaining: 1m 1s\n",
            "403:\tlearn: 0.0873810\ttotal: 41.8s\tremaining: 1m 1s\n",
            "404:\tlearn: 0.0873372\ttotal: 41.9s\tremaining: 1m 1s\n",
            "405:\tlearn: 0.0873233\ttotal: 41.9s\tremaining: 1m 1s\n",
            "406:\tlearn: 0.0873030\ttotal: 41.9s\tremaining: 1m 1s\n",
            "407:\tlearn: 0.0872970\ttotal: 42s\tremaining: 1m\n",
            "408:\tlearn: 0.0872340\ttotal: 42s\tremaining: 1m\n",
            "409:\tlearn: 0.0872201\ttotal: 42s\tremaining: 1m\n",
            "410:\tlearn: 0.0872100\ttotal: 42.1s\tremaining: 1m\n",
            "411:\tlearn: 0.0871858\ttotal: 42.1s\tremaining: 1m\n",
            "412:\tlearn: 0.0871568\ttotal: 42.1s\tremaining: 59.9s\n",
            "413:\tlearn: 0.0871223\ttotal: 42.2s\tremaining: 59.7s\n",
            "414:\tlearn: 0.0871041\ttotal: 42.2s\tremaining: 59.5s\n",
            "415:\tlearn: 0.0870871\ttotal: 42.2s\tremaining: 59.3s\n",
            "416:\tlearn: 0.0870475\ttotal: 42.3s\tremaining: 59.1s\n",
            "417:\tlearn: 0.0870267\ttotal: 42.3s\tremaining: 58.9s\n",
            "418:\tlearn: 0.0870010\ttotal: 42.4s\tremaining: 58.7s\n",
            "419:\tlearn: 0.0869863\ttotal: 42.4s\tremaining: 58.5s\n",
            "420:\tlearn: 0.0869581\ttotal: 42.4s\tremaining: 58.3s\n",
            "421:\tlearn: 0.0869261\ttotal: 42.5s\tremaining: 58.2s\n",
            "422:\tlearn: 0.0869103\ttotal: 42.5s\tremaining: 58s\n",
            "423:\tlearn: 0.0868952\ttotal: 42.5s\tremaining: 57.8s\n",
            "424:\tlearn: 0.0868603\ttotal: 42.6s\tremaining: 57.6s\n",
            "425:\tlearn: 0.0868247\ttotal: 42.6s\tremaining: 57.4s\n",
            "426:\tlearn: 0.0867948\ttotal: 42.7s\tremaining: 57.3s\n",
            "427:\tlearn: 0.0867289\ttotal: 42.7s\tremaining: 57.1s\n",
            "428:\tlearn: 0.0866762\ttotal: 42.7s\tremaining: 56.9s\n",
            "429:\tlearn: 0.0866237\ttotal: 42.8s\tremaining: 56.7s\n",
            "430:\tlearn: 0.0865903\ttotal: 42.8s\tremaining: 56.5s\n",
            "431:\tlearn: 0.0865671\ttotal: 42.8s\tremaining: 56.3s\n",
            "432:\tlearn: 0.0865356\ttotal: 42.9s\tremaining: 56.2s\n",
            "433:\tlearn: 0.0864827\ttotal: 42.9s\tremaining: 56s\n",
            "434:\tlearn: 0.0864566\ttotal: 43s\tremaining: 55.8s\n",
            "435:\tlearn: 0.0864252\ttotal: 43s\tremaining: 55.6s\n",
            "436:\tlearn: 0.0863925\ttotal: 43s\tremaining: 55.5s\n",
            "437:\tlearn: 0.0863885\ttotal: 43.1s\tremaining: 55.3s\n",
            "438:\tlearn: 0.0863393\ttotal: 43.1s\tremaining: 55.1s\n",
            "439:\tlearn: 0.0863120\ttotal: 43.1s\tremaining: 54.9s\n",
            "440:\tlearn: 0.0862831\ttotal: 43.2s\tremaining: 54.7s\n",
            "441:\tlearn: 0.0862585\ttotal: 43.2s\tremaining: 54.6s\n",
            "442:\tlearn: 0.0862103\ttotal: 43.3s\tremaining: 54.4s\n",
            "443:\tlearn: 0.0862041\ttotal: 43.3s\tremaining: 54.2s\n",
            "444:\tlearn: 0.0861941\ttotal: 43.3s\tremaining: 54s\n",
            "445:\tlearn: 0.0861710\ttotal: 43.3s\tremaining: 53.8s\n",
            "446:\tlearn: 0.0861393\ttotal: 43.4s\tremaining: 53.7s\n",
            "447:\tlearn: 0.0861239\ttotal: 43.4s\tremaining: 53.5s\n",
            "448:\tlearn: 0.0861004\ttotal: 43.4s\tremaining: 53.3s\n",
            "449:\tlearn: 0.0860583\ttotal: 43.5s\tremaining: 53.2s\n",
            "450:\tlearn: 0.0860336\ttotal: 43.5s\tremaining: 53s\n",
            "451:\tlearn: 0.0860114\ttotal: 43.6s\tremaining: 52.8s\n",
            "452:\tlearn: 0.0859716\ttotal: 43.6s\tremaining: 52.6s\n",
            "453:\tlearn: 0.0859442\ttotal: 43.6s\tremaining: 52.5s\n",
            "454:\tlearn: 0.0859408\ttotal: 43.7s\tremaining: 52.3s\n",
            "455:\tlearn: 0.0859266\ttotal: 43.7s\tremaining: 52.1s\n",
            "456:\tlearn: 0.0858938\ttotal: 43.7s\tremaining: 52s\n",
            "457:\tlearn: 0.0858723\ttotal: 43.8s\tremaining: 51.8s\n",
            "458:\tlearn: 0.0858413\ttotal: 43.8s\tremaining: 51.6s\n",
            "459:\tlearn: 0.0858383\ttotal: 43.8s\tremaining: 51.4s\n",
            "460:\tlearn: 0.0858115\ttotal: 43.9s\tremaining: 51.3s\n",
            "461:\tlearn: 0.0857684\ttotal: 43.9s\tremaining: 51.1s\n",
            "462:\tlearn: 0.0857422\ttotal: 43.9s\tremaining: 51s\n",
            "463:\tlearn: 0.0857234\ttotal: 44s\tremaining: 50.8s\n",
            "464:\tlearn: 0.0856937\ttotal: 44s\tremaining: 50.6s\n",
            "465:\tlearn: 0.0856563\ttotal: 44s\tremaining: 50.5s\n",
            "466:\tlearn: 0.0856357\ttotal: 44.1s\tremaining: 50.3s\n",
            "467:\tlearn: 0.0856150\ttotal: 44.1s\tremaining: 50.2s\n",
            "468:\tlearn: 0.0855924\ttotal: 44.2s\tremaining: 50s\n",
            "469:\tlearn: 0.0855595\ttotal: 44.2s\tremaining: 49.8s\n",
            "470:\tlearn: 0.0855407\ttotal: 44.2s\tremaining: 49.7s\n",
            "471:\tlearn: 0.0855247\ttotal: 44.3s\tremaining: 49.5s\n",
            "472:\tlearn: 0.0855005\ttotal: 44.3s\tremaining: 49.4s\n",
            "473:\tlearn: 0.0854350\ttotal: 44.3s\tremaining: 49.2s\n",
            "474:\tlearn: 0.0854009\ttotal: 44.4s\tremaining: 49s\n",
            "475:\tlearn: 0.0853725\ttotal: 44.4s\tremaining: 48.9s\n",
            "476:\tlearn: 0.0853109\ttotal: 44.4s\tremaining: 48.7s\n",
            "477:\tlearn: 0.0852919\ttotal: 44.5s\tremaining: 48.6s\n",
            "478:\tlearn: 0.0852589\ttotal: 44.5s\tremaining: 48.4s\n",
            "479:\tlearn: 0.0852412\ttotal: 44.6s\tremaining: 48.3s\n",
            "480:\tlearn: 0.0852151\ttotal: 44.6s\tremaining: 48.1s\n",
            "481:\tlearn: 0.0851955\ttotal: 44.6s\tremaining: 48s\n",
            "482:\tlearn: 0.0851745\ttotal: 44.7s\tremaining: 47.8s\n",
            "483:\tlearn: 0.0851527\ttotal: 44.7s\tremaining: 47.7s\n",
            "484:\tlearn: 0.0851339\ttotal: 44.7s\tremaining: 47.5s\n",
            "485:\tlearn: 0.0851175\ttotal: 44.8s\tremaining: 47.4s\n",
            "486:\tlearn: 0.0850946\ttotal: 44.8s\tremaining: 47.2s\n",
            "487:\tlearn: 0.0850777\ttotal: 44.8s\tremaining: 47.1s\n",
            "488:\tlearn: 0.0850534\ttotal: 44.9s\tremaining: 46.9s\n",
            "489:\tlearn: 0.0850423\ttotal: 44.9s\tremaining: 46.8s\n",
            "490:\tlearn: 0.0850083\ttotal: 45s\tremaining: 46.6s\n",
            "491:\tlearn: 0.0849922\ttotal: 45s\tremaining: 46.5s\n",
            "492:\tlearn: 0.0849528\ttotal: 45s\tremaining: 46.3s\n",
            "493:\tlearn: 0.0849291\ttotal: 45.1s\tremaining: 46.2s\n",
            "494:\tlearn: 0.0849116\ttotal: 45.1s\tremaining: 46s\n",
            "495:\tlearn: 0.0848906\ttotal: 45.1s\tremaining: 45.9s\n",
            "496:\tlearn: 0.0848535\ttotal: 45.2s\tremaining: 45.7s\n",
            "497:\tlearn: 0.0848407\ttotal: 45.2s\tremaining: 45.6s\n",
            "498:\tlearn: 0.0848198\ttotal: 45.2s\tremaining: 45.4s\n",
            "499:\tlearn: 0.0847851\ttotal: 45.3s\tremaining: 45.3s\n",
            "500:\tlearn: 0.0847707\ttotal: 45.3s\tremaining: 45.1s\n",
            "501:\tlearn: 0.0847475\ttotal: 45.3s\tremaining: 45s\n",
            "502:\tlearn: 0.0847300\ttotal: 45.4s\tremaining: 44.8s\n",
            "503:\tlearn: 0.0847153\ttotal: 45.4s\tremaining: 44.7s\n",
            "504:\tlearn: 0.0846911\ttotal: 45.5s\tremaining: 44.6s\n",
            "505:\tlearn: 0.0846784\ttotal: 45.5s\tremaining: 44.4s\n",
            "506:\tlearn: 0.0846613\ttotal: 45.5s\tremaining: 44.3s\n",
            "507:\tlearn: 0.0846599\ttotal: 45.6s\tremaining: 44.1s\n",
            "508:\tlearn: 0.0846390\ttotal: 45.6s\tremaining: 44s\n",
            "509:\tlearn: 0.0846226\ttotal: 45.6s\tremaining: 43.8s\n",
            "510:\tlearn: 0.0846060\ttotal: 45.7s\tremaining: 43.7s\n",
            "511:\tlearn: 0.0845848\ttotal: 45.7s\tremaining: 43.6s\n",
            "512:\tlearn: 0.0845685\ttotal: 45.8s\tremaining: 43.5s\n",
            "513:\tlearn: 0.0845387\ttotal: 45.8s\tremaining: 43.3s\n",
            "514:\tlearn: 0.0845183\ttotal: 45.8s\tremaining: 43.2s\n",
            "515:\tlearn: 0.0844855\ttotal: 45.9s\tremaining: 43s\n",
            "516:\tlearn: 0.0844609\ttotal: 45.9s\tremaining: 42.9s\n",
            "517:\tlearn: 0.0844447\ttotal: 45.9s\tremaining: 42.8s\n",
            "518:\tlearn: 0.0844181\ttotal: 46s\tremaining: 42.6s\n",
            "519:\tlearn: 0.0843603\ttotal: 46s\tremaining: 42.5s\n",
            "520:\tlearn: 0.0843488\ttotal: 46.1s\tremaining: 42.3s\n",
            "521:\tlearn: 0.0843295\ttotal: 46.1s\tremaining: 42.2s\n",
            "522:\tlearn: 0.0843278\ttotal: 46.1s\tremaining: 42.1s\n",
            "523:\tlearn: 0.0842987\ttotal: 46.2s\tremaining: 41.9s\n",
            "524:\tlearn: 0.0842867\ttotal: 46.2s\tremaining: 41.8s\n",
            "525:\tlearn: 0.0842589\ttotal: 46.2s\tremaining: 41.6s\n",
            "526:\tlearn: 0.0842401\ttotal: 46.3s\tremaining: 41.5s\n",
            "527:\tlearn: 0.0842329\ttotal: 46.3s\tremaining: 41.4s\n",
            "528:\tlearn: 0.0842148\ttotal: 46.3s\tremaining: 41.2s\n",
            "529:\tlearn: 0.0841888\ttotal: 46.4s\tremaining: 41.1s\n",
            "530:\tlearn: 0.0841826\ttotal: 46.4s\tremaining: 41s\n",
            "531:\tlearn: 0.0841682\ttotal: 46.4s\tremaining: 40.8s\n",
            "532:\tlearn: 0.0841414\ttotal: 46.5s\tremaining: 40.7s\n",
            "533:\tlearn: 0.0841178\ttotal: 46.5s\tremaining: 40.6s\n",
            "534:\tlearn: 0.0840766\ttotal: 46.5s\tremaining: 40.5s\n",
            "535:\tlearn: 0.0840618\ttotal: 46.6s\tremaining: 40.3s\n",
            "536:\tlearn: 0.0840497\ttotal: 46.6s\tremaining: 40.2s\n",
            "537:\tlearn: 0.0840342\ttotal: 46.7s\tremaining: 40.1s\n",
            "538:\tlearn: 0.0840326\ttotal: 46.7s\tremaining: 39.9s\n",
            "539:\tlearn: 0.0840168\ttotal: 46.7s\tremaining: 39.8s\n",
            "540:\tlearn: 0.0839960\ttotal: 46.8s\tremaining: 39.7s\n",
            "541:\tlearn: 0.0839632\ttotal: 46.8s\tremaining: 39.6s\n",
            "542:\tlearn: 0.0839482\ttotal: 46.8s\tremaining: 39.4s\n",
            "543:\tlearn: 0.0839084\ttotal: 46.9s\tremaining: 39.3s\n",
            "544:\tlearn: 0.0838697\ttotal: 46.9s\tremaining: 39.2s\n",
            "545:\tlearn: 0.0838504\ttotal: 47s\tremaining: 39s\n",
            "546:\tlearn: 0.0838262\ttotal: 47s\tremaining: 38.9s\n",
            "547:\tlearn: 0.0837961\ttotal: 47s\tremaining: 38.8s\n",
            "548:\tlearn: 0.0837749\ttotal: 47.1s\tremaining: 38.7s\n",
            "549:\tlearn: 0.0837512\ttotal: 47.1s\tremaining: 38.5s\n",
            "550:\tlearn: 0.0837236\ttotal: 47.1s\tremaining: 38.4s\n",
            "551:\tlearn: 0.0837173\ttotal: 47.2s\tremaining: 38.3s\n",
            "552:\tlearn: 0.0836984\ttotal: 47.2s\tremaining: 38.2s\n",
            "553:\tlearn: 0.0836871\ttotal: 47.2s\tremaining: 38s\n",
            "554:\tlearn: 0.0836661\ttotal: 47.3s\tremaining: 37.9s\n",
            "555:\tlearn: 0.0836468\ttotal: 47.3s\tremaining: 37.8s\n",
            "556:\tlearn: 0.0836348\ttotal: 47.3s\tremaining: 37.6s\n",
            "557:\tlearn: 0.0836199\ttotal: 47.4s\tremaining: 37.5s\n",
            "558:\tlearn: 0.0836047\ttotal: 47.4s\tremaining: 37.4s\n",
            "559:\tlearn: 0.0835923\ttotal: 47.4s\tremaining: 37.3s\n",
            "560:\tlearn: 0.0835730\ttotal: 47.5s\tremaining: 37.1s\n",
            "561:\tlearn: 0.0835644\ttotal: 47.5s\tremaining: 37s\n",
            "562:\tlearn: 0.0835563\ttotal: 47.5s\tremaining: 36.9s\n",
            "563:\tlearn: 0.0835432\ttotal: 47.6s\tremaining: 36.8s\n",
            "564:\tlearn: 0.0835169\ttotal: 47.6s\tremaining: 36.7s\n",
            "565:\tlearn: 0.0835013\ttotal: 47.6s\tremaining: 36.5s\n",
            "566:\tlearn: 0.0834794\ttotal: 47.7s\tremaining: 36.4s\n",
            "567:\tlearn: 0.0834511\ttotal: 47.7s\tremaining: 36.3s\n",
            "568:\tlearn: 0.0834248\ttotal: 47.7s\tremaining: 36.2s\n",
            "569:\tlearn: 0.0833934\ttotal: 47.8s\tremaining: 36s\n",
            "570:\tlearn: 0.0833788\ttotal: 47.8s\tremaining: 35.9s\n",
            "571:\tlearn: 0.0833546\ttotal: 47.9s\tremaining: 35.8s\n",
            "572:\tlearn: 0.0833432\ttotal: 47.9s\tremaining: 35.7s\n",
            "573:\tlearn: 0.0833335\ttotal: 47.9s\tremaining: 35.6s\n",
            "574:\tlearn: 0.0833209\ttotal: 48s\tremaining: 35.4s\n",
            "575:\tlearn: 0.0833060\ttotal: 48s\tremaining: 35.3s\n",
            "576:\tlearn: 0.0832670\ttotal: 48s\tremaining: 35.2s\n",
            "577:\tlearn: 0.0832423\ttotal: 48.1s\tremaining: 35.1s\n",
            "578:\tlearn: 0.0832167\ttotal: 48.1s\tremaining: 35s\n",
            "579:\tlearn: 0.0831880\ttotal: 48.2s\tremaining: 34.9s\n",
            "580:\tlearn: 0.0831770\ttotal: 48.2s\tremaining: 34.8s\n",
            "581:\tlearn: 0.0831641\ttotal: 48.2s\tremaining: 34.6s\n",
            "582:\tlearn: 0.0831453\ttotal: 48.3s\tremaining: 34.5s\n",
            "583:\tlearn: 0.0831179\ttotal: 48.3s\tremaining: 34.4s\n",
            "584:\tlearn: 0.0831033\ttotal: 48.3s\tremaining: 34.3s\n",
            "585:\tlearn: 0.0830884\ttotal: 48.4s\tremaining: 34.2s\n",
            "586:\tlearn: 0.0830748\ttotal: 48.4s\tremaining: 34s\n",
            "587:\tlearn: 0.0830610\ttotal: 48.4s\tremaining: 33.9s\n",
            "588:\tlearn: 0.0830238\ttotal: 48.5s\tremaining: 33.8s\n",
            "589:\tlearn: 0.0829968\ttotal: 48.5s\tremaining: 33.7s\n",
            "590:\tlearn: 0.0829869\ttotal: 48.6s\tremaining: 33.6s\n",
            "591:\tlearn: 0.0829555\ttotal: 48.6s\tremaining: 33.5s\n",
            "592:\tlearn: 0.0829455\ttotal: 48.6s\tremaining: 33.4s\n",
            "593:\tlearn: 0.0829241\ttotal: 48.7s\tremaining: 33.3s\n",
            "594:\tlearn: 0.0829094\ttotal: 48.7s\tremaining: 33.1s\n",
            "595:\tlearn: 0.0828843\ttotal: 48.7s\tremaining: 33s\n",
            "596:\tlearn: 0.0828732\ttotal: 48.8s\tremaining: 32.9s\n",
            "597:\tlearn: 0.0828471\ttotal: 48.8s\tremaining: 32.8s\n",
            "598:\tlearn: 0.0828150\ttotal: 48.8s\tremaining: 32.7s\n",
            "599:\tlearn: 0.0828071\ttotal: 48.9s\tremaining: 32.6s\n",
            "600:\tlearn: 0.0827784\ttotal: 48.9s\tremaining: 32.5s\n",
            "601:\tlearn: 0.0827663\ttotal: 48.9s\tremaining: 32.4s\n",
            "602:\tlearn: 0.0827435\ttotal: 49s\tremaining: 32.2s\n",
            "603:\tlearn: 0.0827188\ttotal: 49s\tremaining: 32.1s\n",
            "604:\tlearn: 0.0826998\ttotal: 49.1s\tremaining: 32s\n",
            "605:\tlearn: 0.0826672\ttotal: 49.1s\tremaining: 32s\n",
            "606:\tlearn: 0.0826429\ttotal: 49.3s\tremaining: 31.9s\n",
            "607:\tlearn: 0.0826316\ttotal: 49.3s\tremaining: 31.8s\n",
            "608:\tlearn: 0.0826060\ttotal: 49.4s\tremaining: 31.7s\n",
            "609:\tlearn: 0.0825860\ttotal: 49.5s\tremaining: 31.6s\n",
            "610:\tlearn: 0.0825746\ttotal: 49.6s\tremaining: 31.6s\n",
            "611:\tlearn: 0.0825589\ttotal: 49.7s\tremaining: 31.5s\n",
            "612:\tlearn: 0.0825487\ttotal: 49.8s\tremaining: 31.4s\n",
            "613:\tlearn: 0.0825328\ttotal: 49.9s\tremaining: 31.4s\n",
            "614:\tlearn: 0.0825224\ttotal: 50s\tremaining: 31.3s\n",
            "615:\tlearn: 0.0825061\ttotal: 50.1s\tremaining: 31.2s\n",
            "616:\tlearn: 0.0824836\ttotal: 50.2s\tremaining: 31.2s\n",
            "617:\tlearn: 0.0824680\ttotal: 50.3s\tremaining: 31.1s\n",
            "618:\tlearn: 0.0824394\ttotal: 50.4s\tremaining: 31s\n",
            "619:\tlearn: 0.0824247\ttotal: 50.5s\tremaining: 30.9s\n",
            "620:\tlearn: 0.0823864\ttotal: 50.5s\tremaining: 30.8s\n",
            "621:\tlearn: 0.0823661\ttotal: 50.6s\tremaining: 30.8s\n",
            "622:\tlearn: 0.0823403\ttotal: 50.7s\tremaining: 30.7s\n",
            "623:\tlearn: 0.0823299\ttotal: 50.7s\tremaining: 30.6s\n",
            "624:\tlearn: 0.0823035\ttotal: 50.8s\tremaining: 30.5s\n",
            "625:\tlearn: 0.0822872\ttotal: 50.9s\tremaining: 30.4s\n",
            "626:\tlearn: 0.0822728\ttotal: 50.9s\tremaining: 30.3s\n",
            "627:\tlearn: 0.0822626\ttotal: 51s\tremaining: 30.2s\n",
            "628:\tlearn: 0.0822520\ttotal: 51.1s\tremaining: 30.1s\n",
            "629:\tlearn: 0.0822474\ttotal: 51.2s\tremaining: 30.1s\n",
            "630:\tlearn: 0.0822203\ttotal: 51.3s\tremaining: 30s\n",
            "631:\tlearn: 0.0821999\ttotal: 51.4s\tremaining: 29.9s\n",
            "632:\tlearn: 0.0821799\ttotal: 51.5s\tremaining: 29.9s\n",
            "633:\tlearn: 0.0821681\ttotal: 51.5s\tremaining: 29.8s\n",
            "634:\tlearn: 0.0821551\ttotal: 51.6s\tremaining: 29.7s\n",
            "635:\tlearn: 0.0821446\ttotal: 51.6s\tremaining: 29.6s\n",
            "636:\tlearn: 0.0821204\ttotal: 51.7s\tremaining: 29.5s\n",
            "637:\tlearn: 0.0821146\ttotal: 51.8s\tremaining: 29.4s\n",
            "638:\tlearn: 0.0820915\ttotal: 51.9s\tremaining: 29.3s\n",
            "639:\tlearn: 0.0820821\ttotal: 52s\tremaining: 29.2s\n",
            "640:\tlearn: 0.0820596\ttotal: 52.1s\tremaining: 29.2s\n",
            "641:\tlearn: 0.0820484\ttotal: 52.2s\tremaining: 29.1s\n",
            "642:\tlearn: 0.0820230\ttotal: 52.3s\tremaining: 29s\n",
            "643:\tlearn: 0.0820152\ttotal: 52.3s\tremaining: 28.9s\n",
            "644:\tlearn: 0.0819951\ttotal: 52.4s\tremaining: 28.8s\n",
            "645:\tlearn: 0.0819728\ttotal: 52.4s\tremaining: 28.7s\n",
            "646:\tlearn: 0.0819643\ttotal: 52.5s\tremaining: 28.6s\n",
            "647:\tlearn: 0.0819344\ttotal: 52.6s\tremaining: 28.6s\n",
            "648:\tlearn: 0.0819173\ttotal: 52.7s\tremaining: 28.5s\n",
            "649:\tlearn: 0.0818973\ttotal: 52.8s\tremaining: 28.4s\n",
            "650:\tlearn: 0.0818835\ttotal: 52.9s\tremaining: 28.3s\n",
            "651:\tlearn: 0.0818623\ttotal: 52.9s\tremaining: 28.2s\n",
            "652:\tlearn: 0.0818513\ttotal: 52.9s\tremaining: 28.1s\n",
            "653:\tlearn: 0.0818278\ttotal: 53s\tremaining: 28.1s\n",
            "654:\tlearn: 0.0818029\ttotal: 53.1s\tremaining: 28s\n",
            "655:\tlearn: 0.0817770\ttotal: 53.2s\tremaining: 27.9s\n",
            "656:\tlearn: 0.0817652\ttotal: 53.3s\tremaining: 27.8s\n",
            "657:\tlearn: 0.0817533\ttotal: 53.4s\tremaining: 27.8s\n",
            "658:\tlearn: 0.0817247\ttotal: 53.5s\tremaining: 27.7s\n",
            "659:\tlearn: 0.0817173\ttotal: 53.6s\tremaining: 27.6s\n",
            "660:\tlearn: 0.0817035\ttotal: 53.6s\tremaining: 27.5s\n",
            "661:\tlearn: 0.0816927\ttotal: 53.6s\tremaining: 27.4s\n",
            "662:\tlearn: 0.0816717\ttotal: 53.7s\tremaining: 27.3s\n",
            "663:\tlearn: 0.0816618\ttotal: 53.7s\tremaining: 27.2s\n",
            "664:\tlearn: 0.0816416\ttotal: 53.8s\tremaining: 27.1s\n",
            "665:\tlearn: 0.0816238\ttotal: 53.8s\tremaining: 27s\n",
            "666:\tlearn: 0.0816106\ttotal: 53.8s\tremaining: 26.9s\n",
            "667:\tlearn: 0.0815805\ttotal: 53.9s\tremaining: 26.8s\n",
            "668:\tlearn: 0.0815575\ttotal: 53.9s\tremaining: 26.7s\n",
            "669:\tlearn: 0.0815312\ttotal: 53.9s\tremaining: 26.6s\n",
            "670:\tlearn: 0.0815185\ttotal: 54s\tremaining: 26.5s\n",
            "671:\tlearn: 0.0815055\ttotal: 54s\tremaining: 26.4s\n",
            "672:\tlearn: 0.0814899\ttotal: 54.1s\tremaining: 26.3s\n",
            "673:\tlearn: 0.0814659\ttotal: 54.1s\tremaining: 26.2s\n",
            "674:\tlearn: 0.0814504\ttotal: 54.1s\tremaining: 26.1s\n",
            "675:\tlearn: 0.0814327\ttotal: 54.2s\tremaining: 26s\n",
            "676:\tlearn: 0.0814150\ttotal: 54.2s\tremaining: 25.9s\n",
            "677:\tlearn: 0.0814041\ttotal: 54.2s\tremaining: 25.8s\n",
            "678:\tlearn: 0.0813942\ttotal: 54.3s\tremaining: 25.7s\n",
            "679:\tlearn: 0.0813835\ttotal: 54.3s\tremaining: 25.6s\n",
            "680:\tlearn: 0.0813759\ttotal: 54.3s\tremaining: 25.5s\n",
            "681:\tlearn: 0.0813577\ttotal: 54.4s\tremaining: 25.4s\n",
            "682:\tlearn: 0.0813414\ttotal: 54.4s\tremaining: 25.3s\n",
            "683:\tlearn: 0.0813255\ttotal: 54.4s\tremaining: 25.2s\n",
            "684:\tlearn: 0.0813089\ttotal: 54.5s\tremaining: 25.1s\n",
            "685:\tlearn: 0.0812785\ttotal: 54.5s\tremaining: 25s\n",
            "686:\tlearn: 0.0812520\ttotal: 54.6s\tremaining: 24.9s\n",
            "687:\tlearn: 0.0812368\ttotal: 54.6s\tremaining: 24.8s\n",
            "688:\tlearn: 0.0812259\ttotal: 54.6s\tremaining: 24.7s\n",
            "689:\tlearn: 0.0812082\ttotal: 54.7s\tremaining: 24.6s\n",
            "690:\tlearn: 0.0812004\ttotal: 54.7s\tremaining: 24.5s\n",
            "691:\tlearn: 0.0811896\ttotal: 54.7s\tremaining: 24.4s\n",
            "692:\tlearn: 0.0811647\ttotal: 54.8s\tremaining: 24.3s\n",
            "693:\tlearn: 0.0811398\ttotal: 54.8s\tremaining: 24.2s\n",
            "694:\tlearn: 0.0811172\ttotal: 54.8s\tremaining: 24.1s\n",
            "695:\tlearn: 0.0811020\ttotal: 54.9s\tremaining: 24s\n",
            "696:\tlearn: 0.0810927\ttotal: 54.9s\tremaining: 23.9s\n",
            "697:\tlearn: 0.0810726\ttotal: 55s\tremaining: 23.8s\n",
            "698:\tlearn: 0.0810456\ttotal: 55s\tremaining: 23.7s\n",
            "699:\tlearn: 0.0810212\ttotal: 55s\tremaining: 23.6s\n",
            "700:\tlearn: 0.0810041\ttotal: 55.1s\tremaining: 23.5s\n",
            "701:\tlearn: 0.0810041\ttotal: 55.1s\tremaining: 23.4s\n",
            "702:\tlearn: 0.0809990\ttotal: 55.1s\tremaining: 23.3s\n",
            "703:\tlearn: 0.0809706\ttotal: 55.2s\tremaining: 23.2s\n",
            "704:\tlearn: 0.0809534\ttotal: 55.2s\tremaining: 23.1s\n",
            "705:\tlearn: 0.0809490\ttotal: 55.2s\tremaining: 23s\n",
            "706:\tlearn: 0.0809326\ttotal: 55.3s\tremaining: 22.9s\n",
            "707:\tlearn: 0.0809199\ttotal: 55.3s\tremaining: 22.8s\n",
            "708:\tlearn: 0.0809030\ttotal: 55.3s\tremaining: 22.7s\n",
            "709:\tlearn: 0.0808832\ttotal: 55.4s\tremaining: 22.6s\n",
            "710:\tlearn: 0.0808728\ttotal: 55.4s\tremaining: 22.5s\n",
            "711:\tlearn: 0.0808589\ttotal: 55.4s\tremaining: 22.4s\n",
            "712:\tlearn: 0.0808552\ttotal: 55.5s\tremaining: 22.3s\n",
            "713:\tlearn: 0.0808417\ttotal: 55.5s\tremaining: 22.2s\n",
            "714:\tlearn: 0.0808248\ttotal: 55.6s\tremaining: 22.1s\n",
            "715:\tlearn: 0.0808039\ttotal: 55.6s\tremaining: 22.1s\n",
            "716:\tlearn: 0.0807917\ttotal: 55.6s\tremaining: 22s\n",
            "717:\tlearn: 0.0807707\ttotal: 55.7s\tremaining: 21.9s\n",
            "718:\tlearn: 0.0807624\ttotal: 55.7s\tremaining: 21.8s\n",
            "719:\tlearn: 0.0807527\ttotal: 55.8s\tremaining: 21.7s\n",
            "720:\tlearn: 0.0807422\ttotal: 55.8s\tremaining: 21.6s\n",
            "721:\tlearn: 0.0807288\ttotal: 55.8s\tremaining: 21.5s\n",
            "722:\tlearn: 0.0807111\ttotal: 55.9s\tremaining: 21.4s\n",
            "723:\tlearn: 0.0806903\ttotal: 55.9s\tremaining: 21.3s\n",
            "724:\tlearn: 0.0806712\ttotal: 55.9s\tremaining: 21.2s\n",
            "725:\tlearn: 0.0806596\ttotal: 56s\tremaining: 21.1s\n",
            "726:\tlearn: 0.0806469\ttotal: 56s\tremaining: 21s\n",
            "727:\tlearn: 0.0806297\ttotal: 56.1s\tremaining: 20.9s\n",
            "728:\tlearn: 0.0806221\ttotal: 56.1s\tremaining: 20.8s\n",
            "729:\tlearn: 0.0805923\ttotal: 56.1s\tremaining: 20.8s\n",
            "730:\tlearn: 0.0805790\ttotal: 56.2s\tremaining: 20.7s\n",
            "731:\tlearn: 0.0805711\ttotal: 56.2s\tremaining: 20.6s\n",
            "732:\tlearn: 0.0805538\ttotal: 56.2s\tremaining: 20.5s\n",
            "733:\tlearn: 0.0805321\ttotal: 56.3s\tremaining: 20.4s\n",
            "734:\tlearn: 0.0805230\ttotal: 56.3s\tremaining: 20.3s\n",
            "735:\tlearn: 0.0805060\ttotal: 56.3s\tremaining: 20.2s\n",
            "736:\tlearn: 0.0804821\ttotal: 56.4s\tremaining: 20.1s\n",
            "737:\tlearn: 0.0804748\ttotal: 56.4s\tremaining: 20s\n",
            "738:\tlearn: 0.0804511\ttotal: 56.4s\tremaining: 19.9s\n",
            "739:\tlearn: 0.0804331\ttotal: 56.5s\tremaining: 19.8s\n",
            "740:\tlearn: 0.0804079\ttotal: 56.5s\tremaining: 19.8s\n",
            "741:\tlearn: 0.0803832\ttotal: 56.6s\tremaining: 19.7s\n",
            "742:\tlearn: 0.0803650\ttotal: 56.6s\tremaining: 19.6s\n",
            "743:\tlearn: 0.0803382\ttotal: 56.6s\tremaining: 19.5s\n",
            "744:\tlearn: 0.0803345\ttotal: 56.7s\tremaining: 19.4s\n",
            "745:\tlearn: 0.0803265\ttotal: 56.7s\tremaining: 19.3s\n",
            "746:\tlearn: 0.0803099\ttotal: 56.7s\tremaining: 19.2s\n",
            "747:\tlearn: 0.0802957\ttotal: 56.8s\tremaining: 19.1s\n",
            "748:\tlearn: 0.0802815\ttotal: 56.8s\tremaining: 19s\n",
            "749:\tlearn: 0.0802650\ttotal: 56.8s\tremaining: 18.9s\n",
            "750:\tlearn: 0.0802614\ttotal: 56.9s\tremaining: 18.9s\n",
            "751:\tlearn: 0.0802423\ttotal: 56.9s\tremaining: 18.8s\n",
            "752:\tlearn: 0.0802286\ttotal: 57s\tremaining: 18.7s\n",
            "753:\tlearn: 0.0802121\ttotal: 57s\tremaining: 18.6s\n",
            "754:\tlearn: 0.0801959\ttotal: 57s\tremaining: 18.5s\n",
            "755:\tlearn: 0.0801885\ttotal: 57.1s\tremaining: 18.4s\n",
            "756:\tlearn: 0.0801823\ttotal: 57.1s\tremaining: 18.3s\n",
            "757:\tlearn: 0.0801738\ttotal: 57.1s\tremaining: 18.2s\n",
            "758:\tlearn: 0.0801683\ttotal: 57.2s\tremaining: 18.1s\n",
            "759:\tlearn: 0.0801428\ttotal: 57.2s\tremaining: 18.1s\n",
            "760:\tlearn: 0.0801286\ttotal: 57.2s\tremaining: 18s\n",
            "761:\tlearn: 0.0801209\ttotal: 57.3s\tremaining: 17.9s\n",
            "762:\tlearn: 0.0801083\ttotal: 57.3s\tremaining: 17.8s\n",
            "763:\tlearn: 0.0800916\ttotal: 57.3s\tremaining: 17.7s\n",
            "764:\tlearn: 0.0800779\ttotal: 57.4s\tremaining: 17.6s\n",
            "765:\tlearn: 0.0800516\ttotal: 57.4s\tremaining: 17.5s\n",
            "766:\tlearn: 0.0800282\ttotal: 57.4s\tremaining: 17.5s\n",
            "767:\tlearn: 0.0800243\ttotal: 57.5s\tremaining: 17.4s\n",
            "768:\tlearn: 0.0800036\ttotal: 57.5s\tremaining: 17.3s\n",
            "769:\tlearn: 0.0799934\ttotal: 57.5s\tremaining: 17.2s\n",
            "770:\tlearn: 0.0799788\ttotal: 57.6s\tremaining: 17.1s\n",
            "771:\tlearn: 0.0799631\ttotal: 57.6s\tremaining: 17s\n",
            "772:\tlearn: 0.0799482\ttotal: 57.7s\tremaining: 16.9s\n",
            "773:\tlearn: 0.0799328\ttotal: 57.7s\tremaining: 16.8s\n",
            "774:\tlearn: 0.0798927\ttotal: 57.7s\tremaining: 16.8s\n",
            "775:\tlearn: 0.0798853\ttotal: 57.8s\tremaining: 16.7s\n",
            "776:\tlearn: 0.0798756\ttotal: 57.8s\tremaining: 16.6s\n",
            "777:\tlearn: 0.0798633\ttotal: 57.8s\tremaining: 16.5s\n",
            "778:\tlearn: 0.0798507\ttotal: 57.9s\tremaining: 16.4s\n",
            "779:\tlearn: 0.0798430\ttotal: 57.9s\tremaining: 16.3s\n",
            "780:\tlearn: 0.0798295\ttotal: 58s\tremaining: 16.3s\n",
            "781:\tlearn: 0.0798155\ttotal: 58s\tremaining: 16.2s\n",
            "782:\tlearn: 0.0797947\ttotal: 58s\tremaining: 16.1s\n",
            "783:\tlearn: 0.0797746\ttotal: 58.1s\tremaining: 16s\n",
            "784:\tlearn: 0.0797569\ttotal: 58.1s\tremaining: 15.9s\n",
            "785:\tlearn: 0.0797426\ttotal: 58.1s\tremaining: 15.8s\n",
            "786:\tlearn: 0.0797316\ttotal: 58.2s\tremaining: 15.7s\n",
            "787:\tlearn: 0.0797096\ttotal: 58.2s\tremaining: 15.7s\n",
            "788:\tlearn: 0.0797016\ttotal: 58.2s\tremaining: 15.6s\n",
            "789:\tlearn: 0.0796863\ttotal: 58.3s\tremaining: 15.5s\n",
            "790:\tlearn: 0.0796721\ttotal: 58.3s\tremaining: 15.4s\n",
            "791:\tlearn: 0.0796525\ttotal: 58.3s\tremaining: 15.3s\n",
            "792:\tlearn: 0.0796427\ttotal: 58.4s\tremaining: 15.2s\n",
            "793:\tlearn: 0.0796396\ttotal: 58.4s\tremaining: 15.2s\n",
            "794:\tlearn: 0.0796136\ttotal: 58.4s\tremaining: 15.1s\n",
            "795:\tlearn: 0.0796013\ttotal: 58.5s\tremaining: 15s\n",
            "796:\tlearn: 0.0795960\ttotal: 58.5s\tremaining: 14.9s\n",
            "797:\tlearn: 0.0795794\ttotal: 58.6s\tremaining: 14.8s\n",
            "798:\tlearn: 0.0795707\ttotal: 58.6s\tremaining: 14.7s\n",
            "799:\tlearn: 0.0795598\ttotal: 58.6s\tremaining: 14.7s\n",
            "800:\tlearn: 0.0795501\ttotal: 58.7s\tremaining: 14.6s\n",
            "801:\tlearn: 0.0795420\ttotal: 58.7s\tremaining: 14.5s\n",
            "802:\tlearn: 0.0795287\ttotal: 58.7s\tremaining: 14.4s\n",
            "803:\tlearn: 0.0795187\ttotal: 58.8s\tremaining: 14.3s\n",
            "804:\tlearn: 0.0794930\ttotal: 58.8s\tremaining: 14.2s\n",
            "805:\tlearn: 0.0794757\ttotal: 58.8s\tremaining: 14.2s\n",
            "806:\tlearn: 0.0794674\ttotal: 58.9s\tremaining: 14.1s\n",
            "807:\tlearn: 0.0794570\ttotal: 58.9s\tremaining: 14s\n",
            "808:\tlearn: 0.0794439\ttotal: 58.9s\tremaining: 13.9s\n",
            "809:\tlearn: 0.0794370\ttotal: 59s\tremaining: 13.8s\n",
            "810:\tlearn: 0.0794228\ttotal: 59s\tremaining: 13.7s\n",
            "811:\tlearn: 0.0794096\ttotal: 59s\tremaining: 13.7s\n",
            "812:\tlearn: 0.0793987\ttotal: 59.1s\tremaining: 13.6s\n",
            "813:\tlearn: 0.0793916\ttotal: 59.1s\tremaining: 13.5s\n",
            "814:\tlearn: 0.0793872\ttotal: 59.1s\tremaining: 13.4s\n",
            "815:\tlearn: 0.0793746\ttotal: 59.2s\tremaining: 13.3s\n",
            "816:\tlearn: 0.0793678\ttotal: 59.2s\tremaining: 13.3s\n",
            "817:\tlearn: 0.0793556\ttotal: 59.2s\tremaining: 13.2s\n",
            "818:\tlearn: 0.0793460\ttotal: 59.3s\tremaining: 13.1s\n",
            "819:\tlearn: 0.0793344\ttotal: 59.3s\tremaining: 13s\n",
            "820:\tlearn: 0.0793079\ttotal: 59.4s\tremaining: 12.9s\n",
            "821:\tlearn: 0.0792972\ttotal: 59.4s\tremaining: 12.9s\n",
            "822:\tlearn: 0.0792858\ttotal: 59.4s\tremaining: 12.8s\n",
            "823:\tlearn: 0.0792759\ttotal: 59.4s\tremaining: 12.7s\n",
            "824:\tlearn: 0.0792560\ttotal: 59.5s\tremaining: 12.6s\n",
            "825:\tlearn: 0.0792384\ttotal: 59.5s\tremaining: 12.5s\n",
            "826:\tlearn: 0.0792234\ttotal: 59.6s\tremaining: 12.5s\n",
            "827:\tlearn: 0.0792103\ttotal: 59.6s\tremaining: 12.4s\n",
            "828:\tlearn: 0.0791956\ttotal: 59.6s\tremaining: 12.3s\n",
            "829:\tlearn: 0.0791777\ttotal: 59.7s\tremaining: 12.2s\n",
            "830:\tlearn: 0.0791605\ttotal: 59.7s\tremaining: 12.1s\n",
            "831:\tlearn: 0.0791418\ttotal: 59.7s\tremaining: 12.1s\n",
            "832:\tlearn: 0.0791221\ttotal: 59.8s\tremaining: 12s\n",
            "833:\tlearn: 0.0791104\ttotal: 59.8s\tremaining: 11.9s\n",
            "834:\tlearn: 0.0790981\ttotal: 59.9s\tremaining: 11.8s\n",
            "835:\tlearn: 0.0790964\ttotal: 59.9s\tremaining: 11.8s\n",
            "836:\tlearn: 0.0790842\ttotal: 59.9s\tremaining: 11.7s\n",
            "837:\tlearn: 0.0790673\ttotal: 60s\tremaining: 11.6s\n",
            "838:\tlearn: 0.0790539\ttotal: 1m\tremaining: 11.5s\n",
            "839:\tlearn: 0.0790478\ttotal: 1m\tremaining: 11.4s\n",
            "840:\tlearn: 0.0790380\ttotal: 1m\tremaining: 11.4s\n",
            "841:\tlearn: 0.0790160\ttotal: 1m\tremaining: 11.3s\n",
            "842:\tlearn: 0.0790013\ttotal: 1m\tremaining: 11.2s\n",
            "843:\tlearn: 0.0789781\ttotal: 1m\tremaining: 11.1s\n",
            "844:\tlearn: 0.0789645\ttotal: 1m\tremaining: 11s\n",
            "845:\tlearn: 0.0789525\ttotal: 1m\tremaining: 11s\n",
            "846:\tlearn: 0.0789403\ttotal: 1m\tremaining: 10.9s\n",
            "847:\tlearn: 0.0789324\ttotal: 1m\tremaining: 10.8s\n",
            "848:\tlearn: 0.0789001\ttotal: 1m\tremaining: 10.7s\n",
            "849:\tlearn: 0.0788888\ttotal: 1m\tremaining: 10.7s\n",
            "850:\tlearn: 0.0788791\ttotal: 1m\tremaining: 10.6s\n",
            "851:\tlearn: 0.0788656\ttotal: 1m\tremaining: 10.5s\n",
            "852:\tlearn: 0.0788536\ttotal: 1m\tremaining: 10.4s\n",
            "853:\tlearn: 0.0788391\ttotal: 1m\tremaining: 10.4s\n",
            "854:\tlearn: 0.0788270\ttotal: 1m\tremaining: 10.3s\n",
            "855:\tlearn: 0.0788079\ttotal: 1m\tremaining: 10.2s\n",
            "856:\tlearn: 0.0787921\ttotal: 1m\tremaining: 10.1s\n",
            "857:\tlearn: 0.0787763\ttotal: 1m\tremaining: 10s\n",
            "858:\tlearn: 0.0787607\ttotal: 1m\tremaining: 9.97s\n",
            "859:\tlearn: 0.0787385\ttotal: 1m\tremaining: 9.89s\n",
            "860:\tlearn: 0.0787249\ttotal: 1m\tremaining: 9.82s\n",
            "861:\tlearn: 0.0787108\ttotal: 1m\tremaining: 9.74s\n",
            "862:\tlearn: 0.0786910\ttotal: 1m\tremaining: 9.66s\n",
            "863:\tlearn: 0.0786881\ttotal: 1m\tremaining: 9.59s\n",
            "864:\tlearn: 0.0786744\ttotal: 1m\tremaining: 9.51s\n",
            "865:\tlearn: 0.0786594\ttotal: 1m\tremaining: 9.44s\n",
            "866:\tlearn: 0.0786458\ttotal: 1m 1s\tremaining: 9.36s\n",
            "867:\tlearn: 0.0786152\ttotal: 1m 1s\tremaining: 9.29s\n",
            "868:\tlearn: 0.0786030\ttotal: 1m 1s\tremaining: 9.21s\n",
            "869:\tlearn: 0.0786011\ttotal: 1m 1s\tremaining: 9.13s\n",
            "870:\tlearn: 0.0785845\ttotal: 1m 1s\tremaining: 9.06s\n",
            "871:\tlearn: 0.0785670\ttotal: 1m 1s\tremaining: 8.98s\n",
            "872:\tlearn: 0.0785593\ttotal: 1m 1s\tremaining: 8.91s\n",
            "873:\tlearn: 0.0785421\ttotal: 1m 1s\tremaining: 8.83s\n",
            "874:\tlearn: 0.0785398\ttotal: 1m 1s\tremaining: 8.76s\n",
            "875:\tlearn: 0.0785289\ttotal: 1m 1s\tremaining: 8.68s\n",
            "876:\tlearn: 0.0785189\ttotal: 1m 1s\tremaining: 8.61s\n",
            "877:\tlearn: 0.0785046\ttotal: 1m 1s\tremaining: 8.53s\n",
            "878:\tlearn: 0.0784921\ttotal: 1m 1s\tremaining: 8.46s\n",
            "879:\tlearn: 0.0784801\ttotal: 1m 1s\tremaining: 8.38s\n",
            "880:\tlearn: 0.0784489\ttotal: 1m 1s\tremaining: 8.31s\n",
            "881:\tlearn: 0.0784399\ttotal: 1m 1s\tremaining: 8.23s\n",
            "882:\tlearn: 0.0784221\ttotal: 1m 1s\tremaining: 8.16s\n",
            "883:\tlearn: 0.0784131\ttotal: 1m 1s\tremaining: 8.09s\n",
            "884:\tlearn: 0.0783947\ttotal: 1m 1s\tremaining: 8.01s\n",
            "885:\tlearn: 0.0783815\ttotal: 1m 1s\tremaining: 7.94s\n",
            "886:\tlearn: 0.0783775\ttotal: 1m 1s\tremaining: 7.87s\n",
            "887:\tlearn: 0.0783660\ttotal: 1m 1s\tremaining: 7.79s\n",
            "888:\tlearn: 0.0783517\ttotal: 1m 1s\tremaining: 7.72s\n",
            "889:\tlearn: 0.0783352\ttotal: 1m 1s\tremaining: 7.64s\n",
            "890:\tlearn: 0.0783202\ttotal: 1m 1s\tremaining: 7.57s\n",
            "891:\tlearn: 0.0783094\ttotal: 1m 1s\tremaining: 7.5s\n",
            "892:\tlearn: 0.0782968\ttotal: 1m 1s\tremaining: 7.42s\n",
            "893:\tlearn: 0.0782724\ttotal: 1m 2s\tremaining: 7.35s\n",
            "894:\tlearn: 0.0782528\ttotal: 1m 2s\tremaining: 7.28s\n",
            "895:\tlearn: 0.0782402\ttotal: 1m 2s\tremaining: 7.21s\n",
            "896:\tlearn: 0.0782171\ttotal: 1m 2s\tremaining: 7.13s\n",
            "897:\tlearn: 0.0782093\ttotal: 1m 2s\tremaining: 7.06s\n",
            "898:\tlearn: 0.0782051\ttotal: 1m 2s\tremaining: 6.99s\n",
            "899:\tlearn: 0.0781849\ttotal: 1m 2s\tremaining: 6.91s\n",
            "900:\tlearn: 0.0781713\ttotal: 1m 2s\tremaining: 6.84s\n",
            "901:\tlearn: 0.0781614\ttotal: 1m 2s\tremaining: 6.77s\n",
            "902:\tlearn: 0.0781559\ttotal: 1m 2s\tremaining: 6.69s\n",
            "903:\tlearn: 0.0781443\ttotal: 1m 2s\tremaining: 6.62s\n",
            "904:\tlearn: 0.0781306\ttotal: 1m 2s\tremaining: 6.55s\n",
            "905:\tlearn: 0.0781188\ttotal: 1m 2s\tremaining: 6.48s\n",
            "906:\tlearn: 0.0780950\ttotal: 1m 2s\tremaining: 6.4s\n",
            "907:\tlearn: 0.0780740\ttotal: 1m 2s\tremaining: 6.33s\n",
            "908:\tlearn: 0.0780672\ttotal: 1m 2s\tremaining: 6.26s\n",
            "909:\tlearn: 0.0780567\ttotal: 1m 2s\tremaining: 6.19s\n",
            "910:\tlearn: 0.0780451\ttotal: 1m 2s\tremaining: 6.12s\n",
            "911:\tlearn: 0.0780264\ttotal: 1m 2s\tremaining: 6.04s\n",
            "912:\tlearn: 0.0780138\ttotal: 1m 2s\tremaining: 5.97s\n",
            "913:\tlearn: 0.0780038\ttotal: 1m 2s\tremaining: 5.9s\n",
            "914:\tlearn: 0.0779888\ttotal: 1m 2s\tremaining: 5.83s\n",
            "915:\tlearn: 0.0779610\ttotal: 1m 2s\tremaining: 5.76s\n",
            "916:\tlearn: 0.0779520\ttotal: 1m 2s\tremaining: 5.69s\n",
            "917:\tlearn: 0.0779456\ttotal: 1m 2s\tremaining: 5.62s\n",
            "918:\tlearn: 0.0779245\ttotal: 1m 2s\tremaining: 5.54s\n",
            "919:\tlearn: 0.0779101\ttotal: 1m 2s\tremaining: 5.47s\n",
            "920:\tlearn: 0.0778839\ttotal: 1m 2s\tremaining: 5.4s\n",
            "921:\tlearn: 0.0778683\ttotal: 1m 3s\tremaining: 5.33s\n",
            "922:\tlearn: 0.0778582\ttotal: 1m 3s\tremaining: 5.26s\n",
            "923:\tlearn: 0.0778466\ttotal: 1m 3s\tremaining: 5.19s\n",
            "924:\tlearn: 0.0778124\ttotal: 1m 3s\tremaining: 5.12s\n",
            "925:\tlearn: 0.0777983\ttotal: 1m 3s\tremaining: 5.05s\n",
            "926:\tlearn: 0.0777824\ttotal: 1m 3s\tremaining: 4.98s\n",
            "927:\tlearn: 0.0777748\ttotal: 1m 3s\tremaining: 4.91s\n",
            "928:\tlearn: 0.0777691\ttotal: 1m 3s\tremaining: 4.83s\n",
            "929:\tlearn: 0.0777516\ttotal: 1m 3s\tremaining: 4.76s\n",
            "930:\tlearn: 0.0777390\ttotal: 1m 3s\tremaining: 4.69s\n",
            "931:\tlearn: 0.0777214\ttotal: 1m 3s\tremaining: 4.63s\n",
            "932:\tlearn: 0.0777063\ttotal: 1m 3s\tremaining: 4.55s\n",
            "933:\tlearn: 0.0776920\ttotal: 1m 3s\tremaining: 4.49s\n",
            "934:\tlearn: 0.0776810\ttotal: 1m 3s\tremaining: 4.42s\n",
            "935:\tlearn: 0.0776656\ttotal: 1m 3s\tremaining: 4.35s\n",
            "936:\tlearn: 0.0776565\ttotal: 1m 3s\tremaining: 4.29s\n",
            "937:\tlearn: 0.0776538\ttotal: 1m 3s\tremaining: 4.22s\n",
            "938:\tlearn: 0.0776419\ttotal: 1m 3s\tremaining: 4.15s\n",
            "939:\tlearn: 0.0776337\ttotal: 1m 4s\tremaining: 4.09s\n",
            "940:\tlearn: 0.0776180\ttotal: 1m 4s\tremaining: 4.02s\n",
            "941:\tlearn: 0.0776055\ttotal: 1m 4s\tremaining: 3.95s\n",
            "942:\tlearn: 0.0775954\ttotal: 1m 4s\tremaining: 3.88s\n",
            "943:\tlearn: 0.0775877\ttotal: 1m 4s\tremaining: 3.82s\n",
            "944:\tlearn: 0.0775767\ttotal: 1m 4s\tremaining: 3.75s\n",
            "945:\tlearn: 0.0775689\ttotal: 1m 4s\tremaining: 3.69s\n",
            "946:\tlearn: 0.0775550\ttotal: 1m 4s\tremaining: 3.62s\n",
            "947:\tlearn: 0.0775389\ttotal: 1m 4s\tremaining: 3.55s\n",
            "948:\tlearn: 0.0775350\ttotal: 1m 4s\tremaining: 3.48s\n",
            "949:\tlearn: 0.0775256\ttotal: 1m 4s\tremaining: 3.42s\n",
            "950:\tlearn: 0.0775084\ttotal: 1m 5s\tremaining: 3.35s\n",
            "951:\tlearn: 0.0775001\ttotal: 1m 5s\tremaining: 3.28s\n",
            "952:\tlearn: 0.0774891\ttotal: 1m 5s\tremaining: 3.22s\n",
            "953:\tlearn: 0.0774712\ttotal: 1m 5s\tremaining: 3.15s\n",
            "954:\tlearn: 0.0774667\ttotal: 1m 5s\tremaining: 3.08s\n",
            "955:\tlearn: 0.0774525\ttotal: 1m 5s\tremaining: 3.01s\n",
            "956:\tlearn: 0.0774424\ttotal: 1m 5s\tremaining: 2.94s\n",
            "957:\tlearn: 0.0774287\ttotal: 1m 5s\tremaining: 2.88s\n",
            "958:\tlearn: 0.0774206\ttotal: 1m 5s\tremaining: 2.81s\n",
            "959:\tlearn: 0.0774092\ttotal: 1m 5s\tremaining: 2.74s\n",
            "960:\tlearn: 0.0774026\ttotal: 1m 5s\tremaining: 2.68s\n",
            "961:\tlearn: 0.0773870\ttotal: 1m 6s\tremaining: 2.61s\n",
            "962:\tlearn: 0.0773801\ttotal: 1m 6s\tremaining: 2.54s\n",
            "963:\tlearn: 0.0773556\ttotal: 1m 6s\tremaining: 2.47s\n",
            "964:\tlearn: 0.0773468\ttotal: 1m 6s\tremaining: 2.4s\n",
            "965:\tlearn: 0.0773342\ttotal: 1m 6s\tremaining: 2.34s\n",
            "966:\tlearn: 0.0773152\ttotal: 1m 6s\tremaining: 2.27s\n",
            "967:\tlearn: 0.0773049\ttotal: 1m 6s\tremaining: 2.2s\n",
            "968:\tlearn: 0.0772925\ttotal: 1m 6s\tremaining: 2.13s\n",
            "969:\tlearn: 0.0772795\ttotal: 1m 6s\tremaining: 2.06s\n",
            "970:\tlearn: 0.0772630\ttotal: 1m 6s\tremaining: 1.99s\n",
            "971:\tlearn: 0.0772477\ttotal: 1m 6s\tremaining: 1.93s\n",
            "972:\tlearn: 0.0772373\ttotal: 1m 6s\tremaining: 1.86s\n",
            "973:\tlearn: 0.0772077\ttotal: 1m 7s\tremaining: 1.79s\n",
            "974:\tlearn: 0.0771923\ttotal: 1m 7s\tremaining: 1.72s\n",
            "975:\tlearn: 0.0771869\ttotal: 1m 7s\tremaining: 1.65s\n",
            "976:\tlearn: 0.0771762\ttotal: 1m 7s\tremaining: 1.59s\n",
            "977:\tlearn: 0.0771590\ttotal: 1m 7s\tremaining: 1.52s\n",
            "978:\tlearn: 0.0771534\ttotal: 1m 7s\tremaining: 1.45s\n",
            "979:\tlearn: 0.0771401\ttotal: 1m 7s\tremaining: 1.38s\n",
            "980:\tlearn: 0.0771338\ttotal: 1m 7s\tremaining: 1.31s\n",
            "981:\tlearn: 0.0771233\ttotal: 1m 7s\tremaining: 1.24s\n",
            "982:\tlearn: 0.0771140\ttotal: 1m 7s\tremaining: 1.17s\n",
            "983:\tlearn: 0.0771104\ttotal: 1m 7s\tremaining: 1.1s\n",
            "984:\tlearn: 0.0770899\ttotal: 1m 7s\tremaining: 1.03s\n",
            "985:\tlearn: 0.0770767\ttotal: 1m 7s\tremaining: 965ms\n",
            "986:\tlearn: 0.0770706\ttotal: 1m 8s\tremaining: 896ms\n",
            "987:\tlearn: 0.0770542\ttotal: 1m 8s\tremaining: 827ms\n",
            "988:\tlearn: 0.0770433\ttotal: 1m 8s\tremaining: 757ms\n",
            "989:\tlearn: 0.0770375\ttotal: 1m 8s\tremaining: 688ms\n",
            "990:\tlearn: 0.0770228\ttotal: 1m 8s\tremaining: 619ms\n",
            "991:\tlearn: 0.0770106\ttotal: 1m 8s\tremaining: 550ms\n",
            "992:\tlearn: 0.0769963\ttotal: 1m 8s\tremaining: 481ms\n",
            "993:\tlearn: 0.0769889\ttotal: 1m 8s\tremaining: 412ms\n",
            "994:\tlearn: 0.0769796\ttotal: 1m 8s\tremaining: 343ms\n",
            "995:\tlearn: 0.0769670\ttotal: 1m 8s\tremaining: 274ms\n",
            "996:\tlearn: 0.0769401\ttotal: 1m 8s\tremaining: 206ms\n",
            "997:\tlearn: 0.0769311\ttotal: 1m 8s\tremaining: 137ms\n",
            "998:\tlearn: 0.0769259\ttotal: 1m 8s\tremaining: 68.5ms\n",
            "999:\tlearn: 0.0769127\ttotal: 1m 8s\tremaining: 0us\n",
            "Accuracy: 0.9643866591294517\n",
            "Classification Report:\n",
            "               precision    recall  f1-score   support\n",
            "\n",
            "           0       0.97      0.95      0.96     17690\n",
            "           1       0.95      0.97      0.96     17690\n",
            "\n",
            "    accuracy                           0.96     35380\n",
            "   macro avg       0.96      0.96      0.96     35380\n",
            "weighted avg       0.96      0.96      0.96     35380\n",
            "\n"
          ]
        },
        {
          "output_type": "display_data",
          "data": {
            "text/plain": [
              "<Figure size 432x288 with 2 Axes>"
            ],
            "image/png": "[encoded data removed]"
          },
          "metadata": {
            "needs_background": "light"
          }
        }
      ]
    },
    {
      "cell_type": "code",
      "source": [
        "# save the trained model to a file\n",
        "with open('/content/drive/MyDrive/AI/Yoma/Yoma budget prediction/Models/CatBoost.pkl', 'wb') as f:\n",
        "    pickle.dump(cb, f)"
      ],
      "metadata": {
        "id": "6X_eAP3hL70Q"
      },
      "id": "6X_eAP3hL70Q",
      "execution_count": null,
      "outputs": []
    },
    {
      "cell_type": "markdown",
      "source": [
        "###Lightgbm\n"
      ],
      "metadata": {
        "id": "sOF8QjajMSm3"
      },
      "id": "sOF8QjajMSm3"
    },
    {
      "cell_type": "code",
      "source": [
        "import lightgbm as lgb\n",
        "\n",
        "# Create the LightGBM dataset format\n",
        "train_data = lgb.Dataset(X_train, label=y_train)\n",
        "\n",
        "# Set the hyperparameters\n",
        "params = {'objective': 'binary', 'metric': 'binary_logloss'}\n",
        "\n",
        "# Train the model\n",
        "lgb_model = lgb.train(params, train_data)\n",
        "\n",
        "# Predict on the val set\n",
        "y_pred = lgb_model.predict(X_val)\n",
        "y_pred_binary = [1 if x >= 0.5 else 0 for x in y_pred]\n",
        "\n",
        "# Calculate the accuracy score\n",
        "lgb_accuracy = accuracy_score(y_val, y_pred_binary)\n",
        "\n",
        "# evaluate the model\n",
        "print('Accuracy:', lgb_accuracy)\n",
        "sns.heatmap(confusion_matrix(y_val,y_pred_binary),cmap='viridis',annot=True);   \n",
        "print('Classification Report:\\n', classification_report(y_val, y_pred_binary))\n",
        "\n",
        "\n",
        "\n",
        "\n",
        "\n"
      ],
      "metadata": {
        "colab": {
          "base_uri": "https://localhost:8080/",
          "height": 615
        },
        "id": "WzDhKzKFMafr",
        "outputId": "00f86b1d-a277-437f-cb4b-7a263c086044"
      },
      "id": "WzDhKzKFMafr",
      "execution_count": null,
      "outputs": [
        {
          "output_type": "stream",
          "name": "stdout",
          "text": [
            "[LightGBM] [Warning] Found whitespace in feature_names, replace with underlines\n",
            "[LightGBM] [Info] Number of positive: 70760, number of negative: 70760\n",
            "[LightGBM] [Warning] Auto-choosing row-wise multi-threading, the overhead of testing was 0.202411 seconds.\n",
            "You can set `force_row_wise=true` to remove the overhead.\n",
            "And if memory is not enough, you can set `force_col_wise=true`.\n",
            "[LightGBM] [Info] Total Bins 886\n",
            "[LightGBM] [Info] Number of data points in the train set: 141520, number of used features: 23\n",
            "[LightGBM] [Info] [binary:BoostFromScore]: pavg=0.500000 -> initscore=0.000000\n",
            "Accuracy: 0.9611927642736009\n",
            "Classification Report:\n",
            "               precision    recall  f1-score   support\n",
            "\n",
            "           0       0.97      0.95      0.96     17690\n",
            "           1       0.95      0.97      0.96     17690\n",
            "\n",
            "    accuracy                           0.96     35380\n",
            "   macro avg       0.96      0.96      0.96     35380\n",
            "weighted avg       0.96      0.96      0.96     35380\n",
            "\n"
          ]
        },
        {
          "output_type": "display_data",
          "data": {
            "text/plain": [
              "<Figure size 432x288 with 2 Axes>"
            ],
            "image/png": "[encoded data removed]"
          },
          "metadata": {
            "needs_background": "light"
          }
        }
      ]
    },
    {
      "cell_type": "code",
      "source": [
        "# save the trained model to a file\n",
        "with open('/content/drive/MyDrive/AI/Yoma/Yoma budget prediction/Models/lightgbm.pkl', 'wb') as f:\n",
        "    pickle.dump(lgb_model, f)"
      ],
      "metadata": {
        "id": "F21bUvHpNb1A"
      },
      "id": "F21bUvHpNb1A",
      "execution_count": null,
      "outputs": []
    },
    {
      "cell_type": "markdown",
      "source": [
        "###Adamboost "
      ],
      "metadata": {
        "id": "53Mjq2JcNwDF"
      },
      "id": "53Mjq2JcNwDF"
    },
    {
      "cell_type": "code",
      "source": [
        "from sklearn.ensemble import AdaBoostClassifier\n",
        "\n",
        "ada = AdaBoostClassifier(n_estimators=50, learning_rate=1.0, random_state=42)\n",
        "\n",
        "# Train the model\n",
        "ada.fit(X_train, y_train)\n",
        "\n",
        "# Predict on the val set\n",
        "y_pred_ada = ada.predict(X_val)\n",
        "\n",
        "# evaluate the model\n",
        "ada_accuracy = accuracy_score(y_val, y_pred_ada)\n",
        "\n",
        "print('Accuracy:', ada_accuracy)\n",
        "sns.heatmap(confusion_matrix(y_val,y_pred_ada),cmap='viridis',annot=True);   \n",
        "print('Classification Report:\\n', classification_report(y_val, y_pred_ada))\n"
      ],
      "metadata": {
        "colab": {
          "base_uri": "https://localhost:8080/",
          "height": 457
        },
        "id": "Pw4HWv1PN0hY",
        "outputId": "e54e40d5-b8fb-4e29-c797-e3edb3fc4680"
      },
      "id": "Pw4HWv1PN0hY",
      "execution_count": null,
      "outputs": [
        {
          "output_type": "stream",
          "name": "stdout",
          "text": [
            "Accuracy: 0.9151215375918598\n",
            "Classification Report:\n",
            "               precision    recall  f1-score   support\n",
            "\n",
            "           0       0.92      0.91      0.92     17690\n",
            "           1       0.91      0.92      0.92     17690\n",
            "\n",
            "    accuracy                           0.92     35380\n",
            "   macro avg       0.92      0.92      0.92     35380\n",
            "weighted avg       0.92      0.92      0.92     35380\n",
            "\n"
          ]
        },
        {
          "output_type": "display_data",
          "data": {
            "text/plain": [
              "<Figure size 432x288 with 2 Axes>"
            ],
            "image/png": "[encoded data removed]"
          },
          "metadata": {
            "needs_background": "light"
          }
        }
      ]
    },
    {
      "cell_type": "code",
      "source": [
        "# save the trained model to a file\n",
        "with open('/content/drive/MyDrive/AI/Yoma/Yoma budget prediction/Models/AdaBoost.pkl', 'wb') as f:\n",
        "    pickle.dump(ada, f)"
      ],
      "metadata": {
        "id": "B9PJOfSJO4Em"
      },
      "id": "B9PJOfSJO4Em",
      "execution_count": null,
      "outputs": []
    },
    {
      "cell_type": "markdown",
      "source": [
        "##Ensemble model"
      ],
      "metadata": {
        "id": "mY8POJZrAa1o"
      },
      "id": "mY8POJZrAa1o"
    },
    {
      "cell_type": "code",
      "source": [
        "# Load the first trained model\n",
        "with open('/content/drive/MyDrive/AI/Yoma/Yoma budget prediction/Models/random_forest_model.pkl', 'rb') as f:\n",
        "    rfc = pickle.load(f)\n",
        "\n",
        "# Load the second trained model\n",
        "with open('/content/drive/MyDrive/AI/Yoma/Yoma budget prediction/Models/Gradient Boosting Machines.pkl', 'rb') as f:\n",
        "    gbm = pickle.load(f)\n",
        "\n",
        "# with open('/content/drive/MyDrive/AI/Yoma/Yoma budget prediction/Models/XGBoost.pkl', 'rb') as f:\n",
        "#     xgb = pickle.load(f)\n",
        "\n",
        "with open('/content/drive/MyDrive/AI/Yoma/Yoma budget prediction/Models/CatBoost.pkl', 'rb') as f:\n",
        "    cb = pickle.load(f)\n",
        "\n",
        "# with open('/content/drive/MyDrive/AI/Yoma/Yoma budget prediction/Models/lightgbm.pkl', 'rb') as f:\n",
        "#     lgbm = pickle.load(f)\n",
        "\n",
        "with open('/content/drive/MyDrive/AI/Yoma/Yoma budget prediction/Models/AdaBoost.pkl', 'rb') as f:\n",
        "    ada = pickle.load(f)\n",
        "\n",
        "# Create a voting classifier to combine the two models\n",
        "ensemble_model = VotingClassifier(estimators=[('model1', rfc), ('model2', gbm),('model3', ada),('model4', cb)])\n",
        "\n",
        "# Train the ensemble model on your training data\n",
        "ens=ensemble_model.fit(X_train, y_train)\n",
        "\n",
        "#Predict the response for test dataset\n",
        "y_pred_ens= ens.predict(X_val)\n",
        "ens_acc=accuracy_score(y_val,y_pred_ens)\n",
        "print(ens_acc)\n",
        "\n",
        "sns.heatmap(confusion_matrix(y_val,y_pred_ens),cmap='viridis',annot=True);\n",
        "print ('Report : ')\n",
        "print (classification_report(y_val, y_pred_ens))   "
      ],
      "metadata": {
        "colab": {
          "base_uri": "https://localhost:8080/",
          "height": 1000
        },
        "id": "xVrFWMLQAfno",
        "outputId": "99bef11d-e549-48db-f26d-4be34d79e045"
      },
      "id": "xVrFWMLQAfno",
      "execution_count": null,
      "outputs": [
        {
          "output_type": "stream",
          "name": "stdout",
          "text": [
            "Learning rate set to 0.085375\n",
            "0:\tlearn: 0.5664774\ttotal: 134ms\tremaining: 2m 13s\n",
            "1:\tlearn: 0.4719778\ttotal: 218ms\tremaining: 1m 48s\n",
            "2:\tlearn: 0.3958149\ttotal: 317ms\tremaining: 1m 45s\n",
            "3:\tlearn: 0.3333051\ttotal: 409ms\tremaining: 1m 41s\n",
            "4:\tlearn: 0.2879363\ttotal: 514ms\tremaining: 1m 42s\n",
            "5:\tlearn: 0.2630632\ttotal: 602ms\tremaining: 1m 39s\n",
            "6:\tlearn: 0.2389540\ttotal: 688ms\tremaining: 1m 37s\n",
            "7:\tlearn: 0.2283207\ttotal: 800ms\tremaining: 1m 39s\n",
            "8:\tlearn: 0.2144623\ttotal: 894ms\tremaining: 1m 38s\n",
            "9:\tlearn: 0.2033595\ttotal: 997ms\tremaining: 1m 38s\n",
            "10:\tlearn: 0.1939207\ttotal: 1.06s\tremaining: 1m 35s\n",
            "11:\tlearn: 0.1871658\ttotal: 1.17s\tremaining: 1m 36s\n",
            "12:\tlearn: 0.1801550\ttotal: 1.27s\tremaining: 1m 36s\n",
            "13:\tlearn: 0.1744020\ttotal: 1.38s\tremaining: 1m 37s\n",
            "14:\tlearn: 0.1697021\ttotal: 1.5s\tremaining: 1m 38s\n",
            "15:\tlearn: 0.1651652\ttotal: 1.6s\tremaining: 1m 38s\n",
            "16:\tlearn: 0.1622498\ttotal: 1.72s\tremaining: 1m 39s\n",
            "17:\tlearn: 0.1568793\ttotal: 1.82s\tremaining: 1m 39s\n",
            "18:\tlearn: 0.1545839\ttotal: 1.94s\tremaining: 1m 40s\n",
            "19:\tlearn: 0.1519726\ttotal: 2.03s\tremaining: 1m 39s\n",
            "20:\tlearn: 0.1502292\ttotal: 2.15s\tremaining: 1m 40s\n",
            "21:\tlearn: 0.1476850\ttotal: 2.25s\tremaining: 1m 39s\n",
            "22:\tlearn: 0.1456305\ttotal: 2.35s\tremaining: 1m 39s\n",
            "23:\tlearn: 0.1443545\ttotal: 2.45s\tremaining: 1m 39s\n",
            "24:\tlearn: 0.1428531\ttotal: 2.53s\tremaining: 1m 38s\n",
            "25:\tlearn: 0.1411333\ttotal: 2.62s\tremaining: 1m 38s\n",
            "26:\tlearn: 0.1394399\ttotal: 2.73s\tremaining: 1m 38s\n",
            "27:\tlearn: 0.1387871\ttotal: 2.81s\tremaining: 1m 37s\n",
            "28:\tlearn: 0.1373394\ttotal: 2.85s\tremaining: 1m 35s\n",
            "29:\tlearn: 0.1360561\ttotal: 2.89s\tremaining: 1m 33s\n",
            "30:\tlearn: 0.1349729\ttotal: 2.93s\tremaining: 1m 31s\n",
            "31:\tlearn: 0.1339853\ttotal: 2.97s\tremaining: 1m 29s\n",
            "32:\tlearn: 0.1329861\ttotal: 3.01s\tremaining: 1m 28s\n",
            "33:\tlearn: 0.1323722\ttotal: 3.04s\tremaining: 1m 26s\n",
            "34:\tlearn: 0.1312303\ttotal: 3.1s\tremaining: 1m 25s\n",
            "35:\tlearn: 0.1305018\ttotal: 3.15s\tremaining: 1m 24s\n",
            "36:\tlearn: 0.1298064\ttotal: 3.18s\tremaining: 1m 22s\n",
            "37:\tlearn: 0.1286018\ttotal: 3.23s\tremaining: 1m 21s\n",
            "38:\tlearn: 0.1281401\ttotal: 3.27s\tremaining: 1m 20s\n",
            "39:\tlearn: 0.1273800\ttotal: 3.31s\tremaining: 1m 19s\n",
            "40:\tlearn: 0.1266311\ttotal: 3.35s\tremaining: 1m 18s\n",
            "41:\tlearn: 0.1259040\ttotal: 3.39s\tremaining: 1m 17s\n",
            "42:\tlearn: 0.1252530\ttotal: 3.42s\tremaining: 1m 16s\n",
            "43:\tlearn: 0.1245894\ttotal: 3.46s\tremaining: 1m 15s\n",
            "44:\tlearn: 0.1242019\ttotal: 3.49s\tremaining: 1m 14s\n",
            "45:\tlearn: 0.1235498\ttotal: 3.53s\tremaining: 1m 13s\n",
            "46:\tlearn: 0.1229476\ttotal: 3.58s\tremaining: 1m 12s\n",
            "47:\tlearn: 0.1224696\ttotal: 3.62s\tremaining: 1m 11s\n",
            "48:\tlearn: 0.1218613\ttotal: 3.65s\tremaining: 1m 10s\n",
            "49:\tlearn: 0.1215042\ttotal: 3.69s\tremaining: 1m 10s\n",
            "50:\tlearn: 0.1209369\ttotal: 3.73s\tremaining: 1m 9s\n",
            "51:\tlearn: 0.1205930\ttotal: 3.77s\tremaining: 1m 8s\n",
            "52:\tlearn: 0.1197254\ttotal: 3.8s\tremaining: 1m 7s\n",
            "53:\tlearn: 0.1194042\ttotal: 3.84s\tremaining: 1m 7s\n",
            "54:\tlearn: 0.1187927\ttotal: 3.87s\tremaining: 1m 6s\n",
            "55:\tlearn: 0.1183247\ttotal: 3.91s\tremaining: 1m 5s\n",
            "56:\tlearn: 0.1178385\ttotal: 3.95s\tremaining: 1m 5s\n",
            "57:\tlearn: 0.1176046\ttotal: 3.99s\tremaining: 1m 4s\n",
            "58:\tlearn: 0.1172280\ttotal: 4.03s\tremaining: 1m 4s\n",
            "59:\tlearn: 0.1168072\ttotal: 4.07s\tremaining: 1m 3s\n",
            "60:\tlearn: 0.1164838\ttotal: 4.11s\tremaining: 1m 3s\n",
            "61:\tlearn: 0.1157494\ttotal: 4.15s\tremaining: 1m 2s\n",
            "62:\tlearn: 0.1152547\ttotal: 4.2s\tremaining: 1m 2s\n",
            "63:\tlearn: 0.1148192\ttotal: 4.25s\tremaining: 1m 2s\n",
            "64:\tlearn: 0.1145786\ttotal: 4.29s\tremaining: 1m 1s\n",
            "65:\tlearn: 0.1139258\ttotal: 4.33s\tremaining: 1m 1s\n",
            "66:\tlearn: 0.1134589\ttotal: 4.37s\tremaining: 1m\n",
            "67:\tlearn: 0.1130231\ttotal: 4.41s\tremaining: 1m\n",
            "68:\tlearn: 0.1127801\ttotal: 4.45s\tremaining: 1m\n",
            "69:\tlearn: 0.1125696\ttotal: 4.48s\tremaining: 59.6s\n",
            "70:\tlearn: 0.1122568\ttotal: 4.52s\tremaining: 59.2s\n",
            "71:\tlearn: 0.1120349\ttotal: 4.56s\tremaining: 58.8s\n",
            "72:\tlearn: 0.1118117\ttotal: 4.6s\tremaining: 58.4s\n",
            "73:\tlearn: 0.1115657\ttotal: 4.64s\tremaining: 58.1s\n",
            "74:\tlearn: 0.1113818\ttotal: 4.68s\tremaining: 57.7s\n",
            "75:\tlearn: 0.1111452\ttotal: 4.71s\tremaining: 57.3s\n",
            "76:\tlearn: 0.1108001\ttotal: 4.75s\tremaining: 57s\n",
            "77:\tlearn: 0.1104912\ttotal: 4.79s\tremaining: 56.6s\n",
            "78:\tlearn: 0.1101250\ttotal: 4.82s\tremaining: 56.2s\n",
            "79:\tlearn: 0.1100629\ttotal: 4.86s\tremaining: 55.9s\n",
            "80:\tlearn: 0.1098507\ttotal: 4.89s\tremaining: 55.5s\n",
            "81:\tlearn: 0.1094195\ttotal: 4.93s\tremaining: 55.2s\n",
            "82:\tlearn: 0.1091658\ttotal: 4.97s\tremaining: 54.9s\n",
            "83:\tlearn: 0.1088845\ttotal: 5.01s\tremaining: 54.6s\n",
            "84:\tlearn: 0.1087743\ttotal: 5.05s\tremaining: 54.4s\n",
            "85:\tlearn: 0.1085974\ttotal: 5.09s\tremaining: 54.1s\n",
            "86:\tlearn: 0.1084493\ttotal: 5.13s\tremaining: 53.8s\n",
            "87:\tlearn: 0.1084041\ttotal: 5.16s\tremaining: 53.5s\n",
            "88:\tlearn: 0.1082951\ttotal: 5.19s\tremaining: 53.1s\n",
            "89:\tlearn: 0.1081707\ttotal: 5.24s\tremaining: 53s\n",
            "90:\tlearn: 0.1079233\ttotal: 5.28s\tremaining: 52.7s\n",
            "91:\tlearn: 0.1076715\ttotal: 5.32s\tremaining: 52.5s\n",
            "92:\tlearn: 0.1074468\ttotal: 5.38s\tremaining: 52.5s\n",
            "93:\tlearn: 0.1073715\ttotal: 5.42s\tremaining: 52.2s\n",
            "94:\tlearn: 0.1069569\ttotal: 5.46s\tremaining: 52s\n",
            "95:\tlearn: 0.1068930\ttotal: 5.49s\tremaining: 51.7s\n",
            "96:\tlearn: 0.1067727\ttotal: 5.53s\tremaining: 51.5s\n",
            "97:\tlearn: 0.1066557\ttotal: 5.57s\tremaining: 51.3s\n",
            "98:\tlearn: 0.1065442\ttotal: 5.61s\tremaining: 51s\n",
            "99:\tlearn: 0.1063416\ttotal: 5.64s\tremaining: 50.8s\n",
            "100:\tlearn: 0.1063074\ttotal: 5.67s\tremaining: 50.5s\n",
            "101:\tlearn: 0.1060603\ttotal: 5.71s\tremaining: 50.3s\n",
            "102:\tlearn: 0.1059217\ttotal: 5.76s\tremaining: 50.1s\n",
            "103:\tlearn: 0.1057311\ttotal: 5.79s\tremaining: 49.9s\n",
            "104:\tlearn: 0.1054681\ttotal: 5.83s\tremaining: 49.7s\n",
            "105:\tlearn: 0.1052288\ttotal: 5.87s\tremaining: 49.5s\n",
            "106:\tlearn: 0.1050896\ttotal: 5.9s\tremaining: 49.3s\n",
            "107:\tlearn: 0.1050276\ttotal: 5.95s\tremaining: 49.1s\n",
            "108:\tlearn: 0.1047574\ttotal: 6s\tremaining: 49s\n",
            "109:\tlearn: 0.1046807\ttotal: 6.03s\tremaining: 48.8s\n",
            "110:\tlearn: 0.1044770\ttotal: 6.07s\tremaining: 48.6s\n",
            "111:\tlearn: 0.1044432\ttotal: 6.1s\tremaining: 48.3s\n",
            "112:\tlearn: 0.1042561\ttotal: 6.13s\tremaining: 48.2s\n",
            "113:\tlearn: 0.1042036\ttotal: 6.17s\tremaining: 47.9s\n",
            "114:\tlearn: 0.1040362\ttotal: 6.21s\tremaining: 47.8s\n",
            "115:\tlearn: 0.1038998\ttotal: 6.25s\tremaining: 47.6s\n",
            "116:\tlearn: 0.1037124\ttotal: 6.29s\tremaining: 47.5s\n",
            "117:\tlearn: 0.1036917\ttotal: 6.33s\tremaining: 47.3s\n",
            "118:\tlearn: 0.1035719\ttotal: 6.36s\tremaining: 47.1s\n",
            "119:\tlearn: 0.1034277\ttotal: 6.4s\tremaining: 46.9s\n",
            "120:\tlearn: 0.1032818\ttotal: 6.44s\tremaining: 46.8s\n",
            "121:\tlearn: 0.1031517\ttotal: 6.48s\tremaining: 46.6s\n",
            "122:\tlearn: 0.1030479\ttotal: 6.51s\tremaining: 46.4s\n",
            "123:\tlearn: 0.1029935\ttotal: 6.54s\tremaining: 46.2s\n",
            "124:\tlearn: 0.1029340\ttotal: 6.58s\tremaining: 46s\n",
            "125:\tlearn: 0.1028108\ttotal: 6.61s\tremaining: 45.9s\n",
            "126:\tlearn: 0.1025937\ttotal: 6.66s\tremaining: 45.8s\n",
            "127:\tlearn: 0.1025017\ttotal: 6.69s\tremaining: 45.6s\n",
            "128:\tlearn: 0.1024242\ttotal: 6.73s\tremaining: 45.5s\n",
            "129:\tlearn: 0.1023175\ttotal: 6.77s\tremaining: 45.3s\n",
            "130:\tlearn: 0.1022449\ttotal: 6.81s\tremaining: 45.2s\n",
            "131:\tlearn: 0.1021111\ttotal: 6.85s\tremaining: 45s\n",
            "132:\tlearn: 0.1020633\ttotal: 6.88s\tremaining: 44.9s\n",
            "133:\tlearn: 0.1019841\ttotal: 6.92s\tremaining: 44.7s\n",
            "134:\tlearn: 0.1018810\ttotal: 6.96s\tremaining: 44.6s\n",
            "135:\tlearn: 0.1016840\ttotal: 6.99s\tremaining: 44.4s\n",
            "136:\tlearn: 0.1015796\ttotal: 7.03s\tremaining: 44.3s\n",
            "137:\tlearn: 0.1014870\ttotal: 7.06s\tremaining: 44.1s\n",
            "138:\tlearn: 0.1013144\ttotal: 7.11s\tremaining: 44s\n",
            "139:\tlearn: 0.1011367\ttotal: 7.15s\tremaining: 43.9s\n",
            "140:\tlearn: 0.1009624\ttotal: 7.18s\tremaining: 43.8s\n",
            "141:\tlearn: 0.1007943\ttotal: 7.22s\tremaining: 43.6s\n",
            "142:\tlearn: 0.1006968\ttotal: 7.26s\tremaining: 43.5s\n",
            "143:\tlearn: 0.1006796\ttotal: 7.3s\tremaining: 43.4s\n",
            "144:\tlearn: 0.1006307\ttotal: 7.34s\tremaining: 43.3s\n",
            "145:\tlearn: 0.1005440\ttotal: 7.38s\tremaining: 43.2s\n",
            "146:\tlearn: 0.1004696\ttotal: 7.42s\tremaining: 43s\n",
            "147:\tlearn: 0.1003577\ttotal: 7.46s\tremaining: 42.9s\n",
            "148:\tlearn: 0.1001658\ttotal: 7.51s\tremaining: 42.9s\n",
            "149:\tlearn: 0.1001451\ttotal: 7.54s\tremaining: 42.8s\n",
            "150:\tlearn: 0.0998716\ttotal: 7.58s\tremaining: 42.6s\n",
            "151:\tlearn: 0.0998246\ttotal: 7.61s\tremaining: 42.5s\n",
            "152:\tlearn: 0.0996687\ttotal: 7.65s\tremaining: 42.4s\n",
            "153:\tlearn: 0.0994774\ttotal: 7.69s\tremaining: 42.2s\n",
            "154:\tlearn: 0.0993854\ttotal: 7.72s\tremaining: 42.1s\n",
            "155:\tlearn: 0.0992952\ttotal: 7.76s\tremaining: 42s\n",
            "156:\tlearn: 0.0991383\ttotal: 7.8s\tremaining: 41.9s\n",
            "157:\tlearn: 0.0990469\ttotal: 7.83s\tremaining: 41.7s\n",
            "158:\tlearn: 0.0988122\ttotal: 7.87s\tremaining: 41.6s\n",
            "159:\tlearn: 0.0987263\ttotal: 7.91s\tremaining: 41.5s\n",
            "160:\tlearn: 0.0987055\ttotal: 7.94s\tremaining: 41.4s\n",
            "161:\tlearn: 0.0986140\ttotal: 7.98s\tremaining: 41.3s\n",
            "162:\tlearn: 0.0985978\ttotal: 8.01s\tremaining: 41.1s\n",
            "163:\tlearn: 0.0984499\ttotal: 8.05s\tremaining: 41s\n",
            "164:\tlearn: 0.0983808\ttotal: 8.09s\tremaining: 40.9s\n",
            "165:\tlearn: 0.0983145\ttotal: 8.13s\tremaining: 40.8s\n",
            "166:\tlearn: 0.0982453\ttotal: 8.16s\tremaining: 40.7s\n",
            "167:\tlearn: 0.0981850\ttotal: 8.2s\tremaining: 40.6s\n",
            "168:\tlearn: 0.0981771\ttotal: 8.23s\tremaining: 40.5s\n",
            "169:\tlearn: 0.0980589\ttotal: 8.27s\tremaining: 40.4s\n",
            "170:\tlearn: 0.0979572\ttotal: 8.32s\tremaining: 40.3s\n",
            "171:\tlearn: 0.0978373\ttotal: 8.36s\tremaining: 40.2s\n",
            "172:\tlearn: 0.0977571\ttotal: 8.39s\tremaining: 40.1s\n",
            "173:\tlearn: 0.0976976\ttotal: 8.43s\tremaining: 40s\n",
            "174:\tlearn: 0.0975907\ttotal: 8.47s\tremaining: 39.9s\n",
            "175:\tlearn: 0.0975268\ttotal: 8.51s\tremaining: 39.8s\n",
            "176:\tlearn: 0.0974384\ttotal: 8.54s\tremaining: 39.7s\n",
            "177:\tlearn: 0.0973600\ttotal: 8.58s\tremaining: 39.6s\n",
            "178:\tlearn: 0.0972305\ttotal: 8.62s\tremaining: 39.5s\n",
            "179:\tlearn: 0.0971409\ttotal: 8.66s\tremaining: 39.4s\n",
            "180:\tlearn: 0.0970759\ttotal: 8.69s\tremaining: 39.3s\n",
            "181:\tlearn: 0.0970623\ttotal: 8.72s\tremaining: 39.2s\n",
            "182:\tlearn: 0.0969848\ttotal: 8.76s\tremaining: 39.1s\n",
            "183:\tlearn: 0.0969333\ttotal: 8.79s\tremaining: 39s\n",
            "184:\tlearn: 0.0967837\ttotal: 8.83s\tremaining: 38.9s\n",
            "185:\tlearn: 0.0966293\ttotal: 8.87s\tremaining: 38.8s\n",
            "186:\tlearn: 0.0965078\ttotal: 8.92s\tremaining: 38.8s\n",
            "187:\tlearn: 0.0964471\ttotal: 8.95s\tremaining: 38.7s\n",
            "188:\tlearn: 0.0963828\ttotal: 8.98s\tremaining: 38.6s\n",
            "189:\tlearn: 0.0963375\ttotal: 9.02s\tremaining: 38.4s\n",
            "190:\tlearn: 0.0963273\ttotal: 9.05s\tremaining: 38.3s\n",
            "191:\tlearn: 0.0961735\ttotal: 9.09s\tremaining: 38.2s\n",
            "192:\tlearn: 0.0960684\ttotal: 9.13s\tremaining: 38.2s\n",
            "193:\tlearn: 0.0959920\ttotal: 9.16s\tremaining: 38.1s\n",
            "194:\tlearn: 0.0959545\ttotal: 9.2s\tremaining: 38s\n",
            "195:\tlearn: 0.0958667\ttotal: 9.23s\tremaining: 37.9s\n",
            "196:\tlearn: 0.0958141\ttotal: 9.27s\tremaining: 37.8s\n",
            "197:\tlearn: 0.0957313\ttotal: 9.33s\tremaining: 37.8s\n",
            "198:\tlearn: 0.0956340\ttotal: 9.37s\tremaining: 37.7s\n",
            "199:\tlearn: 0.0955896\ttotal: 9.41s\tremaining: 37.6s\n",
            "200:\tlearn: 0.0955150\ttotal: 9.44s\tremaining: 37.5s\n",
            "201:\tlearn: 0.0954942\ttotal: 9.47s\tremaining: 37.4s\n",
            "202:\tlearn: 0.0954884\ttotal: 9.51s\tremaining: 37.3s\n",
            "203:\tlearn: 0.0954577\ttotal: 9.54s\tremaining: 37.2s\n",
            "204:\tlearn: 0.0954342\ttotal: 9.58s\tremaining: 37.1s\n",
            "205:\tlearn: 0.0953413\ttotal: 9.62s\tremaining: 37.1s\n",
            "206:\tlearn: 0.0952164\ttotal: 9.66s\tremaining: 37s\n",
            "207:\tlearn: 0.0951435\ttotal: 9.7s\tremaining: 36.9s\n",
            "208:\tlearn: 0.0950732\ttotal: 9.73s\tremaining: 36.8s\n",
            "209:\tlearn: 0.0950401\ttotal: 9.77s\tremaining: 36.8s\n",
            "210:\tlearn: 0.0949505\ttotal: 9.82s\tremaining: 36.7s\n",
            "211:\tlearn: 0.0948792\ttotal: 9.86s\tremaining: 36.7s\n",
            "212:\tlearn: 0.0948115\ttotal: 9.91s\tremaining: 36.6s\n",
            "213:\tlearn: 0.0947739\ttotal: 9.94s\tremaining: 36.5s\n",
            "214:\tlearn: 0.0947297\ttotal: 9.98s\tremaining: 36.5s\n",
            "215:\tlearn: 0.0946466\ttotal: 10s\tremaining: 36.4s\n",
            "216:\tlearn: 0.0945227\ttotal: 10.1s\tremaining: 36.3s\n",
            "217:\tlearn: 0.0944607\ttotal: 10.1s\tremaining: 36.2s\n",
            "218:\tlearn: 0.0943990\ttotal: 10.1s\tremaining: 36.1s\n",
            "219:\tlearn: 0.0943095\ttotal: 10.2s\tremaining: 36.1s\n",
            "220:\tlearn: 0.0942091\ttotal: 10.2s\tremaining: 36s\n",
            "221:\tlearn: 0.0941809\ttotal: 10.2s\tremaining: 35.9s\n",
            "222:\tlearn: 0.0940985\ttotal: 10.3s\tremaining: 35.9s\n",
            "223:\tlearn: 0.0940903\ttotal: 10.3s\tremaining: 35.8s\n",
            "224:\tlearn: 0.0940423\ttotal: 10.4s\tremaining: 35.7s\n",
            "225:\tlearn: 0.0939616\ttotal: 10.4s\tremaining: 35.7s\n",
            "226:\tlearn: 0.0939117\ttotal: 10.5s\tremaining: 35.6s\n",
            "227:\tlearn: 0.0938586\ttotal: 10.5s\tremaining: 35.5s\n",
            "228:\tlearn: 0.0938001\ttotal: 10.5s\tremaining: 35.5s\n",
            "229:\tlearn: 0.0937706\ttotal: 10.6s\tremaining: 35.4s\n",
            "230:\tlearn: 0.0937085\ttotal: 10.6s\tremaining: 35.3s\n",
            "231:\tlearn: 0.0936827\ttotal: 10.6s\tremaining: 35.2s\n",
            "232:\tlearn: 0.0936481\ttotal: 10.7s\tremaining: 35.2s\n",
            "233:\tlearn: 0.0935806\ttotal: 10.7s\tremaining: 35.1s\n",
            "234:\tlearn: 0.0935423\ttotal: 10.8s\tremaining: 35s\n",
            "235:\tlearn: 0.0935114\ttotal: 10.8s\tremaining: 34.9s\n",
            "236:\tlearn: 0.0934605\ttotal: 10.8s\tremaining: 34.9s\n",
            "237:\tlearn: 0.0934191\ttotal: 10.9s\tremaining: 34.8s\n",
            "238:\tlearn: 0.0933860\ttotal: 10.9s\tremaining: 34.7s\n",
            "239:\tlearn: 0.0933672\ttotal: 10.9s\tremaining: 34.6s\n",
            "240:\tlearn: 0.0932880\ttotal: 11s\tremaining: 34.6s\n",
            "241:\tlearn: 0.0931830\ttotal: 11s\tremaining: 34.5s\n",
            "242:\tlearn: 0.0931594\ttotal: 11.1s\tremaining: 34.5s\n",
            "243:\tlearn: 0.0931460\ttotal: 11.1s\tremaining: 34.4s\n",
            "244:\tlearn: 0.0930902\ttotal: 11.1s\tremaining: 34.3s\n",
            "245:\tlearn: 0.0930475\ttotal: 11.2s\tremaining: 34.3s\n",
            "246:\tlearn: 0.0930375\ttotal: 11.2s\tremaining: 34.2s\n",
            "247:\tlearn: 0.0929795\ttotal: 11.2s\tremaining: 34.1s\n",
            "248:\tlearn: 0.0928735\ttotal: 11.3s\tremaining: 34s\n",
            "249:\tlearn: 0.0928342\ttotal: 11.3s\tremaining: 34s\n",
            "250:\tlearn: 0.0927963\ttotal: 11.4s\tremaining: 33.9s\n",
            "251:\tlearn: 0.0927727\ttotal: 11.4s\tremaining: 33.8s\n",
            "252:\tlearn: 0.0927543\ttotal: 11.4s\tremaining: 33.8s\n",
            "253:\tlearn: 0.0926796\ttotal: 11.5s\tremaining: 33.7s\n",
            "254:\tlearn: 0.0926589\ttotal: 11.5s\tremaining: 33.6s\n",
            "255:\tlearn: 0.0926336\ttotal: 11.5s\tremaining: 33.6s\n",
            "256:\tlearn: 0.0926083\ttotal: 11.6s\tremaining: 33.5s\n",
            "257:\tlearn: 0.0925857\ttotal: 11.6s\tremaining: 33.4s\n",
            "258:\tlearn: 0.0925106\ttotal: 11.7s\tremaining: 33.3s\n",
            "259:\tlearn: 0.0924959\ttotal: 11.7s\tremaining: 33.3s\n",
            "260:\tlearn: 0.0924350\ttotal: 11.7s\tremaining: 33.2s\n",
            "261:\tlearn: 0.0923990\ttotal: 11.8s\tremaining: 33.1s\n",
            "262:\tlearn: 0.0923333\ttotal: 11.8s\tremaining: 33.1s\n",
            "263:\tlearn: 0.0922702\ttotal: 11.8s\tremaining: 33s\n",
            "264:\tlearn: 0.0922340\ttotal: 11.9s\tremaining: 32.9s\n",
            "265:\tlearn: 0.0921809\ttotal: 11.9s\tremaining: 32.9s\n",
            "266:\tlearn: 0.0921005\ttotal: 11.9s\tremaining: 32.8s\n",
            "267:\tlearn: 0.0920514\ttotal: 12s\tremaining: 32.7s\n",
            "268:\tlearn: 0.0920330\ttotal: 12s\tremaining: 32.7s\n",
            "269:\tlearn: 0.0920159\ttotal: 12.1s\tremaining: 32.6s\n",
            "270:\tlearn: 0.0919566\ttotal: 12.1s\tremaining: 32.5s\n",
            "271:\tlearn: 0.0919106\ttotal: 12.1s\tremaining: 32.4s\n",
            "272:\tlearn: 0.0918783\ttotal: 12.2s\tremaining: 32.4s\n",
            "273:\tlearn: 0.0918642\ttotal: 12.2s\tremaining: 32.3s\n",
            "274:\tlearn: 0.0918336\ttotal: 12.2s\tremaining: 32.2s\n",
            "275:\tlearn: 0.0917529\ttotal: 12.3s\tremaining: 32.2s\n",
            "276:\tlearn: 0.0916583\ttotal: 12.3s\tremaining: 32.1s\n",
            "277:\tlearn: 0.0916345\ttotal: 12.4s\tremaining: 32.1s\n",
            "278:\tlearn: 0.0916102\ttotal: 12.4s\tremaining: 32.1s\n",
            "279:\tlearn: 0.0915967\ttotal: 12.4s\tremaining: 32s\n",
            "280:\tlearn: 0.0915883\ttotal: 12.5s\tremaining: 31.9s\n",
            "281:\tlearn: 0.0915557\ttotal: 12.5s\tremaining: 31.8s\n",
            "282:\tlearn: 0.0915091\ttotal: 12.5s\tremaining: 31.8s\n",
            "283:\tlearn: 0.0914405\ttotal: 12.6s\tremaining: 31.7s\n",
            "284:\tlearn: 0.0914028\ttotal: 12.6s\tremaining: 31.7s\n",
            "285:\tlearn: 0.0913384\ttotal: 12.7s\tremaining: 31.6s\n",
            "286:\tlearn: 0.0912940\ttotal: 12.7s\tremaining: 31.5s\n",
            "287:\tlearn: 0.0912205\ttotal: 12.8s\tremaining: 31.6s\n",
            "288:\tlearn: 0.0912099\ttotal: 12.9s\tremaining: 31.7s\n",
            "289:\tlearn: 0.0911856\ttotal: 13s\tremaining: 31.7s\n",
            "290:\tlearn: 0.0911567\ttotal: 13s\tremaining: 31.8s\n",
            "291:\tlearn: 0.0910959\ttotal: 13.2s\tremaining: 31.9s\n",
            "292:\tlearn: 0.0910723\ttotal: 13.2s\tremaining: 31.9s\n",
            "293:\tlearn: 0.0909816\ttotal: 13.3s\tremaining: 32s\n",
            "294:\tlearn: 0.0909400\ttotal: 13.4s\tremaining: 32.1s\n",
            "295:\tlearn: 0.0909072\ttotal: 13.6s\tremaining: 32.2s\n",
            "296:\tlearn: 0.0908681\ttotal: 13.7s\tremaining: 32.4s\n",
            "297:\tlearn: 0.0908469\ttotal: 13.8s\tremaining: 32.4s\n",
            "298:\tlearn: 0.0908056\ttotal: 13.9s\tremaining: 32.6s\n",
            "299:\tlearn: 0.0907762\ttotal: 14s\tremaining: 32.6s\n",
            "300:\tlearn: 0.0907287\ttotal: 14.1s\tremaining: 32.6s\n",
            "301:\tlearn: 0.0906937\ttotal: 14.1s\tremaining: 32.6s\n",
            "302:\tlearn: 0.0906812\ttotal: 14.2s\tremaining: 32.6s\n",
            "303:\tlearn: 0.0906747\ttotal: 14.2s\tremaining: 32.5s\n",
            "304:\tlearn: 0.0906605\ttotal: 14.2s\tremaining: 32.5s\n",
            "305:\tlearn: 0.0906429\ttotal: 14.3s\tremaining: 32.5s\n",
            "306:\tlearn: 0.0906015\ttotal: 14.4s\tremaining: 32.5s\n",
            "307:\tlearn: 0.0905445\ttotal: 14.5s\tremaining: 32.6s\n",
            "308:\tlearn: 0.0904927\ttotal: 14.6s\tremaining: 32.7s\n",
            "309:\tlearn: 0.0904613\ttotal: 14.7s\tremaining: 32.8s\n",
            "310:\tlearn: 0.0904272\ttotal: 14.9s\tremaining: 32.9s\n",
            "311:\tlearn: 0.0903506\ttotal: 15s\tremaining: 33s\n",
            "312:\tlearn: 0.0902772\ttotal: 15.1s\tremaining: 33.1s\n",
            "313:\tlearn: 0.0902384\ttotal: 15.2s\tremaining: 33.2s\n",
            "314:\tlearn: 0.0902007\ttotal: 15.3s\tremaining: 33.3s\n",
            "315:\tlearn: 0.0901613\ttotal: 15.4s\tremaining: 33.4s\n",
            "316:\tlearn: 0.0901200\ttotal: 15.5s\tremaining: 33.5s\n",
            "317:\tlearn: 0.0901002\ttotal: 15.6s\tremaining: 33.5s\n",
            "318:\tlearn: 0.0900730\ttotal: 15.7s\tremaining: 33.6s\n",
            "319:\tlearn: 0.0900523\ttotal: 15.8s\tremaining: 33.7s\n",
            "320:\tlearn: 0.0900256\ttotal: 16s\tremaining: 33.8s\n",
            "321:\tlearn: 0.0899743\ttotal: 16.1s\tremaining: 33.8s\n",
            "322:\tlearn: 0.0899352\ttotal: 16.2s\tremaining: 33.9s\n",
            "323:\tlearn: 0.0898988\ttotal: 16.3s\tremaining: 34s\n",
            "324:\tlearn: 0.0898645\ttotal: 16.4s\tremaining: 34s\n",
            "325:\tlearn: 0.0898422\ttotal: 16.5s\tremaining: 34.1s\n",
            "326:\tlearn: 0.0898058\ttotal: 16.6s\tremaining: 34.2s\n",
            "327:\tlearn: 0.0897732\ttotal: 16.7s\tremaining: 34.2s\n",
            "328:\tlearn: 0.0897596\ttotal: 16.8s\tremaining: 34.3s\n",
            "329:\tlearn: 0.0897384\ttotal: 16.9s\tremaining: 34.4s\n",
            "330:\tlearn: 0.0896495\ttotal: 17s\tremaining: 34.4s\n",
            "331:\tlearn: 0.0896068\ttotal: 17.1s\tremaining: 34.5s\n",
            "332:\tlearn: 0.0895573\ttotal: 17.2s\tremaining: 34.4s\n",
            "333:\tlearn: 0.0895271\ttotal: 17.2s\tremaining: 34.3s\n",
            "334:\tlearn: 0.0894794\ttotal: 17.3s\tremaining: 34.3s\n",
            "335:\tlearn: 0.0894266\ttotal: 17.3s\tremaining: 34.2s\n",
            "336:\tlearn: 0.0894062\ttotal: 17.3s\tremaining: 34.1s\n",
            "337:\tlearn: 0.0893837\ttotal: 17.4s\tremaining: 34s\n",
            "338:\tlearn: 0.0893320\ttotal: 17.4s\tremaining: 34s\n",
            "339:\tlearn: 0.0893055\ttotal: 17.5s\tremaining: 33.9s\n",
            "340:\tlearn: 0.0892453\ttotal: 17.5s\tremaining: 33.8s\n",
            "341:\tlearn: 0.0892285\ttotal: 17.5s\tremaining: 33.7s\n",
            "342:\tlearn: 0.0892109\ttotal: 17.6s\tremaining: 33.7s\n",
            "343:\tlearn: 0.0891924\ttotal: 17.6s\tremaining: 33.6s\n",
            "344:\tlearn: 0.0891545\ttotal: 17.6s\tremaining: 33.5s\n",
            "345:\tlearn: 0.0891468\ttotal: 17.7s\tremaining: 33.4s\n",
            "346:\tlearn: 0.0891029\ttotal: 17.7s\tremaining: 33.3s\n",
            "347:\tlearn: 0.0890198\ttotal: 17.8s\tremaining: 33.3s\n",
            "348:\tlearn: 0.0889851\ttotal: 17.8s\tremaining: 33.2s\n",
            "349:\tlearn: 0.0889506\ttotal: 17.8s\tremaining: 33.1s\n",
            "350:\tlearn: 0.0889278\ttotal: 17.9s\tremaining: 33s\n",
            "351:\tlearn: 0.0888955\ttotal: 17.9s\tremaining: 33s\n",
            "352:\tlearn: 0.0888594\ttotal: 17.9s\tremaining: 32.9s\n",
            "353:\tlearn: 0.0888506\ttotal: 18s\tremaining: 32.8s\n",
            "354:\tlearn: 0.0887970\ttotal: 18s\tremaining: 32.7s\n",
            "355:\tlearn: 0.0887798\ttotal: 18s\tremaining: 32.6s\n",
            "356:\tlearn: 0.0887403\ttotal: 18.1s\tremaining: 32.6s\n",
            "357:\tlearn: 0.0887113\ttotal: 18.1s\tremaining: 32.5s\n",
            "358:\tlearn: 0.0886755\ttotal: 18.1s\tremaining: 32.4s\n",
            "359:\tlearn: 0.0886693\ttotal: 18.2s\tremaining: 32.3s\n",
            "360:\tlearn: 0.0886285\ttotal: 18.2s\tremaining: 32.3s\n",
            "361:\tlearn: 0.0886031\ttotal: 18.3s\tremaining: 32.2s\n",
            "362:\tlearn: 0.0885874\ttotal: 18.3s\tremaining: 32.1s\n",
            "363:\tlearn: 0.0885431\ttotal: 18.3s\tremaining: 32s\n",
            "364:\tlearn: 0.0885180\ttotal: 18.4s\tremaining: 32s\n",
            "365:\tlearn: 0.0884618\ttotal: 18.4s\tremaining: 31.9s\n",
            "366:\tlearn: 0.0884293\ttotal: 18.4s\tremaining: 31.8s\n",
            "367:\tlearn: 0.0884010\ttotal: 18.5s\tremaining: 31.7s\n",
            "368:\tlearn: 0.0883769\ttotal: 18.5s\tremaining: 31.6s\n",
            "369:\tlearn: 0.0883491\ttotal: 18.5s\tremaining: 31.6s\n",
            "370:\tlearn: 0.0883293\ttotal: 18.6s\tremaining: 31.5s\n",
            "371:\tlearn: 0.0883048\ttotal: 18.6s\tremaining: 31.5s\n",
            "372:\tlearn: 0.0882806\ttotal: 18.7s\tremaining: 31.4s\n",
            "373:\tlearn: 0.0882325\ttotal: 18.7s\tremaining: 31.3s\n",
            "374:\tlearn: 0.0882225\ttotal: 18.7s\tremaining: 31.2s\n",
            "375:\tlearn: 0.0882030\ttotal: 18.8s\tremaining: 31.2s\n",
            "376:\tlearn: 0.0881668\ttotal: 18.8s\tremaining: 31.1s\n",
            "377:\tlearn: 0.0881641\ttotal: 18.9s\tremaining: 31s\n",
            "378:\tlearn: 0.0880981\ttotal: 18.9s\tremaining: 31s\n",
            "379:\tlearn: 0.0880724\ttotal: 18.9s\tremaining: 30.9s\n",
            "380:\tlearn: 0.0880616\ttotal: 19s\tremaining: 30.8s\n",
            "381:\tlearn: 0.0880466\ttotal: 19s\tremaining: 30.7s\n",
            "382:\tlearn: 0.0880441\ttotal: 19s\tremaining: 30.6s\n",
            "383:\tlearn: 0.0880289\ttotal: 19.1s\tremaining: 30.6s\n",
            "384:\tlearn: 0.0880011\ttotal: 19.1s\tremaining: 30.5s\n",
            "385:\tlearn: 0.0879395\ttotal: 19.1s\tremaining: 30.4s\n",
            "386:\tlearn: 0.0879048\ttotal: 19.2s\tremaining: 30.4s\n",
            "387:\tlearn: 0.0878594\ttotal: 19.2s\tremaining: 30.3s\n",
            "388:\tlearn: 0.0878245\ttotal: 19.3s\tremaining: 30.2s\n",
            "389:\tlearn: 0.0877738\ttotal: 19.3s\tremaining: 30.2s\n",
            "390:\tlearn: 0.0877500\ttotal: 19.3s\tremaining: 30.1s\n",
            "391:\tlearn: 0.0877061\ttotal: 19.4s\tremaining: 30s\n",
            "392:\tlearn: 0.0876572\ttotal: 19.4s\tremaining: 30s\n",
            "393:\tlearn: 0.0876451\ttotal: 19.4s\tremaining: 29.9s\n",
            "394:\tlearn: 0.0876197\ttotal: 19.5s\tremaining: 29.8s\n",
            "395:\tlearn: 0.0875625\ttotal: 19.5s\tremaining: 29.8s\n",
            "396:\tlearn: 0.0875286\ttotal: 19.6s\tremaining: 29.7s\n",
            "397:\tlearn: 0.0875171\ttotal: 19.6s\tremaining: 29.7s\n",
            "398:\tlearn: 0.0874736\ttotal: 19.6s\tremaining: 29.6s\n",
            "399:\tlearn: 0.0874534\ttotal: 19.7s\tremaining: 29.5s\n",
            "400:\tlearn: 0.0874431\ttotal: 19.7s\tremaining: 29.4s\n",
            "401:\tlearn: 0.0874265\ttotal: 19.7s\tremaining: 29.4s\n",
            "402:\tlearn: 0.0873869\ttotal: 19.8s\tremaining: 29.3s\n",
            "403:\tlearn: 0.0873810\ttotal: 19.8s\tremaining: 29.2s\n",
            "404:\tlearn: 0.0873372\ttotal: 19.9s\tremaining: 29.2s\n",
            "405:\tlearn: 0.0873233\ttotal: 19.9s\tremaining: 29.1s\n",
            "406:\tlearn: 0.0873030\ttotal: 19.9s\tremaining: 29s\n",
            "407:\tlearn: 0.0872970\ttotal: 20s\tremaining: 29s\n",
            "408:\tlearn: 0.0872340\ttotal: 20s\tremaining: 28.9s\n",
            "409:\tlearn: 0.0872201\ttotal: 20s\tremaining: 28.8s\n",
            "410:\tlearn: 0.0872100\ttotal: 20.1s\tremaining: 28.8s\n",
            "411:\tlearn: 0.0871858\ttotal: 20.1s\tremaining: 28.7s\n",
            "412:\tlearn: 0.0871568\ttotal: 20.1s\tremaining: 28.6s\n",
            "413:\tlearn: 0.0871223\ttotal: 20.2s\tremaining: 28.6s\n",
            "414:\tlearn: 0.0871041\ttotal: 20.2s\tremaining: 28.5s\n",
            "415:\tlearn: 0.0870871\ttotal: 20.2s\tremaining: 28.4s\n",
            "416:\tlearn: 0.0870475\ttotal: 20.3s\tremaining: 28.4s\n",
            "417:\tlearn: 0.0870267\ttotal: 20.3s\tremaining: 28.3s\n",
            "418:\tlearn: 0.0870010\ttotal: 20.4s\tremaining: 28.2s\n",
            "419:\tlearn: 0.0869863\ttotal: 20.4s\tremaining: 28.2s\n",
            "420:\tlearn: 0.0869581\ttotal: 20.4s\tremaining: 28.1s\n",
            "421:\tlearn: 0.0869261\ttotal: 20.5s\tremaining: 28s\n",
            "422:\tlearn: 0.0869103\ttotal: 20.5s\tremaining: 28s\n",
            "423:\tlearn: 0.0868952\ttotal: 20.6s\tremaining: 27.9s\n",
            "424:\tlearn: 0.0868603\ttotal: 20.6s\tremaining: 27.9s\n",
            "425:\tlearn: 0.0868247\ttotal: 20.7s\tremaining: 27.8s\n",
            "426:\tlearn: 0.0867948\ttotal: 20.7s\tremaining: 27.8s\n",
            "427:\tlearn: 0.0867289\ttotal: 20.7s\tremaining: 27.7s\n",
            "428:\tlearn: 0.0866762\ttotal: 20.8s\tremaining: 27.7s\n",
            "429:\tlearn: 0.0866237\ttotal: 20.8s\tremaining: 27.6s\n",
            "430:\tlearn: 0.0865903\ttotal: 20.9s\tremaining: 27.5s\n",
            "431:\tlearn: 0.0865671\ttotal: 20.9s\tremaining: 27.5s\n",
            "432:\tlearn: 0.0865356\ttotal: 20.9s\tremaining: 27.4s\n",
            "433:\tlearn: 0.0864827\ttotal: 21s\tremaining: 27.4s\n",
            "434:\tlearn: 0.0864566\ttotal: 21s\tremaining: 27.3s\n",
            "435:\tlearn: 0.0864252\ttotal: 21s\tremaining: 27.2s\n",
            "436:\tlearn: 0.0863925\ttotal: 21.1s\tremaining: 27.2s\n",
            "437:\tlearn: 0.0863885\ttotal: 21.1s\tremaining: 27.1s\n",
            "438:\tlearn: 0.0863393\ttotal: 21.2s\tremaining: 27s\n",
            "439:\tlearn: 0.0863120\ttotal: 21.2s\tremaining: 27s\n",
            "440:\tlearn: 0.0862831\ttotal: 21.2s\tremaining: 26.9s\n",
            "441:\tlearn: 0.0862585\ttotal: 21.3s\tremaining: 26.9s\n",
            "442:\tlearn: 0.0862103\ttotal: 21.3s\tremaining: 26.8s\n",
            "443:\tlearn: 0.0862041\ttotal: 21.4s\tremaining: 26.7s\n",
            "444:\tlearn: 0.0861941\ttotal: 21.4s\tremaining: 26.7s\n",
            "445:\tlearn: 0.0861710\ttotal: 21.4s\tremaining: 26.6s\n",
            "446:\tlearn: 0.0861393\ttotal: 21.5s\tremaining: 26.6s\n",
            "447:\tlearn: 0.0861239\ttotal: 21.5s\tremaining: 26.5s\n",
            "448:\tlearn: 0.0861004\ttotal: 21.6s\tremaining: 26.5s\n",
            "449:\tlearn: 0.0860583\ttotal: 21.7s\tremaining: 26.5s\n",
            "450:\tlearn: 0.0860336\ttotal: 21.8s\tremaining: 26.6s\n",
            "451:\tlearn: 0.0860114\ttotal: 21.9s\tremaining: 26.6s\n",
            "452:\tlearn: 0.0859716\ttotal: 22s\tremaining: 26.6s\n",
            "453:\tlearn: 0.0859442\ttotal: 22s\tremaining: 26.5s\n",
            "454:\tlearn: 0.0859408\ttotal: 22.1s\tremaining: 26.4s\n",
            "455:\tlearn: 0.0859266\ttotal: 22.1s\tremaining: 26.4s\n",
            "456:\tlearn: 0.0858938\ttotal: 22.1s\tremaining: 26.3s\n",
            "457:\tlearn: 0.0858723\ttotal: 22.2s\tremaining: 26.2s\n",
            "458:\tlearn: 0.0858413\ttotal: 22.2s\tremaining: 26.2s\n",
            "459:\tlearn: 0.0858383\ttotal: 22.3s\tremaining: 26.1s\n",
            "460:\tlearn: 0.0858115\ttotal: 22.3s\tremaining: 26.1s\n",
            "461:\tlearn: 0.0857684\ttotal: 22.3s\tremaining: 26s\n",
            "462:\tlearn: 0.0857422\ttotal: 22.4s\tremaining: 25.9s\n",
            "463:\tlearn: 0.0857234\ttotal: 22.4s\tremaining: 25.9s\n",
            "464:\tlearn: 0.0856937\ttotal: 22.4s\tremaining: 25.8s\n",
            "465:\tlearn: 0.0856563\ttotal: 22.5s\tremaining: 25.8s\n",
            "466:\tlearn: 0.0856357\ttotal: 22.5s\tremaining: 25.7s\n",
            "467:\tlearn: 0.0856150\ttotal: 22.5s\tremaining: 25.6s\n",
            "468:\tlearn: 0.0855924\ttotal: 22.6s\tremaining: 25.6s\n",
            "469:\tlearn: 0.0855595\ttotal: 22.6s\tremaining: 25.5s\n",
            "470:\tlearn: 0.0855407\ttotal: 22.7s\tremaining: 25.5s\n",
            "471:\tlearn: 0.0855247\ttotal: 22.7s\tremaining: 25.4s\n",
            "472:\tlearn: 0.0855005\ttotal: 22.7s\tremaining: 25.3s\n",
            "473:\tlearn: 0.0854350\ttotal: 22.8s\tremaining: 25.3s\n",
            "474:\tlearn: 0.0854009\ttotal: 22.8s\tremaining: 25.2s\n",
            "475:\tlearn: 0.0853725\ttotal: 22.9s\tremaining: 25.2s\n",
            "476:\tlearn: 0.0853109\ttotal: 22.9s\tremaining: 25.1s\n",
            "477:\tlearn: 0.0852919\ttotal: 22.9s\tremaining: 25s\n",
            "478:\tlearn: 0.0852589\ttotal: 23s\tremaining: 25s\n",
            "479:\tlearn: 0.0852412\ttotal: 23s\tremaining: 24.9s\n",
            "480:\tlearn: 0.0852151\ttotal: 23s\tremaining: 24.9s\n",
            "481:\tlearn: 0.0851955\ttotal: 23.1s\tremaining: 24.8s\n",
            "482:\tlearn: 0.0851745\ttotal: 23.1s\tremaining: 24.7s\n",
            "483:\tlearn: 0.0851527\ttotal: 23.2s\tremaining: 24.7s\n",
            "484:\tlearn: 0.0851339\ttotal: 23.2s\tremaining: 24.7s\n",
            "485:\tlearn: 0.0851175\ttotal: 23.2s\tremaining: 24.6s\n",
            "486:\tlearn: 0.0850946\ttotal: 23.3s\tremaining: 24.5s\n",
            "487:\tlearn: 0.0850777\ttotal: 23.3s\tremaining: 24.5s\n",
            "488:\tlearn: 0.0850534\ttotal: 23.4s\tremaining: 24.4s\n",
            "489:\tlearn: 0.0850423\ttotal: 23.4s\tremaining: 24.4s\n",
            "490:\tlearn: 0.0850083\ttotal: 23.4s\tremaining: 24.3s\n",
            "491:\tlearn: 0.0849922\ttotal: 23.5s\tremaining: 24.2s\n",
            "492:\tlearn: 0.0849528\ttotal: 23.5s\tremaining: 24.2s\n",
            "493:\tlearn: 0.0849291\ttotal: 23.5s\tremaining: 24.1s\n",
            "494:\tlearn: 0.0849116\ttotal: 23.6s\tremaining: 24.1s\n",
            "495:\tlearn: 0.0848906\ttotal: 23.6s\tremaining: 24s\n",
            "496:\tlearn: 0.0848535\ttotal: 23.7s\tremaining: 24s\n",
            "497:\tlearn: 0.0848407\ttotal: 23.7s\tremaining: 23.9s\n",
            "498:\tlearn: 0.0848198\ttotal: 23.7s\tremaining: 23.8s\n",
            "499:\tlearn: 0.0847851\ttotal: 23.8s\tremaining: 23.8s\n",
            "500:\tlearn: 0.0847707\ttotal: 23.8s\tremaining: 23.7s\n",
            "501:\tlearn: 0.0847475\ttotal: 23.9s\tremaining: 23.7s\n",
            "502:\tlearn: 0.0847300\ttotal: 23.9s\tremaining: 23.6s\n",
            "503:\tlearn: 0.0847153\ttotal: 23.9s\tremaining: 23.5s\n",
            "504:\tlearn: 0.0846911\ttotal: 24s\tremaining: 23.5s\n",
            "505:\tlearn: 0.0846784\ttotal: 24s\tremaining: 23.4s\n",
            "506:\tlearn: 0.0846613\ttotal: 24s\tremaining: 23.4s\n",
            "507:\tlearn: 0.0846599\ttotal: 24.1s\tremaining: 23.3s\n",
            "508:\tlearn: 0.0846390\ttotal: 24.1s\tremaining: 23.3s\n",
            "509:\tlearn: 0.0846226\ttotal: 24.2s\tremaining: 23.2s\n",
            "510:\tlearn: 0.0846060\ttotal: 24.2s\tremaining: 23.1s\n",
            "511:\tlearn: 0.0845848\ttotal: 24.2s\tremaining: 23.1s\n",
            "512:\tlearn: 0.0845685\ttotal: 24.3s\tremaining: 23s\n",
            "513:\tlearn: 0.0845387\ttotal: 24.3s\tremaining: 23s\n",
            "514:\tlearn: 0.0845183\ttotal: 24.3s\tremaining: 22.9s\n",
            "515:\tlearn: 0.0844855\ttotal: 24.4s\tremaining: 22.9s\n",
            "516:\tlearn: 0.0844609\ttotal: 24.4s\tremaining: 22.8s\n",
            "517:\tlearn: 0.0844447\ttotal: 24.5s\tremaining: 22.8s\n",
            "518:\tlearn: 0.0844181\ttotal: 24.5s\tremaining: 22.7s\n",
            "519:\tlearn: 0.0843603\ttotal: 24.6s\tremaining: 22.7s\n",
            "520:\tlearn: 0.0843488\ttotal: 24.6s\tremaining: 22.6s\n",
            "521:\tlearn: 0.0843295\ttotal: 24.7s\tremaining: 22.6s\n",
            "522:\tlearn: 0.0843278\ttotal: 24.7s\tremaining: 22.5s\n",
            "523:\tlearn: 0.0842987\ttotal: 24.7s\tremaining: 22.5s\n",
            "524:\tlearn: 0.0842867\ttotal: 24.8s\tremaining: 22.4s\n",
            "525:\tlearn: 0.0842589\ttotal: 24.8s\tremaining: 22.4s\n",
            "526:\tlearn: 0.0842401\ttotal: 24.8s\tremaining: 22.3s\n",
            "527:\tlearn: 0.0842329\ttotal: 24.9s\tremaining: 22.3s\n",
            "528:\tlearn: 0.0842148\ttotal: 25s\tremaining: 22.2s\n",
            "529:\tlearn: 0.0841888\ttotal: 25s\tremaining: 22.2s\n",
            "530:\tlearn: 0.0841826\ttotal: 25s\tremaining: 22.1s\n",
            "531:\tlearn: 0.0841682\ttotal: 25.1s\tremaining: 22.1s\n",
            "532:\tlearn: 0.0841414\ttotal: 25.1s\tremaining: 22s\n",
            "533:\tlearn: 0.0841178\ttotal: 25.2s\tremaining: 21.9s\n",
            "534:\tlearn: 0.0840766\ttotal: 25.2s\tremaining: 21.9s\n",
            "535:\tlearn: 0.0840618\ttotal: 25.2s\tremaining: 21.8s\n",
            "536:\tlearn: 0.0840497\ttotal: 25.3s\tremaining: 21.8s\n",
            "537:\tlearn: 0.0840342\ttotal: 25.3s\tremaining: 21.7s\n",
            "538:\tlearn: 0.0840326\ttotal: 25.3s\tremaining: 21.7s\n",
            "539:\tlearn: 0.0840168\ttotal: 25.4s\tremaining: 21.6s\n",
            "540:\tlearn: 0.0839960\ttotal: 25.4s\tremaining: 21.6s\n",
            "541:\tlearn: 0.0839632\ttotal: 25.5s\tremaining: 21.5s\n",
            "542:\tlearn: 0.0839482\ttotal: 25.5s\tremaining: 21.5s\n",
            "543:\tlearn: 0.0839084\ttotal: 25.5s\tremaining: 21.4s\n",
            "544:\tlearn: 0.0838697\ttotal: 25.6s\tremaining: 21.3s\n",
            "545:\tlearn: 0.0838504\ttotal: 25.6s\tremaining: 21.3s\n",
            "546:\tlearn: 0.0838262\ttotal: 25.6s\tremaining: 21.2s\n",
            "547:\tlearn: 0.0837961\ttotal: 25.7s\tremaining: 21.2s\n",
            "548:\tlearn: 0.0837749\ttotal: 25.7s\tremaining: 21.1s\n",
            "549:\tlearn: 0.0837512\ttotal: 25.8s\tremaining: 21.1s\n",
            "550:\tlearn: 0.0837236\ttotal: 25.8s\tremaining: 21s\n",
            "551:\tlearn: 0.0837173\ttotal: 25.8s\tremaining: 21s\n",
            "552:\tlearn: 0.0836984\ttotal: 25.9s\tremaining: 20.9s\n",
            "553:\tlearn: 0.0836871\ttotal: 25.9s\tremaining: 20.9s\n",
            "554:\tlearn: 0.0836661\ttotal: 25.9s\tremaining: 20.8s\n",
            "555:\tlearn: 0.0836468\ttotal: 26s\tremaining: 20.8s\n",
            "556:\tlearn: 0.0836348\ttotal: 26s\tremaining: 20.7s\n",
            "557:\tlearn: 0.0836199\ttotal: 26.1s\tremaining: 20.6s\n",
            "558:\tlearn: 0.0836047\ttotal: 26.1s\tremaining: 20.6s\n",
            "559:\tlearn: 0.0835923\ttotal: 26.1s\tremaining: 20.5s\n",
            "560:\tlearn: 0.0835730\ttotal: 26.2s\tremaining: 20.5s\n",
            "561:\tlearn: 0.0835644\ttotal: 26.2s\tremaining: 20.4s\n",
            "562:\tlearn: 0.0835563\ttotal: 26.2s\tremaining: 20.4s\n",
            "563:\tlearn: 0.0835432\ttotal: 26.3s\tremaining: 20.3s\n",
            "564:\tlearn: 0.0835169\ttotal: 26.3s\tremaining: 20.3s\n",
            "565:\tlearn: 0.0835013\ttotal: 26.4s\tremaining: 20.2s\n",
            "566:\tlearn: 0.0834794\ttotal: 26.4s\tremaining: 20.2s\n",
            "567:\tlearn: 0.0834511\ttotal: 26.4s\tremaining: 20.1s\n",
            "568:\tlearn: 0.0834248\ttotal: 26.5s\tremaining: 20.1s\n",
            "569:\tlearn: 0.0833934\ttotal: 26.5s\tremaining: 20s\n",
            "570:\tlearn: 0.0833788\ttotal: 26.6s\tremaining: 20s\n",
            "571:\tlearn: 0.0833546\ttotal: 26.6s\tremaining: 19.9s\n",
            "572:\tlearn: 0.0833432\ttotal: 26.6s\tremaining: 19.9s\n",
            "573:\tlearn: 0.0833335\ttotal: 26.7s\tremaining: 19.8s\n",
            "574:\tlearn: 0.0833209\ttotal: 26.7s\tremaining: 19.8s\n",
            "575:\tlearn: 0.0833060\ttotal: 26.8s\tremaining: 19.7s\n",
            "576:\tlearn: 0.0832670\ttotal: 26.8s\tremaining: 19.7s\n",
            "577:\tlearn: 0.0832423\ttotal: 26.8s\tremaining: 19.6s\n",
            "578:\tlearn: 0.0832167\ttotal: 26.9s\tremaining: 19.5s\n",
            "579:\tlearn: 0.0831880\ttotal: 26.9s\tremaining: 19.5s\n",
            "580:\tlearn: 0.0831770\ttotal: 27s\tremaining: 19.4s\n",
            "581:\tlearn: 0.0831641\ttotal: 27s\tremaining: 19.4s\n",
            "582:\tlearn: 0.0831453\ttotal: 27s\tremaining: 19.3s\n",
            "583:\tlearn: 0.0831179\ttotal: 27.1s\tremaining: 19.3s\n",
            "584:\tlearn: 0.0831033\ttotal: 27.2s\tremaining: 19.3s\n",
            "585:\tlearn: 0.0830884\ttotal: 27.3s\tremaining: 19.3s\n",
            "586:\tlearn: 0.0830748\ttotal: 27.4s\tremaining: 19.3s\n",
            "587:\tlearn: 0.0830610\ttotal: 27.4s\tremaining: 19.2s\n",
            "588:\tlearn: 0.0830238\ttotal: 27.5s\tremaining: 19.2s\n",
            "589:\tlearn: 0.0829968\ttotal: 27.6s\tremaining: 19.2s\n",
            "590:\tlearn: 0.0829869\ttotal: 27.7s\tremaining: 19.2s\n",
            "591:\tlearn: 0.0829555\ttotal: 27.8s\tremaining: 19.2s\n",
            "592:\tlearn: 0.0829455\ttotal: 27.9s\tremaining: 19.2s\n",
            "593:\tlearn: 0.0829241\ttotal: 28s\tremaining: 19.2s\n",
            "594:\tlearn: 0.0829094\ttotal: 28.1s\tremaining: 19.1s\n",
            "595:\tlearn: 0.0828843\ttotal: 28.2s\tremaining: 19.1s\n",
            "596:\tlearn: 0.0828732\ttotal: 28.3s\tremaining: 19.1s\n",
            "597:\tlearn: 0.0828471\ttotal: 28.4s\tremaining: 19.1s\n",
            "598:\tlearn: 0.0828150\ttotal: 28.5s\tremaining: 19.1s\n",
            "599:\tlearn: 0.0828071\ttotal: 28.6s\tremaining: 19.1s\n",
            "600:\tlearn: 0.0827784\ttotal: 28.7s\tremaining: 19.1s\n",
            "601:\tlearn: 0.0827663\ttotal: 28.9s\tremaining: 19.1s\n",
            "602:\tlearn: 0.0827435\ttotal: 28.9s\tremaining: 19.1s\n",
            "603:\tlearn: 0.0827188\ttotal: 29s\tremaining: 19s\n",
            "604:\tlearn: 0.0826998\ttotal: 29.1s\tremaining: 19s\n",
            "605:\tlearn: 0.0826672\ttotal: 29.3s\tremaining: 19s\n",
            "606:\tlearn: 0.0826429\ttotal: 29.3s\tremaining: 19s\n",
            "607:\tlearn: 0.0826316\ttotal: 29.4s\tremaining: 19s\n",
            "608:\tlearn: 0.0826060\ttotal: 29.5s\tremaining: 19s\n",
            "609:\tlearn: 0.0825860\ttotal: 29.7s\tremaining: 19s\n",
            "610:\tlearn: 0.0825746\ttotal: 29.8s\tremaining: 18.9s\n",
            "611:\tlearn: 0.0825589\ttotal: 29.9s\tremaining: 18.9s\n",
            "612:\tlearn: 0.0825487\ttotal: 30s\tremaining: 18.9s\n",
            "613:\tlearn: 0.0825328\ttotal: 30s\tremaining: 18.9s\n",
            "614:\tlearn: 0.0825224\ttotal: 30.1s\tremaining: 18.8s\n",
            "615:\tlearn: 0.0825061\ttotal: 30.2s\tremaining: 18.8s\n",
            "616:\tlearn: 0.0824836\ttotal: 30.3s\tremaining: 18.8s\n",
            "617:\tlearn: 0.0824680\ttotal: 30.3s\tremaining: 18.7s\n",
            "618:\tlearn: 0.0824394\ttotal: 30.4s\tremaining: 18.7s\n",
            "619:\tlearn: 0.0824247\ttotal: 30.5s\tremaining: 18.7s\n",
            "620:\tlearn: 0.0823864\ttotal: 30.6s\tremaining: 18.7s\n",
            "621:\tlearn: 0.0823661\ttotal: 30.7s\tremaining: 18.7s\n",
            "622:\tlearn: 0.0823403\ttotal: 30.8s\tremaining: 18.7s\n",
            "623:\tlearn: 0.0823299\ttotal: 30.9s\tremaining: 18.6s\n",
            "624:\tlearn: 0.0823035\ttotal: 31.1s\tremaining: 18.6s\n",
            "625:\tlearn: 0.0822872\ttotal: 31.1s\tremaining: 18.6s\n",
            "626:\tlearn: 0.0822728\ttotal: 31.3s\tremaining: 18.6s\n",
            "627:\tlearn: 0.0822626\ttotal: 31.4s\tremaining: 18.6s\n",
            "628:\tlearn: 0.0822520\ttotal: 31.5s\tremaining: 18.6s\n",
            "629:\tlearn: 0.0822474\ttotal: 31.6s\tremaining: 18.5s\n",
            "630:\tlearn: 0.0822203\ttotal: 31.6s\tremaining: 18.5s\n",
            "631:\tlearn: 0.0821999\ttotal: 31.7s\tremaining: 18.4s\n",
            "632:\tlearn: 0.0821799\ttotal: 31.7s\tremaining: 18.4s\n",
            "633:\tlearn: 0.0821681\ttotal: 31.7s\tremaining: 18.3s\n",
            "634:\tlearn: 0.0821551\ttotal: 31.8s\tremaining: 18.3s\n",
            "635:\tlearn: 0.0821446\ttotal: 31.8s\tremaining: 18.2s\n",
            "636:\tlearn: 0.0821204\ttotal: 31.8s\tremaining: 18.1s\n",
            "637:\tlearn: 0.0821146\ttotal: 31.9s\tremaining: 18.1s\n",
            "638:\tlearn: 0.0820915\ttotal: 31.9s\tremaining: 18s\n",
            "639:\tlearn: 0.0820821\ttotal: 32s\tremaining: 18s\n",
            "640:\tlearn: 0.0820596\ttotal: 32s\tremaining: 17.9s\n",
            "641:\tlearn: 0.0820484\ttotal: 32s\tremaining: 17.9s\n",
            "642:\tlearn: 0.0820230\ttotal: 32.1s\tremaining: 17.8s\n",
            "643:\tlearn: 0.0820152\ttotal: 32.1s\tremaining: 17.7s\n",
            "644:\tlearn: 0.0819951\ttotal: 32.1s\tremaining: 17.7s\n",
            "645:\tlearn: 0.0819728\ttotal: 32.2s\tremaining: 17.6s\n",
            "646:\tlearn: 0.0819643\ttotal: 32.2s\tremaining: 17.6s\n",
            "647:\tlearn: 0.0819344\ttotal: 32.3s\tremaining: 17.5s\n",
            "648:\tlearn: 0.0819173\ttotal: 32.3s\tremaining: 17.5s\n",
            "649:\tlearn: 0.0818973\ttotal: 32.4s\tremaining: 17.4s\n",
            "650:\tlearn: 0.0818835\ttotal: 32.4s\tremaining: 17.4s\n",
            "651:\tlearn: 0.0818623\ttotal: 32.4s\tremaining: 17.3s\n",
            "652:\tlearn: 0.0818513\ttotal: 32.5s\tremaining: 17.2s\n",
            "653:\tlearn: 0.0818278\ttotal: 32.5s\tremaining: 17.2s\n",
            "654:\tlearn: 0.0818029\ttotal: 32.5s\tremaining: 17.1s\n",
            "655:\tlearn: 0.0817770\ttotal: 32.6s\tremaining: 17.1s\n",
            "656:\tlearn: 0.0817652\ttotal: 32.6s\tremaining: 17s\n",
            "657:\tlearn: 0.0817533\ttotal: 32.6s\tremaining: 17s\n",
            "658:\tlearn: 0.0817247\ttotal: 32.7s\tremaining: 16.9s\n",
            "659:\tlearn: 0.0817173\ttotal: 32.7s\tremaining: 16.9s\n",
            "660:\tlearn: 0.0817035\ttotal: 32.8s\tremaining: 16.8s\n",
            "661:\tlearn: 0.0816927\ttotal: 32.8s\tremaining: 16.7s\n",
            "662:\tlearn: 0.0816717\ttotal: 32.8s\tremaining: 16.7s\n",
            "663:\tlearn: 0.0816618\ttotal: 32.9s\tremaining: 16.6s\n",
            "664:\tlearn: 0.0816416\ttotal: 32.9s\tremaining: 16.6s\n",
            "665:\tlearn: 0.0816238\ttotal: 33s\tremaining: 16.5s\n",
            "666:\tlearn: 0.0816106\ttotal: 33s\tremaining: 16.5s\n",
            "667:\tlearn: 0.0815805\ttotal: 33s\tremaining: 16.4s\n",
            "668:\tlearn: 0.0815575\ttotal: 33.1s\tremaining: 16.4s\n",
            "669:\tlearn: 0.0815312\ttotal: 33.1s\tremaining: 16.3s\n",
            "670:\tlearn: 0.0815185\ttotal: 33.1s\tremaining: 16.2s\n",
            "671:\tlearn: 0.0815055\ttotal: 33.2s\tremaining: 16.2s\n",
            "672:\tlearn: 0.0814899\ttotal: 33.2s\tremaining: 16.1s\n",
            "673:\tlearn: 0.0814659\ttotal: 33.3s\tremaining: 16.1s\n",
            "674:\tlearn: 0.0814504\ttotal: 33.3s\tremaining: 16s\n",
            "675:\tlearn: 0.0814327\ttotal: 33.3s\tremaining: 16s\n",
            "676:\tlearn: 0.0814150\ttotal: 33.4s\tremaining: 15.9s\n",
            "677:\tlearn: 0.0814041\ttotal: 33.4s\tremaining: 15.9s\n",
            "678:\tlearn: 0.0813942\ttotal: 33.5s\tremaining: 15.8s\n",
            "679:\tlearn: 0.0813835\ttotal: 33.5s\tremaining: 15.8s\n",
            "680:\tlearn: 0.0813759\ttotal: 33.5s\tremaining: 15.7s\n",
            "681:\tlearn: 0.0813577\ttotal: 33.6s\tremaining: 15.6s\n",
            "682:\tlearn: 0.0813414\ttotal: 33.6s\tremaining: 15.6s\n",
            "683:\tlearn: 0.0813255\ttotal: 33.6s\tremaining: 15.5s\n",
            "684:\tlearn: 0.0813089\ttotal: 33.7s\tremaining: 15.5s\n",
            "685:\tlearn: 0.0812785\ttotal: 33.7s\tremaining: 15.4s\n",
            "686:\tlearn: 0.0812520\ttotal: 33.8s\tremaining: 15.4s\n",
            "687:\tlearn: 0.0812368\ttotal: 33.8s\tremaining: 15.3s\n",
            "688:\tlearn: 0.0812259\ttotal: 33.8s\tremaining: 15.3s\n",
            "689:\tlearn: 0.0812082\ttotal: 33.9s\tremaining: 15.2s\n",
            "690:\tlearn: 0.0812004\ttotal: 33.9s\tremaining: 15.2s\n",
            "691:\tlearn: 0.0811896\ttotal: 34s\tremaining: 15.1s\n",
            "692:\tlearn: 0.0811647\ttotal: 34s\tremaining: 15.1s\n",
            "693:\tlearn: 0.0811398\ttotal: 34s\tremaining: 15s\n",
            "694:\tlearn: 0.0811172\ttotal: 34.1s\tremaining: 15s\n",
            "695:\tlearn: 0.0811020\ttotal: 34.1s\tremaining: 14.9s\n",
            "696:\tlearn: 0.0810927\ttotal: 34.2s\tremaining: 14.8s\n",
            "697:\tlearn: 0.0810726\ttotal: 34.2s\tremaining: 14.8s\n",
            "698:\tlearn: 0.0810456\ttotal: 34.2s\tremaining: 14.7s\n",
            "699:\tlearn: 0.0810212\ttotal: 34.3s\tremaining: 14.7s\n",
            "700:\tlearn: 0.0810041\ttotal: 34.3s\tremaining: 14.6s\n",
            "701:\tlearn: 0.0810041\ttotal: 34.3s\tremaining: 14.6s\n",
            "702:\tlearn: 0.0809990\ttotal: 34.4s\tremaining: 14.5s\n",
            "703:\tlearn: 0.0809706\ttotal: 34.4s\tremaining: 14.5s\n",
            "704:\tlearn: 0.0809534\ttotal: 34.5s\tremaining: 14.4s\n",
            "705:\tlearn: 0.0809490\ttotal: 34.5s\tremaining: 14.4s\n",
            "706:\tlearn: 0.0809326\ttotal: 34.5s\tremaining: 14.3s\n",
            "707:\tlearn: 0.0809199\ttotal: 34.6s\tremaining: 14.3s\n",
            "708:\tlearn: 0.0809030\ttotal: 34.6s\tremaining: 14.2s\n",
            "709:\tlearn: 0.0808832\ttotal: 34.6s\tremaining: 14.2s\n",
            "710:\tlearn: 0.0808728\ttotal: 34.7s\tremaining: 14.1s\n",
            "711:\tlearn: 0.0808589\ttotal: 34.7s\tremaining: 14s\n",
            "712:\tlearn: 0.0808552\ttotal: 34.8s\tremaining: 14s\n",
            "713:\tlearn: 0.0808417\ttotal: 34.8s\tremaining: 13.9s\n",
            "714:\tlearn: 0.0808248\ttotal: 34.8s\tremaining: 13.9s\n",
            "715:\tlearn: 0.0808039\ttotal: 34.9s\tremaining: 13.8s\n",
            "716:\tlearn: 0.0807917\ttotal: 34.9s\tremaining: 13.8s\n",
            "717:\tlearn: 0.0807707\ttotal: 35s\tremaining: 13.7s\n",
            "718:\tlearn: 0.0807624\ttotal: 35s\tremaining: 13.7s\n",
            "719:\tlearn: 0.0807527\ttotal: 35s\tremaining: 13.6s\n",
            "720:\tlearn: 0.0807422\ttotal: 35.1s\tremaining: 13.6s\n",
            "721:\tlearn: 0.0807288\ttotal: 35.1s\tremaining: 13.5s\n",
            "722:\tlearn: 0.0807111\ttotal: 35.1s\tremaining: 13.5s\n",
            "723:\tlearn: 0.0806903\ttotal: 35.2s\tremaining: 13.4s\n",
            "724:\tlearn: 0.0806712\ttotal: 35.2s\tremaining: 13.4s\n",
            "725:\tlearn: 0.0806596\ttotal: 35.3s\tremaining: 13.3s\n",
            "726:\tlearn: 0.0806469\ttotal: 35.3s\tremaining: 13.3s\n",
            "727:\tlearn: 0.0806297\ttotal: 35.3s\tremaining: 13.2s\n",
            "728:\tlearn: 0.0806221\ttotal: 35.4s\tremaining: 13.2s\n",
            "729:\tlearn: 0.0805923\ttotal: 35.4s\tremaining: 13.1s\n",
            "730:\tlearn: 0.0805790\ttotal: 35.5s\tremaining: 13.1s\n",
            "731:\tlearn: 0.0805711\ttotal: 35.5s\tremaining: 13s\n",
            "732:\tlearn: 0.0805538\ttotal: 35.5s\tremaining: 12.9s\n",
            "733:\tlearn: 0.0805321\ttotal: 35.6s\tremaining: 12.9s\n",
            "734:\tlearn: 0.0805230\ttotal: 35.6s\tremaining: 12.8s\n",
            "735:\tlearn: 0.0805060\ttotal: 35.7s\tremaining: 12.8s\n",
            "736:\tlearn: 0.0804821\ttotal: 35.7s\tremaining: 12.7s\n",
            "737:\tlearn: 0.0804748\ttotal: 35.7s\tremaining: 12.7s\n",
            "738:\tlearn: 0.0804511\ttotal: 35.8s\tremaining: 12.6s\n",
            "739:\tlearn: 0.0804331\ttotal: 35.8s\tremaining: 12.6s\n",
            "740:\tlearn: 0.0804079\ttotal: 35.8s\tremaining: 12.5s\n",
            "741:\tlearn: 0.0803832\ttotal: 35.9s\tremaining: 12.5s\n",
            "742:\tlearn: 0.0803650\ttotal: 35.9s\tremaining: 12.4s\n",
            "743:\tlearn: 0.0803382\ttotal: 36s\tremaining: 12.4s\n",
            "744:\tlearn: 0.0803345\ttotal: 36s\tremaining: 12.3s\n",
            "745:\tlearn: 0.0803265\ttotal: 36.1s\tremaining: 12.3s\n",
            "746:\tlearn: 0.0803099\ttotal: 36.1s\tremaining: 12.2s\n",
            "747:\tlearn: 0.0802957\ttotal: 36.1s\tremaining: 12.2s\n",
            "748:\tlearn: 0.0802815\ttotal: 36.2s\tremaining: 12.1s\n",
            "749:\tlearn: 0.0802650\ttotal: 36.2s\tremaining: 12.1s\n",
            "750:\tlearn: 0.0802614\ttotal: 36.2s\tremaining: 12s\n",
            "751:\tlearn: 0.0802423\ttotal: 36.3s\tremaining: 12s\n",
            "752:\tlearn: 0.0802286\ttotal: 36.3s\tremaining: 11.9s\n",
            "753:\tlearn: 0.0802121\ttotal: 36.4s\tremaining: 11.9s\n",
            "754:\tlearn: 0.0801959\ttotal: 36.4s\tremaining: 11.8s\n",
            "755:\tlearn: 0.0801885\ttotal: 36.4s\tremaining: 11.8s\n",
            "756:\tlearn: 0.0801823\ttotal: 36.5s\tremaining: 11.7s\n",
            "757:\tlearn: 0.0801738\ttotal: 36.5s\tremaining: 11.7s\n",
            "758:\tlearn: 0.0801683\ttotal: 36.5s\tremaining: 11.6s\n",
            "759:\tlearn: 0.0801428\ttotal: 36.6s\tremaining: 11.6s\n",
            "760:\tlearn: 0.0801286\ttotal: 36.6s\tremaining: 11.5s\n",
            "761:\tlearn: 0.0801209\ttotal: 36.7s\tremaining: 11.5s\n",
            "762:\tlearn: 0.0801083\ttotal: 36.7s\tremaining: 11.4s\n",
            "763:\tlearn: 0.0800916\ttotal: 36.7s\tremaining: 11.3s\n",
            "764:\tlearn: 0.0800779\ttotal: 36.8s\tremaining: 11.3s\n",
            "765:\tlearn: 0.0800516\ttotal: 36.8s\tremaining: 11.2s\n",
            "766:\tlearn: 0.0800282\ttotal: 36.9s\tremaining: 11.2s\n",
            "767:\tlearn: 0.0800243\ttotal: 36.9s\tremaining: 11.1s\n",
            "768:\tlearn: 0.0800036\ttotal: 36.9s\tremaining: 11.1s\n",
            "769:\tlearn: 0.0799934\ttotal: 37s\tremaining: 11.1s\n",
            "770:\tlearn: 0.0799788\ttotal: 37s\tremaining: 11s\n",
            "771:\tlearn: 0.0799631\ttotal: 37.1s\tremaining: 11s\n",
            "772:\tlearn: 0.0799482\ttotal: 37.1s\tremaining: 10.9s\n",
            "773:\tlearn: 0.0799328\ttotal: 37.2s\tremaining: 10.8s\n",
            "774:\tlearn: 0.0798927\ttotal: 37.2s\tremaining: 10.8s\n",
            "775:\tlearn: 0.0798853\ttotal: 37.2s\tremaining: 10.7s\n",
            "776:\tlearn: 0.0798756\ttotal: 37.3s\tremaining: 10.7s\n",
            "777:\tlearn: 0.0798633\ttotal: 37.3s\tremaining: 10.6s\n",
            "778:\tlearn: 0.0798507\ttotal: 37.4s\tremaining: 10.6s\n",
            "779:\tlearn: 0.0798430\ttotal: 37.4s\tremaining: 10.5s\n",
            "780:\tlearn: 0.0798295\ttotal: 37.4s\tremaining: 10.5s\n",
            "781:\tlearn: 0.0798155\ttotal: 37.5s\tremaining: 10.4s\n",
            "782:\tlearn: 0.0797947\ttotal: 37.5s\tremaining: 10.4s\n",
            "783:\tlearn: 0.0797746\ttotal: 37.5s\tremaining: 10.3s\n",
            "784:\tlearn: 0.0797569\ttotal: 37.6s\tremaining: 10.3s\n",
            "785:\tlearn: 0.0797426\ttotal: 37.6s\tremaining: 10.2s\n",
            "786:\tlearn: 0.0797316\ttotal: 37.7s\tremaining: 10.2s\n",
            "787:\tlearn: 0.0797096\ttotal: 37.7s\tremaining: 10.1s\n",
            "788:\tlearn: 0.0797016\ttotal: 37.7s\tremaining: 10.1s\n",
            "789:\tlearn: 0.0796863\ttotal: 37.8s\tremaining: 10s\n",
            "790:\tlearn: 0.0796721\ttotal: 37.8s\tremaining: 9.99s\n",
            "791:\tlearn: 0.0796525\ttotal: 37.9s\tremaining: 9.95s\n",
            "792:\tlearn: 0.0796427\ttotal: 37.9s\tremaining: 9.89s\n",
            "793:\tlearn: 0.0796396\ttotal: 37.9s\tremaining: 9.84s\n",
            "794:\tlearn: 0.0796136\ttotal: 38s\tremaining: 9.79s\n",
            "795:\tlearn: 0.0796013\ttotal: 38s\tremaining: 9.74s\n",
            "796:\tlearn: 0.0795960\ttotal: 38.1s\tremaining: 9.7s\n",
            "797:\tlearn: 0.0795794\ttotal: 38.1s\tremaining: 9.65s\n",
            "798:\tlearn: 0.0795707\ttotal: 38.1s\tremaining: 9.6s\n",
            "799:\tlearn: 0.0795598\ttotal: 38.2s\tremaining: 9.55s\n",
            "800:\tlearn: 0.0795501\ttotal: 38.2s\tremaining: 9.5s\n",
            "801:\tlearn: 0.0795420\ttotal: 38.3s\tremaining: 9.44s\n",
            "802:\tlearn: 0.0795287\ttotal: 38.3s\tremaining: 9.39s\n",
            "803:\tlearn: 0.0795187\ttotal: 38.3s\tremaining: 9.34s\n",
            "804:\tlearn: 0.0794930\ttotal: 38.4s\tremaining: 9.29s\n",
            "805:\tlearn: 0.0794757\ttotal: 38.4s\tremaining: 9.24s\n",
            "806:\tlearn: 0.0794674\ttotal: 38.4s\tremaining: 9.19s\n",
            "807:\tlearn: 0.0794570\ttotal: 38.5s\tremaining: 9.14s\n",
            "808:\tlearn: 0.0794439\ttotal: 38.5s\tremaining: 9.09s\n",
            "809:\tlearn: 0.0794370\ttotal: 38.5s\tremaining: 9.04s\n",
            "810:\tlearn: 0.0794228\ttotal: 38.6s\tremaining: 8.99s\n",
            "811:\tlearn: 0.0794096\ttotal: 38.6s\tremaining: 8.94s\n",
            "812:\tlearn: 0.0793987\ttotal: 38.7s\tremaining: 8.89s\n",
            "813:\tlearn: 0.0793916\ttotal: 38.7s\tremaining: 8.84s\n",
            "814:\tlearn: 0.0793872\ttotal: 38.7s\tremaining: 8.79s\n",
            "815:\tlearn: 0.0793746\ttotal: 38.8s\tremaining: 8.74s\n",
            "816:\tlearn: 0.0793678\ttotal: 38.8s\tremaining: 8.69s\n",
            "817:\tlearn: 0.0793556\ttotal: 38.8s\tremaining: 8.64s\n",
            "818:\tlearn: 0.0793460\ttotal: 38.9s\tremaining: 8.59s\n",
            "819:\tlearn: 0.0793344\ttotal: 38.9s\tremaining: 8.54s\n",
            "820:\tlearn: 0.0793079\ttotal: 38.9s\tremaining: 8.49s\n",
            "821:\tlearn: 0.0792972\ttotal: 39s\tremaining: 8.44s\n",
            "822:\tlearn: 0.0792858\ttotal: 39s\tremaining: 8.39s\n",
            "823:\tlearn: 0.0792759\ttotal: 39.1s\tremaining: 8.35s\n",
            "824:\tlearn: 0.0792560\ttotal: 39.1s\tremaining: 8.3s\n",
            "825:\tlearn: 0.0792384\ttotal: 39.1s\tremaining: 8.25s\n",
            "826:\tlearn: 0.0792234\ttotal: 39.2s\tremaining: 8.2s\n",
            "827:\tlearn: 0.0792103\ttotal: 39.2s\tremaining: 8.15s\n",
            "828:\tlearn: 0.0791956\ttotal: 39.3s\tremaining: 8.1s\n",
            "829:\tlearn: 0.0791777\ttotal: 39.3s\tremaining: 8.05s\n",
            "830:\tlearn: 0.0791605\ttotal: 39.3s\tremaining: 8s\n",
            "831:\tlearn: 0.0791418\ttotal: 39.4s\tremaining: 7.95s\n",
            "832:\tlearn: 0.0791221\ttotal: 39.4s\tremaining: 7.9s\n",
            "833:\tlearn: 0.0791104\ttotal: 39.4s\tremaining: 7.85s\n",
            "834:\tlearn: 0.0790981\ttotal: 39.5s\tremaining: 7.8s\n",
            "835:\tlearn: 0.0790964\ttotal: 39.5s\tremaining: 7.75s\n",
            "836:\tlearn: 0.0790842\ttotal: 39.6s\tremaining: 7.7s\n",
            "837:\tlearn: 0.0790673\ttotal: 39.6s\tremaining: 7.65s\n",
            "838:\tlearn: 0.0790539\ttotal: 39.6s\tremaining: 7.61s\n",
            "839:\tlearn: 0.0790478\ttotal: 39.7s\tremaining: 7.55s\n",
            "840:\tlearn: 0.0790380\ttotal: 39.7s\tremaining: 7.51s\n",
            "841:\tlearn: 0.0790160\ttotal: 39.7s\tremaining: 7.46s\n",
            "842:\tlearn: 0.0790013\ttotal: 39.8s\tremaining: 7.41s\n",
            "843:\tlearn: 0.0789781\ttotal: 39.8s\tremaining: 7.36s\n",
            "844:\tlearn: 0.0789645\ttotal: 39.8s\tremaining: 7.31s\n",
            "845:\tlearn: 0.0789525\ttotal: 39.9s\tremaining: 7.26s\n",
            "846:\tlearn: 0.0789403\ttotal: 39.9s\tremaining: 7.21s\n",
            "847:\tlearn: 0.0789324\ttotal: 40s\tremaining: 7.16s\n",
            "848:\tlearn: 0.0789001\ttotal: 40s\tremaining: 7.11s\n",
            "849:\tlearn: 0.0788888\ttotal: 40.1s\tremaining: 7.07s\n",
            "850:\tlearn: 0.0788791\ttotal: 40.1s\tremaining: 7.02s\n",
            "851:\tlearn: 0.0788656\ttotal: 40.1s\tremaining: 6.97s\n",
            "852:\tlearn: 0.0788536\ttotal: 40.2s\tremaining: 6.92s\n",
            "853:\tlearn: 0.0788391\ttotal: 40.2s\tremaining: 6.87s\n",
            "854:\tlearn: 0.0788270\ttotal: 40.2s\tremaining: 6.83s\n",
            "855:\tlearn: 0.0788079\ttotal: 40.3s\tremaining: 6.78s\n",
            "856:\tlearn: 0.0787921\ttotal: 40.3s\tremaining: 6.73s\n",
            "857:\tlearn: 0.0787763\ttotal: 40.4s\tremaining: 6.68s\n",
            "858:\tlearn: 0.0787607\ttotal: 40.4s\tremaining: 6.63s\n",
            "859:\tlearn: 0.0787385\ttotal: 40.4s\tremaining: 6.58s\n",
            "860:\tlearn: 0.0787249\ttotal: 40.5s\tremaining: 6.54s\n",
            "861:\tlearn: 0.0787108\ttotal: 40.5s\tremaining: 6.49s\n",
            "862:\tlearn: 0.0786910\ttotal: 40.5s\tremaining: 6.44s\n",
            "863:\tlearn: 0.0786881\ttotal: 40.6s\tremaining: 6.39s\n",
            "864:\tlearn: 0.0786744\ttotal: 40.6s\tremaining: 6.34s\n",
            "865:\tlearn: 0.0786594\ttotal: 40.7s\tremaining: 6.29s\n",
            "866:\tlearn: 0.0786458\ttotal: 40.7s\tremaining: 6.24s\n",
            "867:\tlearn: 0.0786152\ttotal: 40.7s\tremaining: 6.19s\n",
            "868:\tlearn: 0.0786030\ttotal: 40.8s\tremaining: 6.14s\n",
            "869:\tlearn: 0.0786011\ttotal: 40.8s\tremaining: 6.1s\n",
            "870:\tlearn: 0.0785845\ttotal: 40.8s\tremaining: 6.05s\n",
            "871:\tlearn: 0.0785670\ttotal: 40.9s\tremaining: 6s\n",
            "872:\tlearn: 0.0785593\ttotal: 40.9s\tremaining: 5.95s\n",
            "873:\tlearn: 0.0785421\ttotal: 41s\tremaining: 5.91s\n",
            "874:\tlearn: 0.0785398\ttotal: 41s\tremaining: 5.86s\n",
            "875:\tlearn: 0.0785289\ttotal: 41s\tremaining: 5.81s\n",
            "876:\tlearn: 0.0785189\ttotal: 41.1s\tremaining: 5.76s\n",
            "877:\tlearn: 0.0785046\ttotal: 41.1s\tremaining: 5.71s\n",
            "878:\tlearn: 0.0784921\ttotal: 41.2s\tremaining: 5.67s\n",
            "879:\tlearn: 0.0784801\ttotal: 41.2s\tremaining: 5.62s\n",
            "880:\tlearn: 0.0784489\ttotal: 41.3s\tremaining: 5.58s\n",
            "881:\tlearn: 0.0784399\ttotal: 41.3s\tremaining: 5.53s\n",
            "882:\tlearn: 0.0784221\ttotal: 41.4s\tremaining: 5.48s\n",
            "883:\tlearn: 0.0784131\ttotal: 41.4s\tremaining: 5.43s\n",
            "884:\tlearn: 0.0783947\ttotal: 41.4s\tremaining: 5.38s\n",
            "885:\tlearn: 0.0783815\ttotal: 41.5s\tremaining: 5.34s\n",
            "886:\tlearn: 0.0783775\ttotal: 41.5s\tremaining: 5.29s\n",
            "887:\tlearn: 0.0783660\ttotal: 41.6s\tremaining: 5.25s\n",
            "888:\tlearn: 0.0783517\ttotal: 41.7s\tremaining: 5.21s\n",
            "889:\tlearn: 0.0783352\ttotal: 41.9s\tremaining: 5.17s\n",
            "890:\tlearn: 0.0783202\ttotal: 41.9s\tremaining: 5.13s\n",
            "891:\tlearn: 0.0783094\ttotal: 42s\tremaining: 5.08s\n",
            "892:\tlearn: 0.0782968\ttotal: 42.1s\tremaining: 5.04s\n",
            "893:\tlearn: 0.0782724\ttotal: 42.2s\tremaining: 5s\n",
            "894:\tlearn: 0.0782528\ttotal: 42.3s\tremaining: 4.96s\n",
            "895:\tlearn: 0.0782402\ttotal: 42.4s\tremaining: 4.92s\n",
            "896:\tlearn: 0.0782171\ttotal: 42.5s\tremaining: 4.88s\n",
            "897:\tlearn: 0.0782093\ttotal: 42.6s\tremaining: 4.84s\n",
            "898:\tlearn: 0.0782051\ttotal: 42.7s\tremaining: 4.8s\n",
            "899:\tlearn: 0.0781849\ttotal: 42.8s\tremaining: 4.76s\n",
            "900:\tlearn: 0.0781713\ttotal: 42.9s\tremaining: 4.71s\n",
            "901:\tlearn: 0.0781614\ttotal: 43s\tremaining: 4.67s\n",
            "902:\tlearn: 0.0781559\ttotal: 43.1s\tremaining: 4.63s\n",
            "903:\tlearn: 0.0781443\ttotal: 43.2s\tremaining: 4.59s\n",
            "904:\tlearn: 0.0781306\ttotal: 43.3s\tremaining: 4.54s\n",
            "905:\tlearn: 0.0781188\ttotal: 43.4s\tremaining: 4.5s\n",
            "906:\tlearn: 0.0780950\ttotal: 43.5s\tremaining: 4.46s\n",
            "907:\tlearn: 0.0780740\ttotal: 43.6s\tremaining: 4.42s\n",
            "908:\tlearn: 0.0780672\ttotal: 43.7s\tremaining: 4.37s\n",
            "909:\tlearn: 0.0780567\ttotal: 43.8s\tremaining: 4.33s\n",
            "910:\tlearn: 0.0780451\ttotal: 43.9s\tremaining: 4.29s\n",
            "911:\tlearn: 0.0780264\ttotal: 44s\tremaining: 4.25s\n",
            "912:\tlearn: 0.0780138\ttotal: 44.1s\tremaining: 4.2s\n",
            "913:\tlearn: 0.0780038\ttotal: 44.2s\tremaining: 4.16s\n",
            "914:\tlearn: 0.0779888\ttotal: 44.3s\tremaining: 4.12s\n",
            "915:\tlearn: 0.0779610\ttotal: 44.4s\tremaining: 4.07s\n",
            "916:\tlearn: 0.0779520\ttotal: 44.5s\tremaining: 4.03s\n",
            "917:\tlearn: 0.0779456\ttotal: 44.6s\tremaining: 3.99s\n",
            "918:\tlearn: 0.0779245\ttotal: 44.7s\tremaining: 3.94s\n",
            "919:\tlearn: 0.0779101\ttotal: 44.8s\tremaining: 3.9s\n",
            "920:\tlearn: 0.0778839\ttotal: 44.9s\tremaining: 3.85s\n",
            "921:\tlearn: 0.0778683\ttotal: 45.1s\tremaining: 3.81s\n",
            "922:\tlearn: 0.0778582\ttotal: 45.2s\tremaining: 3.77s\n",
            "923:\tlearn: 0.0778466\ttotal: 45.3s\tremaining: 3.73s\n",
            "924:\tlearn: 0.0778124\ttotal: 45.4s\tremaining: 3.68s\n",
            "925:\tlearn: 0.0777983\ttotal: 45.5s\tremaining: 3.64s\n",
            "926:\tlearn: 0.0777824\ttotal: 45.6s\tremaining: 3.59s\n",
            "927:\tlearn: 0.0777748\ttotal: 45.7s\tremaining: 3.55s\n",
            "928:\tlearn: 0.0777691\ttotal: 45.8s\tremaining: 3.5s\n",
            "929:\tlearn: 0.0777516\ttotal: 45.9s\tremaining: 3.46s\n",
            "930:\tlearn: 0.0777390\ttotal: 46s\tremaining: 3.41s\n",
            "931:\tlearn: 0.0777214\ttotal: 46s\tremaining: 3.36s\n",
            "932:\tlearn: 0.0777063\ttotal: 46s\tremaining: 3.31s\n",
            "933:\tlearn: 0.0776920\ttotal: 46.1s\tremaining: 3.26s\n",
            "934:\tlearn: 0.0776810\ttotal: 46.1s\tremaining: 3.21s\n",
            "935:\tlearn: 0.0776656\ttotal: 46.2s\tremaining: 3.16s\n",
            "936:\tlearn: 0.0776565\ttotal: 46.2s\tremaining: 3.11s\n",
            "937:\tlearn: 0.0776538\ttotal: 46.2s\tremaining: 3.06s\n",
            "938:\tlearn: 0.0776419\ttotal: 46.3s\tremaining: 3.01s\n",
            "939:\tlearn: 0.0776337\ttotal: 46.3s\tremaining: 2.96s\n",
            "940:\tlearn: 0.0776180\ttotal: 46.4s\tremaining: 2.91s\n",
            "941:\tlearn: 0.0776055\ttotal: 46.4s\tremaining: 2.86s\n",
            "942:\tlearn: 0.0775954\ttotal: 46.4s\tremaining: 2.81s\n",
            "943:\tlearn: 0.0775877\ttotal: 46.5s\tremaining: 2.76s\n",
            "944:\tlearn: 0.0775767\ttotal: 46.5s\tremaining: 2.71s\n",
            "945:\tlearn: 0.0775689\ttotal: 46.5s\tremaining: 2.66s\n",
            "946:\tlearn: 0.0775550\ttotal: 46.6s\tremaining: 2.61s\n",
            "947:\tlearn: 0.0775389\ttotal: 46.6s\tremaining: 2.56s\n",
            "948:\tlearn: 0.0775350\ttotal: 46.7s\tremaining: 2.51s\n",
            "949:\tlearn: 0.0775256\ttotal: 46.7s\tremaining: 2.46s\n",
            "950:\tlearn: 0.0775084\ttotal: 46.7s\tremaining: 2.41s\n",
            "951:\tlearn: 0.0775001\ttotal: 46.8s\tremaining: 2.36s\n",
            "952:\tlearn: 0.0774891\ttotal: 46.8s\tremaining: 2.31s\n",
            "953:\tlearn: 0.0774712\ttotal: 46.8s\tremaining: 2.26s\n",
            "954:\tlearn: 0.0774667\ttotal: 46.9s\tremaining: 2.21s\n",
            "955:\tlearn: 0.0774525\ttotal: 46.9s\tremaining: 2.16s\n",
            "956:\tlearn: 0.0774424\ttotal: 46.9s\tremaining: 2.11s\n",
            "957:\tlearn: 0.0774287\ttotal: 47s\tremaining: 2.06s\n",
            "958:\tlearn: 0.0774206\ttotal: 47s\tremaining: 2.01s\n",
            "959:\tlearn: 0.0774092\ttotal: 47.1s\tremaining: 1.96s\n",
            "960:\tlearn: 0.0774026\ttotal: 47.1s\tremaining: 1.91s\n",
            "961:\tlearn: 0.0773870\ttotal: 47.1s\tremaining: 1.86s\n",
            "962:\tlearn: 0.0773801\ttotal: 47.2s\tremaining: 1.81s\n",
            "963:\tlearn: 0.0773556\ttotal: 47.2s\tremaining: 1.76s\n",
            "964:\tlearn: 0.0773468\ttotal: 47.2s\tremaining: 1.71s\n",
            "965:\tlearn: 0.0773342\ttotal: 47.3s\tremaining: 1.66s\n",
            "966:\tlearn: 0.0773152\ttotal: 47.3s\tremaining: 1.61s\n",
            "967:\tlearn: 0.0773049\ttotal: 47.4s\tremaining: 1.56s\n",
            "968:\tlearn: 0.0772925\ttotal: 47.4s\tremaining: 1.52s\n",
            "969:\tlearn: 0.0772795\ttotal: 47.5s\tremaining: 1.47s\n",
            "970:\tlearn: 0.0772630\ttotal: 47.5s\tremaining: 1.42s\n",
            "971:\tlearn: 0.0772477\ttotal: 47.5s\tremaining: 1.37s\n",
            "972:\tlearn: 0.0772373\ttotal: 47.6s\tremaining: 1.32s\n",
            "973:\tlearn: 0.0772077\ttotal: 47.6s\tremaining: 1.27s\n",
            "974:\tlearn: 0.0771923\ttotal: 47.7s\tremaining: 1.22s\n",
            "975:\tlearn: 0.0771869\ttotal: 47.7s\tremaining: 1.17s\n",
            "976:\tlearn: 0.0771762\ttotal: 47.7s\tremaining: 1.12s\n",
            "977:\tlearn: 0.0771590\ttotal: 47.8s\tremaining: 1.07s\n",
            "978:\tlearn: 0.0771534\ttotal: 47.8s\tremaining: 1.02s\n",
            "979:\tlearn: 0.0771401\ttotal: 47.8s\tremaining: 976ms\n",
            "980:\tlearn: 0.0771338\ttotal: 47.9s\tremaining: 927ms\n",
            "981:\tlearn: 0.0771233\ttotal: 47.9s\tremaining: 878ms\n",
            "982:\tlearn: 0.0771140\ttotal: 47.9s\tremaining: 829ms\n",
            "983:\tlearn: 0.0771104\ttotal: 48s\tremaining: 780ms\n",
            "984:\tlearn: 0.0770899\ttotal: 48s\tremaining: 731ms\n",
            "985:\tlearn: 0.0770767\ttotal: 48.1s\tremaining: 683ms\n",
            "986:\tlearn: 0.0770706\ttotal: 48.1s\tremaining: 634ms\n",
            "987:\tlearn: 0.0770542\ttotal: 48.1s\tremaining: 585ms\n",
            "988:\tlearn: 0.0770433\ttotal: 48.2s\tremaining: 536ms\n",
            "989:\tlearn: 0.0770375\ttotal: 48.2s\tremaining: 487ms\n",
            "990:\tlearn: 0.0770228\ttotal: 48.3s\tremaining: 438ms\n",
            "991:\tlearn: 0.0770106\ttotal: 48.3s\tremaining: 389ms\n",
            "992:\tlearn: 0.0769963\ttotal: 48.3s\tremaining: 341ms\n",
            "993:\tlearn: 0.0769889\ttotal: 48.4s\tremaining: 292ms\n",
            "994:\tlearn: 0.0769796\ttotal: 48.4s\tremaining: 243ms\n",
            "995:\tlearn: 0.0769670\ttotal: 48.4s\tremaining: 195ms\n",
            "996:\tlearn: 0.0769401\ttotal: 48.5s\tremaining: 146ms\n",
            "997:\tlearn: 0.0769311\ttotal: 48.5s\tremaining: 97.2ms\n",
            "998:\tlearn: 0.0769259\ttotal: 48.5s\tremaining: 48.6ms\n",
            "999:\tlearn: 0.0769127\ttotal: 48.6s\tremaining: 0us\n",
            "0.9555115884680611\n",
            "Report : \n",
            "              precision    recall  f1-score   support\n",
            "\n",
            "           0       0.95      0.96      0.96     17690\n",
            "           1       0.96      0.95      0.96     17690\n",
            "\n",
            "    accuracy                           0.96     35380\n",
            "   macro avg       0.96      0.96      0.96     35380\n",
            "weighted avg       0.96      0.96      0.96     35380\n",
            "\n"
          ]
        },
        {
          "output_type": "display_data",
          "data": {
            "text/plain": [
              "<Figure size 432x288 with 2 Axes>"
            ],
            "image/png": "[encoded data removed]"
          },
          "metadata": {
            "needs_background": "light"
          }
        }
      ]
    },
    {
      "cell_type": "code",
      "source": [
        "# save the trained model to a file\n",
        "with open('/content/drive/MyDrive/AI/Yoma/Yoma budget prediction/Models/ensemble_model.pkl', 'wb') as f:\n",
        "    pickle.dump(ens, f)\n"
      ],
      "metadata": {
        "id": "xdN2e00088aK"
      },
      "id": "xdN2e00088aK",
      "execution_count": null,
      "outputs": []
    },
    {
      "cell_type": "markdown",
      "source": [
        "## Testing data with the balanced trained model(version 3-user feature and campaign)"
      ],
      "metadata": {
        "id": "8B7tA5EbIAGS"
      },
      "id": "8B7tA5EbIAGS"
    },
    {
      "cell_type": "markdown",
      "source": [
        "###Load saved model "
      ],
      "metadata": {
        "id": "5wQ7H20XEnha"
      },
      "id": "5wQ7H20XEnha"
    },
    {
      "cell_type": "code",
      "source": [
        "# Load rfc model\n",
        "with open('/content/drive/MyDrive/AI/Yoma/Yoma budget prediction/Models/random_forest_model.pkl', 'rb') as f:\n",
        "    rfc_from_pickle = pickle.load(f)"
      ],
      "metadata": {
        "id": "afaYdOliE80-"
      },
      "id": "afaYdOliE80-",
      "execution_count": null,
      "outputs": []
    },
    {
      "cell_type": "code",
      "source": [
        "# Load knn model\n",
        "with open('/content/drive/MyDrive/AI/Yoma/Yoma budget prediction/Models/k_nearest_neighbour_model.pkl', 'rb') as f:\n",
        "    knn_from_pickle = pickle.load(f)"
      ],
      "metadata": {
        "id": "Qyra5U_ZE5zv"
      },
      "id": "Qyra5U_ZE5zv",
      "execution_count": null,
      "outputs": []
    },
    {
      "cell_type": "code",
      "source": [
        "# Load lr model\n",
        "with open('/content/drive/MyDrive/AI/Yoma/Yoma budget prediction/Models/logistic_regression_model.pkl', 'rb') as f:\n",
        "    lr_from_pickle = pickle.load(f)"
      ],
      "metadata": {
        "id": "lv3Z_XOM61CY"
      },
      "id": "lv3Z_XOM61CY",
      "execution_count": null,
      "outputs": []
    },
    {
      "cell_type": "code",
      "source": [
        "# Load knn model\n",
        "with open('/content/drive/MyDrive/AI/Yoma/Yoma budget prediction/Models/decision_tree_model.pkl', 'rb') as f:\n",
        "    dt_from_pickle = pickle.load(f)"
      ],
      "metadata": {
        "id": "mkkmR9i87NuA"
      },
      "id": "mkkmR9i87NuA",
      "execution_count": null,
      "outputs": []
    },
    {
      "cell_type": "code",
      "source": [
        "# Load svm model\n",
        "with open('/content/drive/MyDrive/AI/Yoma/Yoma budget prediction/Models/support_vector_machine_model.pkl', 'rb') as f:\n",
        "    svm_from_pickle = pickle.load(f)"
      ],
      "metadata": {
        "id": "r81aukBo-Giw"
      },
      "id": "r81aukBo-Giw",
      "execution_count": null,
      "outputs": []
    },
    {
      "cell_type": "code",
      "source": [
        "# Load ens model\n",
        "with open('/content/drive/MyDrive/AI/Yoma/Yoma budget prediction/Models/ensemble_model.pkl', 'rb') as f:\n",
        "    ens_from_pickle = pickle.load(f)"
      ],
      "metadata": {
        "id": "t1cbsW0n9NRq"
      },
      "id": "t1cbsW0n9NRq",
      "execution_count": null,
      "outputs": []
    },
    {
      "cell_type": "markdown",
      "source": [
        "###New Test data"
      ],
      "metadata": {
        "id": "OzIDZG04LFax"
      },
      "id": "OzIDZG04LFax"
    },
    {
      "cell_type": "code",
      "source": [
        "new_test=pd.read_csv('/content/drive/MyDrive/AI/Yoma/Yoma budget prediction/Test data/NT.csv')\n",
        "# real, manual-pred,model-pred\n",
        "# (walyinsu)newtest=100,around 1000, 87(random),\n",
        "#chittal=168, 7500,2422(random), 28(svm)\n",
        "#chitpyi=45,2000,272(random),173(svm)\n",
        "#170=168,1500-2000, 515(random),270(svm)\n",
        "#239=190,300,149(random)\n",
        "#R-305=319,1800,0(random)"
      ],
      "metadata": {
        "id": "Y5Y-h-F6HfXZ"
      },
      "id": "Y5Y-h-F6HfXZ",
      "execution_count": null,
      "outputs": []
    },
    {
      "cell_type": "code",
      "source": [
        "new_test.head()"
      ],
      "metadata": {
        "colab": {
          "base_uri": "https://localhost:8080/",
          "height": 179
        },
        "id": "HC8PRv7KH7o3",
        "outputId": "557d7943-217e-4933-fbdd-8e3fbad3c8ea"
      },
      "id": "HC8PRv7KH7o3",
      "execution_count": null,
      "outputs": [
        {
          "output_type": "execute_result",
          "data": {
            "text/plain": [
              "   Max Winning Probability  Min Winning Probability  Max Winning Rewards  \\\n",
              "0                -0.161816                -0.324113            -0.247376   \n",
              "\n",
              "   Min Winning Rewards  duration Campaign ID  Free  Seasonal Game  \\\n",
              "0            -0.238232   0.15555          NT     0              0   \n",
              "\n",
              "   Transactions  Private  Public  Coins  Coins/Rewards  Rewards  \n",
              "0             1        1       0      1              0        0  "
            ],
            "text/html": [
              "\n",
              "  <div id=\"df-d0413ad5-2935-4af6-9690-41211c9ac364\">\n",
              "    <div class=\"colab-df-container\">\n",
              "      <div>\n",
              "<style scoped>\n",
              "    .dataframe tbody tr th:only-of-type {\n",
              "        vertical-align: middle;\n",
              "    }\n",
              "\n",
              "    .dataframe tbody tr th {\n",
              "        vertical-align: top;\n",
              "    }\n",
              "\n",
              "    .dataframe thead th {\n",
              "        text-align: right;\n",
              "    }\n",
              "</style>\n",
              "<table border=\"1\" class=\"dataframe\">\n",
              "  <thead>\n",
              "    <tr style=\"text-align: right;\">\n",
              "      <th></th>\n",
              "      <th>Max Winning Probability</th>\n",
              "      <th>Min Winning Probability</th>\n",
              "      <th>Max Winning Rewards</th>\n",
              "      <th>Min Winning Rewards</th>\n",
              "      <th>duration</th>\n",
              "      <th>Campaign ID</th>\n",
              "      <th>Free</th>\n",
              "      <th>Seasonal Game</th>\n",
              "      <th>Transactions</th>\n",
              "      <th>Private</th>\n",
              "      <th>Public</th>\n",
              "      <th>Coins</th>\n",
              "      <th>Coins/Rewards</th>\n",
              "      <th>Rewards</th>\n",
              "    </tr>\n",
              "  </thead>\n",
              "  <tbody>\n",
              "    <tr>\n",
              "      <th>0</th>\n",
              "      <td>-0.161816</td>\n",
              "      <td>-0.324113</td>\n",
              "      <td>-0.247376</td>\n",
              "      <td>-0.238232</td>\n",
              "      <td>0.15555</td>\n",
              "      <td>NT</td>\n",
              "      <td>0</td>\n",
              "      <td>0</td>\n",
              "      <td>1</td>\n",
              "      <td>1</td>\n",
              "      <td>0</td>\n",
              "      <td>1</td>\n",
              "      <td>0</td>\n",
              "      <td>0</td>\n",
              "    </tr>\n",
              "  </tbody>\n",
              "</table>\n",
              "</div>\n",
              "      <button class=\"colab-df-convert\" onclick=\"convertToInteractive('df-d0413ad5-2935-4af6-9690-41211c9ac364')\"\n",
              "              title=\"Convert this dataframe to an interactive table.\"\n",
              "              style=\"display:none;\">\n",
              "        \n",
              "  <svg xmlns=\"http://www.w3.org/2000/svg\" height=\"24px\"viewBox=\"0 0 24 24\"\n",
              "       width=\"24px\">\n",
              "    <path d=\"M0 0h24v24H0V0z\" fill=\"none\"/>\n",
              "    <path d=\"M18.56 5.44l.94 2.06.94-2.06 2.06-.94-2.06-.94-.94-2.06-.94 2.06-2.06.94zm-11 1L8.5 8.5l.94-2.06 2.06-.94-2.06-.94L8.5 2.5l-.94 2.06-2.06.94zm10 10l.94 2.06.94-2.06 2.06-.94-2.06-.94-.94-2.06-.94 2.06-2.06.94z\"/><path d=\"M17.41 7.96l-1.37-1.37c-.4-.4-.92-.59-1.43-.59-.52 0-1.04.2-1.43.59L10.3 9.45l-7.72 7.72c-.78.78-.78 2.05 0 2.83L4 21.41c.39.39.9.59 1.41.59.51 0 1.02-.2 1.41-.59l7.78-7.78 2.81-2.81c.8-.78.8-2.07 0-2.86zM5.41 20L4 18.59l7.72-7.72 1.47 1.35L5.41 20z\"/>\n",
              "  </svg>\n",
              "      </button>\n",
              "      \n",
              "  <style>\n",
              "    .colab-df-container {\n",
              "      display:flex;\n",
              "      flex-wrap:wrap;\n",
              "      gap: 12px;\n",
              "    }\n",
              "\n",
              "    .colab-df-convert {\n",
              "      background-color: #E8F0FE;\n",
              "      border: none;\n",
              "      border-radius: 50%;\n",
              "      cursor: pointer;\n",
              "      display: none;\n",
              "      fill: #1967D2;\n",
              "      height: 32px;\n",
              "      padding: 0 0 0 0;\n",
              "      width: 32px;\n",
              "    }\n",
              "\n",
              "    .colab-df-convert:hover {\n",
              "      background-color: #E2EBFA;\n",
              "      box-shadow: 0px 1px 2px rgba(60, 64, 67, 0.3), 0px 1px 3px 1px rgba(60, 64, 67, 0.15);\n",
              "      fill: #174EA6;\n",
              "    }\n",
              "\n",
              "    [theme=dark] .colab-df-convert {\n",
              "      background-color: #3B4455;\n",
              "      fill: #D2E3FC;\n",
              "    }\n",
              "\n",
              "    [theme=dark] .colab-df-convert:hover {\n",
              "      background-color: #434B5C;\n",
              "      box-shadow: 0px 1px 3px 1px rgba(0, 0, 0, 0.15);\n",
              "      filter: drop-shadow(0px 1px 2px rgba(0, 0, 0, 0.3));\n",
              "      fill: #FFFFFF;\n",
              "    }\n",
              "  </style>\n",
              "\n",
              "      <script>\n",
              "        const buttonEl =\n",
              "          document.querySelector('#df-d0413ad5-2935-4af6-9690-41211c9ac364 button.colab-df-convert');\n",
              "        buttonEl.style.display =\n",
              "          google.colab.kernel.accessAllowed ? 'block' : 'none';\n",
              "\n",
              "        async function convertToInteractive(key) {\n",
              "          const element = document.querySelector('#df-d0413ad5-2935-4af6-9690-41211c9ac364');\n",
              "          const dataTable =\n",
              "            await google.colab.kernel.invokeFunction('convertToInteractive',\n",
              "                                                     [key], {});\n",
              "          if (!dataTable) return;\n",
              "\n",
              "          const docLinkHtml = 'Like what you see? Visit the ' +\n",
              "            '<a target=\"_blank\" href=https://colab.research.google.com/notebooks/data_table.ipynb>data table notebook</a>'\n",
              "            + ' to learn more about interactive tables.';\n",
              "          element.innerHTML = '';\n",
              "          dataTable['output_type'] = 'display_data';\n",
              "          await google.colab.output.renderOutput(dataTable, element);\n",
              "          const docLink = document.createElement('div');\n",
              "          docLink.innerHTML = docLinkHtml;\n",
              "          element.appendChild(docLink);\n",
              "        }\n",
              "      </script>\n",
              "    </div>\n",
              "  </div>\n",
              "  "
            ]
          },
          "metadata": {},
          "execution_count": 42
        }
      ]
    },
    {
      "cell_type": "code",
      "source": [
        "new_test.columns"
      ],
      "metadata": {
        "colab": {
          "base_uri": "https://localhost:8080/"
        },
        "id": "VG3-8Gn0Lt-0",
        "outputId": "09f116e5-d2cc-4657-dfe7-f98a579ac723"
      },
      "id": "VG3-8Gn0Lt-0",
      "execution_count": null,
      "outputs": [
        {
          "output_type": "execute_result",
          "data": {
            "text/plain": [
              "Index(['Max Winning Probability', 'Min Winning Probability',\n",
              "       'Max Winning Rewards', 'Min Winning Rewards', 'duration', 'Campaign ID',\n",
              "       'Free', 'Seasonal Game', 'Transactions', 'Private', 'Public', 'Coins',\n",
              "       'Coins/Rewards', 'Rewards'],\n",
              "      dtype='object')"
            ]
          },
          "metadata": {},
          "execution_count": 43
        }
      ]
    },
    {
      "cell_type": "code",
      "source": [
        "#Take this data to add user data to test campaign\n",
        "unique_user_acc = train_pocket.drop_duplicates(subset=['user account'], keep=\"first\")"
      ],
      "metadata": {
        "id": "IMZbSql6Ozc-"
      },
      "id": "IMZbSql6Ozc-",
      "execution_count": null,
      "outputs": []
    },
    {
      "cell_type": "code",
      "source": [
        "unique_user_acc.drop(['is participated?', 'Max Winning Probability',\n",
        "       'Min Winning Probability', 'Max Winning Rewards', 'Min Winning Rewards',\n",
        "       'duration', 'Campaign ID', 'Free', 'Seasonal Game', 'Transactions',\n",
        "       'Private', 'Public', 'Coins', 'Coins/Rewards', 'Rewards'],axis=1,inplace=True)"
      ],
      "metadata": {
        "id": "GMTfSFYBIWP_"
      },
      "id": "GMTfSFYBIWP_",
      "execution_count": null,
      "outputs": []
    },
    {
      "cell_type": "code",
      "source": [
        "# campaign_test['Campaign ID'] = campaign_test['Campaign ID'].astype(str)\n",
        "# unique_user_acc['campaign id'] =unique_user_acc['campaign id'].astype(str)\n",
        "# pocket_test = pd.merge(unique_user_acc,campaign_test,how='left',\n",
        "#                         left_on=['campaign id'],right_on=['Campaign ID'])"
      ],
      "metadata": {
        "id": "dgs1RC6fFaCx"
      },
      "id": "dgs1RC6fFaCx",
      "execution_count": null,
      "outputs": []
    },
    {
      "cell_type": "code",
      "source": [
        "# Replicating each row of df1 to match the length of df2\n",
        "df1_repeated = pd.concat([unique_user_acc]*len(new_test), ignore_index=True)\n",
        "\n",
        "# Replicating df2 to match the length of df1\n",
        "df2_repeated = pd.concat([new_test]*len(unique_user_acc), ignore_index=True)\n",
        "\n",
        "# Concatenating df1_repeated and df2_repeated\n",
        "test_data = pd.concat([df1_repeated, df2_repeated], axis=1)\n",
        "\n",
        "# Displaying the result\n",
        "# print(test_data)\n"
      ],
      "metadata": {
        "id": "2KaWmSE-EroC"
      },
      "id": "2KaWmSE-EroC",
      "execution_count": null,
      "outputs": []
    },
    {
      "cell_type": "code",
      "source": [
        "# test_data[test_data['Campaign ID']=='NT'].to_csv(\"/content/drive/MyDrive/AI/Yoma/Yoma budget prediction/Test data/NT.csv\",index=False)\n"
      ],
      "metadata": {
        "id": "LLcfEgCrgb-Y"
      },
      "id": "LLcfEgCrgb-Y",
      "execution_count": null,
      "outputs": []
    },
    {
      "cell_type": "code",
      "source": [
        "# test=campaign_test.drop(['Campaign Name','Campaign ID'],axis=1)"
      ],
      "metadata": {
        "id": "TnOO_BMWh0Wd"
      },
      "id": "TnOO_BMWh0Wd",
      "execution_count": null,
      "outputs": []
    },
    {
      "cell_type": "code",
      "source": [
        "# # Assume your data is in a dataframe called \"pocket\" with a column \"column_to_ignore\"\n",
        "# column_to_ignore = ['Campaign ID']\n",
        "# # Get the column names of the columns to be standardized\n",
        "# cols_to_standardize = [col for col in test.columns if col not in column_to_ignore]\n",
        "\n",
        "# # Create a scaler object\n",
        "# scaler = StandardScaler()\n",
        "\n",
        "# # Standardize the columns to be standardized\n",
        "# standardized_test = pd.DataFrame(scaler.fit_transform(test[cols_to_standardize]), columns=cols_to_standardize)\n",
        "\n",
        "# # Add the column_to_ignore column back to the standardized data\n",
        "# # pocket_standardized[column_to_ignore] = pocket[column_to_ignore]\n",
        "\n",
        "# # Concatenate the original data and the standardized data along the column axis\n",
        "# test_standardized = pd.concat([standardized_test, test[column_to_ignore]], axis=1)\n"
      ],
      "metadata": {
        "id": "PVy1ZXHrhVRR"
      },
      "id": "PVy1ZXHrhVRR",
      "execution_count": null,
      "outputs": []
    },
    {
      "cell_type": "code",
      "source": [
        "# campaign_test_pocket_camp_user.fillna(0,inplace=True)"
      ],
      "metadata": {
        "id": "vtCgUqSWEy6G"
      },
      "id": "vtCgUqSWEy6G",
      "execution_count": null,
      "outputs": []
    },
    {
      "cell_type": "code",
      "source": [
        "# chittal=pd.read_csv(\"/content/drive/MyDrive/AI/Yoma/Yoma budget prediction/Test data/CT.csv\")\n",
        "# chitpyi=pd.read_csv(\"/content/drive/MyDrive/AI/Yoma/Yoma budget prediction/Test data/CP.csv\")\n",
        "# newtest=pd.read_csv(\"/content/drive/MyDrive/AI/Yoma/Yoma budget prediction/Test data/NT.csv\")\n",
        "\n",
        "# # sth=pd.read_csv(\"/content/drive/MyDrive/AI/Yoma/Yoma budget prediction/Test data/170.csv\")\n",
        "# # ctsm=pd.read_csv(\"/content/drive/MyDrive/AI/Yoma/Yoma budget prediction/Test data/239.csv\")\n",
        "# # cny=pd.read_csv(\"/content/drive/MyDrive/AI/Yoma/Yoma budget prediction/Test data/R-305.csv\")"
      ],
      "metadata": {
        "id": "zMYGMsaEXVXA"
      },
      "id": "zMYGMsaEXVXA",
      "execution_count": null,
      "outputs": []
    },
    {
      "cell_type": "code",
      "source": [
        "test_data.columns"
      ],
      "metadata": {
        "id": "eijYqF1VKYBI",
        "colab": {
          "base_uri": "https://localhost:8080/"
        },
        "outputId": "4346e895-8d9a-47c2-d4c5-cd60825659b4"
      },
      "id": "eijYqF1VKYBI",
      "execution_count": null,
      "outputs": [
        {
          "output_type": "execute_result",
          "data": {
            "text/plain": [
              "Index(['total_campaign_participated', 'total_sales_point',\n",
              "       'participated_campaign_frequency', 'campaigns_point_earned',\n",
              "       'stamp_vouchers', 'stamp_expired_vouchers', 'game_vouchers',\n",
              "       'game_expired_vouchers', 'user account', 'campaign id', 'f', 'm',\n",
              "       'Max Winning Probability', 'Min Winning Probability',\n",
              "       'Max Winning Rewards', 'Min Winning Rewards', 'duration', 'Campaign ID',\n",
              "       'Free', 'Seasonal Game', 'Transactions', 'Private', 'Public', 'Coins',\n",
              "       'Coins/Rewards', 'Rewards'],\n",
              "      dtype='object')"
            ]
          },
          "metadata": {},
          "execution_count": 53
        }
      ]
    },
    {
      "cell_type": "code",
      "source": [
        "# chittal.drop(['user account','campaign id','Campaign ID','Campaign Name'],axis=1,inplace=True)\n",
        "# chitpyi.drop(['user account','campaign id','Campaign ID','Campaign Name'],axis=1,inplace=True)\n",
        "test_data.drop(['user account','campaign id','Campaign ID'],axis=1,inplace=True)\n"
      ],
      "metadata": {
        "id": "Fs_QWeSgdT_D"
      },
      "id": "Fs_QWeSgdT_D",
      "execution_count": null,
      "outputs": []
    },
    {
      "cell_type": "code",
      "source": [
        "# create two example dataframes with different column orders\n",
        "# use the column order of df1 to reorder the columns of df2\n",
        "# chittal = chittal.reindex(columns=X_train.columns)\n",
        "# chitpyi = chitpyi.reindex(columns=X_train.columns)\n",
        "# newtest = newtest.reindex(columns=X_train.columns)\n",
        "\n"
      ],
      "metadata": {
        "id": "Hr8DxeVapEJN"
      },
      "id": "Hr8DxeVapEJN",
      "execution_count": null,
      "outputs": []
    },
    {
      "cell_type": "markdown",
      "source": [
        "####Random forest"
      ],
      "metadata": {
        "id": "y-Bjq_9_kBkP"
      },
      "id": "y-Bjq_9_kBkP"
    },
    {
      "cell_type": "code",
      "source": [
        "# Use the loaded pickled model to make predictions\n",
        "rfc_result=rfc_from_pickle.predict(test_data).tolist()\n",
        "# print(\"Prediction for test data\",new)\n",
        "# print(\"Random Forest Classifier result =\",rfc_from_pickle.predict(test_pocket))\n",
        "\n",
        "# print(\"Logistic regression result =\",lr_from_pickle.predict(test_pocket))\n",
        "# print(\"Decision Tree result =\",clf_from_pickle.predict(test_pocket))\n",
        "\n",
        "nt_rf=rfc_result.count(1) #pred- 169, real-168 shake the tree\n",
        "print(nt_rf)"
      ],
      "metadata": {
        "id": "SBb-6PWIfCfo",
        "colab": {
          "base_uri": "https://localhost:8080/"
        },
        "outputId": "a3af9d17-c81c-4c61-9ad0-89ecb8ab1476"
      },
      "id": "SBb-6PWIfCfo",
      "execution_count": null,
      "outputs": [
        {
          "output_type": "stream",
          "name": "stdout",
          "text": [
            "87\n"
          ]
        }
      ]
    },
    {
      "cell_type": "markdown",
      "source": [
        "####Knn"
      ],
      "metadata": {
        "id": "y_lWzyfBklrg"
      },
      "id": "y_lWzyfBklrg"
    },
    {
      "cell_type": "code",
      "source": [
        "# Use the loaded pickled model to make predictions\n",
        "knn_result=knn_from_pickle.predict(test_data).tolist()\n",
        "# print(\"Prediction for test data\",ct)\n",
        "# print(\"Random Forest Classifier result =\",rfc_from_pickle.predict(test_pocket))\n",
        "# print(\"Logistic regression result =\",lr_from_pickle.predict(test_pocket))\n",
        "# print(\"Decision Tree result =\",clf_from_pickle.predict(test_pocket))\n",
        "\n",
        "nt_knn=knn_result.count(1) #pred- 169, real-168 shake the tree\n",
        "print(nt_knn)"
      ],
      "metadata": {
        "id": "zBTtB8nElMje",
        "colab": {
          "base_uri": "https://localhost:8080/"
        },
        "outputId": "6c0c8cb2-11ec-4222-dda7-2c03046a10d1"
      },
      "id": "zBTtB8nElMje",
      "execution_count": null,
      "outputs": [
        {
          "output_type": "stream",
          "name": "stdout",
          "text": [
            "1164\n"
          ]
        }
      ]
    },
    {
      "cell_type": "markdown",
      "source": [
        "####Logistic regression"
      ],
      "metadata": {
        "id": "y01TLFBC6lwr"
      },
      "id": "y01TLFBC6lwr"
    },
    {
      "cell_type": "code",
      "source": [
        "# Use the loaded pickled model to make predictions\n",
        "lr_result=lr_from_pickle.predict(test_data).tolist()\n",
        "# print(\"Prediction for test data\",ct)\n",
        "# print(\"Random Forest Classifier result =\",rfc_from_pickle.predict(test_pocket))\n",
        "# print(\"Logistic regression result =\",lr_from_pickle.predict(test_pocket))\n",
        "# print(\"Decision Tree result =\",clf_from_pickle.predict(test_pocket))\n",
        "\n",
        "nt_lr=lr_result.count(1) #pred- 169, real-168 shake the tree\n",
        "print(nt_lr)"
      ],
      "metadata": {
        "colab": {
          "base_uri": "https://localhost:8080/"
        },
        "id": "t3r5AA256lcI",
        "outputId": "8d5670a3-bedf-496c-d849-a9e395e4313f"
      },
      "id": "t3r5AA256lcI",
      "execution_count": null,
      "outputs": [
        {
          "output_type": "stream",
          "name": "stdout",
          "text": [
            "84\n"
          ]
        }
      ]
    },
    {
      "cell_type": "markdown",
      "source": [
        "####Support Vector Machine"
      ],
      "metadata": {
        "id": "vticDWm59wxe"
      },
      "id": "vticDWm59wxe"
    },
    {
      "cell_type": "code",
      "source": [
        "# Use the loaded pickled model to make predictions\n",
        "svm_result=svm_from_pickle.predict(test_data).tolist()\n",
        "# print(\"Prediction for test data\",ct)\n",
        "# print(\"Random Forest Classifier result =\",rfc_from_pickle.predict(test_pocket))\n",
        "# print(\"Logistic regression result =\",lr_from_pickle.predict(test_pocket))\n",
        "# print(\"Decision Tree result =\",clf_from_pickle.predict(test_pocket))\n",
        "\n",
        "nt_svm=svm_result.count(1) #pred- 169, real-168 shake the tree\n",
        "print(nt_svm)"
      ],
      "metadata": {
        "colab": {
          "base_uri": "https://localhost:8080/"
        },
        "id": "qO9-Ru8796au",
        "outputId": "63f79c8e-e065-4dfb-f47e-0dee9488bbd0"
      },
      "id": "qO9-Ru8796au",
      "execution_count": null,
      "outputs": [
        {
          "output_type": "stream",
          "name": "stdout",
          "text": [
            "84\n"
          ]
        }
      ]
    },
    {
      "cell_type": "markdown",
      "source": [
        "####Decision Trees"
      ],
      "metadata": {
        "id": "6ZLUXceg7myg"
      },
      "id": "6ZLUXceg7myg"
    },
    {
      "cell_type": "code",
      "source": [
        "# Use the loaded pickled model to make predictions\n",
        "dt_result=dt_from_pickle.predict(test_data).tolist()\n",
        "# print(\"Prediction for test data\",ct)\n",
        "# print(\"Random Forest Classifier result =\",rfc_from_pickle.predict(test_pocket))\n",
        "# print(\"Logistic regression result =\",lr_from_pickle.predict(test_pocket))\n",
        "# print(\"Decision Tree result =\",clf_from_pickle.predict(test_pocket))\n",
        "\n",
        "nt_dt=dt_result.count(1) #pred- 169, real-168 shake the tree\n",
        "print(nt_dt)"
      ],
      "metadata": {
        "colab": {
          "base_uri": "https://localhost:8080/"
        },
        "id": "-5CmyB_a7sDX",
        "outputId": "cb7d51d7-b51a-4a5f-a08f-b7f46c9a7e6a"
      },
      "id": "-5CmyB_a7sDX",
      "execution_count": null,
      "outputs": [
        {
          "output_type": "stream",
          "name": "stdout",
          "text": [
            "84\n"
          ]
        }
      ]
    },
    {
      "cell_type": "markdown",
      "source": [
        "####Ensemble "
      ],
      "metadata": {
        "id": "eBXeDl0th_nJ"
      },
      "id": "eBXeDl0th_nJ"
    },
    {
      "cell_type": "code",
      "source": [
        "# Use the loaded pickled model to make predictions\n",
        "ens_result=ens_from_pickle.predict(test_data).tolist()\n",
        "# print(\"Prediction for test data\",ens_model)\n",
        "\n",
        "# print(\"Random Forest Classifier result =\",rfc_from_pickle.predict(test_pocket))\n",
        "# print(\"Logistic regression result =\",lr_from_pickle.predict(test_pocket))\n",
        "# print(\"Decision Tree result =\",clf_from_pickle.predict(test_pocket))\n",
        "\n",
        "nt_ens=ens_result.count(1) #pred- 169, real-168 shake the tree\n",
        "print(nt_ens)"
      ],
      "metadata": {
        "id": "wNfME2z8iCTM",
        "colab": {
          "base_uri": "https://localhost:8080/"
        },
        "outputId": "672ab30f-58da-4e82-cd6b-678e015a917a"
      },
      "id": "wNfME2z8iCTM",
      "execution_count": null,
      "outputs": [
        {
          "output_type": "stream",
          "name": "stdout",
          "text": [
            "35\n"
          ]
        }
      ]
    },
    {
      "cell_type": "markdown",
      "source": [
        "##Save model result"
      ],
      "metadata": {
        "id": "joJo9f-CXL6f"
      },
      "id": "joJo9f-CXL6f"
    },
    {
      "cell_type": "code",
      "source": [
        "# Open a new CSV file for writing with 'newline' parameter\n",
        "with open('/content/drive/MyDrive/AI/Yoma/Yoma budget prediction/Models/model_result.csv', mode='w', newline='') as file:\n",
        "\n",
        "    # Create a writer object\n",
        "    writer = csv.writer(file)\n",
        "    # Write the headers for the CSV file\n",
        "    writer.writerow(['Test campaign name','Radom forest classifier data', 'Decision trees data', 'Logistic regression data', 'Support vector machine data',\n",
        "                     'K nearest neighbour data','Ensemble model data','Remark'])    \n",
        "    writer.writerow(['Walyinsu',nt_rf,nt_dt,nt_lr,nt_svm,nt_knn,nt_ens,'training with 141520 data and ensembled model of rf and knn'])\n"
      ],
      "metadata": {
        "id": "-0fDYIfWXOFW"
      },
      "id": "-0fDYIfWXOFW",
      "execution_count": null,
      "outputs": []
    },
    {
      "cell_type": "markdown",
      "source": [
        "###Add new more rows of data "
      ],
      "metadata": {
        "id": "IFjOZHk1XX7Y"
      },
      "id": "IFjOZHk1XX7Y"
    },
    {
      "cell_type": "code",
      "source": [
        "model_res=pd.read_csv('/content/drive/MyDrive/AI/Yoma/Yoma budget prediction/Models/model_result.csv') # need to reload everytime new data is needed"
      ],
      "metadata": {
        "id": "Nc4tV8KLXTxM"
      },
      "id": "Nc4tV8KLXTxM",
      "execution_count": null,
      "outputs": []
    },
    {
      "cell_type": "code",
      "source": [
        "# create new data as a list of lists\n",
        "new_data = [[classifier_acc,0.8398769,0.81,0.9123,knn_acc,0.9,'training with more data']]  # replace with your own data\n",
        "\n",
        "# create a new dataframe from the new data\n",
        "new_df = pd.DataFrame(new_data, columns=model_res.columns)\n",
        "\n",
        "# concatenate the new dataframe with the original dataframe\n",
        "model= pd.concat([model_res, new_df], ignore_index=True)\n",
        "\n",
        "# save the updated dataframe to the same csv file\n",
        "model.to_csv('/content/drive/MyDrive/AI/Yoma/Yoma budget prediction/Models/model_result.csv', index=False)\n"
      ],
      "metadata": {
        "id": "YXbhzcc-Xfeh"
      },
      "id": "YXbhzcc-Xfeh",
      "execution_count": null,
      "outputs": []
    }
  ],
  "metadata": {
    "colab": {
      "collapsed_sections": [
        "ecff8356",
        "df12b543",
        "6c1df0e1",
        "d45d0409",
        "pcuM3LAewFbE",
        "xw0o53G6uOKd",
        "W7crGCV-ECFY",
        "NSIWZPWBGkxc",
        "GcqGz7ZR55Uq",
        "GpIyuA_CrCLt",
        "4efab4db",
        "LoA9_RNHuepe",
        "WqZ_rYETGyd2",
        "Qhd7ETyoe_hE",
        "pS9jVSqwLxdl"
      ],
      "provenance": []
    },
    "kernelspec": {
      "display_name": "Python 3 (ipykernel)",
      "language": "python",
      "name": "python3"
    },
    "language_info": {
      "codemirror_mode": {
        "name": "ipython",
        "version": 3
      },
      "file_extension": ".py",
      "mimetype": "text/x-python",
      "name": "python",
      "nbconvert_exporter": "python",
      "pygments_lexer": "ipython3",
      "version": "3.9.13"
    }
  },
  "nbformat": 4,
  "nbformat_minor": 5
}